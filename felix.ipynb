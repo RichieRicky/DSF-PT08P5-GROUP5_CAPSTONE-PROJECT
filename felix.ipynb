{
 "cells": [
  {
   "cell_type": "code",
   "execution_count": 1,
   "metadata": {},
   "outputs": [],
   "source": [
    "#Import relevant libraries\n",
    "import pandas as pd\n",
    "import numpy as np\n",
    "import seaborn as sns\n",
    "import matplotlib.pyplot as plt\n",
    "from sklearn.model_selection import train_test_split\n",
    "from sklearn.pipeline import Pipeline\n",
    "from sklearn.impute import SimpleImputer\n",
    "from sklearn.preprocessing import StandardScaler, OneHotEncoder\n",
    "from sklearn.compose import ColumnTransformer\n",
    "from sklearn.linear_model import LogisticRegression\n",
    "from sklearn.ensemble import RandomForestClassifier\n",
    "from sklearn.metrics import accuracy_score, precision_score, recall_score, f1_score,confusion_matrix\n",
    "import warnings\n",
    "warnings.filterwarnings(\"ignore\")"
   ]
  },
  {
   "cell_type": "code",
   "execution_count": 2,
   "metadata": {},
   "outputs": [],
   "source": [
    "#Loading the dreams dataset\n",
    "df = pd.read_csv('./data/dreams_raw_dataset.csv')"
   ]
  },
  {
   "cell_type": "code",
   "execution_count": 3,
   "metadata": {},
   "outputs": [
    {
     "data": {
      "text/html": [
       "<div>\n",
       "<style scoped>\n",
       "    .dataframe tbody tr th:only-of-type {\n",
       "        vertical-align: middle;\n",
       "    }\n",
       "\n",
       "    .dataframe tbody tr th {\n",
       "        vertical-align: top;\n",
       "    }\n",
       "\n",
       "    .dataframe thead th {\n",
       "        text-align: right;\n",
       "    }\n",
       "</style>\n",
       "<table border=\"1\" class=\"dataframe\">\n",
       "  <thead>\n",
       "    <tr style=\"text-align: right;\">\n",
       "      <th></th>\n",
       "      <th>date_of_birth</th>\n",
       "      <th>date_of_enrollment</th>\n",
       "      <th>Agency</th>\n",
       "      <th>implementing_partner_name</th>\n",
       "      <th>county</th>\n",
       "      <th>head_of_household</th>\n",
       "      <th>head_of_household_other</th>\n",
       "      <th>age_of_household_head</th>\n",
       "      <th>father_alive</th>\n",
       "      <th>mother_alive</th>\n",
       "      <th>...</th>\n",
       "      <th>intervention_name</th>\n",
       "      <th>intervention_date</th>\n",
       "      <th>result</th>\n",
       "      <th>bio_medical</th>\n",
       "      <th>social_protection</th>\n",
       "      <th>behavioral</th>\n",
       "      <th>post_gbv_care</th>\n",
       "      <th>other_interventions</th>\n",
       "      <th>exit_age</th>\n",
       "      <th>exit_reason_other</th>\n",
       "    </tr>\n",
       "  </thead>\n",
       "  <tbody>\n",
       "    <tr>\n",
       "      <th>0</th>\n",
       "      <td>9/16/2004</td>\n",
       "      <td>2/22/2020</td>\n",
       "      <td>USAID</td>\n",
       "      <td>USAID Tumikia Mtoto</td>\n",
       "      <td>Nairobi</td>\n",
       "      <td>Mother</td>\n",
       "      <td>NaN</td>\n",
       "      <td>58.0</td>\n",
       "      <td>Yes</td>\n",
       "      <td>Yes</td>\n",
       "      <td>...</td>\n",
       "      <td>HTS - HTS (Client)</td>\n",
       "      <td>8/8/2020</td>\n",
       "      <td>Negative</td>\n",
       "      <td>1</td>\n",
       "      <td>1</td>\n",
       "      <td>1</td>\n",
       "      <td>0</td>\n",
       "      <td>0</td>\n",
       "      <td>NaN</td>\n",
       "      <td>NaN</td>\n",
       "    </tr>\n",
       "    <tr>\n",
       "      <th>1</th>\n",
       "      <td>8/2/2004</td>\n",
       "      <td>12/18/2019</td>\n",
       "      <td>USAID</td>\n",
       "      <td>USAID Tumikia Mtoto</td>\n",
       "      <td>Nairobi</td>\n",
       "      <td>Father</td>\n",
       "      <td>NaN</td>\n",
       "      <td>43.0</td>\n",
       "      <td>Yes</td>\n",
       "      <td>Yes</td>\n",
       "      <td>...</td>\n",
       "      <td>HTS - HTS (Client)</td>\n",
       "      <td>4/27/2020</td>\n",
       "      <td>Negative</td>\n",
       "      <td>1</td>\n",
       "      <td>1</td>\n",
       "      <td>1</td>\n",
       "      <td>0</td>\n",
       "      <td>0</td>\n",
       "      <td>NaN</td>\n",
       "      <td>NaN</td>\n",
       "    </tr>\n",
       "    <tr>\n",
       "      <th>2</th>\n",
       "      <td>10/20/2005</td>\n",
       "      <td>3/7/2020</td>\n",
       "      <td>USAID</td>\n",
       "      <td>USAID Tumikia Mtoto</td>\n",
       "      <td>Nairobi</td>\n",
       "      <td>Mother</td>\n",
       "      <td>NaN</td>\n",
       "      <td>41.0</td>\n",
       "      <td>No</td>\n",
       "      <td>Yes</td>\n",
       "      <td>...</td>\n",
       "      <td>HTS - HTS (Client)</td>\n",
       "      <td>8/12/2020</td>\n",
       "      <td>Negative</td>\n",
       "      <td>1</td>\n",
       "      <td>1</td>\n",
       "      <td>0</td>\n",
       "      <td>0</td>\n",
       "      <td>0</td>\n",
       "      <td>NaN</td>\n",
       "      <td>NaN</td>\n",
       "    </tr>\n",
       "    <tr>\n",
       "      <th>3</th>\n",
       "      <td>1/18/2006</td>\n",
       "      <td>3/3/2020</td>\n",
       "      <td>USAID</td>\n",
       "      <td>USAID Tumikia Mtoto</td>\n",
       "      <td>Nairobi</td>\n",
       "      <td>Mother</td>\n",
       "      <td>NaN</td>\n",
       "      <td>45.0</td>\n",
       "      <td>No</td>\n",
       "      <td>Yes</td>\n",
       "      <td>...</td>\n",
       "      <td>HTS - HTS (Client)</td>\n",
       "      <td>8/12/2020</td>\n",
       "      <td>Negative</td>\n",
       "      <td>1</td>\n",
       "      <td>1</td>\n",
       "      <td>1</td>\n",
       "      <td>0</td>\n",
       "      <td>0</td>\n",
       "      <td>NaN</td>\n",
       "      <td>NaN</td>\n",
       "    </tr>\n",
       "    <tr>\n",
       "      <th>4</th>\n",
       "      <td>3/22/2004</td>\n",
       "      <td>12/18/2019</td>\n",
       "      <td>USAID</td>\n",
       "      <td>USAID Tumikia Mtoto</td>\n",
       "      <td>Nairobi</td>\n",
       "      <td>Father</td>\n",
       "      <td>NaN</td>\n",
       "      <td>42.0</td>\n",
       "      <td>Yes</td>\n",
       "      <td>Yes</td>\n",
       "      <td>...</td>\n",
       "      <td>HTS - HTS (Client)</td>\n",
       "      <td>4/27/2020</td>\n",
       "      <td>Negative</td>\n",
       "      <td>1</td>\n",
       "      <td>1</td>\n",
       "      <td>1</td>\n",
       "      <td>0</td>\n",
       "      <td>0</td>\n",
       "      <td>NaN</td>\n",
       "      <td>NaN</td>\n",
       "    </tr>\n",
       "  </tbody>\n",
       "</table>\n",
       "<p>5 rows × 44 columns</p>\n",
       "</div>"
      ],
      "text/plain": [
       "  date_of_birth date_of_enrollment Agency implementing_partner_name   county  \\\n",
       "0     9/16/2004          2/22/2020  USAID       USAID Tumikia Mtoto  Nairobi   \n",
       "1      8/2/2004         12/18/2019  USAID       USAID Tumikia Mtoto  Nairobi   \n",
       "2    10/20/2005           3/7/2020  USAID       USAID Tumikia Mtoto  Nairobi   \n",
       "3     1/18/2006           3/3/2020  USAID       USAID Tumikia Mtoto  Nairobi   \n",
       "4     3/22/2004         12/18/2019  USAID       USAID Tumikia Mtoto  Nairobi   \n",
       "\n",
       "  head_of_household head_of_household_other  age_of_household_head  \\\n",
       "0            Mother                     NaN                   58.0   \n",
       "1            Father                     NaN                   43.0   \n",
       "2            Mother                     NaN                   41.0   \n",
       "3            Mother                     NaN                   45.0   \n",
       "4            Father                     NaN                   42.0   \n",
       "\n",
       "  father_alive mother_alive  ...   intervention_name intervention_date  \\\n",
       "0          Yes          Yes  ...  HTS - HTS (Client)          8/8/2020   \n",
       "1          Yes          Yes  ...  HTS - HTS (Client)         4/27/2020   \n",
       "2           No          Yes  ...  HTS - HTS (Client)         8/12/2020   \n",
       "3           No          Yes  ...  HTS - HTS (Client)         8/12/2020   \n",
       "4          Yes          Yes  ...  HTS - HTS (Client)         4/27/2020   \n",
       "\n",
       "     result  bio_medical  social_protection  behavioral  post_gbv_care  \\\n",
       "0  Negative            1                  1           1              0   \n",
       "1  Negative            1                  1           1              0   \n",
       "2  Negative            1                  1           0              0   \n",
       "3  Negative            1                  1           1              0   \n",
       "4  Negative            1                  1           1              0   \n",
       "\n",
       "   other_interventions exit_age exit_reason_other  \n",
       "0                    0      NaN               NaN  \n",
       "1                    0      NaN               NaN  \n",
       "2                    0      NaN               NaN  \n",
       "3                    0      NaN               NaN  \n",
       "4                    0      NaN               NaN  \n",
       "\n",
       "[5 rows x 44 columns]"
      ]
     },
     "execution_count": 3,
     "metadata": {},
     "output_type": "execute_result"
    }
   ],
   "source": [
    "#Dataset preview\n",
    "df.head()"
   ]
  },
  {
   "cell_type": "code",
   "execution_count": 4,
   "metadata": {},
   "outputs": [
    {
     "data": {
      "text/plain": [
       "Index(['date_of_birth', 'date_of_enrollment', 'Agency',\n",
       "       'implementing_partner_name', 'county', 'head_of_household',\n",
       "       'head_of_household_other', 'age_of_household_head', 'father_alive',\n",
       "       'mother_alive', 'are_both_parents_alive', 'is_one_parent_alive',\n",
       "       'parents_alive_status', 'no_of_people_in_household', 'no_of_females',\n",
       "       'no_of_males', 'no_of_adults', 'no_of_children',\n",
       "       'ever_missed_full_day_food_in_4wks', 'no_of_days_missed_food_in_4wks',\n",
       "       'currently_in_school', 'current_school_level', 'current_income_source',\n",
       "       'ever_tested_for_hiv', 'last_test_result', 'ever_had_sex',\n",
       "       'age_at_first_sexual_encounter', 'has_sexual_partner',\n",
       "       'age_of_last_partner', 'used_condom_with_last_partner',\n",
       "       'dreams_program', 'dreams_program_other', 'exit_status', 'exit_reason',\n",
       "       'intervention_name', 'intervention_date', 'result', 'bio_medical',\n",
       "       'social_protection', 'behavioral', 'post_gbv_care',\n",
       "       'other_interventions', 'exit_age', 'exit_reason_other'],\n",
       "      dtype='object')"
      ]
     },
     "execution_count": 4,
     "metadata": {},
     "output_type": "execute_result"
    }
   ],
   "source": [
    "df.columns"
   ]
  },
  {
   "cell_type": "code",
   "execution_count": 5,
   "metadata": {},
   "outputs": [],
   "source": [
    "cols= ['head_of_household_other','is_one_parent_alive','parents_alive_status','dreams_program_other','exit_status','exit_reason',\n",
    "'intervention_name','intervention_date','other_interventions','exit_reason_other','no_of_days_missed_food_in_4wks','Agency','date_of_enrollment']"
   ]
  },
  {
   "cell_type": "code",
   "execution_count": 6,
   "metadata": {},
   "outputs": [],
   "source": [
    "df1 = df.drop(columns=cols)"
   ]
  },
  {
   "cell_type": "code",
   "execution_count": 7,
   "metadata": {},
   "outputs": [
    {
     "data": {
      "text/plain": [
       "(455807, 31)"
      ]
     },
     "execution_count": 7,
     "metadata": {},
     "output_type": "execute_result"
    }
   ],
   "source": [
    "df1.shape"
   ]
  },
  {
   "cell_type": "code",
   "execution_count": 8,
   "metadata": {},
   "outputs": [
    {
     "data": {
      "text/html": [
       "<div>\n",
       "<style scoped>\n",
       "    .dataframe tbody tr th:only-of-type {\n",
       "        vertical-align: middle;\n",
       "    }\n",
       "\n",
       "    .dataframe tbody tr th {\n",
       "        vertical-align: top;\n",
       "    }\n",
       "\n",
       "    .dataframe thead th {\n",
       "        text-align: right;\n",
       "    }\n",
       "</style>\n",
       "<table border=\"1\" class=\"dataframe\">\n",
       "  <thead>\n",
       "    <tr style=\"text-align: right;\">\n",
       "      <th></th>\n",
       "      <th>count</th>\n",
       "      <th>mean</th>\n",
       "      <th>std</th>\n",
       "      <th>min</th>\n",
       "      <th>25%</th>\n",
       "      <th>50%</th>\n",
       "      <th>75%</th>\n",
       "      <th>max</th>\n",
       "    </tr>\n",
       "  </thead>\n",
       "  <tbody>\n",
       "    <tr>\n",
       "      <th>age_of_household_head</th>\n",
       "      <td>434789.0</td>\n",
       "      <td>2074.593380</td>\n",
       "      <td>1.106761e+06</td>\n",
       "      <td>-48.0</td>\n",
       "      <td>33.0</td>\n",
       "      <td>42.0</td>\n",
       "      <td>50.0</td>\n",
       "      <td>727284575.0</td>\n",
       "    </tr>\n",
       "    <tr>\n",
       "      <th>no_of_people_in_household</th>\n",
       "      <td>448607.0</td>\n",
       "      <td>5.774555</td>\n",
       "      <td>3.837220e+00</td>\n",
       "      <td>0.0</td>\n",
       "      <td>4.0</td>\n",
       "      <td>6.0</td>\n",
       "      <td>7.0</td>\n",
       "      <td>356.0</td>\n",
       "    </tr>\n",
       "    <tr>\n",
       "      <th>no_of_females</th>\n",
       "      <td>448475.0</td>\n",
       "      <td>3.330979</td>\n",
       "      <td>2.412982e+00</td>\n",
       "      <td>0.0</td>\n",
       "      <td>2.0</td>\n",
       "      <td>3.0</td>\n",
       "      <td>4.0</td>\n",
       "      <td>216.0</td>\n",
       "    </tr>\n",
       "    <tr>\n",
       "      <th>no_of_males</th>\n",
       "      <td>448125.0</td>\n",
       "      <td>2.443664</td>\n",
       "      <td>1.911644e+00</td>\n",
       "      <td>0.0</td>\n",
       "      <td>1.0</td>\n",
       "      <td>2.0</td>\n",
       "      <td>3.0</td>\n",
       "      <td>140.0</td>\n",
       "    </tr>\n",
       "    <tr>\n",
       "      <th>no_of_adults</th>\n",
       "      <td>448328.0</td>\n",
       "      <td>2.492278</td>\n",
       "      <td>1.295561e+00</td>\n",
       "      <td>0.0</td>\n",
       "      <td>2.0</td>\n",
       "      <td>2.0</td>\n",
       "      <td>3.0</td>\n",
       "      <td>77.0</td>\n",
       "    </tr>\n",
       "    <tr>\n",
       "      <th>no_of_children</th>\n",
       "      <td>448034.0</td>\n",
       "      <td>3.283115</td>\n",
       "      <td>3.433194e+00</td>\n",
       "      <td>0.0</td>\n",
       "      <td>2.0</td>\n",
       "      <td>3.0</td>\n",
       "      <td>4.0</td>\n",
       "      <td>328.0</td>\n",
       "    </tr>\n",
       "    <tr>\n",
       "      <th>age_at_first_sexual_encounter</th>\n",
       "      <td>226256.0</td>\n",
       "      <td>16.781363</td>\n",
       "      <td>2.099138e+01</td>\n",
       "      <td>0.0</td>\n",
       "      <td>15.0</td>\n",
       "      <td>17.0</td>\n",
       "      <td>18.0</td>\n",
       "      <td>4118.0</td>\n",
       "    </tr>\n",
       "    <tr>\n",
       "      <th>bio_medical</th>\n",
       "      <td>455807.0</td>\n",
       "      <td>0.990619</td>\n",
       "      <td>9.640113e-02</td>\n",
       "      <td>0.0</td>\n",
       "      <td>1.0</td>\n",
       "      <td>1.0</td>\n",
       "      <td>1.0</td>\n",
       "      <td>1.0</td>\n",
       "    </tr>\n",
       "    <tr>\n",
       "      <th>social_protection</th>\n",
       "      <td>455807.0</td>\n",
       "      <td>0.988105</td>\n",
       "      <td>1.084155e-01</td>\n",
       "      <td>0.0</td>\n",
       "      <td>1.0</td>\n",
       "      <td>1.0</td>\n",
       "      <td>1.0</td>\n",
       "      <td>1.0</td>\n",
       "    </tr>\n",
       "    <tr>\n",
       "      <th>behavioral</th>\n",
       "      <td>455807.0</td>\n",
       "      <td>0.882301</td>\n",
       "      <td>3.222517e-01</td>\n",
       "      <td>0.0</td>\n",
       "      <td>1.0</td>\n",
       "      <td>1.0</td>\n",
       "      <td>1.0</td>\n",
       "      <td>1.0</td>\n",
       "    </tr>\n",
       "    <tr>\n",
       "      <th>post_gbv_care</th>\n",
       "      <td>455807.0</td>\n",
       "      <td>0.193387</td>\n",
       "      <td>3.949539e-01</td>\n",
       "      <td>0.0</td>\n",
       "      <td>0.0</td>\n",
       "      <td>0.0</td>\n",
       "      <td>0.0</td>\n",
       "      <td>1.0</td>\n",
       "    </tr>\n",
       "    <tr>\n",
       "      <th>other_interventions</th>\n",
       "      <td>455807.0</td>\n",
       "      <td>0.061107</td>\n",
       "      <td>2.395267e-01</td>\n",
       "      <td>0.0</td>\n",
       "      <td>0.0</td>\n",
       "      <td>0.0</td>\n",
       "      <td>0.0</td>\n",
       "      <td>1.0</td>\n",
       "    </tr>\n",
       "    <tr>\n",
       "      <th>exit_age</th>\n",
       "      <td>387068.0</td>\n",
       "      <td>20.381367</td>\n",
       "      <td>3.533043e+00</td>\n",
       "      <td>9.0</td>\n",
       "      <td>18.0</td>\n",
       "      <td>20.0</td>\n",
       "      <td>23.0</td>\n",
       "      <td>31.0</td>\n",
       "    </tr>\n",
       "  </tbody>\n",
       "</table>\n",
       "</div>"
      ],
      "text/plain": [
       "                                  count         mean           std   min  \\\n",
       "age_of_household_head          434789.0  2074.593380  1.106761e+06 -48.0   \n",
       "no_of_people_in_household      448607.0     5.774555  3.837220e+00   0.0   \n",
       "no_of_females                  448475.0     3.330979  2.412982e+00   0.0   \n",
       "no_of_males                    448125.0     2.443664  1.911644e+00   0.0   \n",
       "no_of_adults                   448328.0     2.492278  1.295561e+00   0.0   \n",
       "no_of_children                 448034.0     3.283115  3.433194e+00   0.0   \n",
       "age_at_first_sexual_encounter  226256.0    16.781363  2.099138e+01   0.0   \n",
       "bio_medical                    455807.0     0.990619  9.640113e-02   0.0   \n",
       "social_protection              455807.0     0.988105  1.084155e-01   0.0   \n",
       "behavioral                     455807.0     0.882301  3.222517e-01   0.0   \n",
       "post_gbv_care                  455807.0     0.193387  3.949539e-01   0.0   \n",
       "other_interventions            455807.0     0.061107  2.395267e-01   0.0   \n",
       "exit_age                       387068.0    20.381367  3.533043e+00   9.0   \n",
       "\n",
       "                                25%   50%   75%          max  \n",
       "age_of_household_head          33.0  42.0  50.0  727284575.0  \n",
       "no_of_people_in_household       4.0   6.0   7.0        356.0  \n",
       "no_of_females                   2.0   3.0   4.0        216.0  \n",
       "no_of_males                     1.0   2.0   3.0        140.0  \n",
       "no_of_adults                    2.0   2.0   3.0         77.0  \n",
       "no_of_children                  2.0   3.0   4.0        328.0  \n",
       "age_at_first_sexual_encounter  15.0  17.0  18.0       4118.0  \n",
       "bio_medical                     1.0   1.0   1.0          1.0  \n",
       "social_protection               1.0   1.0   1.0          1.0  \n",
       "behavioral                      1.0   1.0   1.0          1.0  \n",
       "post_gbv_care                   0.0   0.0   0.0          1.0  \n",
       "other_interventions             0.0   0.0   0.0          1.0  \n",
       "exit_age                       18.0  20.0  23.0         31.0  "
      ]
     },
     "execution_count": 8,
     "metadata": {},
     "output_type": "execute_result"
    }
   ],
   "source": [
    "df.describe().T"
   ]
  },
  {
   "cell_type": "code",
   "execution_count": 9,
   "metadata": {},
   "outputs": [
    {
     "data": {
      "text/html": [
       "<div>\n",
       "<style scoped>\n",
       "    .dataframe tbody tr th:only-of-type {\n",
       "        vertical-align: middle;\n",
       "    }\n",
       "\n",
       "    .dataframe tbody tr th {\n",
       "        vertical-align: top;\n",
       "    }\n",
       "\n",
       "    .dataframe thead th {\n",
       "        text-align: right;\n",
       "    }\n",
       "</style>\n",
       "<table border=\"1\" class=\"dataframe\">\n",
       "  <thead>\n",
       "    <tr style=\"text-align: right;\">\n",
       "      <th></th>\n",
       "      <th>count</th>\n",
       "      <th>unique</th>\n",
       "      <th>top</th>\n",
       "      <th>freq</th>\n",
       "    </tr>\n",
       "  </thead>\n",
       "  <tbody>\n",
       "    <tr>\n",
       "      <th>date_of_birth</th>\n",
       "      <td>455807</td>\n",
       "      <td>7839</td>\n",
       "      <td>1/1/2000</td>\n",
       "      <td>1011</td>\n",
       "    </tr>\n",
       "    <tr>\n",
       "      <th>implementing_partner_name</th>\n",
       "      <td>455807</td>\n",
       "      <td>20</td>\n",
       "      <td>Afya Ziwani</td>\n",
       "      <td>101893</td>\n",
       "    </tr>\n",
       "    <tr>\n",
       "      <th>county</th>\n",
       "      <td>446551</td>\n",
       "      <td>7</td>\n",
       "      <td>Nairobi</td>\n",
       "      <td>100411</td>\n",
       "    </tr>\n",
       "    <tr>\n",
       "      <th>head_of_household</th>\n",
       "      <td>446192</td>\n",
       "      <td>8</td>\n",
       "      <td>Father</td>\n",
       "      <td>173119</td>\n",
       "    </tr>\n",
       "    <tr>\n",
       "      <th>father_alive</th>\n",
       "      <td>442399</td>\n",
       "      <td>3</td>\n",
       "      <td>Yes</td>\n",
       "      <td>295841</td>\n",
       "    </tr>\n",
       "    <tr>\n",
       "      <th>mother_alive</th>\n",
       "      <td>442820</td>\n",
       "      <td>3</td>\n",
       "      <td>Yes</td>\n",
       "      <td>378897</td>\n",
       "    </tr>\n",
       "    <tr>\n",
       "      <th>are_both_parents_alive</th>\n",
       "      <td>455807</td>\n",
       "      <td>2</td>\n",
       "      <td>Yes</td>\n",
       "      <td>273198</td>\n",
       "    </tr>\n",
       "    <tr>\n",
       "      <th>ever_missed_full_day_food_in_4wks</th>\n",
       "      <td>448640</td>\n",
       "      <td>2</td>\n",
       "      <td>Yes</td>\n",
       "      <td>257179</td>\n",
       "    </tr>\n",
       "    <tr>\n",
       "      <th>currently_in_school</th>\n",
       "      <td>451634</td>\n",
       "      <td>2</td>\n",
       "      <td>Yes</td>\n",
       "      <td>263268</td>\n",
       "    </tr>\n",
       "    <tr>\n",
       "      <th>current_school_level</th>\n",
       "      <td>254941</td>\n",
       "      <td>6</td>\n",
       "      <td>Secondary Level</td>\n",
       "      <td>132952</td>\n",
       "    </tr>\n",
       "    <tr>\n",
       "      <th>current_income_source</th>\n",
       "      <td>326243</td>\n",
       "      <td>7</td>\n",
       "      <td>None ( I have no source of income)</td>\n",
       "      <td>274597</td>\n",
       "    </tr>\n",
       "    <tr>\n",
       "      <th>ever_tested_for_hiv</th>\n",
       "      <td>455807</td>\n",
       "      <td>1</td>\n",
       "      <td>Yes</td>\n",
       "      <td>455807</td>\n",
       "    </tr>\n",
       "    <tr>\n",
       "      <th>last_test_result</th>\n",
       "      <td>455807</td>\n",
       "      <td>3</td>\n",
       "      <td>Negative</td>\n",
       "      <td>449939</td>\n",
       "    </tr>\n",
       "    <tr>\n",
       "      <th>ever_had_sex</th>\n",
       "      <td>448080</td>\n",
       "      <td>2</td>\n",
       "      <td>Yes</td>\n",
       "      <td>226440</td>\n",
       "    </tr>\n",
       "    <tr>\n",
       "      <th>has_sexual_partner</th>\n",
       "      <td>226301</td>\n",
       "      <td>2</td>\n",
       "      <td>Yes</td>\n",
       "      <td>186891</td>\n",
       "    </tr>\n",
       "    <tr>\n",
       "      <th>age_of_last_partner</th>\n",
       "      <td>212532</td>\n",
       "      <td>3</td>\n",
       "      <td>Older</td>\n",
       "      <td>154711</td>\n",
       "    </tr>\n",
       "    <tr>\n",
       "      <th>used_condom_with_last_partner</th>\n",
       "      <td>212212</td>\n",
       "      <td>3</td>\n",
       "      <td>Sometimes</td>\n",
       "      <td>95840</td>\n",
       "    </tr>\n",
       "    <tr>\n",
       "      <th>dreams_program</th>\n",
       "      <td>46459</td>\n",
       "      <td>1111</td>\n",
       "      <td>Health Choices for a Better Future (HCBF or HC1)</td>\n",
       "      <td>10593</td>\n",
       "    </tr>\n",
       "    <tr>\n",
       "      <th>result</th>\n",
       "      <td>455807</td>\n",
       "      <td>2</td>\n",
       "      <td>Negative</td>\n",
       "      <td>454788</td>\n",
       "    </tr>\n",
       "  </tbody>\n",
       "</table>\n",
       "</div>"
      ],
      "text/plain": [
       "                                    count unique  \\\n",
       "date_of_birth                      455807   7839   \n",
       "implementing_partner_name          455807     20   \n",
       "county                             446551      7   \n",
       "head_of_household                  446192      8   \n",
       "father_alive                       442399      3   \n",
       "mother_alive                       442820      3   \n",
       "are_both_parents_alive             455807      2   \n",
       "ever_missed_full_day_food_in_4wks  448640      2   \n",
       "currently_in_school                451634      2   \n",
       "current_school_level               254941      6   \n",
       "current_income_source              326243      7   \n",
       "ever_tested_for_hiv                455807      1   \n",
       "last_test_result                   455807      3   \n",
       "ever_had_sex                       448080      2   \n",
       "has_sexual_partner                 226301      2   \n",
       "age_of_last_partner                212532      3   \n",
       "used_condom_with_last_partner      212212      3   \n",
       "dreams_program                      46459   1111   \n",
       "result                             455807      2   \n",
       "\n",
       "                                                                                top  \\\n",
       "date_of_birth                                                              1/1/2000   \n",
       "implementing_partner_name                                               Afya Ziwani   \n",
       "county                                                                      Nairobi   \n",
       "head_of_household                                                            Father   \n",
       "father_alive                                                                    Yes   \n",
       "mother_alive                                                                    Yes   \n",
       "are_both_parents_alive                                                          Yes   \n",
       "ever_missed_full_day_food_in_4wks                                               Yes   \n",
       "currently_in_school                                                             Yes   \n",
       "current_school_level                                                Secondary Level   \n",
       "current_income_source                            None ( I have no source of income)   \n",
       "ever_tested_for_hiv                                                             Yes   \n",
       "last_test_result                                                           Negative   \n",
       "ever_had_sex                                                                    Yes   \n",
       "has_sexual_partner                                                              Yes   \n",
       "age_of_last_partner                                                           Older   \n",
       "used_condom_with_last_partner                                             Sometimes   \n",
       "dreams_program                     Health Choices for a Better Future (HCBF or HC1)   \n",
       "result                                                                     Negative   \n",
       "\n",
       "                                     freq  \n",
       "date_of_birth                        1011  \n",
       "implementing_partner_name          101893  \n",
       "county                             100411  \n",
       "head_of_household                  173119  \n",
       "father_alive                       295841  \n",
       "mother_alive                       378897  \n",
       "are_both_parents_alive             273198  \n",
       "ever_missed_full_day_food_in_4wks  257179  \n",
       "currently_in_school                263268  \n",
       "current_school_level               132952  \n",
       "current_income_source              274597  \n",
       "ever_tested_for_hiv                455807  \n",
       "last_test_result                   449939  \n",
       "ever_had_sex                       226440  \n",
       "has_sexual_partner                 186891  \n",
       "age_of_last_partner                154711  \n",
       "used_condom_with_last_partner       95840  \n",
       "dreams_program                      10593  \n",
       "result                             454788  "
      ]
     },
     "execution_count": 9,
     "metadata": {},
     "output_type": "execute_result"
    }
   ],
   "source": [
    "df1.describe(include='object').T"
   ]
  },
  {
   "cell_type": "code",
   "execution_count": 10,
   "metadata": {},
   "outputs": [
    {
     "data": {
      "text/plain": [
       "date_of_birth                             0\n",
       "implementing_partner_name                 0\n",
       "county                                 9256\n",
       "head_of_household                      9615\n",
       "age_of_household_head                 21018\n",
       "father_alive                          13408\n",
       "mother_alive                          12987\n",
       "are_both_parents_alive                    0\n",
       "no_of_people_in_household              7200\n",
       "no_of_females                          7332\n",
       "no_of_males                            7682\n",
       "no_of_adults                           7479\n",
       "no_of_children                         7773\n",
       "ever_missed_full_day_food_in_4wks      7167\n",
       "currently_in_school                    4173\n",
       "current_school_level                 200866\n",
       "current_income_source                129564\n",
       "ever_tested_for_hiv                       0\n",
       "last_test_result                          0\n",
       "ever_had_sex                           7727\n",
       "age_at_first_sexual_encounter        229551\n",
       "has_sexual_partner                   229506\n",
       "age_of_last_partner                  243275\n",
       "used_condom_with_last_partner        243595\n",
       "dreams_program                       409348\n",
       "result                                    0\n",
       "bio_medical                               0\n",
       "social_protection                         0\n",
       "behavioral                                0\n",
       "post_gbv_care                             0\n",
       "exit_age                              68739\n",
       "dtype: int64"
      ]
     },
     "execution_count": 10,
     "metadata": {},
     "output_type": "execute_result"
    }
   ],
   "source": [
    "df1.isna().sum()"
   ]
  },
  {
   "cell_type": "code",
   "execution_count": 11,
   "metadata": {},
   "outputs": [
    {
     "data": {
      "text/plain": [
       "0"
      ]
     },
     "execution_count": 11,
     "metadata": {},
     "output_type": "execute_result"
    }
   ],
   "source": [
    "df1['result'].isna().sum()"
   ]
  },
  {
   "cell_type": "code",
   "execution_count": 12,
   "metadata": {},
   "outputs": [
    {
     "name": "stdout",
     "output_type": "stream",
     "text": [
      "<class 'pandas.core.frame.DataFrame'>\n",
      "RangeIndex: 455807 entries, 0 to 455806\n",
      "Data columns (total 31 columns):\n",
      " #   Column                             Non-Null Count   Dtype  \n",
      "---  ------                             --------------   -----  \n",
      " 0   date_of_birth                      455807 non-null  object \n",
      " 1   implementing_partner_name          455807 non-null  object \n",
      " 2   county                             446551 non-null  object \n",
      " 3   head_of_household                  446192 non-null  object \n",
      " 4   age_of_household_head              434789 non-null  float64\n",
      " 5   father_alive                       442399 non-null  object \n",
      " 6   mother_alive                       442820 non-null  object \n",
      " 7   are_both_parents_alive             455807 non-null  object \n",
      " 8   no_of_people_in_household          448607 non-null  float64\n",
      " 9   no_of_females                      448475 non-null  float64\n",
      " 10  no_of_males                        448125 non-null  float64\n",
      " 11  no_of_adults                       448328 non-null  float64\n",
      " 12  no_of_children                     448034 non-null  float64\n",
      " 13  ever_missed_full_day_food_in_4wks  448640 non-null  object \n",
      " 14  currently_in_school                451634 non-null  object \n",
      " 15  current_school_level               254941 non-null  object \n",
      " 16  current_income_source              326243 non-null  object \n",
      " 17  ever_tested_for_hiv                455807 non-null  object \n",
      " 18  last_test_result                   455807 non-null  object \n",
      " 19  ever_had_sex                       448080 non-null  object \n",
      " 20  age_at_first_sexual_encounter      226256 non-null  float64\n",
      " 21  has_sexual_partner                 226301 non-null  object \n",
      " 22  age_of_last_partner                212532 non-null  object \n",
      " 23  used_condom_with_last_partner      212212 non-null  object \n",
      " 24  dreams_program                     46459 non-null   object \n",
      " 25  result                             455807 non-null  object \n",
      " 26  bio_medical                        455807 non-null  int64  \n",
      " 27  social_protection                  455807 non-null  int64  \n",
      " 28  behavioral                         455807 non-null  int64  \n",
      " 29  post_gbv_care                      455807 non-null  int64  \n",
      " 30  exit_age                           387068 non-null  float64\n",
      "dtypes: float64(8), int64(4), object(19)\n",
      "memory usage: 107.8+ MB\n"
     ]
    }
   ],
   "source": [
    "df1.info()"
   ]
  },
  {
   "cell_type": "code",
   "execution_count": 13,
   "metadata": {},
   "outputs": [
    {
     "data": {
      "text/plain": [
       "451"
      ]
     },
     "execution_count": 13,
     "metadata": {},
     "output_type": "execute_result"
    }
   ],
   "source": [
    "df1.duplicated().sum()"
   ]
  },
  {
   "cell_type": "code",
   "execution_count": 14,
   "metadata": {},
   "outputs": [],
   "source": [
    "#check for duplicates and remove if any\n",
    "df1 = df1.drop_duplicates()"
   ]
  },
  {
   "cell_type": "code",
   "execution_count": 15,
   "metadata": {},
   "outputs": [
    {
     "data": {
      "text/plain": [
       "0"
      ]
     },
     "execution_count": 15,
     "metadata": {},
     "output_type": "execute_result"
    }
   ],
   "source": [
    "df1.duplicated().sum()"
   ]
  },
  {
   "cell_type": "markdown",
   "metadata": {},
   "source": [
    "## Modeling"
   ]
  },
  {
   "cell_type": "code",
   "execution_count": 16,
   "metadata": {},
   "outputs": [],
   "source": [
    "#target and predictors\n",
    "X = df1.drop('result', axis=1)\n",
    "y = df1['result'].map({'Negative':0, 'Positive':1})"
   ]
  },
  {
   "cell_type": "code",
   "execution_count": 17,
   "metadata": {},
   "outputs": [],
   "source": [
    "#train and test splits\n",
    "X_train, X_test, y_train,y_test= train_test_split(X,y, test_size=0.2, random_state=42)"
   ]
  },
  {
   "cell_type": "code",
   "execution_count": 18,
   "metadata": {},
   "outputs": [],
   "source": [
    "num_cols = ['age_of_household_head', 'no_of_people_in_household', 'no_of_females', 'no_of_males', 'no_of_adults', 'no_of_children',\n",
    " 'age_at_first_sexual_encounter', 'bio_medical', 'social_protection', 'behavioral', 'post_gbv_care', 'exit_age']\n",
    "\n",
    "cat_cols = ['date_of_birth', 'implementing_partner_name', 'county', 'head_of_household', 'father_alive', 'mother_alive',\n",
    " 'are_both_parents_alive', 'ever_missed_full_day_food_in_4wks', 'currently_in_school', 'current_school_level', 'current_income_source',\n",
    " 'ever_tested_for_hiv', 'last_test_result', 'ever_had_sex', 'has_sexual_partner', 'age_of_last_partner', 'used_condom_with_last_partner',\n",
    " 'dreams_program']"
   ]
  },
  {
   "cell_type": "code",
   "execution_count": 19,
   "metadata": {},
   "outputs": [],
   "source": [
    "# #separate categorical and numerical features\n",
    "# num_cols = df1.select_dtypes(include=('int64', 'float64'))\n",
    "# cat_cols = df1.select_dtypes(include='object')\n",
    "# num_cols =num_cols.columns.tolist()\n",
    "# cat_cols = cat_cols.columns.tolist()"
   ]
  },
  {
   "cell_type": "code",
   "execution_count": 20,
   "metadata": {},
   "outputs": [
    {
     "name": "stdout",
     "output_type": "stream",
     "text": [
      "<class 'list'>\n"
     ]
    }
   ],
   "source": [
    "print(type(cat_cols))"
   ]
  },
  {
   "cell_type": "code",
   "execution_count": 21,
   "metadata": {},
   "outputs": [],
   "source": [
    "#Pipeline to clean, impute missing values\n",
    "numerical_transformer = Pipeline(steps=[\n",
    "    ('imputer', SimpleImputer(strategy='median')),  # Impute missing values with median\n",
    "    ('scaler', StandardScaler())\n",
    "])\n",
    "categorical_transformer = Pipeline(steps=[\n",
    "    ('imputer', SimpleImputer(strategy='most_frequent')),  # Impute missing values with the most frequent category\n",
    "    ('ohe', OneHotEncoder(handle_unknown='ignore')) \n",
    "])\n",
    "\n",
    "#preprocessor\n",
    "preprocessor = ColumnTransformer(\n",
    "    transformers=[\n",
    "        ('num',numerical_transformer, num_cols),\n",
    "        ('cat', categorical_transformer, cat_cols)\n",
    "    ])"
   ]
  },
  {
   "cell_type": "code",
   "execution_count": 22,
   "metadata": {},
   "outputs": [],
   "source": [
    "#Baseline model as logistic regression\n",
    "pipe_model = Pipeline(steps=[\n",
    "    ('preprocessor', preprocessor),\n",
    "    ('clf', LogisticRegression(class_weight='balanced'))\n",
    "])"
   ]
  },
  {
   "cell_type": "code",
   "execution_count": 23,
   "metadata": {},
   "outputs": [
    {
     "data": {
      "text/html": [
       "<style>#sk-container-id-1 {color: black;}#sk-container-id-1 pre{padding: 0;}#sk-container-id-1 div.sk-toggleable {background-color: white;}#sk-container-id-1 label.sk-toggleable__label {cursor: pointer;display: block;width: 100%;margin-bottom: 0;padding: 0.3em;box-sizing: border-box;text-align: center;}#sk-container-id-1 label.sk-toggleable__label-arrow:before {content: \"▸\";float: left;margin-right: 0.25em;color: #696969;}#sk-container-id-1 label.sk-toggleable__label-arrow:hover:before {color: black;}#sk-container-id-1 div.sk-estimator:hover label.sk-toggleable__label-arrow:before {color: black;}#sk-container-id-1 div.sk-toggleable__content {max-height: 0;max-width: 0;overflow: hidden;text-align: left;background-color: #f0f8ff;}#sk-container-id-1 div.sk-toggleable__content pre {margin: 0.2em;color: black;border-radius: 0.25em;background-color: #f0f8ff;}#sk-container-id-1 input.sk-toggleable__control:checked~div.sk-toggleable__content {max-height: 200px;max-width: 100%;overflow: auto;}#sk-container-id-1 input.sk-toggleable__control:checked~label.sk-toggleable__label-arrow:before {content: \"▾\";}#sk-container-id-1 div.sk-estimator input.sk-toggleable__control:checked~label.sk-toggleable__label {background-color: #d4ebff;}#sk-container-id-1 div.sk-label input.sk-toggleable__control:checked~label.sk-toggleable__label {background-color: #d4ebff;}#sk-container-id-1 input.sk-hidden--visually {border: 0;clip: rect(1px 1px 1px 1px);clip: rect(1px, 1px, 1px, 1px);height: 1px;margin: -1px;overflow: hidden;padding: 0;position: absolute;width: 1px;}#sk-container-id-1 div.sk-estimator {font-family: monospace;background-color: #f0f8ff;border: 1px dotted black;border-radius: 0.25em;box-sizing: border-box;margin-bottom: 0.5em;}#sk-container-id-1 div.sk-estimator:hover {background-color: #d4ebff;}#sk-container-id-1 div.sk-parallel-item::after {content: \"\";width: 100%;border-bottom: 1px solid gray;flex-grow: 1;}#sk-container-id-1 div.sk-label:hover label.sk-toggleable__label {background-color: #d4ebff;}#sk-container-id-1 div.sk-serial::before {content: \"\";position: absolute;border-left: 1px solid gray;box-sizing: border-box;top: 0;bottom: 0;left: 50%;z-index: 0;}#sk-container-id-1 div.sk-serial {display: flex;flex-direction: column;align-items: center;background-color: white;padding-right: 0.2em;padding-left: 0.2em;position: relative;}#sk-container-id-1 div.sk-item {position: relative;z-index: 1;}#sk-container-id-1 div.sk-parallel {display: flex;align-items: stretch;justify-content: center;background-color: white;position: relative;}#sk-container-id-1 div.sk-item::before, #sk-container-id-1 div.sk-parallel-item::before {content: \"\";position: absolute;border-left: 1px solid gray;box-sizing: border-box;top: 0;bottom: 0;left: 50%;z-index: -1;}#sk-container-id-1 div.sk-parallel-item {display: flex;flex-direction: column;z-index: 1;position: relative;background-color: white;}#sk-container-id-1 div.sk-parallel-item:first-child::after {align-self: flex-end;width: 50%;}#sk-container-id-1 div.sk-parallel-item:last-child::after {align-self: flex-start;width: 50%;}#sk-container-id-1 div.sk-parallel-item:only-child::after {width: 0;}#sk-container-id-1 div.sk-dashed-wrapped {border: 1px dashed gray;margin: 0 0.4em 0.5em 0.4em;box-sizing: border-box;padding-bottom: 0.4em;background-color: white;}#sk-container-id-1 div.sk-label label {font-family: monospace;font-weight: bold;display: inline-block;line-height: 1.2em;}#sk-container-id-1 div.sk-label-container {text-align: center;}#sk-container-id-1 div.sk-container {/* jupyter's `normalize.less` sets `[hidden] { display: none; }` but bootstrap.min.css set `[hidden] { display: none !important; }` so we also need the `!important` here to be able to override the default hidden behavior on the sphinx rendered scikit-learn.org. See: https://github.com/scikit-learn/scikit-learn/issues/21755 */display: inline-block !important;position: relative;}#sk-container-id-1 div.sk-text-repr-fallback {display: none;}</style><div id=\"sk-container-id-1\" class=\"sk-top-container\"><div class=\"sk-text-repr-fallback\"><pre>Pipeline(steps=[(&#x27;preprocessor&#x27;,\n",
       "                 ColumnTransformer(transformers=[(&#x27;num&#x27;,\n",
       "                                                  Pipeline(steps=[(&#x27;imputer&#x27;,\n",
       "                                                                   SimpleImputer(strategy=&#x27;median&#x27;)),\n",
       "                                                                  (&#x27;scaler&#x27;,\n",
       "                                                                   StandardScaler())]),\n",
       "                                                  [&#x27;age_of_household_head&#x27;,\n",
       "                                                   &#x27;no_of_people_in_household&#x27;,\n",
       "                                                   &#x27;no_of_females&#x27;,\n",
       "                                                   &#x27;no_of_males&#x27;,\n",
       "                                                   &#x27;no_of_adults&#x27;,\n",
       "                                                   &#x27;no_of_children&#x27;,\n",
       "                                                   &#x27;age_at_first_sexual_encounter&#x27;,\n",
       "                                                   &#x27;bio_medical&#x27;,\n",
       "                                                   &#x27;social_protection&#x27;,\n",
       "                                                   &#x27;behavi...\n",
       "                                                   &#x27;mother_alive&#x27;,\n",
       "                                                   &#x27;are_both_parents_alive&#x27;,\n",
       "                                                   &#x27;ever_missed_full_day_food_in_4wks&#x27;,\n",
       "                                                   &#x27;currently_in_school&#x27;,\n",
       "                                                   &#x27;current_school_level&#x27;,\n",
       "                                                   &#x27;current_income_source&#x27;,\n",
       "                                                   &#x27;ever_tested_for_hiv&#x27;,\n",
       "                                                   &#x27;last_test_result&#x27;,\n",
       "                                                   &#x27;ever_had_sex&#x27;,\n",
       "                                                   &#x27;has_sexual_partner&#x27;,\n",
       "                                                   &#x27;age_of_last_partner&#x27;,\n",
       "                                                   &#x27;used_condom_with_last_partner&#x27;,\n",
       "                                                   &#x27;dreams_program&#x27;])])),\n",
       "                (&#x27;clf&#x27;, LogisticRegression(class_weight=&#x27;balanced&#x27;))])</pre><b>In a Jupyter environment, please rerun this cell to show the HTML representation or trust the notebook. <br />On GitHub, the HTML representation is unable to render, please try loading this page with nbviewer.org.</b></div><div class=\"sk-container\" hidden><div class=\"sk-item sk-dashed-wrapped\"><div class=\"sk-label-container\"><div class=\"sk-label sk-toggleable\"><input class=\"sk-toggleable__control sk-hidden--visually\" id=\"sk-estimator-id-1\" type=\"checkbox\" ><label for=\"sk-estimator-id-1\" class=\"sk-toggleable__label sk-toggleable__label-arrow\">Pipeline</label><div class=\"sk-toggleable__content\"><pre>Pipeline(steps=[(&#x27;preprocessor&#x27;,\n",
       "                 ColumnTransformer(transformers=[(&#x27;num&#x27;,\n",
       "                                                  Pipeline(steps=[(&#x27;imputer&#x27;,\n",
       "                                                                   SimpleImputer(strategy=&#x27;median&#x27;)),\n",
       "                                                                  (&#x27;scaler&#x27;,\n",
       "                                                                   StandardScaler())]),\n",
       "                                                  [&#x27;age_of_household_head&#x27;,\n",
       "                                                   &#x27;no_of_people_in_household&#x27;,\n",
       "                                                   &#x27;no_of_females&#x27;,\n",
       "                                                   &#x27;no_of_males&#x27;,\n",
       "                                                   &#x27;no_of_adults&#x27;,\n",
       "                                                   &#x27;no_of_children&#x27;,\n",
       "                                                   &#x27;age_at_first_sexual_encounter&#x27;,\n",
       "                                                   &#x27;bio_medical&#x27;,\n",
       "                                                   &#x27;social_protection&#x27;,\n",
       "                                                   &#x27;behavi...\n",
       "                                                   &#x27;mother_alive&#x27;,\n",
       "                                                   &#x27;are_both_parents_alive&#x27;,\n",
       "                                                   &#x27;ever_missed_full_day_food_in_4wks&#x27;,\n",
       "                                                   &#x27;currently_in_school&#x27;,\n",
       "                                                   &#x27;current_school_level&#x27;,\n",
       "                                                   &#x27;current_income_source&#x27;,\n",
       "                                                   &#x27;ever_tested_for_hiv&#x27;,\n",
       "                                                   &#x27;last_test_result&#x27;,\n",
       "                                                   &#x27;ever_had_sex&#x27;,\n",
       "                                                   &#x27;has_sexual_partner&#x27;,\n",
       "                                                   &#x27;age_of_last_partner&#x27;,\n",
       "                                                   &#x27;used_condom_with_last_partner&#x27;,\n",
       "                                                   &#x27;dreams_program&#x27;])])),\n",
       "                (&#x27;clf&#x27;, LogisticRegression(class_weight=&#x27;balanced&#x27;))])</pre></div></div></div><div class=\"sk-serial\"><div class=\"sk-item sk-dashed-wrapped\"><div class=\"sk-label-container\"><div class=\"sk-label sk-toggleable\"><input class=\"sk-toggleable__control sk-hidden--visually\" id=\"sk-estimator-id-2\" type=\"checkbox\" ><label for=\"sk-estimator-id-2\" class=\"sk-toggleable__label sk-toggleable__label-arrow\">preprocessor: ColumnTransformer</label><div class=\"sk-toggleable__content\"><pre>ColumnTransformer(transformers=[(&#x27;num&#x27;,\n",
       "                                 Pipeline(steps=[(&#x27;imputer&#x27;,\n",
       "                                                  SimpleImputer(strategy=&#x27;median&#x27;)),\n",
       "                                                 (&#x27;scaler&#x27;, StandardScaler())]),\n",
       "                                 [&#x27;age_of_household_head&#x27;,\n",
       "                                  &#x27;no_of_people_in_household&#x27;, &#x27;no_of_females&#x27;,\n",
       "                                  &#x27;no_of_males&#x27;, &#x27;no_of_adults&#x27;,\n",
       "                                  &#x27;no_of_children&#x27;,\n",
       "                                  &#x27;age_at_first_sexual_encounter&#x27;,\n",
       "                                  &#x27;bio_medical&#x27;, &#x27;social_protection&#x27;,\n",
       "                                  &#x27;behavioral&#x27;, &#x27;post_gbv_care&#x27;, &#x27;exit_age&#x27;...\n",
       "                                 [&#x27;date_of_birth&#x27;, &#x27;implementing_partner_name&#x27;,\n",
       "                                  &#x27;county&#x27;, &#x27;head_of_household&#x27;, &#x27;father_alive&#x27;,\n",
       "                                  &#x27;mother_alive&#x27;, &#x27;are_both_parents_alive&#x27;,\n",
       "                                  &#x27;ever_missed_full_day_food_in_4wks&#x27;,\n",
       "                                  &#x27;currently_in_school&#x27;, &#x27;current_school_level&#x27;,\n",
       "                                  &#x27;current_income_source&#x27;,\n",
       "                                  &#x27;ever_tested_for_hiv&#x27;, &#x27;last_test_result&#x27;,\n",
       "                                  &#x27;ever_had_sex&#x27;, &#x27;has_sexual_partner&#x27;,\n",
       "                                  &#x27;age_of_last_partner&#x27;,\n",
       "                                  &#x27;used_condom_with_last_partner&#x27;,\n",
       "                                  &#x27;dreams_program&#x27;])])</pre></div></div></div><div class=\"sk-parallel\"><div class=\"sk-parallel-item\"><div class=\"sk-item\"><div class=\"sk-label-container\"><div class=\"sk-label sk-toggleable\"><input class=\"sk-toggleable__control sk-hidden--visually\" id=\"sk-estimator-id-3\" type=\"checkbox\" ><label for=\"sk-estimator-id-3\" class=\"sk-toggleable__label sk-toggleable__label-arrow\">num</label><div class=\"sk-toggleable__content\"><pre>[&#x27;age_of_household_head&#x27;, &#x27;no_of_people_in_household&#x27;, &#x27;no_of_females&#x27;, &#x27;no_of_males&#x27;, &#x27;no_of_adults&#x27;, &#x27;no_of_children&#x27;, &#x27;age_at_first_sexual_encounter&#x27;, &#x27;bio_medical&#x27;, &#x27;social_protection&#x27;, &#x27;behavioral&#x27;, &#x27;post_gbv_care&#x27;, &#x27;exit_age&#x27;]</pre></div></div></div><div class=\"sk-serial\"><div class=\"sk-item\"><div class=\"sk-serial\"><div class=\"sk-item\"><div class=\"sk-estimator sk-toggleable\"><input class=\"sk-toggleable__control sk-hidden--visually\" id=\"sk-estimator-id-4\" type=\"checkbox\" ><label for=\"sk-estimator-id-4\" class=\"sk-toggleable__label sk-toggleable__label-arrow\">SimpleImputer</label><div class=\"sk-toggleable__content\"><pre>SimpleImputer(strategy=&#x27;median&#x27;)</pre></div></div></div><div class=\"sk-item\"><div class=\"sk-estimator sk-toggleable\"><input class=\"sk-toggleable__control sk-hidden--visually\" id=\"sk-estimator-id-5\" type=\"checkbox\" ><label for=\"sk-estimator-id-5\" class=\"sk-toggleable__label sk-toggleable__label-arrow\">StandardScaler</label><div class=\"sk-toggleable__content\"><pre>StandardScaler()</pre></div></div></div></div></div></div></div></div><div class=\"sk-parallel-item\"><div class=\"sk-item\"><div class=\"sk-label-container\"><div class=\"sk-label sk-toggleable\"><input class=\"sk-toggleable__control sk-hidden--visually\" id=\"sk-estimator-id-6\" type=\"checkbox\" ><label for=\"sk-estimator-id-6\" class=\"sk-toggleable__label sk-toggleable__label-arrow\">cat</label><div class=\"sk-toggleable__content\"><pre>[&#x27;date_of_birth&#x27;, &#x27;implementing_partner_name&#x27;, &#x27;county&#x27;, &#x27;head_of_household&#x27;, &#x27;father_alive&#x27;, &#x27;mother_alive&#x27;, &#x27;are_both_parents_alive&#x27;, &#x27;ever_missed_full_day_food_in_4wks&#x27;, &#x27;currently_in_school&#x27;, &#x27;current_school_level&#x27;, &#x27;current_income_source&#x27;, &#x27;ever_tested_for_hiv&#x27;, &#x27;last_test_result&#x27;, &#x27;ever_had_sex&#x27;, &#x27;has_sexual_partner&#x27;, &#x27;age_of_last_partner&#x27;, &#x27;used_condom_with_last_partner&#x27;, &#x27;dreams_program&#x27;]</pre></div></div></div><div class=\"sk-serial\"><div class=\"sk-item\"><div class=\"sk-serial\"><div class=\"sk-item\"><div class=\"sk-estimator sk-toggleable\"><input class=\"sk-toggleable__control sk-hidden--visually\" id=\"sk-estimator-id-7\" type=\"checkbox\" ><label for=\"sk-estimator-id-7\" class=\"sk-toggleable__label sk-toggleable__label-arrow\">SimpleImputer</label><div class=\"sk-toggleable__content\"><pre>SimpleImputer(strategy=&#x27;most_frequent&#x27;)</pre></div></div></div><div class=\"sk-item\"><div class=\"sk-estimator sk-toggleable\"><input class=\"sk-toggleable__control sk-hidden--visually\" id=\"sk-estimator-id-8\" type=\"checkbox\" ><label for=\"sk-estimator-id-8\" class=\"sk-toggleable__label sk-toggleable__label-arrow\">OneHotEncoder</label><div class=\"sk-toggleable__content\"><pre>OneHotEncoder(handle_unknown=&#x27;ignore&#x27;)</pre></div></div></div></div></div></div></div></div></div></div><div class=\"sk-item\"><div class=\"sk-estimator sk-toggleable\"><input class=\"sk-toggleable__control sk-hidden--visually\" id=\"sk-estimator-id-9\" type=\"checkbox\" ><label for=\"sk-estimator-id-9\" class=\"sk-toggleable__label sk-toggleable__label-arrow\">LogisticRegression</label><div class=\"sk-toggleable__content\"><pre>LogisticRegression(class_weight=&#x27;balanced&#x27;)</pre></div></div></div></div></div></div></div>"
      ],
      "text/plain": [
       "Pipeline(steps=[('preprocessor',\n",
       "                 ColumnTransformer(transformers=[('num',\n",
       "                                                  Pipeline(steps=[('imputer',\n",
       "                                                                   SimpleImputer(strategy='median')),\n",
       "                                                                  ('scaler',\n",
       "                                                                   StandardScaler())]),\n",
       "                                                  ['age_of_household_head',\n",
       "                                                   'no_of_people_in_household',\n",
       "                                                   'no_of_females',\n",
       "                                                   'no_of_males',\n",
       "                                                   'no_of_adults',\n",
       "                                                   'no_of_children',\n",
       "                                                   'age_at_first_sexual_encounter',\n",
       "                                                   'bio_medical',\n",
       "                                                   'social_protection',\n",
       "                                                   'behavi...\n",
       "                                                   'mother_alive',\n",
       "                                                   'are_both_parents_alive',\n",
       "                                                   'ever_missed_full_day_food_in_4wks',\n",
       "                                                   'currently_in_school',\n",
       "                                                   'current_school_level',\n",
       "                                                   'current_income_source',\n",
       "                                                   'ever_tested_for_hiv',\n",
       "                                                   'last_test_result',\n",
       "                                                   'ever_had_sex',\n",
       "                                                   'has_sexual_partner',\n",
       "                                                   'age_of_last_partner',\n",
       "                                                   'used_condom_with_last_partner',\n",
       "                                                   'dreams_program'])])),\n",
       "                ('clf', LogisticRegression(class_weight='balanced'))])"
      ]
     },
     "execution_count": 23,
     "metadata": {},
     "output_type": "execute_result"
    }
   ],
   "source": [
    "#Fit baseline model\n",
    "pipe_model.fit(X_train, y_train)"
   ]
  },
  {
   "cell_type": "code",
   "execution_count": 24,
   "metadata": {},
   "outputs": [],
   "source": [
    "#Make predictions\n",
    "y_pred = pipe_model.predict(X_test)"
   ]
  },
  {
   "cell_type": "code",
   "execution_count": 25,
   "metadata": {},
   "outputs": [],
   "source": [
    "# y_pred_binary = (y_pred > 0.5).astype(int)"
   ]
  },
  {
   "cell_type": "code",
   "execution_count": 26,
   "metadata": {},
   "outputs": [
    {
     "name": "stdout",
     "output_type": "stream",
     "text": [
      "Accuracy: 90.95%\n"
     ]
    }
   ],
   "source": [
    "# Evaluate the model\n",
    "accuracy = accuracy_score(y_test, y_pred)\n",
    "print(f'Accuracy: {accuracy*100:.2f}%')"
   ]
  },
  {
   "cell_type": "code",
   "execution_count": 27,
   "metadata": {},
   "outputs": [
    {
     "name": "stdout",
     "output_type": "stream",
     "text": [
      "Confusion Matrix:\n",
      " [[82780  8078]\n",
      " [  163    51]]\n"
     ]
    }
   ],
   "source": [
    "# confusion matrix\n",
    "cm = confusion_matrix(y_test, y_pred)\n",
    "print(\"Confusion Matrix:\\n\", cm)"
   ]
  },
  {
   "cell_type": "code",
   "execution_count": 28,
   "metadata": {},
   "outputs": [
    {
     "name": "stdout",
     "output_type": "stream",
     "text": [
      "Precision: 0.63%\n",
      "Recall: 23.83%\n",
      "F1 Score: 1.22%\n"
     ]
    }
   ],
   "source": [
    "#Evaluate model performance\n",
    "\n",
    "precision = precision_score(y_test, y_pred)\n",
    "recall = recall_score(y_test, y_pred)\n",
    "f1 = f1_score(y_test, y_pred)\n",
    "\n",
    "print(f\"Precision: {precision*100:.2f}%\")\n",
    "print(f\"Recall: {recall*100:.2f}%\")\n",
    "print(f\"F1 Score: {f1*100:.2f}%\")"
   ]
  },
  {
   "cell_type": "code",
   "execution_count": 29,
   "metadata": {},
   "outputs": [],
   "source": [
    "#Observation\n",
    "#Classifier is heavily biased towards dominant class(negative class)\n",
    "# Model performance is very low despite setting class_weight to 'balanced'"
   ]
  },
  {
   "cell_type": "markdown",
   "metadata": {},
   "source": [
    "## Undersampling dominant class to match minority class"
   ]
  },
  {
   "cell_type": "code",
   "execution_count": 30,
   "metadata": {},
   "outputs": [],
   "source": [
    "#balancing classes \n",
    "negative_class = df1[df1['result']=='Negative']\n",
    "positive_class = df1[df1['result']=='Positive']"
   ]
  },
  {
   "cell_type": "code",
   "execution_count": 31,
   "metadata": {},
   "outputs": [],
   "source": [
    "# Undersampling the majority negative class to match the size of the minority positive class\n",
    "negative_class_undersampled = negative_class.sample(n=len(positive_class), random_state=42)"
   ]
  },
  {
   "cell_type": "code",
   "execution_count": 32,
   "metadata": {},
   "outputs": [],
   "source": [
    "# Concatinate the undersampled negative class with the positive class\n",
    "balanced_df = pd.concat([negative_class_undersampled, positive_class])"
   ]
  },
  {
   "cell_type": "code",
   "execution_count": 33,
   "metadata": {},
   "outputs": [],
   "source": [
    "# Randomly shuffle the balanced dataset and reset index\n",
    "balanced_df = balanced_df.sample(frac=1, random_state=42).reset_index(drop=True)"
   ]
  },
  {
   "cell_type": "code",
   "execution_count": 34,
   "metadata": {},
   "outputs": [],
   "source": [
    "# Separate predictor features and target\n",
    "X_balanced = balanced_df.drop(columns=['result'])\n",
    "y_balanced = balanced_df['result'].map({'Negative':0, 'Positive':1})"
   ]
  },
  {
   "cell_type": "code",
   "execution_count": 35,
   "metadata": {},
   "outputs": [],
   "source": [
    "#train and test splits\n",
    "X_train_balanced, X_test_balanced, y_train_balanced,y_test_balanced= train_test_split(X_balanced,y_balanced, test_size=0.2, random_state=42)"
   ]
  },
  {
   "cell_type": "code",
   "execution_count": 36,
   "metadata": {},
   "outputs": [
    {
     "data": {
      "text/html": [
       "<style>#sk-container-id-2 {color: black;}#sk-container-id-2 pre{padding: 0;}#sk-container-id-2 div.sk-toggleable {background-color: white;}#sk-container-id-2 label.sk-toggleable__label {cursor: pointer;display: block;width: 100%;margin-bottom: 0;padding: 0.3em;box-sizing: border-box;text-align: center;}#sk-container-id-2 label.sk-toggleable__label-arrow:before {content: \"▸\";float: left;margin-right: 0.25em;color: #696969;}#sk-container-id-2 label.sk-toggleable__label-arrow:hover:before {color: black;}#sk-container-id-2 div.sk-estimator:hover label.sk-toggleable__label-arrow:before {color: black;}#sk-container-id-2 div.sk-toggleable__content {max-height: 0;max-width: 0;overflow: hidden;text-align: left;background-color: #f0f8ff;}#sk-container-id-2 div.sk-toggleable__content pre {margin: 0.2em;color: black;border-radius: 0.25em;background-color: #f0f8ff;}#sk-container-id-2 input.sk-toggleable__control:checked~div.sk-toggleable__content {max-height: 200px;max-width: 100%;overflow: auto;}#sk-container-id-2 input.sk-toggleable__control:checked~label.sk-toggleable__label-arrow:before {content: \"▾\";}#sk-container-id-2 div.sk-estimator input.sk-toggleable__control:checked~label.sk-toggleable__label {background-color: #d4ebff;}#sk-container-id-2 div.sk-label input.sk-toggleable__control:checked~label.sk-toggleable__label {background-color: #d4ebff;}#sk-container-id-2 input.sk-hidden--visually {border: 0;clip: rect(1px 1px 1px 1px);clip: rect(1px, 1px, 1px, 1px);height: 1px;margin: -1px;overflow: hidden;padding: 0;position: absolute;width: 1px;}#sk-container-id-2 div.sk-estimator {font-family: monospace;background-color: #f0f8ff;border: 1px dotted black;border-radius: 0.25em;box-sizing: border-box;margin-bottom: 0.5em;}#sk-container-id-2 div.sk-estimator:hover {background-color: #d4ebff;}#sk-container-id-2 div.sk-parallel-item::after {content: \"\";width: 100%;border-bottom: 1px solid gray;flex-grow: 1;}#sk-container-id-2 div.sk-label:hover label.sk-toggleable__label {background-color: #d4ebff;}#sk-container-id-2 div.sk-serial::before {content: \"\";position: absolute;border-left: 1px solid gray;box-sizing: border-box;top: 0;bottom: 0;left: 50%;z-index: 0;}#sk-container-id-2 div.sk-serial {display: flex;flex-direction: column;align-items: center;background-color: white;padding-right: 0.2em;padding-left: 0.2em;position: relative;}#sk-container-id-2 div.sk-item {position: relative;z-index: 1;}#sk-container-id-2 div.sk-parallel {display: flex;align-items: stretch;justify-content: center;background-color: white;position: relative;}#sk-container-id-2 div.sk-item::before, #sk-container-id-2 div.sk-parallel-item::before {content: \"\";position: absolute;border-left: 1px solid gray;box-sizing: border-box;top: 0;bottom: 0;left: 50%;z-index: -1;}#sk-container-id-2 div.sk-parallel-item {display: flex;flex-direction: column;z-index: 1;position: relative;background-color: white;}#sk-container-id-2 div.sk-parallel-item:first-child::after {align-self: flex-end;width: 50%;}#sk-container-id-2 div.sk-parallel-item:last-child::after {align-self: flex-start;width: 50%;}#sk-container-id-2 div.sk-parallel-item:only-child::after {width: 0;}#sk-container-id-2 div.sk-dashed-wrapped {border: 1px dashed gray;margin: 0 0.4em 0.5em 0.4em;box-sizing: border-box;padding-bottom: 0.4em;background-color: white;}#sk-container-id-2 div.sk-label label {font-family: monospace;font-weight: bold;display: inline-block;line-height: 1.2em;}#sk-container-id-2 div.sk-label-container {text-align: center;}#sk-container-id-2 div.sk-container {/* jupyter's `normalize.less` sets `[hidden] { display: none; }` but bootstrap.min.css set `[hidden] { display: none !important; }` so we also need the `!important` here to be able to override the default hidden behavior on the sphinx rendered scikit-learn.org. See: https://github.com/scikit-learn/scikit-learn/issues/21755 */display: inline-block !important;position: relative;}#sk-container-id-2 div.sk-text-repr-fallback {display: none;}</style><div id=\"sk-container-id-2\" class=\"sk-top-container\"><div class=\"sk-text-repr-fallback\"><pre>Pipeline(steps=[(&#x27;preprocessor&#x27;,\n",
       "                 ColumnTransformer(transformers=[(&#x27;num&#x27;,\n",
       "                                                  Pipeline(steps=[(&#x27;imputer&#x27;,\n",
       "                                                                   SimpleImputer(strategy=&#x27;median&#x27;)),\n",
       "                                                                  (&#x27;scaler&#x27;,\n",
       "                                                                   StandardScaler())]),\n",
       "                                                  [&#x27;age_of_household_head&#x27;,\n",
       "                                                   &#x27;no_of_people_in_household&#x27;,\n",
       "                                                   &#x27;no_of_females&#x27;,\n",
       "                                                   &#x27;no_of_males&#x27;,\n",
       "                                                   &#x27;no_of_adults&#x27;,\n",
       "                                                   &#x27;no_of_children&#x27;,\n",
       "                                                   &#x27;age_at_first_sexual_encounter&#x27;,\n",
       "                                                   &#x27;bio_medical&#x27;,\n",
       "                                                   &#x27;social_protection&#x27;,\n",
       "                                                   &#x27;behavi...\n",
       "                                                   &#x27;mother_alive&#x27;,\n",
       "                                                   &#x27;are_both_parents_alive&#x27;,\n",
       "                                                   &#x27;ever_missed_full_day_food_in_4wks&#x27;,\n",
       "                                                   &#x27;currently_in_school&#x27;,\n",
       "                                                   &#x27;current_school_level&#x27;,\n",
       "                                                   &#x27;current_income_source&#x27;,\n",
       "                                                   &#x27;ever_tested_for_hiv&#x27;,\n",
       "                                                   &#x27;last_test_result&#x27;,\n",
       "                                                   &#x27;ever_had_sex&#x27;,\n",
       "                                                   &#x27;has_sexual_partner&#x27;,\n",
       "                                                   &#x27;age_of_last_partner&#x27;,\n",
       "                                                   &#x27;used_condom_with_last_partner&#x27;,\n",
       "                                                   &#x27;dreams_program&#x27;])])),\n",
       "                (&#x27;clf&#x27;, LogisticRegression(class_weight=&#x27;balanced&#x27;))])</pre><b>In a Jupyter environment, please rerun this cell to show the HTML representation or trust the notebook. <br />On GitHub, the HTML representation is unable to render, please try loading this page with nbviewer.org.</b></div><div class=\"sk-container\" hidden><div class=\"sk-item sk-dashed-wrapped\"><div class=\"sk-label-container\"><div class=\"sk-label sk-toggleable\"><input class=\"sk-toggleable__control sk-hidden--visually\" id=\"sk-estimator-id-10\" type=\"checkbox\" ><label for=\"sk-estimator-id-10\" class=\"sk-toggleable__label sk-toggleable__label-arrow\">Pipeline</label><div class=\"sk-toggleable__content\"><pre>Pipeline(steps=[(&#x27;preprocessor&#x27;,\n",
       "                 ColumnTransformer(transformers=[(&#x27;num&#x27;,\n",
       "                                                  Pipeline(steps=[(&#x27;imputer&#x27;,\n",
       "                                                                   SimpleImputer(strategy=&#x27;median&#x27;)),\n",
       "                                                                  (&#x27;scaler&#x27;,\n",
       "                                                                   StandardScaler())]),\n",
       "                                                  [&#x27;age_of_household_head&#x27;,\n",
       "                                                   &#x27;no_of_people_in_household&#x27;,\n",
       "                                                   &#x27;no_of_females&#x27;,\n",
       "                                                   &#x27;no_of_males&#x27;,\n",
       "                                                   &#x27;no_of_adults&#x27;,\n",
       "                                                   &#x27;no_of_children&#x27;,\n",
       "                                                   &#x27;age_at_first_sexual_encounter&#x27;,\n",
       "                                                   &#x27;bio_medical&#x27;,\n",
       "                                                   &#x27;social_protection&#x27;,\n",
       "                                                   &#x27;behavi...\n",
       "                                                   &#x27;mother_alive&#x27;,\n",
       "                                                   &#x27;are_both_parents_alive&#x27;,\n",
       "                                                   &#x27;ever_missed_full_day_food_in_4wks&#x27;,\n",
       "                                                   &#x27;currently_in_school&#x27;,\n",
       "                                                   &#x27;current_school_level&#x27;,\n",
       "                                                   &#x27;current_income_source&#x27;,\n",
       "                                                   &#x27;ever_tested_for_hiv&#x27;,\n",
       "                                                   &#x27;last_test_result&#x27;,\n",
       "                                                   &#x27;ever_had_sex&#x27;,\n",
       "                                                   &#x27;has_sexual_partner&#x27;,\n",
       "                                                   &#x27;age_of_last_partner&#x27;,\n",
       "                                                   &#x27;used_condom_with_last_partner&#x27;,\n",
       "                                                   &#x27;dreams_program&#x27;])])),\n",
       "                (&#x27;clf&#x27;, LogisticRegression(class_weight=&#x27;balanced&#x27;))])</pre></div></div></div><div class=\"sk-serial\"><div class=\"sk-item sk-dashed-wrapped\"><div class=\"sk-label-container\"><div class=\"sk-label sk-toggleable\"><input class=\"sk-toggleable__control sk-hidden--visually\" id=\"sk-estimator-id-11\" type=\"checkbox\" ><label for=\"sk-estimator-id-11\" class=\"sk-toggleable__label sk-toggleable__label-arrow\">preprocessor: ColumnTransformer</label><div class=\"sk-toggleable__content\"><pre>ColumnTransformer(transformers=[(&#x27;num&#x27;,\n",
       "                                 Pipeline(steps=[(&#x27;imputer&#x27;,\n",
       "                                                  SimpleImputer(strategy=&#x27;median&#x27;)),\n",
       "                                                 (&#x27;scaler&#x27;, StandardScaler())]),\n",
       "                                 [&#x27;age_of_household_head&#x27;,\n",
       "                                  &#x27;no_of_people_in_household&#x27;, &#x27;no_of_females&#x27;,\n",
       "                                  &#x27;no_of_males&#x27;, &#x27;no_of_adults&#x27;,\n",
       "                                  &#x27;no_of_children&#x27;,\n",
       "                                  &#x27;age_at_first_sexual_encounter&#x27;,\n",
       "                                  &#x27;bio_medical&#x27;, &#x27;social_protection&#x27;,\n",
       "                                  &#x27;behavioral&#x27;, &#x27;post_gbv_care&#x27;, &#x27;exit_age&#x27;...\n",
       "                                 [&#x27;date_of_birth&#x27;, &#x27;implementing_partner_name&#x27;,\n",
       "                                  &#x27;county&#x27;, &#x27;head_of_household&#x27;, &#x27;father_alive&#x27;,\n",
       "                                  &#x27;mother_alive&#x27;, &#x27;are_both_parents_alive&#x27;,\n",
       "                                  &#x27;ever_missed_full_day_food_in_4wks&#x27;,\n",
       "                                  &#x27;currently_in_school&#x27;, &#x27;current_school_level&#x27;,\n",
       "                                  &#x27;current_income_source&#x27;,\n",
       "                                  &#x27;ever_tested_for_hiv&#x27;, &#x27;last_test_result&#x27;,\n",
       "                                  &#x27;ever_had_sex&#x27;, &#x27;has_sexual_partner&#x27;,\n",
       "                                  &#x27;age_of_last_partner&#x27;,\n",
       "                                  &#x27;used_condom_with_last_partner&#x27;,\n",
       "                                  &#x27;dreams_program&#x27;])])</pre></div></div></div><div class=\"sk-parallel\"><div class=\"sk-parallel-item\"><div class=\"sk-item\"><div class=\"sk-label-container\"><div class=\"sk-label sk-toggleable\"><input class=\"sk-toggleable__control sk-hidden--visually\" id=\"sk-estimator-id-12\" type=\"checkbox\" ><label for=\"sk-estimator-id-12\" class=\"sk-toggleable__label sk-toggleable__label-arrow\">num</label><div class=\"sk-toggleable__content\"><pre>[&#x27;age_of_household_head&#x27;, &#x27;no_of_people_in_household&#x27;, &#x27;no_of_females&#x27;, &#x27;no_of_males&#x27;, &#x27;no_of_adults&#x27;, &#x27;no_of_children&#x27;, &#x27;age_at_first_sexual_encounter&#x27;, &#x27;bio_medical&#x27;, &#x27;social_protection&#x27;, &#x27;behavioral&#x27;, &#x27;post_gbv_care&#x27;, &#x27;exit_age&#x27;]</pre></div></div></div><div class=\"sk-serial\"><div class=\"sk-item\"><div class=\"sk-serial\"><div class=\"sk-item\"><div class=\"sk-estimator sk-toggleable\"><input class=\"sk-toggleable__control sk-hidden--visually\" id=\"sk-estimator-id-13\" type=\"checkbox\" ><label for=\"sk-estimator-id-13\" class=\"sk-toggleable__label sk-toggleable__label-arrow\">SimpleImputer</label><div class=\"sk-toggleable__content\"><pre>SimpleImputer(strategy=&#x27;median&#x27;)</pre></div></div></div><div class=\"sk-item\"><div class=\"sk-estimator sk-toggleable\"><input class=\"sk-toggleable__control sk-hidden--visually\" id=\"sk-estimator-id-14\" type=\"checkbox\" ><label for=\"sk-estimator-id-14\" class=\"sk-toggleable__label sk-toggleable__label-arrow\">StandardScaler</label><div class=\"sk-toggleable__content\"><pre>StandardScaler()</pre></div></div></div></div></div></div></div></div><div class=\"sk-parallel-item\"><div class=\"sk-item\"><div class=\"sk-label-container\"><div class=\"sk-label sk-toggleable\"><input class=\"sk-toggleable__control sk-hidden--visually\" id=\"sk-estimator-id-15\" type=\"checkbox\" ><label for=\"sk-estimator-id-15\" class=\"sk-toggleable__label sk-toggleable__label-arrow\">cat</label><div class=\"sk-toggleable__content\"><pre>[&#x27;date_of_birth&#x27;, &#x27;implementing_partner_name&#x27;, &#x27;county&#x27;, &#x27;head_of_household&#x27;, &#x27;father_alive&#x27;, &#x27;mother_alive&#x27;, &#x27;are_both_parents_alive&#x27;, &#x27;ever_missed_full_day_food_in_4wks&#x27;, &#x27;currently_in_school&#x27;, &#x27;current_school_level&#x27;, &#x27;current_income_source&#x27;, &#x27;ever_tested_for_hiv&#x27;, &#x27;last_test_result&#x27;, &#x27;ever_had_sex&#x27;, &#x27;has_sexual_partner&#x27;, &#x27;age_of_last_partner&#x27;, &#x27;used_condom_with_last_partner&#x27;, &#x27;dreams_program&#x27;]</pre></div></div></div><div class=\"sk-serial\"><div class=\"sk-item\"><div class=\"sk-serial\"><div class=\"sk-item\"><div class=\"sk-estimator sk-toggleable\"><input class=\"sk-toggleable__control sk-hidden--visually\" id=\"sk-estimator-id-16\" type=\"checkbox\" ><label for=\"sk-estimator-id-16\" class=\"sk-toggleable__label sk-toggleable__label-arrow\">SimpleImputer</label><div class=\"sk-toggleable__content\"><pre>SimpleImputer(strategy=&#x27;most_frequent&#x27;)</pre></div></div></div><div class=\"sk-item\"><div class=\"sk-estimator sk-toggleable\"><input class=\"sk-toggleable__control sk-hidden--visually\" id=\"sk-estimator-id-17\" type=\"checkbox\" ><label for=\"sk-estimator-id-17\" class=\"sk-toggleable__label sk-toggleable__label-arrow\">OneHotEncoder</label><div class=\"sk-toggleable__content\"><pre>OneHotEncoder(handle_unknown=&#x27;ignore&#x27;)</pre></div></div></div></div></div></div></div></div></div></div><div class=\"sk-item\"><div class=\"sk-estimator sk-toggleable\"><input class=\"sk-toggleable__control sk-hidden--visually\" id=\"sk-estimator-id-18\" type=\"checkbox\" ><label for=\"sk-estimator-id-18\" class=\"sk-toggleable__label sk-toggleable__label-arrow\">LogisticRegression</label><div class=\"sk-toggleable__content\"><pre>LogisticRegression(class_weight=&#x27;balanced&#x27;)</pre></div></div></div></div></div></div></div>"
      ],
      "text/plain": [
       "Pipeline(steps=[('preprocessor',\n",
       "                 ColumnTransformer(transformers=[('num',\n",
       "                                                  Pipeline(steps=[('imputer',\n",
       "                                                                   SimpleImputer(strategy='median')),\n",
       "                                                                  ('scaler',\n",
       "                                                                   StandardScaler())]),\n",
       "                                                  ['age_of_household_head',\n",
       "                                                   'no_of_people_in_household',\n",
       "                                                   'no_of_females',\n",
       "                                                   'no_of_males',\n",
       "                                                   'no_of_adults',\n",
       "                                                   'no_of_children',\n",
       "                                                   'age_at_first_sexual_encounter',\n",
       "                                                   'bio_medical',\n",
       "                                                   'social_protection',\n",
       "                                                   'behavi...\n",
       "                                                   'mother_alive',\n",
       "                                                   'are_both_parents_alive',\n",
       "                                                   'ever_missed_full_day_food_in_4wks',\n",
       "                                                   'currently_in_school',\n",
       "                                                   'current_school_level',\n",
       "                                                   'current_income_source',\n",
       "                                                   'ever_tested_for_hiv',\n",
       "                                                   'last_test_result',\n",
       "                                                   'ever_had_sex',\n",
       "                                                   'has_sexual_partner',\n",
       "                                                   'age_of_last_partner',\n",
       "                                                   'used_condom_with_last_partner',\n",
       "                                                   'dreams_program'])])),\n",
       "                ('clf', LogisticRegression(class_weight='balanced'))])"
      ]
     },
     "execution_count": 36,
     "metadata": {},
     "output_type": "execute_result"
    }
   ],
   "source": [
    "# Fit model \n",
    "pipe_model.fit(X_train_balanced, y_train_balanced)"
   ]
  },
  {
   "cell_type": "code",
   "execution_count": 37,
   "metadata": {},
   "outputs": [],
   "source": [
    "#Make predictions\n",
    "y_pred_balanced = pipe_model.predict(X_test_balanced)"
   ]
  },
  {
   "cell_type": "code",
   "execution_count": 38,
   "metadata": {},
   "outputs": [
    {
     "name": "stdout",
     "output_type": "stream",
     "text": [
      "Confusion Matrix:\n",
      " [[150  60]\n",
      " [ 55 143]]\n"
     ]
    }
   ],
   "source": [
    "# confusion matrix for balanced dataset\n",
    "cm_bal = confusion_matrix(y_test_balanced, y_pred_balanced)\n",
    "print(\"Confusion Matrix:\\n\", cm_bal)"
   ]
  },
  {
   "cell_type": "code",
   "execution_count": 39,
   "metadata": {},
   "outputs": [
    {
     "name": "stdout",
     "output_type": "stream",
     "text": [
      "Accuracy: 71.81%\n",
      "Precision: 70.44%\n",
      "Recall: 72.22%\n",
      "F1 Score: 71.32%\n"
     ]
    }
   ],
   "source": [
    "accuracy = accuracy_score(y_test_balanced, y_pred_balanced)\n",
    "precision = precision_score(y_test_balanced, y_pred_balanced)\n",
    "recall = recall_score(y_test_balanced, y_pred_balanced)\n",
    "f1 = f1_score(y_test_balanced, y_pred_balanced)\n",
    "\n",
    "print(f'Accuracy: {accuracy*100:.2f}%')\n",
    "print(f\"Precision: {precision*100:.2f}%\")\n",
    "print(f\"Recall: {recall*100:.2f}%\")\n",
    "print(f\"F1 Score: {f1*100:.2f}%\")"
   ]
  },
  {
   "cell_type": "code",
   "execution_count": null,
   "metadata": {},
   "outputs": [],
   "source": []
  },
  {
   "cell_type": "code",
   "execution_count": null,
   "metadata": {},
   "outputs": [],
   "source": []
  },
  {
   "cell_type": "code",
   "execution_count": null,
   "metadata": {},
   "outputs": [],
   "source": []
  },
  {
   "cell_type": "code",
   "execution_count": null,
   "metadata": {},
   "outputs": [],
   "source": []
  }
 ],
 "metadata": {
  "kernelspec": {
   "display_name": "learn-env",
   "language": "python",
   "name": "python3"
  },
  "language_info": {
   "codemirror_mode": {
    "name": "ipython",
    "version": 3
   },
   "file_extension": ".py",
   "mimetype": "text/x-python",
   "name": "python",
   "nbconvert_exporter": "python",
   "pygments_lexer": "ipython3",
   "version": "3.8.5"
  }
 },
 "nbformat": 4,
 "nbformat_minor": 2
}
