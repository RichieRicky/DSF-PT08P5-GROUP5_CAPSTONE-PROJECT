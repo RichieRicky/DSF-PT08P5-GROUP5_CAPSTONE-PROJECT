{
 "cells": [
  {
   "cell_type": "markdown",
   "metadata": {},
   "source": [
    "## Introduction\n",
    "Human Immunodeficiency Virus (HIV) remains one of the most pressing global health challenges. Despite major advances in prevention and treatment, adolescent girls and young women (AGYW) continue to bear a disproportionate burden of new infections, especially in sub-Saharan Africa. Research shows that adolescent girls and Young women are at least twice as likely to acquire HIV compared to their male counterparts due to a mix of biological, socio-economic, and behavioral risk factors.\n",
    "\n",
    "The DREAMS program (Determined, Resilient, Empowered, AIDS-Free, Mentored, and Safe) was launched to reduce HIV infections among AGYW by addressing the structural drivers of HIV risk, including poverty, gender inequality, and violence. However, evaluating its effectiveness and identifying the most at-risk individuals remains a challenge.\n",
    "\n",
    "This project leverages data science methodologies to analyze the effectiveness of DREAMS interventions, identify patterns of risk, and evaluate program outcomes. By utilizing data from program implementation, surveys, and HIV incidence tracking, the study aims to provide insights into optimizing resource allocation, improving service delivery, and strengthening impact assessment.\n",
    "\n",
    "## Business Understanding\n",
    "The core objective of this project is to support evidence-based decision-making in public health by analyzing DREAMS program data. The business problem revolves around improving the targeting and effectiveness of interventions by identifying high-risk populations, measuring program reach, and assessing the correlation between intervention layering and HIV prevention outcomes.\n",
    "This project leverages data science to support public health organizations, policymakers, NGOs, and DREAMS program coordinators by providing data-driven insights to:\n",
    "- Predict HIV risk among AGYW based on demographics, behavior, and intervention exposure.\n",
    "- Identify key risk factors contributing to HIV vulnerability.\n",
    "- Assess the effectiveness of DREAMS interventions in reducing HIV risk.\n",
    "- Determine which interventions (biomedical, behavioral, social protection) have the most impact.\n",
    "\n",
    "By answering these questions, we aim to improve resource allocation, intervention targeting, and HIV prevention strategies, ensuring that support reaches the most vulnerable AGYW effectively.\n",
    "\n",
    "#### **Objectives:**\n",
    "\n",
    "This project aims to:\n",
    "- Develop a predictive model to estimate HIV risk among AGYW.\n",
    "- Analyze key factors influencing HIV risk through feature importance techniques.\n",
    "- Determine the most impactful interventions within the DREAMS framework.\n",
    "- Provide actionable insights to optimize HIV prevention efforts.\n",
    "\n"
   ]
  },
  {
   "cell_type": "markdown",
   "metadata": {},
   "source": [
    "## Data Understanding\n",
    "**1. Dataset Description**\n",
    "\n",
    "The dataset used in this project contains detailed demographic, behavioral, and intervention-related information on adolescent girls and young women (AGYW) participating in the DREAMS program. The data includes key indicators such as:\n",
    "\n",
    "- Demographic Information – Age, county, household structure, parental status.\n",
    "- Socioeconomic Status – Household size, food security, income sources.\n",
    "- Education & Behavior – School attendance, history of sexual activity, condom use.\n",
    "- HIV Testing & Status – HIV testing history, last test result.\n",
    "- DREAMS Program Participation – Interventions received (biomedical, behavioral, social protection).\n",
    "- Exit Status – Whether participants continued or exited the program and the reason for exiting.\n",
    "\n",
    "This dataset provides a comprehensive view of factors affecting HIV risk among AGYW, allowing for predictive modeling and impact evaluation.\n",
    "\n",
    "**2. Data Source**\n",
    "\n",
    "The dataset originates from the PEPFAR DREAMS Initiative, a global HIV prevention effort targeting AGYW. \n"
   ]
  },
  {
   "cell_type": "code",
   "execution_count": 7,
   "metadata": {},
   "outputs": [],
   "source": [
    "import pandas as pd\n",
    "import numpy as np\n",
    "import matplotlib.pyplot as plt\n",
    "import seaborn as sns\n",
    "\n",
    "from sklearn.model_selection import train_test_split\n",
    "from sklearn.linear_model import LinearRegression\n",
    "from sklearn.metrics import accuracy_score, f1_score, confusion_matrix, classification_report\n"
   ]
  }
 ],
 "metadata": {
  "kernelspec": {
   "display_name": "learn-env",
   "language": "python",
   "name": "python3"
  },
  "language_info": {
   "codemirror_mode": {
    "name": "ipython",
    "version": 3
   },
   "file_extension": ".py",
   "mimetype": "text/x-python",
   "name": "python",
   "nbconvert_exporter": "python",
   "pygments_lexer": "ipython3",
   "version": "3.8.5"
  }
 },
 "nbformat": 4,
 "nbformat_minor": 2
}
