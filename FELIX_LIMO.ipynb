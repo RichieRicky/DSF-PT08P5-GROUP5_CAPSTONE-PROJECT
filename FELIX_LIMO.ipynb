{
 "cells": [
  {
   "cell_type": "markdown",
   "metadata": {},
   "source": [
    "# HIV Risk Predictive Model"
   ]
  },
  {
   "cell_type": "markdown",
   "metadata": {},
   "source": [
    "# 1.0 Project Overview\n",
    "# 1.1 Introduction\n",
    "\n",
    "According to HIV & AIDS world outlook reports highlights HIV as the biggest global health issue with approximately 38 million infected worldwide(WHO(2020), UNAIDS(2020)).The disease mostly affects adolescent girls and young women (AGYW), who are at a higher risk of HIV infection due to a combination of biological, socio-economic, and behavioral factors (WHO(2020), UNAIDS(2019)).\n",
    "\n",
    "Regionally, sub-Saharan Africa is bearing the bulk of the epidemic and bears nearly 70% of the world's HIV cases (WHO(2020), UNAIDS(2019)).\n",
    "\n",
    "Locally in Kenya, HIV remains a significant public health issue among AGYW relative to their counterparts who are male. Structural impediments such as gender disparities, levels of poverty, and limited access to education and health care leave AGYW in some of the counties vulnerable to increased vulnerability (National AIDS Control Council, 2020; Ministry of Health Kenya, 2021). Despite interventions such as the Aid-Funded programs that seek to stem HIV infections by surmounting these structural drivers, the challenge of reaching high-risk groups and utilizing existing resources to the fullest for intervention still exists.This research will, therefore adopt Cross Industry Standard Procedures- Data Mining(CRISP-DM) methodology for the health industry.\n",
    "\n",
    "\n",
    "# 2.0 Business Understanding\n",
    "\n",
    "Health risks like the Human Immunodeficiency Virus (HIV) is still a major public health problem among adolescent girls and young women (AGYW) in Kenya. AGYW still carry an unbalanced burden of HIV despite the universal national and global campaigns, including the DREAMS program (Determined, Resilient, Empowered, AIDS-Free, Mentored, and Safe). AGYW have a greater risk of HIV infection than their male counterparts because of a mix of biological, socio-economic, and behavioral determinants(WHO(2020); https://www.who.int/news-room/fact-sheets/detail/adolescents-health-risks-and-solutions, UNAIDS(2019); https://www.unaids.org/sites/default/files/media_asset/2019-global-AIDS-update_en.pdf).\n",
    "\n",
    "In Kenya, counties vary in their socio-economic, cultural, and health environments. These are the determinants of HIV vulnerability, access to care, and success of interventions. Even with focused interventions, identifying those most vulnerable and effectively allocating resources to prevent infections is a challenge.\n",
    "\n",
    "The overall goal of this project is to establish a predictive model to assess HIV risk among AGYW based collected data from select counties. This model, data first problem, will identify individuals who are most at risk of acquiring HIV. The final model will help stakeholders to scale up to cover more counties, channel interventions more effectively and allocate funds more appropriately to those most at risk so that new HIV infection cases can be minimized in these societies."
   ]
  },
  {
   "cell_type": "markdown",
   "metadata": {},
   "source": [
    "# 3.0 Data Understanding\n",
    "\n",
    "## 3.1 Data Description\n",
    "The dataset used in this project contains detailed demographic, behavioral, and intervention-related information on adolescent girls and young women (AGYW) participating in the DREAMS program. The data includes key indicators such as:\n",
    "\n",
    "Demographic Information – Age, county, household structure, parental status.\n",
    "Socioeconomic Status – Household size, food security, income sources.\n",
    "Education & Behavior – School attendance, history of sexual activity, condom use.\n",
    "HIV Testing & Status – HIV testing history, last test result.\n",
    "DREAMS Program Participation – Interventions received (biomedical, behavioral, social protection).\n",
    "Exit Status – Whether participants continued or exited the program and the reason for exiting.\n",
    "This dataset provides a comprehensive view of factors affecting HIV risk among AGYW, allowing for predictive modeling and impact evaluation.\n",
    "\n",
    "## 3.2 Data Source\n",
    "The data is sourced from health related data records of aid-funded program (PEPFAR DREAMS program) in kenya on select counties."
   ]
  },
  {
   "cell_type": "markdown",
   "metadata": {},
   "source": [
    "## 3.3 Data loading and preview"
   ]
  },
  {
   "cell_type": "code",
   "execution_count": 104,
   "metadata": {},
   "outputs": [],
   "source": [
    "#Import relevant libraries\n",
    "import pandas as pd\n",
    "import numpy as np\n",
    "import seaborn as sns\n",
    "import matplotlib.pyplot as plt\n",
    "%matplotlib inline\n",
    "from scipy.stats import chi2_contingency\n",
    "import summarytools as st\n",
    "from sklearn.model_selection import train_test_split,GridSearchCV, RandomizedSearchCV\n",
    "from sklearn.pipeline import Pipeline\n",
    "from sklearn.impute import SimpleImputer\n",
    "from sklearn.preprocessing import StandardScaler, OneHotEncoder\n",
    "from sklearn.compose import ColumnTransformer\n",
    "from sklearn.linear_model import LogisticRegression\n",
    "from sklearn.ensemble import RandomForestClassifier\n",
    "from sklearn.metrics import accuracy_score, precision_score, recall_score, f1_score,confusion_matrix\n",
    "import warnings\n",
    "warnings.filterwarnings(\"ignore\")"
   ]
  },
  {
   "cell_type": "markdown",
   "metadata": {},
   "source": [
    "### Load dataset"
   ]
  },
  {
   "cell_type": "code",
   "execution_count": 105,
   "metadata": {},
   "outputs": [],
   "source": [
    "#Loading the dreams dataset\n",
    "df = pd.read_csv('./data/hiv_raw_dataset.csv')"
   ]
  },
  {
   "cell_type": "markdown",
   "metadata": {},
   "source": [
    "### Preview dataset"
   ]
  },
  {
   "cell_type": "code",
   "execution_count": 106,
   "metadata": {},
   "outputs": [
    {
     "data": {
      "text/html": [
       "<div>\n",
       "<style scoped>\n",
       "    .dataframe tbody tr th:only-of-type {\n",
       "        vertical-align: middle;\n",
       "    }\n",
       "\n",
       "    .dataframe tbody tr th {\n",
       "        vertical-align: top;\n",
       "    }\n",
       "\n",
       "    .dataframe thead th {\n",
       "        text-align: right;\n",
       "    }\n",
       "</style>\n",
       "<table border=\"1\" class=\"dataframe\">\n",
       "  <thead>\n",
       "    <tr style=\"text-align: right;\">\n",
       "      <th></th>\n",
       "      <th>date_of_birth</th>\n",
       "      <th>date_of_enrollment</th>\n",
       "      <th>county</th>\n",
       "      <th>head_of_household</th>\n",
       "      <th>head_of_household_other</th>\n",
       "      <th>age_of_household_head</th>\n",
       "      <th>father_alive</th>\n",
       "      <th>mother_alive</th>\n",
       "      <th>are_both_parents_alive</th>\n",
       "      <th>is_one_parent_alive</th>\n",
       "      <th>...</th>\n",
       "      <th>intervention_name</th>\n",
       "      <th>intervention_date</th>\n",
       "      <th>result</th>\n",
       "      <th>bio_medical</th>\n",
       "      <th>social_protection</th>\n",
       "      <th>behavioral</th>\n",
       "      <th>post_gbv_care</th>\n",
       "      <th>other_interventions</th>\n",
       "      <th>exit_age</th>\n",
       "      <th>exit_reason_other</th>\n",
       "    </tr>\n",
       "  </thead>\n",
       "  <tbody>\n",
       "    <tr>\n",
       "      <th>0</th>\n",
       "      <td>9/16/2004</td>\n",
       "      <td>2/22/2020</td>\n",
       "      <td>Nairobi</td>\n",
       "      <td>Mother</td>\n",
       "      <td>NaN</td>\n",
       "      <td>58.0</td>\n",
       "      <td>Yes</td>\n",
       "      <td>Yes</td>\n",
       "      <td>Yes</td>\n",
       "      <td>No</td>\n",
       "      <td>...</td>\n",
       "      <td>HTS - HTS (Client)</td>\n",
       "      <td>8/8/2020</td>\n",
       "      <td>Negative</td>\n",
       "      <td>1</td>\n",
       "      <td>1</td>\n",
       "      <td>1</td>\n",
       "      <td>0</td>\n",
       "      <td>0</td>\n",
       "      <td>NaN</td>\n",
       "      <td>NaN</td>\n",
       "    </tr>\n",
       "    <tr>\n",
       "      <th>1</th>\n",
       "      <td>8/2/2004</td>\n",
       "      <td>12/18/2019</td>\n",
       "      <td>Nairobi</td>\n",
       "      <td>Father</td>\n",
       "      <td>NaN</td>\n",
       "      <td>43.0</td>\n",
       "      <td>Yes</td>\n",
       "      <td>Yes</td>\n",
       "      <td>Yes</td>\n",
       "      <td>No</td>\n",
       "      <td>...</td>\n",
       "      <td>HTS - HTS (Client)</td>\n",
       "      <td>4/27/2020</td>\n",
       "      <td>Negative</td>\n",
       "      <td>1</td>\n",
       "      <td>1</td>\n",
       "      <td>1</td>\n",
       "      <td>0</td>\n",
       "      <td>0</td>\n",
       "      <td>NaN</td>\n",
       "      <td>NaN</td>\n",
       "    </tr>\n",
       "    <tr>\n",
       "      <th>2</th>\n",
       "      <td>10/20/2005</td>\n",
       "      <td>3/7/2020</td>\n",
       "      <td>Nairobi</td>\n",
       "      <td>Mother</td>\n",
       "      <td>NaN</td>\n",
       "      <td>41.0</td>\n",
       "      <td>No</td>\n",
       "      <td>Yes</td>\n",
       "      <td>No</td>\n",
       "      <td>Yes</td>\n",
       "      <td>...</td>\n",
       "      <td>HTS - HTS (Client)</td>\n",
       "      <td>8/12/2020</td>\n",
       "      <td>Negative</td>\n",
       "      <td>1</td>\n",
       "      <td>1</td>\n",
       "      <td>0</td>\n",
       "      <td>0</td>\n",
       "      <td>0</td>\n",
       "      <td>NaN</td>\n",
       "      <td>NaN</td>\n",
       "    </tr>\n",
       "    <tr>\n",
       "      <th>3</th>\n",
       "      <td>1/18/2006</td>\n",
       "      <td>3/3/2020</td>\n",
       "      <td>Nairobi</td>\n",
       "      <td>Mother</td>\n",
       "      <td>NaN</td>\n",
       "      <td>45.0</td>\n",
       "      <td>No</td>\n",
       "      <td>Yes</td>\n",
       "      <td>No</td>\n",
       "      <td>Yes</td>\n",
       "      <td>...</td>\n",
       "      <td>HTS - HTS (Client)</td>\n",
       "      <td>8/12/2020</td>\n",
       "      <td>Negative</td>\n",
       "      <td>1</td>\n",
       "      <td>1</td>\n",
       "      <td>1</td>\n",
       "      <td>0</td>\n",
       "      <td>0</td>\n",
       "      <td>NaN</td>\n",
       "      <td>NaN</td>\n",
       "    </tr>\n",
       "    <tr>\n",
       "      <th>4</th>\n",
       "      <td>3/22/2004</td>\n",
       "      <td>12/18/2019</td>\n",
       "      <td>Nairobi</td>\n",
       "      <td>Father</td>\n",
       "      <td>NaN</td>\n",
       "      <td>42.0</td>\n",
       "      <td>Yes</td>\n",
       "      <td>Yes</td>\n",
       "      <td>Yes</td>\n",
       "      <td>No</td>\n",
       "      <td>...</td>\n",
       "      <td>HTS - HTS (Client)</td>\n",
       "      <td>4/27/2020</td>\n",
       "      <td>Negative</td>\n",
       "      <td>1</td>\n",
       "      <td>1</td>\n",
       "      <td>1</td>\n",
       "      <td>0</td>\n",
       "      <td>0</td>\n",
       "      <td>NaN</td>\n",
       "      <td>NaN</td>\n",
       "    </tr>\n",
       "  </tbody>\n",
       "</table>\n",
       "<p>5 rows × 42 columns</p>\n",
       "</div>"
      ],
      "text/plain": [
       "  date_of_birth date_of_enrollment   county head_of_household  \\\n",
       "0     9/16/2004          2/22/2020  Nairobi            Mother   \n",
       "1      8/2/2004         12/18/2019  Nairobi            Father   \n",
       "2    10/20/2005           3/7/2020  Nairobi            Mother   \n",
       "3     1/18/2006           3/3/2020  Nairobi            Mother   \n",
       "4     3/22/2004         12/18/2019  Nairobi            Father   \n",
       "\n",
       "  head_of_household_other  age_of_household_head father_alive mother_alive  \\\n",
       "0                     NaN                   58.0          Yes          Yes   \n",
       "1                     NaN                   43.0          Yes          Yes   \n",
       "2                     NaN                   41.0           No          Yes   \n",
       "3                     NaN                   45.0           No          Yes   \n",
       "4                     NaN                   42.0          Yes          Yes   \n",
       "\n",
       "  are_both_parents_alive is_one_parent_alive  ...   intervention_name  \\\n",
       "0                    Yes                  No  ...  HTS - HTS (Client)   \n",
       "1                    Yes                  No  ...  HTS - HTS (Client)   \n",
       "2                     No                 Yes  ...  HTS - HTS (Client)   \n",
       "3                     No                 Yes  ...  HTS - HTS (Client)   \n",
       "4                    Yes                  No  ...  HTS - HTS (Client)   \n",
       "\n",
       "   intervention_date    result  bio_medical  social_protection  behavioral  \\\n",
       "0           8/8/2020  Negative            1                  1           1   \n",
       "1          4/27/2020  Negative            1                  1           1   \n",
       "2          8/12/2020  Negative            1                  1           0   \n",
       "3          8/12/2020  Negative            1                  1           1   \n",
       "4          4/27/2020  Negative            1                  1           1   \n",
       "\n",
       "  post_gbv_care other_interventions exit_age exit_reason_other  \n",
       "0             0                   0      NaN               NaN  \n",
       "1             0                   0      NaN               NaN  \n",
       "2             0                   0      NaN               NaN  \n",
       "3             0                   0      NaN               NaN  \n",
       "4             0                   0      NaN               NaN  \n",
       "\n",
       "[5 rows x 42 columns]"
      ]
     },
     "execution_count": 106,
     "metadata": {},
     "output_type": "execute_result"
    }
   ],
   "source": [
    "#Preview first five rows\n",
    "df.head()"
   ]
  },
  {
   "cell_type": "markdown",
   "metadata": {},
   "source": [
    "### Shape of the dataset"
   ]
  },
  {
   "cell_type": "code",
   "execution_count": 107,
   "metadata": {},
   "outputs": [
    {
     "name": "stdout",
     "output_type": "stream",
     "text": [
      "The dataset has 455807 rows and 42 columns\n"
     ]
    }
   ],
   "source": [
    "print(f\"The dataset has {df.shape[0]} rows and {df.shape[1]} columns\")"
   ]
  },
  {
   "cell_type": "code",
   "execution_count": 108,
   "metadata": {},
   "outputs": [
    {
     "data": {
      "text/plain": [
       "Index(['date_of_birth', 'date_of_enrollment', 'county', 'head_of_household',\n",
       "       'head_of_household_other', 'age_of_household_head', 'father_alive',\n",
       "       'mother_alive', 'are_both_parents_alive', 'is_one_parent_alive',\n",
       "       'parents_alive_status', 'no_of_people_in_household', 'no_of_females',\n",
       "       'no_of_males', 'no_of_adults', 'no_of_children',\n",
       "       'ever_missed_full_day_food_in_4wks', 'no_of_days_missed_food_in_4wks',\n",
       "       'currently_in_school', 'current_school_level', 'current_income_source',\n",
       "       'ever_tested_for_hiv', 'last_test_result', 'ever_had_sex',\n",
       "       'age_at_first_sexual_encounter', 'has_sexual_partner',\n",
       "       'age_of_last_partner', 'used_condom_with_last_partner',\n",
       "       'dreams_program', 'dreams_program_other', 'exit_status', 'exit_reason',\n",
       "       'intervention_name', 'intervention_date', 'result', 'bio_medical',\n",
       "       'social_protection', 'behavioral', 'post_gbv_care',\n",
       "       'other_interventions', 'exit_age', 'exit_reason_other'],\n",
       "      dtype='object')"
      ]
     },
     "execution_count": 108,
     "metadata": {},
     "output_type": "execute_result"
    }
   ],
   "source": [
    "df.columns"
   ]
  },
  {
   "cell_type": "code",
   "execution_count": 109,
   "metadata": {},
   "outputs": [
    {
     "data": {
      "text/html": [
       "<div>\n",
       "<style scoped>\n",
       "    .dataframe tbody tr th:only-of-type {\n",
       "        vertical-align: middle;\n",
       "    }\n",
       "\n",
       "    .dataframe tbody tr th {\n",
       "        vertical-align: top;\n",
       "    }\n",
       "\n",
       "    .dataframe thead th {\n",
       "        text-align: right;\n",
       "    }\n",
       "</style>\n",
       "<table border=\"1\" class=\"dataframe\">\n",
       "  <thead>\n",
       "    <tr style=\"text-align: right;\">\n",
       "      <th></th>\n",
       "      <th>date_of_birth</th>\n",
       "      <th>date_of_enrollment</th>\n",
       "      <th>county</th>\n",
       "      <th>head_of_household</th>\n",
       "      <th>head_of_household_other</th>\n",
       "      <th>age_of_household_head</th>\n",
       "      <th>father_alive</th>\n",
       "      <th>mother_alive</th>\n",
       "      <th>are_both_parents_alive</th>\n",
       "      <th>is_one_parent_alive</th>\n",
       "      <th>...</th>\n",
       "      <th>intervention_name</th>\n",
       "      <th>intervention_date</th>\n",
       "      <th>result</th>\n",
       "      <th>bio_medical</th>\n",
       "      <th>social_protection</th>\n",
       "      <th>behavioral</th>\n",
       "      <th>post_gbv_care</th>\n",
       "      <th>other_interventions</th>\n",
       "      <th>exit_age</th>\n",
       "      <th>exit_reason_other</th>\n",
       "    </tr>\n",
       "  </thead>\n",
       "  <tbody>\n",
       "    <tr>\n",
       "      <th>0</th>\n",
       "      <td>9/16/2004</td>\n",
       "      <td>2/22/2020</td>\n",
       "      <td>Nairobi</td>\n",
       "      <td>Mother</td>\n",
       "      <td>NaN</td>\n",
       "      <td>58.0</td>\n",
       "      <td>Yes</td>\n",
       "      <td>Yes</td>\n",
       "      <td>Yes</td>\n",
       "      <td>No</td>\n",
       "      <td>...</td>\n",
       "      <td>HTS - HTS (Client)</td>\n",
       "      <td>8/8/2020</td>\n",
       "      <td>Negative</td>\n",
       "      <td>1</td>\n",
       "      <td>1</td>\n",
       "      <td>1</td>\n",
       "      <td>0</td>\n",
       "      <td>0</td>\n",
       "      <td>NaN</td>\n",
       "      <td>NaN</td>\n",
       "    </tr>\n",
       "    <tr>\n",
       "      <th>1</th>\n",
       "      <td>8/2/2004</td>\n",
       "      <td>12/18/2019</td>\n",
       "      <td>Nairobi</td>\n",
       "      <td>Father</td>\n",
       "      <td>NaN</td>\n",
       "      <td>43.0</td>\n",
       "      <td>Yes</td>\n",
       "      <td>Yes</td>\n",
       "      <td>Yes</td>\n",
       "      <td>No</td>\n",
       "      <td>...</td>\n",
       "      <td>HTS - HTS (Client)</td>\n",
       "      <td>4/27/2020</td>\n",
       "      <td>Negative</td>\n",
       "      <td>1</td>\n",
       "      <td>1</td>\n",
       "      <td>1</td>\n",
       "      <td>0</td>\n",
       "      <td>0</td>\n",
       "      <td>NaN</td>\n",
       "      <td>NaN</td>\n",
       "    </tr>\n",
       "    <tr>\n",
       "      <th>2</th>\n",
       "      <td>10/20/2005</td>\n",
       "      <td>3/7/2020</td>\n",
       "      <td>Nairobi</td>\n",
       "      <td>Mother</td>\n",
       "      <td>NaN</td>\n",
       "      <td>41.0</td>\n",
       "      <td>No</td>\n",
       "      <td>Yes</td>\n",
       "      <td>No</td>\n",
       "      <td>Yes</td>\n",
       "      <td>...</td>\n",
       "      <td>HTS - HTS (Client)</td>\n",
       "      <td>8/12/2020</td>\n",
       "      <td>Negative</td>\n",
       "      <td>1</td>\n",
       "      <td>1</td>\n",
       "      <td>0</td>\n",
       "      <td>0</td>\n",
       "      <td>0</td>\n",
       "      <td>NaN</td>\n",
       "      <td>NaN</td>\n",
       "    </tr>\n",
       "    <tr>\n",
       "      <th>3</th>\n",
       "      <td>1/18/2006</td>\n",
       "      <td>3/3/2020</td>\n",
       "      <td>Nairobi</td>\n",
       "      <td>Mother</td>\n",
       "      <td>NaN</td>\n",
       "      <td>45.0</td>\n",
       "      <td>No</td>\n",
       "      <td>Yes</td>\n",
       "      <td>No</td>\n",
       "      <td>Yes</td>\n",
       "      <td>...</td>\n",
       "      <td>HTS - HTS (Client)</td>\n",
       "      <td>8/12/2020</td>\n",
       "      <td>Negative</td>\n",
       "      <td>1</td>\n",
       "      <td>1</td>\n",
       "      <td>1</td>\n",
       "      <td>0</td>\n",
       "      <td>0</td>\n",
       "      <td>NaN</td>\n",
       "      <td>NaN</td>\n",
       "    </tr>\n",
       "    <tr>\n",
       "      <th>4</th>\n",
       "      <td>3/22/2004</td>\n",
       "      <td>12/18/2019</td>\n",
       "      <td>Nairobi</td>\n",
       "      <td>Father</td>\n",
       "      <td>NaN</td>\n",
       "      <td>42.0</td>\n",
       "      <td>Yes</td>\n",
       "      <td>Yes</td>\n",
       "      <td>Yes</td>\n",
       "      <td>No</td>\n",
       "      <td>...</td>\n",
       "      <td>HTS - HTS (Client)</td>\n",
       "      <td>4/27/2020</td>\n",
       "      <td>Negative</td>\n",
       "      <td>1</td>\n",
       "      <td>1</td>\n",
       "      <td>1</td>\n",
       "      <td>0</td>\n",
       "      <td>0</td>\n",
       "      <td>NaN</td>\n",
       "      <td>NaN</td>\n",
       "    </tr>\n",
       "  </tbody>\n",
       "</table>\n",
       "<p>5 rows × 42 columns</p>\n",
       "</div>"
      ],
      "text/plain": [
       "  date_of_birth date_of_enrollment   county head_of_household  \\\n",
       "0     9/16/2004          2/22/2020  Nairobi            Mother   \n",
       "1      8/2/2004         12/18/2019  Nairobi            Father   \n",
       "2    10/20/2005           3/7/2020  Nairobi            Mother   \n",
       "3     1/18/2006           3/3/2020  Nairobi            Mother   \n",
       "4     3/22/2004         12/18/2019  Nairobi            Father   \n",
       "\n",
       "  head_of_household_other  age_of_household_head father_alive mother_alive  \\\n",
       "0                     NaN                   58.0          Yes          Yes   \n",
       "1                     NaN                   43.0          Yes          Yes   \n",
       "2                     NaN                   41.0           No          Yes   \n",
       "3                     NaN                   45.0           No          Yes   \n",
       "4                     NaN                   42.0          Yes          Yes   \n",
       "\n",
       "  are_both_parents_alive is_one_parent_alive  ...   intervention_name  \\\n",
       "0                    Yes                  No  ...  HTS - HTS (Client)   \n",
       "1                    Yes                  No  ...  HTS - HTS (Client)   \n",
       "2                     No                 Yes  ...  HTS - HTS (Client)   \n",
       "3                     No                 Yes  ...  HTS - HTS (Client)   \n",
       "4                    Yes                  No  ...  HTS - HTS (Client)   \n",
       "\n",
       "   intervention_date    result  bio_medical  social_protection  behavioral  \\\n",
       "0           8/8/2020  Negative            1                  1           1   \n",
       "1          4/27/2020  Negative            1                  1           1   \n",
       "2          8/12/2020  Negative            1                  1           0   \n",
       "3          8/12/2020  Negative            1                  1           1   \n",
       "4          4/27/2020  Negative            1                  1           1   \n",
       "\n",
       "  post_gbv_care other_interventions exit_age exit_reason_other  \n",
       "0             0                   0      NaN               NaN  \n",
       "1             0                   0      NaN               NaN  \n",
       "2             0                   0      NaN               NaN  \n",
       "3             0                   0      NaN               NaN  \n",
       "4             0                   0      NaN               NaN  \n",
       "\n",
       "[5 rows x 42 columns]"
      ]
     },
     "execution_count": 109,
     "metadata": {},
     "output_type": "execute_result"
    }
   ],
   "source": [
    "df.head()"
   ]
  },
  {
   "cell_type": "code",
   "execution_count": 110,
   "metadata": {},
   "outputs": [
    {
     "data": {
      "text/plain": [
       "result\n",
       "Negative    454788\n",
       "Positive      1019\n",
       "Name: count, dtype: int64"
      ]
     },
     "execution_count": 110,
     "metadata": {},
     "output_type": "execute_result"
    }
   ],
   "source": [
    "df['result'].value_counts()"
   ]
  },
  {
   "cell_type": "markdown",
   "metadata": {},
   "source": [
    "## 3.4 Problem Statement\n",
    "\n",
    "\n",
    "Kenyan adolescent girls and young women (AGYW) continue to be at increased risk of HIV infection due to both socio-economic, behavioral, and biological factors. Despite interventions from the government and other aid-funded programs, there is still a critical challenge in being able to identify with precision those at greatest risk and implementing interventions in the most targeted and effective manner. This study strives to develop a predictive model of the HIV risk of AGYW in selected Kenyan counties based on a range of demographic, socio-economic, and behavioral data. By following a data-first strategy, this research aspires to better understand drivers of HIV vulnerability and to maximize resource effectiveness for prevention. The analysis will use current data from AGYW to determine patterns and correlations that may be used to create more effective intervention approaches.\n",
    "\n",
    "## 3.4.1 Objective:\n",
    "The overall objective of this study is to create a prediction model that assesses the HIV risk among AGYW in Kenya, using health related data from focused counties."
   ]
  },
  {
   "cell_type": "markdown",
   "metadata": {},
   "source": [
    "## 3.4.2 Research Questions\n",
    "\n",
    "1. What demographic characteristics of AGYW are most closely associated with HIV risk?\n",
    "\n",
    "    a. What is the AGYW age distribution at enrollment?\n",
    "\n",
    "    b. What is the distribution of AGYW enrolled schooling status?\n",
    "\n",
    "\n",
    "2. What are demographic, geographic factors and socioeconomic status influence HIV risk for AGYW? \n",
    "\n",
    "    a. What effects do socioeconomic factors like food insecurity have on HIV vulnerability?\n",
    "\n",
    "    b. hat is the distribution AGYW enrolled in different counties and their HIV test results?\n",
    "\n",
    "    c. What is the distribution AGYW enrolled with positive HIV test results per age?\n",
    "\n",
    "3. What are the combined effects of a number of different factors (e.g., socio-economic, demographic, behavioral) on risk of HIV infection?\n",
    " a. How do number of people in the household, sexual behavior, and biomedical interventions affect HIV risk together?\n",
    " b. Which are the most relevant factors or sets of factors in association with HIV vulnerability?\n",
    " c. Which variables have maximum prediction power for determining HIV risk (outcome)?\n"
   ]
  },
  {
   "cell_type": "markdown",
   "metadata": {},
   "source": [
    "## 3.5 Metrics of Success"
   ]
  },
  {
   "cell_type": "code",
   "execution_count": null,
   "metadata": {},
   "outputs": [],
   "source": []
  },
  {
   "cell_type": "markdown",
   "metadata": {},
   "source": [
    "# 4.0 Data Preparation\n",
    "\n",
    "## 4.1 Data Cleaning\n",
    "\n",
    "This involves checking on data validity, accuracy, completeness, accuracy, consistency and uniformity. These will be carried out on the select datasets that are within the scope of reasearch."
   ]
  },
  {
   "cell_type": "markdown",
   "metadata": {},
   "source": [
    "### 4.1.1 Data completeness; Checking for missing values\n"
   ]
  },
  {
   "cell_type": "code",
   "execution_count": 111,
   "metadata": {},
   "outputs": [
    {
     "data": {
      "text/plain": [
       "Index(['date_of_birth', 'date_of_enrollment', 'county', 'head_of_household',\n",
       "       'head_of_household_other', 'age_of_household_head', 'father_alive',\n",
       "       'mother_alive', 'are_both_parents_alive', 'is_one_parent_alive',\n",
       "       'parents_alive_status', 'no_of_people_in_household', 'no_of_females',\n",
       "       'no_of_males', 'no_of_adults', 'no_of_children',\n",
       "       'ever_missed_full_day_food_in_4wks', 'no_of_days_missed_food_in_4wks',\n",
       "       'currently_in_school', 'current_school_level', 'current_income_source',\n",
       "       'ever_tested_for_hiv', 'last_test_result', 'ever_had_sex',\n",
       "       'age_at_first_sexual_encounter', 'has_sexual_partner',\n",
       "       'age_of_last_partner', 'used_condom_with_last_partner',\n",
       "       'dreams_program', 'dreams_program_other', 'exit_status', 'exit_reason',\n",
       "       'intervention_name', 'intervention_date', 'result', 'bio_medical',\n",
       "       'social_protection', 'behavioral', 'post_gbv_care',\n",
       "       'other_interventions', 'exit_age', 'exit_reason_other'],\n",
       "      dtype='object')"
      ]
     },
     "execution_count": 111,
     "metadata": {},
     "output_type": "execute_result"
    }
   ],
   "source": [
    "df.columns"
   ]
  },
  {
   "cell_type": "code",
   "execution_count": 112,
   "metadata": {},
   "outputs": [
    {
     "name": "stdout",
     "output_type": "stream",
     "text": [
      "Missing values in percentage for each column : \n",
      "head_of_household_other              98.692429\n",
      "dreams_program_other                 98.561233\n",
      "exit_reason_other                    94.362087\n",
      "dreams_program                       89.807309\n",
      "used_condom_with_last_partner        53.442575\n",
      "age_of_last_partner                  53.372370\n",
      "age_at_first_sexual_encounter        50.361447\n",
      "has_sexual_partner                   50.351574\n",
      "current_school_level                 44.068213\n",
      "no_of_days_missed_food_in_4wks       43.668482\n",
      "current_income_source                28.425189\n",
      "exit_reason                          15.326882\n",
      "exit_age                             15.080725\n",
      "parents_alive_status                 14.349056\n",
      "age_of_household_head                 4.611162\n",
      "father_alive                          2.941596\n",
      "mother_alive                          2.849232\n",
      "head_of_household                     2.109445\n",
      "county                                2.030684\n",
      "no_of_children                        1.705327\n",
      "ever_had_sex                          1.695235\n",
      "no_of_males                           1.685362\n",
      "no_of_adults                          1.640826\n",
      "no_of_females                         1.608576\n",
      "no_of_people_in_household             1.579616\n",
      "ever_missed_full_day_food_in_4wks     1.572376\n",
      "currently_in_school                   0.915519\n",
      "date_of_enrollment                    0.000219\n",
      "social_protection                     0.000000\n",
      "behavioral                            0.000000\n",
      "post_gbv_care                         0.000000\n",
      "other_interventions                   0.000000\n",
      "result                                0.000000\n",
      "bio_medical                           0.000000\n",
      "date_of_birth                         0.000000\n",
      "intervention_date                     0.000000\n",
      "intervention_name                     0.000000\n",
      "exit_status                           0.000000\n",
      "last_test_result                      0.000000\n",
      "is_one_parent_alive                   0.000000\n",
      "are_both_parents_alive                0.000000\n",
      "ever_tested_for_hiv                   0.000000\n",
      "dtype: float64\n"
     ]
    }
   ],
   "source": [
    "missing_values_in_percentage = (df.isna().sum()/ len(df)*100).sort_values(ascending=False)\n",
    "print(f\"Missing values in percentage for each column : \\n{missing_values_in_percentage}\")"
   ]
  },
  {
   "cell_type": "markdown",
   "metadata": {},
   "source": [
    "### Observations;\n",
    "* Some columns has significantly high percentage of missing values; above 80%, dropping these features may not be impactful"
   ]
  },
  {
   "cell_type": "code",
   "execution_count": 113,
   "metadata": {},
   "outputs": [],
   "source": [
    "#Drop features with above 80% of missing values\n",
    "df = df.drop(['head_of_household_other','dreams_program_other','exit_reason_other','dreams_program'], axis=1)"
   ]
  },
  {
   "cell_type": "code",
   "execution_count": 114,
   "metadata": {},
   "outputs": [
    {
     "name": "stdout",
     "output_type": "stream",
     "text": [
      "<class 'pandas.core.frame.DataFrame'>\n",
      "RangeIndex: 455807 entries, 0 to 455806\n",
      "Data columns (total 38 columns):\n",
      " #   Column                             Non-Null Count   Dtype  \n",
      "---  ------                             --------------   -----  \n",
      " 0   date_of_birth                      455807 non-null  object \n",
      " 1   date_of_enrollment                 455806 non-null  object \n",
      " 2   county                             446551 non-null  object \n",
      " 3   head_of_household                  446192 non-null  object \n",
      " 4   age_of_household_head              434789 non-null  float64\n",
      " 5   father_alive                       442399 non-null  object \n",
      " 6   mother_alive                       442820 non-null  object \n",
      " 7   are_both_parents_alive             455807 non-null  object \n",
      " 8   is_one_parent_alive                455807 non-null  object \n",
      " 9   parents_alive_status               390403 non-null  object \n",
      " 10  no_of_people_in_household          448607 non-null  float64\n",
      " 11  no_of_females                      448475 non-null  float64\n",
      " 12  no_of_males                        448125 non-null  float64\n",
      " 13  no_of_adults                       448328 non-null  float64\n",
      " 14  no_of_children                     448034 non-null  float64\n",
      " 15  ever_missed_full_day_food_in_4wks  448640 non-null  object \n",
      " 16  no_of_days_missed_food_in_4wks     256763 non-null  object \n",
      " 17  currently_in_school                451634 non-null  object \n",
      " 18  current_school_level               254941 non-null  object \n",
      " 19  current_income_source              326243 non-null  object \n",
      " 20  ever_tested_for_hiv                455807 non-null  object \n",
      " 21  last_test_result                   455807 non-null  object \n",
      " 22  ever_had_sex                       448080 non-null  object \n",
      " 23  age_at_first_sexual_encounter      226256 non-null  float64\n",
      " 24  has_sexual_partner                 226301 non-null  object \n",
      " 25  age_of_last_partner                212532 non-null  object \n",
      " 26  used_condom_with_last_partner      212212 non-null  object \n",
      " 27  exit_status                        455807 non-null  object \n",
      " 28  exit_reason                        385946 non-null  object \n",
      " 29  intervention_name                  455807 non-null  object \n",
      " 30  intervention_date                  455807 non-null  object \n",
      " 31  result                             455807 non-null  object \n",
      " 32  bio_medical                        455807 non-null  int64  \n",
      " 33  social_protection                  455807 non-null  int64  \n",
      " 34  behavioral                         455807 non-null  int64  \n",
      " 35  post_gbv_care                      455807 non-null  int64  \n",
      " 36  other_interventions                455807 non-null  int64  \n",
      " 37  exit_age                           387068 non-null  float64\n",
      "dtypes: float64(8), int64(5), object(25)\n",
      "memory usage: 132.1+ MB\n"
     ]
    }
   ],
   "source": [
    "df.info()"
   ]
  },
  {
   "cell_type": "code",
   "execution_count": 115,
   "metadata": {},
   "outputs": [],
   "source": [
    "# function to fill missing values with median for numerical features and mode for categorical features\n",
    "def impute(df):\n",
    "    # numerical features\n",
    "    numerical_features = df.select_dtypes(include=[np.number]).columns\n",
    "    for feature in numerical_features:\n",
    "        df[feature] = df[feature].fillna(df[feature].median())\n",
    "    \n",
    "    # categorical features\n",
    "    cat_features = df.select_dtypes(include=[object]).columns\n",
    "    for feature in cat_features:\n",
    "        df[feature] = df[feature].fillna(df[feature].mode()[0]) \n",
    "    \n",
    "    return df\n",
    "\n",
    "# fill missing values usng the function\n",
    "df_imputed = impute(df)"
   ]
  },
  {
   "cell_type": "code",
   "execution_count": 116,
   "metadata": {},
   "outputs": [
    {
     "name": "stdout",
     "output_type": "stream",
     "text": [
      "<class 'pandas.core.frame.DataFrame'>\n",
      "RangeIndex: 455807 entries, 0 to 455806\n",
      "Data columns (total 38 columns):\n",
      " #   Column                             Non-Null Count   Dtype  \n",
      "---  ------                             --------------   -----  \n",
      " 0   date_of_birth                      455807 non-null  object \n",
      " 1   date_of_enrollment                 455807 non-null  object \n",
      " 2   county                             455807 non-null  object \n",
      " 3   head_of_household                  455807 non-null  object \n",
      " 4   age_of_household_head              455807 non-null  float64\n",
      " 5   father_alive                       455807 non-null  object \n",
      " 6   mother_alive                       455807 non-null  object \n",
      " 7   are_both_parents_alive             455807 non-null  object \n",
      " 8   is_one_parent_alive                455807 non-null  object \n",
      " 9   parents_alive_status               455807 non-null  object \n",
      " 10  no_of_people_in_household          455807 non-null  float64\n",
      " 11  no_of_females                      455807 non-null  float64\n",
      " 12  no_of_males                        455807 non-null  float64\n",
      " 13  no_of_adults                       455807 non-null  float64\n",
      " 14  no_of_children                     455807 non-null  float64\n",
      " 15  ever_missed_full_day_food_in_4wks  455807 non-null  object \n",
      " 16  no_of_days_missed_food_in_4wks     455807 non-null  object \n",
      " 17  currently_in_school                455807 non-null  object \n",
      " 18  current_school_level               455807 non-null  object \n",
      " 19  current_income_source              455807 non-null  object \n",
      " 20  ever_tested_for_hiv                455807 non-null  object \n",
      " 21  last_test_result                   455807 non-null  object \n",
      " 22  ever_had_sex                       455807 non-null  object \n",
      " 23  age_at_first_sexual_encounter      455807 non-null  float64\n",
      " 24  has_sexual_partner                 455807 non-null  object \n",
      " 25  age_of_last_partner                455807 non-null  object \n",
      " 26  used_condom_with_last_partner      455807 non-null  object \n",
      " 27  exit_status                        455807 non-null  object \n",
      " 28  exit_reason                        455807 non-null  object \n",
      " 29  intervention_name                  455807 non-null  object \n",
      " 30  intervention_date                  455807 non-null  object \n",
      " 31  result                             455807 non-null  object \n",
      " 32  bio_medical                        455807 non-null  int64  \n",
      " 33  social_protection                  455807 non-null  int64  \n",
      " 34  behavioral                         455807 non-null  int64  \n",
      " 35  post_gbv_care                      455807 non-null  int64  \n",
      " 36  other_interventions                455807 non-null  int64  \n",
      " 37  exit_age                           455807 non-null  float64\n",
      "dtypes: float64(8), int64(5), object(25)\n",
      "memory usage: 132.1+ MB\n",
      "None\n"
     ]
    }
   ],
   "source": [
    "# Check imputed dataset info\n",
    "print(df_imputed.info())"
   ]
  },
  {
   "cell_type": "markdown",
   "metadata": {},
   "source": [
    "### 4.1.2  Validity check\n",
    "\n",
    "Checking irrelevant features and removing them; feature selection"
   ]
  },
  {
   "cell_type": "code",
   "execution_count": 117,
   "metadata": {},
   "outputs": [
    {
     "data": {
      "text/html": [
       "<div>\n",
       "<style scoped>\n",
       "    .dataframe tbody tr th:only-of-type {\n",
       "        vertical-align: middle;\n",
       "    }\n",
       "\n",
       "    .dataframe tbody tr th {\n",
       "        vertical-align: top;\n",
       "    }\n",
       "\n",
       "    .dataframe thead th {\n",
       "        text-align: right;\n",
       "    }\n",
       "</style>\n",
       "<table border=\"1\" class=\"dataframe\">\n",
       "  <thead>\n",
       "    <tr style=\"text-align: right;\">\n",
       "      <th></th>\n",
       "      <th>date_of_birth</th>\n",
       "      <th>date_of_enrollment</th>\n",
       "      <th>county</th>\n",
       "      <th>head_of_household</th>\n",
       "      <th>age_of_household_head</th>\n",
       "      <th>father_alive</th>\n",
       "      <th>mother_alive</th>\n",
       "      <th>are_both_parents_alive</th>\n",
       "      <th>is_one_parent_alive</th>\n",
       "      <th>parents_alive_status</th>\n",
       "      <th>...</th>\n",
       "      <th>exit_reason</th>\n",
       "      <th>intervention_name</th>\n",
       "      <th>intervention_date</th>\n",
       "      <th>result</th>\n",
       "      <th>bio_medical</th>\n",
       "      <th>social_protection</th>\n",
       "      <th>behavioral</th>\n",
       "      <th>post_gbv_care</th>\n",
       "      <th>other_interventions</th>\n",
       "      <th>exit_age</th>\n",
       "    </tr>\n",
       "  </thead>\n",
       "  <tbody>\n",
       "    <tr>\n",
       "      <th>0</th>\n",
       "      <td>9/16/2004</td>\n",
       "      <td>2/22/2020</td>\n",
       "      <td>Nairobi</td>\n",
       "      <td>Mother</td>\n",
       "      <td>58.0</td>\n",
       "      <td>Yes</td>\n",
       "      <td>Yes</td>\n",
       "      <td>Yes</td>\n",
       "      <td>No</td>\n",
       "      <td>Both</td>\n",
       "      <td>...</td>\n",
       "      <td>Graduation</td>\n",
       "      <td>HTS - HTS (Client)</td>\n",
       "      <td>8/8/2020</td>\n",
       "      <td>Negative</td>\n",
       "      <td>1</td>\n",
       "      <td>1</td>\n",
       "      <td>1</td>\n",
       "      <td>0</td>\n",
       "      <td>0</td>\n",
       "      <td>20.0</td>\n",
       "    </tr>\n",
       "    <tr>\n",
       "      <th>1</th>\n",
       "      <td>8/2/2004</td>\n",
       "      <td>12/18/2019</td>\n",
       "      <td>Nairobi</td>\n",
       "      <td>Father</td>\n",
       "      <td>43.0</td>\n",
       "      <td>Yes</td>\n",
       "      <td>Yes</td>\n",
       "      <td>Yes</td>\n",
       "      <td>No</td>\n",
       "      <td>Both</td>\n",
       "      <td>...</td>\n",
       "      <td>Graduation</td>\n",
       "      <td>HTS - HTS (Client)</td>\n",
       "      <td>4/27/2020</td>\n",
       "      <td>Negative</td>\n",
       "      <td>1</td>\n",
       "      <td>1</td>\n",
       "      <td>1</td>\n",
       "      <td>0</td>\n",
       "      <td>0</td>\n",
       "      <td>20.0</td>\n",
       "    </tr>\n",
       "    <tr>\n",
       "      <th>2</th>\n",
       "      <td>10/20/2005</td>\n",
       "      <td>3/7/2020</td>\n",
       "      <td>Nairobi</td>\n",
       "      <td>Mother</td>\n",
       "      <td>41.0</td>\n",
       "      <td>No</td>\n",
       "      <td>Yes</td>\n",
       "      <td>No</td>\n",
       "      <td>Yes</td>\n",
       "      <td>One</td>\n",
       "      <td>...</td>\n",
       "      <td>Graduation</td>\n",
       "      <td>HTS - HTS (Client)</td>\n",
       "      <td>8/12/2020</td>\n",
       "      <td>Negative</td>\n",
       "      <td>1</td>\n",
       "      <td>1</td>\n",
       "      <td>0</td>\n",
       "      <td>0</td>\n",
       "      <td>0</td>\n",
       "      <td>20.0</td>\n",
       "    </tr>\n",
       "    <tr>\n",
       "      <th>3</th>\n",
       "      <td>1/18/2006</td>\n",
       "      <td>3/3/2020</td>\n",
       "      <td>Nairobi</td>\n",
       "      <td>Mother</td>\n",
       "      <td>45.0</td>\n",
       "      <td>No</td>\n",
       "      <td>Yes</td>\n",
       "      <td>No</td>\n",
       "      <td>Yes</td>\n",
       "      <td>One</td>\n",
       "      <td>...</td>\n",
       "      <td>Graduation</td>\n",
       "      <td>HTS - HTS (Client)</td>\n",
       "      <td>8/12/2020</td>\n",
       "      <td>Negative</td>\n",
       "      <td>1</td>\n",
       "      <td>1</td>\n",
       "      <td>1</td>\n",
       "      <td>0</td>\n",
       "      <td>0</td>\n",
       "      <td>20.0</td>\n",
       "    </tr>\n",
       "    <tr>\n",
       "      <th>4</th>\n",
       "      <td>3/22/2004</td>\n",
       "      <td>12/18/2019</td>\n",
       "      <td>Nairobi</td>\n",
       "      <td>Father</td>\n",
       "      <td>42.0</td>\n",
       "      <td>Yes</td>\n",
       "      <td>Yes</td>\n",
       "      <td>Yes</td>\n",
       "      <td>No</td>\n",
       "      <td>Both</td>\n",
       "      <td>...</td>\n",
       "      <td>Graduation</td>\n",
       "      <td>HTS - HTS (Client)</td>\n",
       "      <td>4/27/2020</td>\n",
       "      <td>Negative</td>\n",
       "      <td>1</td>\n",
       "      <td>1</td>\n",
       "      <td>1</td>\n",
       "      <td>0</td>\n",
       "      <td>0</td>\n",
       "      <td>20.0</td>\n",
       "    </tr>\n",
       "  </tbody>\n",
       "</table>\n",
       "<p>5 rows × 38 columns</p>\n",
       "</div>"
      ],
      "text/plain": [
       "  date_of_birth date_of_enrollment   county head_of_household  \\\n",
       "0     9/16/2004          2/22/2020  Nairobi            Mother   \n",
       "1      8/2/2004         12/18/2019  Nairobi            Father   \n",
       "2    10/20/2005           3/7/2020  Nairobi            Mother   \n",
       "3     1/18/2006           3/3/2020  Nairobi            Mother   \n",
       "4     3/22/2004         12/18/2019  Nairobi            Father   \n",
       "\n",
       "   age_of_household_head father_alive mother_alive are_both_parents_alive  \\\n",
       "0                   58.0          Yes          Yes                    Yes   \n",
       "1                   43.0          Yes          Yes                    Yes   \n",
       "2                   41.0           No          Yes                     No   \n",
       "3                   45.0           No          Yes                     No   \n",
       "4                   42.0          Yes          Yes                    Yes   \n",
       "\n",
       "  is_one_parent_alive parents_alive_status  ...  exit_reason  \\\n",
       "0                  No                 Both  ...   Graduation   \n",
       "1                  No                 Both  ...   Graduation   \n",
       "2                 Yes                  One  ...   Graduation   \n",
       "3                 Yes                  One  ...   Graduation   \n",
       "4                  No                 Both  ...   Graduation   \n",
       "\n",
       "    intervention_name  intervention_date    result  bio_medical  \\\n",
       "0  HTS - HTS (Client)           8/8/2020  Negative            1   \n",
       "1  HTS - HTS (Client)          4/27/2020  Negative            1   \n",
       "2  HTS - HTS (Client)          8/12/2020  Negative            1   \n",
       "3  HTS - HTS (Client)          8/12/2020  Negative            1   \n",
       "4  HTS - HTS (Client)          4/27/2020  Negative            1   \n",
       "\n",
       "  social_protection behavioral post_gbv_care other_interventions exit_age  \n",
       "0                 1          1             0                   0     20.0  \n",
       "1                 1          1             0                   0     20.0  \n",
       "2                 1          0             0                   0     20.0  \n",
       "3                 1          1             0                   0     20.0  \n",
       "4                 1          1             0                   0     20.0  \n",
       "\n",
       "[5 rows x 38 columns]"
      ]
     },
     "execution_count": 117,
     "metadata": {},
     "output_type": "execute_result"
    }
   ],
   "source": [
    "df_imputed.head()"
   ]
  },
  {
   "cell_type": "code",
   "execution_count": 118,
   "metadata": {},
   "outputs": [
    {
     "data": {
      "text/plain": [
       "(455807, 38)"
      ]
     },
     "execution_count": 118,
     "metadata": {},
     "output_type": "execute_result"
    }
   ],
   "source": [
    "df_imputed.shape"
   ]
  },
  {
   "cell_type": "code",
   "execution_count": 119,
   "metadata": {},
   "outputs": [
    {
     "data": {
      "text/plain": [
       "Index(['date_of_birth', 'date_of_enrollment', 'county', 'head_of_household',\n",
       "       'age_of_household_head', 'father_alive', 'mother_alive',\n",
       "       'are_both_parents_alive', 'is_one_parent_alive', 'parents_alive_status',\n",
       "       'no_of_people_in_household', 'no_of_females', 'no_of_males',\n",
       "       'no_of_adults', 'no_of_children', 'ever_missed_full_day_food_in_4wks',\n",
       "       'no_of_days_missed_food_in_4wks', 'currently_in_school',\n",
       "       'current_school_level', 'current_income_source', 'ever_tested_for_hiv',\n",
       "       'last_test_result', 'ever_had_sex', 'age_at_first_sexual_encounter',\n",
       "       'has_sexual_partner', 'age_of_last_partner',\n",
       "       'used_condom_with_last_partner', 'exit_status', 'exit_reason',\n",
       "       'intervention_name', 'intervention_date', 'result', 'bio_medical',\n",
       "       'social_protection', 'behavioral', 'post_gbv_care',\n",
       "       'other_interventions', 'exit_age'],\n",
       "      dtype='object')"
      ]
     },
     "execution_count": 119,
     "metadata": {},
     "output_type": "execute_result"
    }
   ],
   "source": [
    "df_imputed.columns"
   ]
  },
  {
   "cell_type": "markdown",
   "metadata": {},
   "source": [
    "### Observations\n",
    "* Exit_status, exit_reason and exit age may not be predisposing or mitigating factors to HIV risk among AGYW enrolled in the program\n",
    "* Hence, dropping may not have negative impact on the dataset."
   ]
  },
  {
   "cell_type": "code",
   "execution_count": 120,
   "metadata": {},
   "outputs": [
    {
     "data": {
      "text/html": [
       "<div>\n",
       "<style scoped>\n",
       "    .dataframe tbody tr th:only-of-type {\n",
       "        vertical-align: middle;\n",
       "    }\n",
       "\n",
       "    .dataframe tbody tr th {\n",
       "        vertical-align: top;\n",
       "    }\n",
       "\n",
       "    .dataframe thead th {\n",
       "        text-align: right;\n",
       "    }\n",
       "</style>\n",
       "<table border=\"1\" class=\"dataframe\">\n",
       "  <thead>\n",
       "    <tr style=\"text-align: right;\">\n",
       "      <th></th>\n",
       "      <th>date_of_birth</th>\n",
       "      <th>date_of_enrollment</th>\n",
       "      <th>county</th>\n",
       "      <th>head_of_household</th>\n",
       "      <th>age_of_household_head</th>\n",
       "      <th>father_alive</th>\n",
       "      <th>mother_alive</th>\n",
       "      <th>are_both_parents_alive</th>\n",
       "      <th>no_of_people_in_household</th>\n",
       "      <th>no_of_adults</th>\n",
       "      <th>...</th>\n",
       "      <th>age_of_last_partner</th>\n",
       "      <th>used_condom_with_last_partner</th>\n",
       "      <th>exit_status</th>\n",
       "      <th>exit_reason</th>\n",
       "      <th>result</th>\n",
       "      <th>bio_medical</th>\n",
       "      <th>social_protection</th>\n",
       "      <th>behavioral</th>\n",
       "      <th>post_gbv_care</th>\n",
       "      <th>other_interventions</th>\n",
       "    </tr>\n",
       "  </thead>\n",
       "  <tbody>\n",
       "    <tr>\n",
       "      <th>0</th>\n",
       "      <td>9/16/2004</td>\n",
       "      <td>2/22/2020</td>\n",
       "      <td>Nairobi</td>\n",
       "      <td>Mother</td>\n",
       "      <td>58.0</td>\n",
       "      <td>Yes</td>\n",
       "      <td>Yes</td>\n",
       "      <td>Yes</td>\n",
       "      <td>6.0</td>\n",
       "      <td>2.0</td>\n",
       "      <td>...</td>\n",
       "      <td>Older</td>\n",
       "      <td>Sometimes</td>\n",
       "      <td>No</td>\n",
       "      <td>Graduation</td>\n",
       "      <td>Negative</td>\n",
       "      <td>1</td>\n",
       "      <td>1</td>\n",
       "      <td>1</td>\n",
       "      <td>0</td>\n",
       "      <td>0</td>\n",
       "    </tr>\n",
       "    <tr>\n",
       "      <th>1</th>\n",
       "      <td>8/2/2004</td>\n",
       "      <td>12/18/2019</td>\n",
       "      <td>Nairobi</td>\n",
       "      <td>Father</td>\n",
       "      <td>43.0</td>\n",
       "      <td>Yes</td>\n",
       "      <td>Yes</td>\n",
       "      <td>Yes</td>\n",
       "      <td>6.0</td>\n",
       "      <td>2.0</td>\n",
       "      <td>...</td>\n",
       "      <td>Older</td>\n",
       "      <td>Sometimes</td>\n",
       "      <td>No</td>\n",
       "      <td>Graduation</td>\n",
       "      <td>Negative</td>\n",
       "      <td>1</td>\n",
       "      <td>1</td>\n",
       "      <td>1</td>\n",
       "      <td>0</td>\n",
       "      <td>0</td>\n",
       "    </tr>\n",
       "    <tr>\n",
       "      <th>2</th>\n",
       "      <td>10/20/2005</td>\n",
       "      <td>3/7/2020</td>\n",
       "      <td>Nairobi</td>\n",
       "      <td>Mother</td>\n",
       "      <td>41.0</td>\n",
       "      <td>No</td>\n",
       "      <td>Yes</td>\n",
       "      <td>No</td>\n",
       "      <td>5.0</td>\n",
       "      <td>2.0</td>\n",
       "      <td>...</td>\n",
       "      <td>Older</td>\n",
       "      <td>Sometimes</td>\n",
       "      <td>No</td>\n",
       "      <td>Graduation</td>\n",
       "      <td>Negative</td>\n",
       "      <td>1</td>\n",
       "      <td>1</td>\n",
       "      <td>0</td>\n",
       "      <td>0</td>\n",
       "      <td>0</td>\n",
       "    </tr>\n",
       "    <tr>\n",
       "      <th>3</th>\n",
       "      <td>1/18/2006</td>\n",
       "      <td>3/3/2020</td>\n",
       "      <td>Nairobi</td>\n",
       "      <td>Mother</td>\n",
       "      <td>45.0</td>\n",
       "      <td>No</td>\n",
       "      <td>Yes</td>\n",
       "      <td>No</td>\n",
       "      <td>5.0</td>\n",
       "      <td>1.0</td>\n",
       "      <td>...</td>\n",
       "      <td>Older</td>\n",
       "      <td>Sometimes</td>\n",
       "      <td>No</td>\n",
       "      <td>Graduation</td>\n",
       "      <td>Negative</td>\n",
       "      <td>1</td>\n",
       "      <td>1</td>\n",
       "      <td>1</td>\n",
       "      <td>0</td>\n",
       "      <td>0</td>\n",
       "    </tr>\n",
       "    <tr>\n",
       "      <th>4</th>\n",
       "      <td>3/22/2004</td>\n",
       "      <td>12/18/2019</td>\n",
       "      <td>Nairobi</td>\n",
       "      <td>Father</td>\n",
       "      <td>42.0</td>\n",
       "      <td>Yes</td>\n",
       "      <td>Yes</td>\n",
       "      <td>Yes</td>\n",
       "      <td>5.0</td>\n",
       "      <td>3.0</td>\n",
       "      <td>...</td>\n",
       "      <td>Older</td>\n",
       "      <td>Sometimes</td>\n",
       "      <td>No</td>\n",
       "      <td>Graduation</td>\n",
       "      <td>Negative</td>\n",
       "      <td>1</td>\n",
       "      <td>1</td>\n",
       "      <td>1</td>\n",
       "      <td>0</td>\n",
       "      <td>0</td>\n",
       "    </tr>\n",
       "  </tbody>\n",
       "</table>\n",
       "<p>5 rows × 30 columns</p>\n",
       "</div>"
      ],
      "text/plain": [
       "  date_of_birth date_of_enrollment   county head_of_household  \\\n",
       "0     9/16/2004          2/22/2020  Nairobi            Mother   \n",
       "1      8/2/2004         12/18/2019  Nairobi            Father   \n",
       "2    10/20/2005           3/7/2020  Nairobi            Mother   \n",
       "3     1/18/2006           3/3/2020  Nairobi            Mother   \n",
       "4     3/22/2004         12/18/2019  Nairobi            Father   \n",
       "\n",
       "   age_of_household_head father_alive mother_alive are_both_parents_alive  \\\n",
       "0                   58.0          Yes          Yes                    Yes   \n",
       "1                   43.0          Yes          Yes                    Yes   \n",
       "2                   41.0           No          Yes                     No   \n",
       "3                   45.0           No          Yes                     No   \n",
       "4                   42.0          Yes          Yes                    Yes   \n",
       "\n",
       "   no_of_people_in_household  no_of_adults  ...  age_of_last_partner  \\\n",
       "0                        6.0           2.0  ...                Older   \n",
       "1                        6.0           2.0  ...                Older   \n",
       "2                        5.0           2.0  ...                Older   \n",
       "3                        5.0           1.0  ...                Older   \n",
       "4                        5.0           3.0  ...                Older   \n",
       "\n",
       "  used_condom_with_last_partner exit_status exit_reason    result bio_medical  \\\n",
       "0                     Sometimes          No  Graduation  Negative           1   \n",
       "1                     Sometimes          No  Graduation  Negative           1   \n",
       "2                     Sometimes          No  Graduation  Negative           1   \n",
       "3                     Sometimes          No  Graduation  Negative           1   \n",
       "4                     Sometimes          No  Graduation  Negative           1   \n",
       "\n",
       "  social_protection behavioral  post_gbv_care other_interventions  \n",
       "0                 1          1              0                   0  \n",
       "1                 1          1              0                   0  \n",
       "2                 1          0              0                   0  \n",
       "3                 1          1              0                   0  \n",
       "4                 1          1              0                   0  \n",
       "\n",
       "[5 rows x 30 columns]"
      ]
     },
     "execution_count": 120,
     "metadata": {},
     "output_type": "execute_result"
    }
   ],
   "source": [
    "df_imputed = df_imputed.drop(['is_one_parent_alive',\n",
    "                              'parents_alive_status',\n",
    "                              'no_of_females',\n",
    "                              'no_of_males',\n",
    "                              'ever_tested_for_hiv', \n",
    "                              'intervention_name',\n",
    "                              'intervention_date',\n",
    "                              'exit_age', \n",
    "                              ], axis=1)\n",
    "df_imputed.head()"
   ]
  },
  {
   "cell_type": "code",
   "execution_count": 121,
   "metadata": {},
   "outputs": [
    {
     "data": {
      "text/plain": [
       "(455807, 30)"
      ]
     },
     "execution_count": 121,
     "metadata": {},
     "output_type": "execute_result"
    }
   ],
   "source": [
    "df_imputed.shape"
   ]
  },
  {
   "cell_type": "code",
   "execution_count": 122,
   "metadata": {},
   "outputs": [
    {
     "data": {
      "text/html": [
       "<div>\n",
       "<style scoped>\n",
       "    .dataframe tbody tr th:only-of-type {\n",
       "        vertical-align: middle;\n",
       "    }\n",
       "\n",
       "    .dataframe tbody tr th {\n",
       "        vertical-align: top;\n",
       "    }\n",
       "\n",
       "    .dataframe thead th {\n",
       "        text-align: right;\n",
       "    }\n",
       "</style>\n",
       "<table border=\"1\" class=\"dataframe\">\n",
       "  <thead>\n",
       "    <tr style=\"text-align: right;\">\n",
       "      <th></th>\n",
       "      <th>count</th>\n",
       "      <th>mean</th>\n",
       "      <th>std</th>\n",
       "      <th>min</th>\n",
       "      <th>25%</th>\n",
       "      <th>50%</th>\n",
       "      <th>75%</th>\n",
       "      <th>max</th>\n",
       "    </tr>\n",
       "  </thead>\n",
       "  <tbody>\n",
       "    <tr>\n",
       "      <th>age_of_household_head</th>\n",
       "      <td>455807.0</td>\n",
       "      <td>1980.867203</td>\n",
       "      <td>1.080943e+06</td>\n",
       "      <td>-48.0</td>\n",
       "      <td>34.0</td>\n",
       "      <td>42.0</td>\n",
       "      <td>50.0</td>\n",
       "      <td>727284575.0</td>\n",
       "    </tr>\n",
       "    <tr>\n",
       "      <th>no_of_people_in_household</th>\n",
       "      <td>455807.0</td>\n",
       "      <td>5.778117</td>\n",
       "      <td>3.806897e+00</td>\n",
       "      <td>0.0</td>\n",
       "      <td>4.0</td>\n",
       "      <td>6.0</td>\n",
       "      <td>7.0</td>\n",
       "      <td>356.0</td>\n",
       "    </tr>\n",
       "    <tr>\n",
       "      <th>no_of_adults</th>\n",
       "      <td>455807.0</td>\n",
       "      <td>2.484201</td>\n",
       "      <td>1.286409e+00</td>\n",
       "      <td>0.0</td>\n",
       "      <td>2.0</td>\n",
       "      <td>2.0</td>\n",
       "      <td>3.0</td>\n",
       "      <td>77.0</td>\n",
       "    </tr>\n",
       "    <tr>\n",
       "      <th>no_of_children</th>\n",
       "      <td>455807.0</td>\n",
       "      <td>3.278287</td>\n",
       "      <td>3.403991e+00</td>\n",
       "      <td>0.0</td>\n",
       "      <td>2.0</td>\n",
       "      <td>3.0</td>\n",
       "      <td>4.0</td>\n",
       "      <td>328.0</td>\n",
       "    </tr>\n",
       "    <tr>\n",
       "      <th>age_at_first_sexual_encounter</th>\n",
       "      <td>455807.0</td>\n",
       "      <td>16.891472</td>\n",
       "      <td>1.478979e+01</td>\n",
       "      <td>0.0</td>\n",
       "      <td>17.0</td>\n",
       "      <td>17.0</td>\n",
       "      <td>17.0</td>\n",
       "      <td>4118.0</td>\n",
       "    </tr>\n",
       "    <tr>\n",
       "      <th>bio_medical</th>\n",
       "      <td>455807.0</td>\n",
       "      <td>0.990619</td>\n",
       "      <td>9.640113e-02</td>\n",
       "      <td>0.0</td>\n",
       "      <td>1.0</td>\n",
       "      <td>1.0</td>\n",
       "      <td>1.0</td>\n",
       "      <td>1.0</td>\n",
       "    </tr>\n",
       "    <tr>\n",
       "      <th>social_protection</th>\n",
       "      <td>455807.0</td>\n",
       "      <td>0.988105</td>\n",
       "      <td>1.084155e-01</td>\n",
       "      <td>0.0</td>\n",
       "      <td>1.0</td>\n",
       "      <td>1.0</td>\n",
       "      <td>1.0</td>\n",
       "      <td>1.0</td>\n",
       "    </tr>\n",
       "    <tr>\n",
       "      <th>behavioral</th>\n",
       "      <td>455807.0</td>\n",
       "      <td>0.882301</td>\n",
       "      <td>3.222517e-01</td>\n",
       "      <td>0.0</td>\n",
       "      <td>1.0</td>\n",
       "      <td>1.0</td>\n",
       "      <td>1.0</td>\n",
       "      <td>1.0</td>\n",
       "    </tr>\n",
       "    <tr>\n",
       "      <th>post_gbv_care</th>\n",
       "      <td>455807.0</td>\n",
       "      <td>0.193387</td>\n",
       "      <td>3.949539e-01</td>\n",
       "      <td>0.0</td>\n",
       "      <td>0.0</td>\n",
       "      <td>0.0</td>\n",
       "      <td>0.0</td>\n",
       "      <td>1.0</td>\n",
       "    </tr>\n",
       "    <tr>\n",
       "      <th>other_interventions</th>\n",
       "      <td>455807.0</td>\n",
       "      <td>0.061107</td>\n",
       "      <td>2.395267e-01</td>\n",
       "      <td>0.0</td>\n",
       "      <td>0.0</td>\n",
       "      <td>0.0</td>\n",
       "      <td>0.0</td>\n",
       "      <td>1.0</td>\n",
       "    </tr>\n",
       "  </tbody>\n",
       "</table>\n",
       "</div>"
      ],
      "text/plain": [
       "                                  count         mean           std   min  \\\n",
       "age_of_household_head          455807.0  1980.867203  1.080943e+06 -48.0   \n",
       "no_of_people_in_household      455807.0     5.778117  3.806897e+00   0.0   \n",
       "no_of_adults                   455807.0     2.484201  1.286409e+00   0.0   \n",
       "no_of_children                 455807.0     3.278287  3.403991e+00   0.0   \n",
       "age_at_first_sexual_encounter  455807.0    16.891472  1.478979e+01   0.0   \n",
       "bio_medical                    455807.0     0.990619  9.640113e-02   0.0   \n",
       "social_protection              455807.0     0.988105  1.084155e-01   0.0   \n",
       "behavioral                     455807.0     0.882301  3.222517e-01   0.0   \n",
       "post_gbv_care                  455807.0     0.193387  3.949539e-01   0.0   \n",
       "other_interventions            455807.0     0.061107  2.395267e-01   0.0   \n",
       "\n",
       "                                25%   50%   75%          max  \n",
       "age_of_household_head          34.0  42.0  50.0  727284575.0  \n",
       "no_of_people_in_household       4.0   6.0   7.0        356.0  \n",
       "no_of_adults                    2.0   2.0   3.0         77.0  \n",
       "no_of_children                  2.0   3.0   4.0        328.0  \n",
       "age_at_first_sexual_encounter  17.0  17.0  17.0       4118.0  \n",
       "bio_medical                     1.0   1.0   1.0          1.0  \n",
       "social_protection               1.0   1.0   1.0          1.0  \n",
       "behavioral                      1.0   1.0   1.0          1.0  \n",
       "post_gbv_care                   0.0   0.0   0.0          1.0  \n",
       "other_interventions             0.0   0.0   0.0          1.0  "
      ]
     },
     "execution_count": 122,
     "metadata": {},
     "output_type": "execute_result"
    }
   ],
   "source": [
    "df_imputed.describe().T"
   ]
  },
  {
   "cell_type": "code",
   "execution_count": 123,
   "metadata": {},
   "outputs": [
    {
     "data": {
      "text/plain": [
       "age_at_first_sexual_encounter\n",
       "17.0    265921\n",
       "18.0     40841\n",
       "16.0     35638\n",
       "15.0     35195\n",
       "19.0     20018\n",
       "14.0     17908\n",
       "20.0     15189\n",
       "13.0      8176\n",
       "12.0      4837\n",
       "21.0      4348\n",
       "22.0      2219\n",
       "1.0       1437\n",
       "10.0      1127\n",
       "11.0       851\n",
       "23.0       763\n",
       "9.0        258\n",
       "2.0        192\n",
       "24.0       138\n",
       "8.0        132\n",
       "7.0         81\n",
       "Name: count, dtype: int64"
      ]
     },
     "execution_count": 123,
     "metadata": {},
     "output_type": "execute_result"
    }
   ],
   "source": [
    "df_imputed['age_at_first_sexual_encounter'].value_counts().sort_values(ascending=False).head(20)"
   ]
  },
  {
   "cell_type": "markdown",
   "metadata": {},
   "source": [
    "### The age of the household could not be a negative age, ideally would be from the age of youngest AGYW enrolled and the oldest at 120 years maximum for grandparents being head of the household"
   ]
  },
  {
   "cell_type": "code",
   "execution_count": 131,
   "metadata": {},
   "outputs": [],
   "source": [
    "df_1 = df_imputed#[(df_imputed['age_of_household_head'] > 9) & (df_imputed['age_of_household_head'] < 120)]"
   ]
  },
  {
   "cell_type": "code",
   "execution_count": 132,
   "metadata": {},
   "outputs": [
    {
     "data": {
      "text/plain": [
       "(455807, 30)"
      ]
     },
     "execution_count": 132,
     "metadata": {},
     "output_type": "execute_result"
    }
   ],
   "source": [
    "df_1.shape"
   ]
  },
  {
   "cell_type": "code",
   "execution_count": 133,
   "metadata": {},
   "outputs": [
    {
     "data": {
      "text/plain": [
       "727284575.0"
      ]
     },
     "execution_count": 133,
     "metadata": {},
     "output_type": "execute_result"
    }
   ],
   "source": [
    "df_1['age_of_household_head'].max()"
   ]
  },
  {
   "cell_type": "markdown",
   "metadata": {},
   "source": [
    "### 4.1.3 Data accuracy\n",
    "Checking for outlier values in the data that distorts its accuracy. This is mitigated by drop/removing outliers"
   ]
  },
  {
   "cell_type": "code",
   "execution_count": 134,
   "metadata": {},
   "outputs": [
    {
     "data": {
      "image/png": "[encoded data removed]",
      "text/plain": [
       "<Figure size 1000x600 with 1 Axes>"
      ]
     },
     "metadata": {},
     "output_type": "display_data"
    },
    {
     "data": {
      "image/png": "[encoded data removed]",
      "text/plain": [
       "<Figure size 1000x600 with 1 Axes>"
      ]
     },
     "metadata": {},
     "output_type": "display_data"
    },
    {
     "data": {
      "image/png": "[encoded data removed]",
      "text/plain": [
       "<Figure size 1000x600 with 1 Axes>"
      ]
     },
     "metadata": {},
     "output_type": "display_data"
    },
    {
     "data": {
      "image/png": "[encoded data removed]",
      "text/plain": [
       "<Figure size 1000x600 with 1 Axes>"
      ]
     },
     "metadata": {},
     "output_type": "display_data"
    },
    {
     "data": {
      "image/png": "[encoded data removed]",
      "text/plain": [
       "<Figure size 1000x600 with 1 Axes>"
      ]
     },
     "metadata": {},
     "output_type": "display_data"
    },
    {
     "data": {
      "image/png": "[encoded data removed]",
      "text/plain": [
       "<Figure size 1000x600 with 1 Axes>"
      ]
     },
     "metadata": {},
     "output_type": "display_data"
    },
    {
     "data": {
      "image/png": "[encoded data removed]",
      "text/plain": [
       "<Figure size 1000x600 with 1 Axes>"
      ]
     },
     "metadata": {},
     "output_type": "display_data"
    },
    {
     "data": {
      "image/png": "[encoded data removed]",
      "text/plain": [
       "<Figure size 1000x600 with 1 Axes>"
      ]
     },
     "metadata": {},
     "output_type": "display_data"
    },
    {
     "data": {
      "image/png": "[encoded data removed]",
      "text/plain": [
       "<Figure size 1000x600 with 1 Axes>"
      ]
     },
     "metadata": {},
     "output_type": "display_data"
    },
    {
     "data": {
      "image/png": "[encoded data removed]",
      "text/plain": [
       "<Figure size 1000x600 with 1 Axes>"
      ]
     },
     "metadata": {},
     "output_type": "display_data"
    }
   ],
   "source": [
    "# Check for outliers using boxplot visuals\n",
    "numerical_features = df_1.select_dtypes(include=['number']).columns\n",
    "\n",
    "# Loop through each numerical feature to create a boxplot\n",
    "for feature in numerical_features:\n",
    "    plt.figure(figsize = (10, 6))\n",
    "    \n",
    "    # Create the boxplot for the feature\n",
    "    sns.boxplot(x = df_1[feature])\n",
    "\n",
    "    # Set the title and axis labels\n",
    "    plt.title(f'{feature} Outliers'.title(), size=14, color='blue', weight='bold')\n",
    "    plt.xlabel(feature.title(), size=14, color='blue', weight='bold')\n",
    "    \n",
    "    # Show the plot\n",
    "    plt.show()\n"
   ]
  },
  {
   "cell_type": "markdown",
   "metadata": {},
   "source": [
    "### Filter outliers and replace with median value"
   ]
  },
  {
   "cell_type": "code",
   "execution_count": 136,
   "metadata": {},
   "outputs": [],
   "source": [
    "#Function to filter outliers in select features  and replace with median except those with boolen values(0 and 1)\n",
    "def filter_outliers(df):\n",
    "    # List of columns to filter outliers\n",
    "    columns_to_filter = ['no_of_people_in_household', \n",
    "                         'no_of_adults', \n",
    "                         'no_of_children',\n",
    "                         'age_of_household_head']\n",
    "\n",
    "    for column in columns_to_filter:\n",
    "\n",
    "        if column in df.columns:\n",
    "\n",
    "            #calculate quantiles(1st and 3rd) and interquarterly range\n",
    "            Q1 = np.quantile(df[column], 0.25)\n",
    "            Q3 = np.quantile(df[column], 0.75)\n",
    "            IQR = Q3 - Q1\n",
    "            #Lower and upper limits\n",
    "            lower_limit = Q1 - 1.5*IQR\n",
    "            upper_limit = Q3 + 1.5*IQR\n",
    "\n",
    "            #Meadian value\n",
    "            median_value = df[column].median()\n",
    "\n",
    "            #Replace outliers\n",
    "            df[column] = df[column].apply(lambda x: median_value if x < lower_limit or x > upper_limit else x)\n",
    "\n",
    "    return df"
   ]
  },
  {
   "cell_type": "code",
   "execution_count": 137,
   "metadata": {},
   "outputs": [],
   "source": [
    "filtered_df = filter_outliers(df_1)"
   ]
  },
  {
   "cell_type": "code",
   "execution_count": 138,
   "metadata": {},
   "outputs": [],
   "source": [
    "# Age at first sexual encounter values recorded as mixture of age and year\n",
    "#Since values recorded as year are few, replacing them with median age\n",
    "median_age = filtered_df['age_at_first_sexual_encounter'].median()\n",
    "\n",
    "# Replace values greater than 25 with the median\n",
    "filtered_df.loc[filtered_df['age_at_first_sexual_encounter'] > 25, 'age_at_first_sexual_encounter'] = median_age"
   ]
  },
  {
   "cell_type": "code",
   "execution_count": 139,
   "metadata": {},
   "outputs": [
    {
     "data": {
      "text/html": [
       "<div>\n",
       "<style scoped>\n",
       "    .dataframe tbody tr th:only-of-type {\n",
       "        vertical-align: middle;\n",
       "    }\n",
       "\n",
       "    .dataframe tbody tr th {\n",
       "        vertical-align: top;\n",
       "    }\n",
       "\n",
       "    .dataframe thead th {\n",
       "        text-align: right;\n",
       "    }\n",
       "</style>\n",
       "<table border=\"1\" class=\"dataframe\">\n",
       "  <thead>\n",
       "    <tr style=\"text-align: right;\">\n",
       "      <th></th>\n",
       "      <th>count</th>\n",
       "      <th>mean</th>\n",
       "      <th>std</th>\n",
       "      <th>min</th>\n",
       "      <th>25%</th>\n",
       "      <th>50%</th>\n",
       "      <th>75%</th>\n",
       "      <th>max</th>\n",
       "    </tr>\n",
       "  </thead>\n",
       "  <tbody>\n",
       "    <tr>\n",
       "      <th>age_of_household_head</th>\n",
       "      <td>455807.0</td>\n",
       "      <td>42.023297</td>\n",
       "      <td>11.618914</td>\n",
       "      <td>10.0</td>\n",
       "      <td>34.0</td>\n",
       "      <td>42.0</td>\n",
       "      <td>50.0</td>\n",
       "      <td>74.0</td>\n",
       "    </tr>\n",
       "    <tr>\n",
       "      <th>no_of_people_in_household</th>\n",
       "      <td>455807.0</td>\n",
       "      <td>5.600708</td>\n",
       "      <td>2.104048</td>\n",
       "      <td>0.0</td>\n",
       "      <td>4.0</td>\n",
       "      <td>6.0</td>\n",
       "      <td>7.0</td>\n",
       "      <td>11.0</td>\n",
       "    </tr>\n",
       "    <tr>\n",
       "      <th>no_of_adults</th>\n",
       "      <td>455807.0</td>\n",
       "      <td>2.230677</td>\n",
       "      <td>0.790926</td>\n",
       "      <td>1.0</td>\n",
       "      <td>2.0</td>\n",
       "      <td>2.0</td>\n",
       "      <td>3.0</td>\n",
       "      <td>4.0</td>\n",
       "    </tr>\n",
       "    <tr>\n",
       "      <th>no_of_children</th>\n",
       "      <td>455807.0</td>\n",
       "      <td>3.052836</td>\n",
       "      <td>1.718713</td>\n",
       "      <td>0.0</td>\n",
       "      <td>2.0</td>\n",
       "      <td>3.0</td>\n",
       "      <td>4.0</td>\n",
       "      <td>7.0</td>\n",
       "    </tr>\n",
       "    <tr>\n",
       "      <th>age_at_first_sexual_encounter</th>\n",
       "      <td>455807.0</td>\n",
       "      <td>16.775442</td>\n",
       "      <td>1.853132</td>\n",
       "      <td>0.0</td>\n",
       "      <td>17.0</td>\n",
       "      <td>17.0</td>\n",
       "      <td>17.0</td>\n",
       "      <td>25.0</td>\n",
       "    </tr>\n",
       "    <tr>\n",
       "      <th>bio_medical</th>\n",
       "      <td>455807.0</td>\n",
       "      <td>0.990619</td>\n",
       "      <td>0.096401</td>\n",
       "      <td>0.0</td>\n",
       "      <td>1.0</td>\n",
       "      <td>1.0</td>\n",
       "      <td>1.0</td>\n",
       "      <td>1.0</td>\n",
       "    </tr>\n",
       "    <tr>\n",
       "      <th>social_protection</th>\n",
       "      <td>455807.0</td>\n",
       "      <td>0.988105</td>\n",
       "      <td>0.108415</td>\n",
       "      <td>0.0</td>\n",
       "      <td>1.0</td>\n",
       "      <td>1.0</td>\n",
       "      <td>1.0</td>\n",
       "      <td>1.0</td>\n",
       "    </tr>\n",
       "    <tr>\n",
       "      <th>behavioral</th>\n",
       "      <td>455807.0</td>\n",
       "      <td>0.882301</td>\n",
       "      <td>0.322252</td>\n",
       "      <td>0.0</td>\n",
       "      <td>1.0</td>\n",
       "      <td>1.0</td>\n",
       "      <td>1.0</td>\n",
       "      <td>1.0</td>\n",
       "    </tr>\n",
       "    <tr>\n",
       "      <th>post_gbv_care</th>\n",
       "      <td>455807.0</td>\n",
       "      <td>0.193387</td>\n",
       "      <td>0.394954</td>\n",
       "      <td>0.0</td>\n",
       "      <td>0.0</td>\n",
       "      <td>0.0</td>\n",
       "      <td>0.0</td>\n",
       "      <td>1.0</td>\n",
       "    </tr>\n",
       "    <tr>\n",
       "      <th>other_interventions</th>\n",
       "      <td>455807.0</td>\n",
       "      <td>0.061107</td>\n",
       "      <td>0.239527</td>\n",
       "      <td>0.0</td>\n",
       "      <td>0.0</td>\n",
       "      <td>0.0</td>\n",
       "      <td>0.0</td>\n",
       "      <td>1.0</td>\n",
       "    </tr>\n",
       "  </tbody>\n",
       "</table>\n",
       "</div>"
      ],
      "text/plain": [
       "                                  count       mean        std   min   25%  \\\n",
       "age_of_household_head          455807.0  42.023297  11.618914  10.0  34.0   \n",
       "no_of_people_in_household      455807.0   5.600708   2.104048   0.0   4.0   \n",
       "no_of_adults                   455807.0   2.230677   0.790926   1.0   2.0   \n",
       "no_of_children                 455807.0   3.052836   1.718713   0.0   2.0   \n",
       "age_at_first_sexual_encounter  455807.0  16.775442   1.853132   0.0  17.0   \n",
       "bio_medical                    455807.0   0.990619   0.096401   0.0   1.0   \n",
       "social_protection              455807.0   0.988105   0.108415   0.0   1.0   \n",
       "behavioral                     455807.0   0.882301   0.322252   0.0   1.0   \n",
       "post_gbv_care                  455807.0   0.193387   0.394954   0.0   0.0   \n",
       "other_interventions            455807.0   0.061107   0.239527   0.0   0.0   \n",
       "\n",
       "                                50%   75%   max  \n",
       "age_of_household_head          42.0  50.0  74.0  \n",
       "no_of_people_in_household       6.0   7.0  11.0  \n",
       "no_of_adults                    2.0   3.0   4.0  \n",
       "no_of_children                  3.0   4.0   7.0  \n",
       "age_at_first_sexual_encounter  17.0  17.0  25.0  \n",
       "bio_medical                     1.0   1.0   1.0  \n",
       "social_protection               1.0   1.0   1.0  \n",
       "behavioral                      1.0   1.0   1.0  \n",
       "post_gbv_care                   0.0   0.0   1.0  \n",
       "other_interventions             0.0   0.0   1.0  "
      ]
     },
     "execution_count": 139,
     "metadata": {},
     "output_type": "execute_result"
    }
   ],
   "source": [
    "filtered_df.describe().T"
   ]
  },
  {
   "cell_type": "markdown",
   "metadata": {},
   "source": [
    "### Visualize filtered dataframe numerical features"
   ]
  },
  {
   "cell_type": "code",
   "execution_count": 29,
   "metadata": {},
   "outputs": [],
   "source": [
    "# # Check for outliers using boxplot visuals\n",
    "# numerical_features = filtered_df.select_dtypes(include=['number']).columns\n",
    "\n",
    "# # Loop through each numerical feature to create a boxplot\n",
    "# for feature in numerical_features:\n",
    "#     plt.figure(figsize = (10, 6))\n",
    "    \n",
    "#     # Create the boxplot for the feature\n",
    "#     sns.boxplot(x = filtered_df[feature])\n",
    "\n",
    "#     # Set the title and axis labels\n",
    "#     plt.title(f'{feature} Outliers'.title(), size=14, color='blue', weight='bold')\n",
    "#     plt.xlabel(feature.title(), size=14, color='blue', weight='bold')\n",
    "    \n",
    "#     # Show the plot\n",
    "#     plt.show()"
   ]
  },
  {
   "cell_type": "markdown",
   "metadata": {},
   "source": [
    "### 4.1.4 Data consistency\n",
    "Consistency is achieved through removal of duplicates in the dataframe"
   ]
  },
  {
   "cell_type": "code",
   "execution_count": 140,
   "metadata": {},
   "outputs": [
    {
     "name": "stdout",
     "output_type": "stream",
     "text": [
      "There are total of 352 duplicates in the filtered dataframe\n"
     ]
    }
   ],
   "source": [
    "#Check for duplicates\n",
    "print(f'There are total of {filtered_df.duplicated().sum()} duplicates in the filtered dataframe')"
   ]
  },
  {
   "cell_type": "code",
   "execution_count": 141,
   "metadata": {},
   "outputs": [],
   "source": [
    "#Drop duplicates\n",
    "filtered_df = filtered_df.drop_duplicates()"
   ]
  },
  {
   "cell_type": "code",
   "execution_count": 142,
   "metadata": {},
   "outputs": [
    {
     "data": {
      "text/plain": [
       "0"
      ]
     },
     "execution_count": 142,
     "metadata": {},
     "output_type": "execute_result"
    }
   ],
   "source": [
    "filtered_df.duplicated().sum()"
   ]
  },
  {
   "cell_type": "code",
   "execution_count": 143,
   "metadata": {},
   "outputs": [
    {
     "data": {
      "text/plain": [
       "(455455, 30)"
      ]
     },
     "execution_count": 143,
     "metadata": {},
     "output_type": "execute_result"
    }
   ],
   "source": [
    "filtered_df.shape"
   ]
  },
  {
   "cell_type": "markdown",
   "metadata": {},
   "source": [
    "### 4.1.5 Data Uniformity\n",
    "Involves feature engineering\n",
    "\n",
    "Feature engineer age at enrollment"
   ]
  },
  {
   "cell_type": "code",
   "execution_count": 144,
   "metadata": {},
   "outputs": [],
   "source": [
    "#Calculate age at enrollment\n",
    "from datetime import datetime\n",
    "filtered_df['date_of_birth'] = pd.to_datetime(filtered_df['date_of_birth'])\n",
    "filtered_df['date_of_enrollment'] = pd.to_datetime(filtered_df['date_of_enrollment'])\n",
    "filtered_df['age_at_enrollment'] = (filtered_df['date_of_enrollment'] - filtered_df['date_of_birth']).dt.days // 365"
   ]
  },
  {
   "cell_type": "markdown",
   "metadata": {},
   "source": [
    "### Uniformity of column names"
   ]
  },
  {
   "cell_type": "code",
   "execution_count": 145,
   "metadata": {},
   "outputs": [],
   "source": [
    "#Remove white spaces in column names and change to lower case\n",
    "filtered_df.columns = filtered_df.columns.str.strip().str.lower().str.replace(\" \", \"_\")"
   ]
  },
  {
   "cell_type": "code",
   "execution_count": 146,
   "metadata": {},
   "outputs": [
    {
     "data": {
      "text/plain": [
       "Index(['date_of_birth', 'date_of_enrollment', 'county', 'head_of_household',\n",
       "       'age_of_household_head', 'father_alive', 'mother_alive',\n",
       "       'are_both_parents_alive', 'no_of_people_in_household', 'no_of_adults',\n",
       "       'no_of_children', 'ever_missed_full_day_food_in_4wks',\n",
       "       'no_of_days_missed_food_in_4wks', 'currently_in_school',\n",
       "       'current_school_level', 'current_income_source', 'last_test_result',\n",
       "       'ever_had_sex', 'age_at_first_sexual_encounter', 'has_sexual_partner',\n",
       "       'age_of_last_partner', 'used_condom_with_last_partner', 'exit_status',\n",
       "       'exit_reason', 'result', 'bio_medical', 'social_protection',\n",
       "       'behavioral', 'post_gbv_care', 'other_interventions',\n",
       "       'age_at_enrollment'],\n",
       "      dtype='object')"
      ]
     },
     "execution_count": 146,
     "metadata": {},
     "output_type": "execute_result"
    }
   ],
   "source": [
    "filtered_df.columns"
   ]
  },
  {
   "cell_type": "code",
   "execution_count": 154,
   "metadata": {},
   "outputs": [
    {
     "name": "stdout",
     "output_type": "stream",
     "text": [
      "<class 'pandas.core.frame.DataFrame'>\n",
      "Index: 455455 entries, 0 to 455806\n",
      "Data columns (total 31 columns):\n",
      " #   Column                             Non-Null Count   Dtype         \n",
      "---  ------                             --------------   -----         \n",
      " 0   date_of_birth                      455455 non-null  datetime64[ns]\n",
      " 1   date_of_enrollment                 455455 non-null  datetime64[ns]\n",
      " 2   county                             455455 non-null  object        \n",
      " 3   head_of_household                  455455 non-null  object        \n",
      " 4   age_of_household_head              455455 non-null  float64       \n",
      " 5   father_alive                       455455 non-null  object        \n",
      " 6   mother_alive                       455455 non-null  object        \n",
      " 7   are_both_parents_alive             455455 non-null  object        \n",
      " 8   no_of_people_in_household          455455 non-null  float64       \n",
      " 9   no_of_adults                       455455 non-null  float64       \n",
      " 10  no_of_children                     455455 non-null  float64       \n",
      " 11  ever_missed_full_day_food_in_4wks  455455 non-null  object        \n",
      " 12  no_of_days_missed_food_in_4wks     455455 non-null  object        \n",
      " 13  currently_in_school                455455 non-null  object        \n",
      " 14  current_school_level               455455 non-null  object        \n",
      " 15  current_income_source              455455 non-null  object        \n",
      " 16  last_test_result                   455455 non-null  object        \n",
      " 17  ever_had_sex                       455455 non-null  object        \n",
      " 18  age_at_first_sexual_encounter      455455 non-null  float64       \n",
      " 19  has_sexual_partner                 455455 non-null  object        \n",
      " 20  age_of_last_partner                455455 non-null  object        \n",
      " 21  used_condom_with_last_partner      455455 non-null  object        \n",
      " 22  exit_status                        455455 non-null  object        \n",
      " 23  exit_reason                        455455 non-null  object        \n",
      " 24  result                             455455 non-null  object        \n",
      " 25  bio_medical                        455455 non-null  int64         \n",
      " 26  social_protection                  455455 non-null  int64         \n",
      " 27  behavioral                         455455 non-null  int64         \n",
      " 28  post_gbv_care                      455455 non-null  int64         \n",
      " 29  other_interventions                455455 non-null  int64         \n",
      " 30  age_at_enrollment                  455455 non-null  int64         \n",
      "dtypes: datetime64[ns](2), float64(5), int64(6), object(18)\n",
      "memory usage: 111.2+ MB\n"
     ]
    }
   ],
   "source": [
    "filtered_df.info()"
   ]
  },
  {
   "cell_type": "markdown",
   "metadata": {},
   "source": [
    "### 4.1.6 Save clean dataset"
   ]
  },
  {
   "cell_type": "code",
   "execution_count": 155,
   "metadata": {},
   "outputs": [],
   "source": [
    "#Save copy of cleaned dataset\n",
    "clean_df = filtered_df.copy()"
   ]
  },
  {
   "cell_type": "code",
   "execution_count": 156,
   "metadata": {},
   "outputs": [
    {
     "data": {
      "text/html": [
       "<div>\n",
       "<style scoped>\n",
       "    .dataframe tbody tr th:only-of-type {\n",
       "        vertical-align: middle;\n",
       "    }\n",
       "\n",
       "    .dataframe tbody tr th {\n",
       "        vertical-align: top;\n",
       "    }\n",
       "\n",
       "    .dataframe thead th {\n",
       "        text-align: right;\n",
       "    }\n",
       "</style>\n",
       "<table border=\"1\" class=\"dataframe\">\n",
       "  <thead>\n",
       "    <tr style=\"text-align: right;\">\n",
       "      <th></th>\n",
       "      <th>date_of_birth</th>\n",
       "      <th>date_of_enrollment</th>\n",
       "      <th>county</th>\n",
       "      <th>head_of_household</th>\n",
       "      <th>age_of_household_head</th>\n",
       "      <th>father_alive</th>\n",
       "      <th>mother_alive</th>\n",
       "      <th>are_both_parents_alive</th>\n",
       "      <th>no_of_people_in_household</th>\n",
       "      <th>no_of_adults</th>\n",
       "      <th>...</th>\n",
       "      <th>used_condom_with_last_partner</th>\n",
       "      <th>exit_status</th>\n",
       "      <th>exit_reason</th>\n",
       "      <th>result</th>\n",
       "      <th>bio_medical</th>\n",
       "      <th>social_protection</th>\n",
       "      <th>behavioral</th>\n",
       "      <th>post_gbv_care</th>\n",
       "      <th>other_interventions</th>\n",
       "      <th>age_at_enrollment</th>\n",
       "    </tr>\n",
       "  </thead>\n",
       "  <tbody>\n",
       "    <tr>\n",
       "      <th>0</th>\n",
       "      <td>2004-09-16</td>\n",
       "      <td>2020-02-22</td>\n",
       "      <td>Nairobi</td>\n",
       "      <td>Mother</td>\n",
       "      <td>58.0</td>\n",
       "      <td>Yes</td>\n",
       "      <td>Yes</td>\n",
       "      <td>Yes</td>\n",
       "      <td>6.0</td>\n",
       "      <td>2.0</td>\n",
       "      <td>...</td>\n",
       "      <td>Sometimes</td>\n",
       "      <td>No</td>\n",
       "      <td>Graduation</td>\n",
       "      <td>Negative</td>\n",
       "      <td>1</td>\n",
       "      <td>1</td>\n",
       "      <td>1</td>\n",
       "      <td>0</td>\n",
       "      <td>0</td>\n",
       "      <td>15</td>\n",
       "    </tr>\n",
       "    <tr>\n",
       "      <th>1</th>\n",
       "      <td>2004-08-02</td>\n",
       "      <td>2019-12-18</td>\n",
       "      <td>Nairobi</td>\n",
       "      <td>Father</td>\n",
       "      <td>43.0</td>\n",
       "      <td>Yes</td>\n",
       "      <td>Yes</td>\n",
       "      <td>Yes</td>\n",
       "      <td>6.0</td>\n",
       "      <td>2.0</td>\n",
       "      <td>...</td>\n",
       "      <td>Sometimes</td>\n",
       "      <td>No</td>\n",
       "      <td>Graduation</td>\n",
       "      <td>Negative</td>\n",
       "      <td>1</td>\n",
       "      <td>1</td>\n",
       "      <td>1</td>\n",
       "      <td>0</td>\n",
       "      <td>0</td>\n",
       "      <td>15</td>\n",
       "    </tr>\n",
       "    <tr>\n",
       "      <th>2</th>\n",
       "      <td>2005-10-20</td>\n",
       "      <td>2020-03-07</td>\n",
       "      <td>Nairobi</td>\n",
       "      <td>Mother</td>\n",
       "      <td>41.0</td>\n",
       "      <td>No</td>\n",
       "      <td>Yes</td>\n",
       "      <td>No</td>\n",
       "      <td>5.0</td>\n",
       "      <td>2.0</td>\n",
       "      <td>...</td>\n",
       "      <td>Sometimes</td>\n",
       "      <td>No</td>\n",
       "      <td>Graduation</td>\n",
       "      <td>Negative</td>\n",
       "      <td>1</td>\n",
       "      <td>1</td>\n",
       "      <td>0</td>\n",
       "      <td>0</td>\n",
       "      <td>0</td>\n",
       "      <td>14</td>\n",
       "    </tr>\n",
       "    <tr>\n",
       "      <th>3</th>\n",
       "      <td>2006-01-18</td>\n",
       "      <td>2020-03-03</td>\n",
       "      <td>Nairobi</td>\n",
       "      <td>Mother</td>\n",
       "      <td>45.0</td>\n",
       "      <td>No</td>\n",
       "      <td>Yes</td>\n",
       "      <td>No</td>\n",
       "      <td>5.0</td>\n",
       "      <td>1.0</td>\n",
       "      <td>...</td>\n",
       "      <td>Sometimes</td>\n",
       "      <td>No</td>\n",
       "      <td>Graduation</td>\n",
       "      <td>Negative</td>\n",
       "      <td>1</td>\n",
       "      <td>1</td>\n",
       "      <td>1</td>\n",
       "      <td>0</td>\n",
       "      <td>0</td>\n",
       "      <td>14</td>\n",
       "    </tr>\n",
       "    <tr>\n",
       "      <th>4</th>\n",
       "      <td>2004-03-22</td>\n",
       "      <td>2019-12-18</td>\n",
       "      <td>Nairobi</td>\n",
       "      <td>Father</td>\n",
       "      <td>42.0</td>\n",
       "      <td>Yes</td>\n",
       "      <td>Yes</td>\n",
       "      <td>Yes</td>\n",
       "      <td>5.0</td>\n",
       "      <td>3.0</td>\n",
       "      <td>...</td>\n",
       "      <td>Sometimes</td>\n",
       "      <td>No</td>\n",
       "      <td>Graduation</td>\n",
       "      <td>Negative</td>\n",
       "      <td>1</td>\n",
       "      <td>1</td>\n",
       "      <td>1</td>\n",
       "      <td>0</td>\n",
       "      <td>0</td>\n",
       "      <td>15</td>\n",
       "    </tr>\n",
       "  </tbody>\n",
       "</table>\n",
       "<p>5 rows × 31 columns</p>\n",
       "</div>"
      ],
      "text/plain": [
       "  date_of_birth date_of_enrollment   county head_of_household  \\\n",
       "0    2004-09-16         2020-02-22  Nairobi            Mother   \n",
       "1    2004-08-02         2019-12-18  Nairobi            Father   \n",
       "2    2005-10-20         2020-03-07  Nairobi            Mother   \n",
       "3    2006-01-18         2020-03-03  Nairobi            Mother   \n",
       "4    2004-03-22         2019-12-18  Nairobi            Father   \n",
       "\n",
       "   age_of_household_head father_alive mother_alive are_both_parents_alive  \\\n",
       "0                   58.0          Yes          Yes                    Yes   \n",
       "1                   43.0          Yes          Yes                    Yes   \n",
       "2                   41.0           No          Yes                     No   \n",
       "3                   45.0           No          Yes                     No   \n",
       "4                   42.0          Yes          Yes                    Yes   \n",
       "\n",
       "   no_of_people_in_household  no_of_adults  ...  \\\n",
       "0                        6.0           2.0  ...   \n",
       "1                        6.0           2.0  ...   \n",
       "2                        5.0           2.0  ...   \n",
       "3                        5.0           1.0  ...   \n",
       "4                        5.0           3.0  ...   \n",
       "\n",
       "   used_condom_with_last_partner exit_status exit_reason    result  \\\n",
       "0                      Sometimes          No  Graduation  Negative   \n",
       "1                      Sometimes          No  Graduation  Negative   \n",
       "2                      Sometimes          No  Graduation  Negative   \n",
       "3                      Sometimes          No  Graduation  Negative   \n",
       "4                      Sometimes          No  Graduation  Negative   \n",
       "\n",
       "  bio_medical social_protection behavioral post_gbv_care  other_interventions  \\\n",
       "0           1                 1          1             0                    0   \n",
       "1           1                 1          1             0                    0   \n",
       "2           1                 1          0             0                    0   \n",
       "3           1                 1          1             0                    0   \n",
       "4           1                 1          1             0                    0   \n",
       "\n",
       "  age_at_enrollment  \n",
       "0                15  \n",
       "1                15  \n",
       "2                14  \n",
       "3                14  \n",
       "4                15  \n",
       "\n",
       "[5 rows x 31 columns]"
      ]
     },
     "execution_count": 156,
     "metadata": {},
     "output_type": "execute_result"
    }
   ],
   "source": [
    "clean_df.head()"
   ]
  },
  {
   "cell_type": "markdown",
   "metadata": {},
   "source": [
    "# 5.0 Exploratory Data Analysis(EDA)\n",
    "This is the process of analyzing data to reveal trends and patterns, detect anomalies, test hypotheses and check assumptions using visuals and summary statistics.Turkey,J.W(1977)\n",
    "\n",
    "Key goals of EDA include:\n",
    "\n",
    "Understanding the data: Getting a sense of the data's distribution, range, and central tendencies. Identifying patterns: Discovering trends, correlations, or anomalies within the data. Checking assumptions: Verifying assumptions made about the data before further analysis or modeling. Generating hypotheses: Developing potential explanations or questions based on the findings."
   ]
  },
  {
   "cell_type": "markdown",
   "metadata": {},
   "source": [
    "## 5.1 Univariate Analysis\n"
   ]
  },
  {
   "cell_type": "markdown",
   "metadata": {},
   "source": [
    "### 1. What demographic characteristics of AGYW are most closely associated with HIV risk?\n",
    "\n",
    "a. **What is the AGYW age distribution at enrollment?**"
   ]
  },
  {
   "cell_type": "code",
   "execution_count": 157,
   "metadata": {},
   "outputs": [
    {
     "data": {
      "image/png": "[encoded data removed]",
      "text/plain": [
       "<Figure size 800x600 with 1 Axes>"
      ]
     },
     "metadata": {},
     "output_type": "display_data"
    }
   ],
   "source": [
    "#Distribution of AGYW Age\n",
    "plt.figure(figsize=(8, 6)) \n",
    "sns.countplot(x='age_at_enrollment', data=clean_df, palette='viridis')\n",
    "\n",
    "plt.title('Distribution of AGYW Age at Enrollment', size=14, color='blue', weight='bold')\n",
    "plt.xlabel('Age of AGYW at Enrollment', size=12, color='blue', weight='bold')\n",
    "plt.ylabel('Number of AGYW', size=12, color='blue', weight='bold')\n",
    "plt.xticks(rotation=45)\n",
    "plt.tight_layout()\n",
    "plt.show()"
   ]
  },
  {
   "cell_type": "markdown",
   "metadata": {},
   "source": [
    "1(a). **Observation**\n",
    "* Most adolescent girls and young women faced with HIV risk were enrolled at the age bracket of 14-23years."
   ]
  },
  {
   "cell_type": "markdown",
   "metadata": {},
   "source": [
    "1(b). **What is the distribution of AGYW enrolled schooling status?**"
   ]
  },
  {
   "cell_type": "code",
   "execution_count": 158,
   "metadata": {},
   "outputs": [
    {
     "data": {
      "image/png": "[encoded data removed]",
      "text/plain": [
       "<Figure size 800x600 with 1 Axes>"
      ]
     },
     "metadata": {},
     "output_type": "display_data"
    }
   ],
   "source": [
    "#Distribution of  AGYW enrolled per their current schooling status\n",
    "#Setting figsize\n",
    "plt.figure(figsize=(8, 6))\n",
    "#Count plot\n",
    "ax = sns.countplot(data= clean_df, x='currently_in_school', palette='viridis')\n",
    "\n",
    "#Percentages in each bar\n",
    "for p in ax.patches:\n",
    "    height = p.get_height()\n",
    "    percentage = (height / (len(clean_df))) * 100\n",
    "    ax.text(p.get_x() + p.get_width() / 2, height + 0.05, f'{percentage:.2f}%', \n",
    "            ha='center', va='bottom', size=10, color='black', weight='bold')\n",
    "#Setting title and labels\n",
    "plt.title(\"Distribution of Schooling Status for AGYW Enrolled\", size=14, color='blue', weight='bold')\n",
    "plt.xlabel(\"Currently in School?\", size=12, color='blue', weight='bold')\n",
    "plt.ylabel(\"AGYW Count\", size=12, color='blue', weight='bold')\n",
    "plt.xticks(rotation=45)\n",
    "plt.tight_layout()\n",
    "plt.show()"
   ]
  },
  {
   "cell_type": "markdown",
   "metadata": {},
   "source": [
    "1 (b). **Observation**\n",
    "* During enrollment of adolescent girls and young women faced with HIV risk, 58.67%  were school going whereas 41.33% were not."
   ]
  },
  {
   "cell_type": "markdown",
   "metadata": {},
   "source": [
    "## 5.2 Bivariate Analysis\n",
    "\n",
    "### 2. What are demographic, geographic factors and socioeconomic status influence HIV risk for AGYW? "
   ]
  },
  {
   "cell_type": "markdown",
   "metadata": {},
   "source": [
    "2(a). **What effects do socioeconomic factors like food insecurity have on HIV vulnerability?**\n",
    "\n",
    "* Visualization of food inadequacy and HIV vulnerability\n"
   ]
  },
  {
   "cell_type": "code",
   "execution_count": 159,
   "metadata": {},
   "outputs": [
    {
     "data": {
      "image/png": "[encoded data removed]",
      "text/plain": [
       "<Figure size 1000x600 with 1 Axes>"
      ]
     },
     "metadata": {},
     "output_type": "display_data"
    }
   ],
   "source": [
    "# Fig size\n",
    "plt.figure(figsize=(10, 6))\n",
    "\n",
    "# Countplot\n",
    "ax = sns.countplot(x='ever_missed_full_day_food_in_4wks', hue='result', data=clean_df, palette='viridis')\n",
    "\n",
    "# Setting title and labels\n",
    "plt.title('HIV Test Results Based on Food Inadequacy (Ever Missed Full Day of Food)', size=14, color='blue', weight='bold')\n",
    "plt.xlabel('Missed Full Day of Food in Last 4 Weeks', size=14, color='blue', weight='bold')\n",
    "plt.ylabel('AGYW Count', size=14, color='blue', weight='bold')\n",
    "plt.xticks([0, 1], ['Adequate Food', 'Inadequate Food'])  \n",
    "\n",
    "# Add numbers on top of bars\n",
    "for p in ax.patches:\n",
    "    ax.annotate(f'{int(p.get_height())}', \n",
    "                (p.get_x() + p.get_width() / 2., p.get_height()), \n",
    "                ha='center', va='center', \n",
    "                size=10, color='black', \n",
    "                xytext=(0, 5), textcoords='offset points')\n",
    "\n",
    "# Display the plot\n",
    "plt.show()"
   ]
  },
  {
   "cell_type": "markdown",
   "metadata": {},
   "source": [
    "2 (a). **Observation**\n",
    "\n",
    "* Generally among the AGYW enrolled majority suffered food inadequacy(having missed food in th last 4 weeks)\n",
    "\n",
    "* Those AGYWs with insufficient food recorded elevated numbers of positive HIV results.\n",
    "\n",
    "* Drill down on statistical significance could give more insights"
   ]
  },
  {
   "cell_type": "code",
   "execution_count": 160,
   "metadata": {},
   "outputs": [
    {
     "name": "stdout",
     "output_type": "stream",
     "text": [
      "Contingency Table:\n",
      " result                             Negative  Positive\n",
      "ever_missed_full_day_food_in_4wks                    \n",
      "No                                   190821       480\n",
      "Yes                                  263615       539\n",
      "\n",
      "Chi-square test statistic: 10.71\n",
      "p-value: 0.0011\n",
      "\n",
      "There is a statistical significance between food inadequacy and HIV test result (p < 0.05).\n"
     ]
    }
   ],
   "source": [
    "# Chi2 Test for food inadequacy and HIV test results\n",
    "# Contingency table\n",
    "contingency_table = pd.crosstab(clean_df['ever_missed_full_day_food_in_4wks'], clean_df['result'])\n",
    "# Chi-square test\n",
    "chi2, p_value, _, _ = chi2_contingency(contingency_table)\n",
    "\n",
    "chi2_test = round(chi2, 2)\n",
    "p_value_test = round(p_value, 4)\n",
    "\n",
    "# Print contingency table and p-value\n",
    "print(\"Contingency Table:\\n\", contingency_table)\n",
    "print(\"\\nChi-square test statistic:\", chi2_test)\n",
    "print(\"p-value:\", p_value_test)\n",
    "\n",
    "# p-value test\n",
    "if p_value < 0.05:\n",
    "    print(\"\\nThere is a statistical significance between food inadequacy and HIV test result (p < 0.05).\")\n",
    "else:\n",
    "    print(\"\\nThere is no statistical significance between food inadequacy and HIV test result (p >= 0.05).\")"
   ]
  },
  {
   "cell_type": "markdown",
   "metadata": {},
   "source": [
    "**Insight**\n",
    "\n",
    "* There is a strong evidence that food inadequacy correlates with HIV test results among AGYWs."
   ]
  },
  {
   "cell_type": "markdown",
   "metadata": {},
   "source": [
    "2(b). **What is the distribution AGYW enrolled in different counties and their HIV test results?**"
   ]
  },
  {
   "cell_type": "code",
   "execution_count": 161,
   "metadata": {},
   "outputs": [
    {
     "data": {
      "image/png": "[encoded data removed]",
      "text/plain": [
       "<Figure size 1600x600 with 2 Axes>"
      ]
     },
     "metadata": {},
     "output_type": "display_data"
    }
   ],
   "source": [
    "\n",
    "#AGYW distributions per county\n",
    "agyw_per_county = pd.crosstab(clean_df['county'], clean_df['result'])\n",
    "\n",
    "#Visualize as per HIV test result\n",
    "# Set up side-by-side plots\n",
    "fig, ax = plt.subplots(1, 2, figsize=(16, 6))\n",
    "\n",
    "#AGYW per county with positive HIV result\n",
    "agyw_per_county['Positive'].sort_values(ascending=False).plot(kind='bar', ax=ax[0], color='red')\n",
    "ax[0].set_title('Number of AGYW per County with Positive HIV Results', size=14, color='blue', weight='bold')\n",
    "ax[0].set_xlabel('County', size=12, color='blue', weight='bold')\n",
    "ax[0].set_ylabel('Number of AGYW', size=12, color='blue', weight='bold')\n",
    "ax[0].tick_params(axis='x', rotation=45)\n",
    "ax[0].legend(title='Positive Results')\n",
    "\n",
    "\n",
    "#AGYW per county with negative HIV result\n",
    "agyw_per_county['Negative'].sort_values(ascending=False).plot(kind='bar', ax=ax[1], color='green')\n",
    "ax[1].set_title('Number of AGYW per County with Negative HIV Results', size=14, color='blue', weight='bold')\n",
    "ax[1].set_xlabel('County', size=12, color='blue', weight='bold')\n",
    "ax[1].set_ylabel('Number of AGYW', size=12, color='blue', weight='bold')\n",
    "ax[1].tick_params(axis='x', rotation=45)\n",
    "ax[1].legend(title='Negative Results')\n",
    "\n",
    "\n",
    "plt.tight_layout()\n",
    "plt.show()"
   ]
  },
  {
   "cell_type": "markdown",
   "metadata": {},
   "source": [
    "2 (b). **Observation**\n",
    "\n",
    "* Generally Nairobi county recorded the highest number of AGYW enrolled and those with positive HIV test results\n"
   ]
  },
  {
   "cell_type": "markdown",
   "metadata": {},
   "source": [
    "2(c). **What is the distribution AGYW enrolled with positive HIV test results per age?**"
   ]
  },
  {
   "cell_type": "markdown",
   "metadata": {},
   "source": [
    "* Better generalization can be achieved by grouping age (9 to 25) as defined age for AGYWs."
   ]
  },
  {
   "cell_type": "code",
   "execution_count": 162,
   "metadata": {},
   "outputs": [],
   "source": [
    "#Filtertaset by age between 9 and 25 \n",
    "# Filter positive HIV results only\n",
    "agyw_positive = clean_df[(clean_df['age_at_enrollment'] >= 9) & (clean_df['age_at_enrollment'] <= 25) & (clean_df['result'] == 'Positive')]\n",
    "\n",
    "# Age groups\n",
    "ages = [9, 14, 19, 25] \n",
    "age_labels = ['9-14', '15-19', '20-25']  \n",
    "\n",
    "# Create a age group feature\n",
    "agyw_positive['age_group'] = pd.cut(agyw_positive['age_at_enrollment'], bins=ages, labels=age_labels, right=True)\n"
   ]
  },
  {
   "cell_type": "markdown",
   "metadata": {},
   "source": [
    "**Visualization; Countplot**"
   ]
  },
  {
   "cell_type": "code",
   "execution_count": 163,
   "metadata": {},
   "outputs": [
    {
     "data": {
      "image/png": "[encoded data removed]",
      "text/plain": [
       "<Figure size 1000x600 with 1 Axes>"
      ]
     },
     "metadata": {},
     "output_type": "display_data"
    }
   ],
   "source": [
    "#Positive HIV per age of enrollment\n",
    "#Figure\n",
    "plt.figure(figsize=(10, 6))\n",
    "#Countplot\n",
    "sns.countplot(x='age_group', data=agyw_positive, palette='viridis')\n",
    "#Set title and labels\n",
    "plt.title('Number of Positive AGYW per Age Group', size=14, color='blue', weight='bold')\n",
    "plt.xlabel('Age Group at Enrollment ', size=12, color='blue', weight='bold')\n",
    "plt.ylabel('Number of AGYW', size=12, color='blue', weight='bold')\n",
    "plt.xticks(rotation=45)\n",
    "plt.tight_layout()\n",
    "plt.show()\n"
   ]
  },
  {
   "cell_type": "markdown",
   "metadata": {},
   "source": [
    "2 (c). **Observation**\n",
    "\n",
    "* Generally age group 20-25 years had  the highest number of AGYW enrolled with positive HIV test results"
   ]
  },
  {
   "cell_type": "markdown",
   "metadata": {},
   "source": [
    "## 5.3 Multivariate Analysis\n"
   ]
  },
  {
   "cell_type": "code",
   "execution_count": 165,
   "metadata": {},
   "outputs": [
    {
     "data": {
      "text/plain": [
       "Index(['date_of_birth', 'date_of_enrollment', 'county', 'head_of_household',\n",
       "       'age_of_household_head', 'father_alive', 'mother_alive',\n",
       "       'are_both_parents_alive', 'no_of_people_in_household', 'no_of_adults',\n",
       "       'no_of_children', 'ever_missed_full_day_food_in_4wks',\n",
       "       'no_of_days_missed_food_in_4wks', 'currently_in_school',\n",
       "       'current_school_level', 'current_income_source', 'last_test_result',\n",
       "       'ever_had_sex', 'age_at_first_sexual_encounter', 'has_sexual_partner',\n",
       "       'age_of_last_partner', 'used_condom_with_last_partner', 'exit_status',\n",
       "       'exit_reason', 'result', 'bio_medical', 'social_protection',\n",
       "       'behavioral', 'post_gbv_care', 'other_interventions',\n",
       "       'age_at_enrollment'],\n",
       "      dtype='object')"
      ]
     },
     "execution_count": 165,
     "metadata": {},
     "output_type": "execute_result"
    }
   ],
   "source": [
    "clean_df.columns"
   ]
  },
  {
   "cell_type": "markdown",
   "metadata": {},
   "source": [
    "3. What are the combined effects of a number of different factors (e.g., socio-economic, demographic, behavioral) on risk of HIV infection?\n",
    " a. How do number of people in the household, sexual behavior, and biomedical interventions affect HIV risk together?\n",
    " b. Which are the most relevant factors or sets of factors in association with HIV vulnerability?\n",
    " c. Which variables have maximum prediction power for determining HIV risk (outcome)?"
   ]
  },
  {
   "cell_type": "code",
   "execution_count": 182,
   "metadata": {},
   "outputs": [
    {
     "data": {
      "text/plain": [
       "bio_medical  other_interventions  result  \n",
       "0            0                    Negative      4267\n",
       "                                  Positive         8\n",
       "1            0                    Negative    422511\n",
       "                                  Positive       819\n",
       "             1                    Negative     27658\n",
       "                                  Positive       192\n",
       "Name: count, dtype: int64"
      ]
     },
     "execution_count": 182,
     "metadata": {},
     "output_type": "execute_result"
    }
   ],
   "source": [
    "mitigations = clean_df.groupby(['bio_medical',\n",
    "                                'other_interventions'])['result'].value_counts()\n",
    "mitigations"
   ]
  },
  {
   "cell_type": "code",
   "execution_count": 183,
   "metadata": {},
   "outputs": [
    {
     "data": {
      "text/html": [
       "<div>\n",
       "<style scoped>\n",
       "    .dataframe tbody tr th:only-of-type {\n",
       "        vertical-align: middle;\n",
       "    }\n",
       "\n",
       "    .dataframe tbody tr th {\n",
       "        vertical-align: top;\n",
       "    }\n",
       "\n",
       "    .dataframe thead th {\n",
       "        text-align: right;\n",
       "    }\n",
       "</style>\n",
       "<table border=\"1\" class=\"dataframe\">\n",
       "  <thead>\n",
       "    <tr style=\"text-align: right;\">\n",
       "      <th></th>\n",
       "      <th>bio_medical</th>\n",
       "      <th>other_interventions</th>\n",
       "      <th>result</th>\n",
       "      <th>count</th>\n",
       "    </tr>\n",
       "  </thead>\n",
       "  <tbody>\n",
       "    <tr>\n",
       "      <th>0</th>\n",
       "      <td>0</td>\n",
       "      <td>0</td>\n",
       "      <td>Negative</td>\n",
       "      <td>4267</td>\n",
       "    </tr>\n",
       "    <tr>\n",
       "      <th>1</th>\n",
       "      <td>0</td>\n",
       "      <td>0</td>\n",
       "      <td>Positive</td>\n",
       "      <td>8</td>\n",
       "    </tr>\n",
       "    <tr>\n",
       "      <th>2</th>\n",
       "      <td>1</td>\n",
       "      <td>0</td>\n",
       "      <td>Negative</td>\n",
       "      <td>422511</td>\n",
       "    </tr>\n",
       "    <tr>\n",
       "      <th>3</th>\n",
       "      <td>1</td>\n",
       "      <td>0</td>\n",
       "      <td>Positive</td>\n",
       "      <td>819</td>\n",
       "    </tr>\n",
       "    <tr>\n",
       "      <th>4</th>\n",
       "      <td>1</td>\n",
       "      <td>1</td>\n",
       "      <td>Negative</td>\n",
       "      <td>27658</td>\n",
       "    </tr>\n",
       "  </tbody>\n",
       "</table>\n",
       "</div>"
      ],
      "text/plain": [
       "   bio_medical  other_interventions    result   count\n",
       "0            0                    0  Negative    4267\n",
       "1            0                    0  Positive       8\n",
       "2            1                    0  Negative  422511\n",
       "3            1                    0  Positive     819\n",
       "4            1                    1  Negative   27658"
      ]
     },
     "execution_count": 183,
     "metadata": {},
     "output_type": "execute_result"
    }
   ],
   "source": [
    "mitigations_df = mitigations.reset_index(name='count')\n",
    "mitigations_df.head()"
   ]
  },
  {
   "cell_type": "code",
   "execution_count": 188,
   "metadata": {},
   "outputs": [],
   "source": [
    "# Using pd.crosstab to generate a cross-tabulation\n",
    "mitigations_crosstab = pd.crosstab(\n",
    "    index=[clean_df['bio_medical'],clean_df['other_interventions']], \n",
    "    columns=clean_df['result'], \n",
    "    margins=True,  # To get the totals\n",
    "    margins_name=\"Total\"\n",
    ")"
   ]
  },
  {
   "cell_type": "code",
   "execution_count": 189,
   "metadata": {},
   "outputs": [
    {
     "data": {
      "text/html": [
       "<div>\n",
       "<style scoped>\n",
       "    .dataframe tbody tr th:only-of-type {\n",
       "        vertical-align: middle;\n",
       "    }\n",
       "\n",
       "    .dataframe tbody tr th {\n",
       "        vertical-align: top;\n",
       "    }\n",
       "\n",
       "    .dataframe thead th {\n",
       "        text-align: right;\n",
       "    }\n",
       "</style>\n",
       "<table border=\"1\" class=\"dataframe\">\n",
       "  <thead>\n",
       "    <tr style=\"text-align: right;\">\n",
       "      <th></th>\n",
       "      <th>result</th>\n",
       "      <th>Negative</th>\n",
       "      <th>Positive</th>\n",
       "      <th>Total</th>\n",
       "    </tr>\n",
       "    <tr>\n",
       "      <th>bio_medical</th>\n",
       "      <th>other_interventions</th>\n",
       "      <th></th>\n",
       "      <th></th>\n",
       "      <th></th>\n",
       "    </tr>\n",
       "  </thead>\n",
       "  <tbody>\n",
       "    <tr>\n",
       "      <th>0</th>\n",
       "      <th>0</th>\n",
       "      <td>4267</td>\n",
       "      <td>8</td>\n",
       "      <td>4275</td>\n",
       "    </tr>\n",
       "    <tr>\n",
       "      <th rowspan=\"2\" valign=\"top\">1</th>\n",
       "      <th>0</th>\n",
       "      <td>422511</td>\n",
       "      <td>819</td>\n",
       "      <td>423330</td>\n",
       "    </tr>\n",
       "    <tr>\n",
       "      <th>1</th>\n",
       "      <td>27658</td>\n",
       "      <td>192</td>\n",
       "      <td>27850</td>\n",
       "    </tr>\n",
       "    <tr>\n",
       "      <th>Total</th>\n",
       "      <th></th>\n",
       "      <td>454436</td>\n",
       "      <td>1019</td>\n",
       "      <td>455455</td>\n",
       "    </tr>\n",
       "  </tbody>\n",
       "</table>\n",
       "</div>"
      ],
      "text/plain": [
       "result                           Negative  Positive   Total\n",
       "bio_medical other_interventions                            \n",
       "0           0                        4267         8    4275\n",
       "1           0                      422511       819  423330\n",
       "            1                       27658       192   27850\n",
       "Total                              454436      1019  455455"
      ]
     },
     "execution_count": 189,
     "metadata": {},
     "output_type": "execute_result"
    }
   ],
   "source": [
    "mitigations_crosstab"
   ]
  },
  {
   "cell_type": "markdown",
   "metadata": {},
   "source": [
    "# 6.0 Modeling\n",
    "\n",
    "## 6.1 Baseline Models with Class Imbalance\n",
    "\n",
    "### 6.1.1 Logistic Regression(vanila)"
   ]
  },
  {
   "cell_type": "code",
   "execution_count": 219,
   "metadata": {},
   "outputs": [],
   "source": [
    "# Logistic regression\n",
    "#target and predictors\n",
    "X = clean_df.drop(['result','date_of_birth','date_of_enrollment'], axis=1)\n",
    "y = clean_df['result'].map({'Negative':0, 'Positive':1})"
   ]
  },
  {
   "cell_type": "code",
   "execution_count": 192,
   "metadata": {},
   "outputs": [],
   "source": [
    "#train and test splits\n",
    "X_train, X_test, y_train,y_test= train_test_split(X,y, test_size=0.2, random_state=42)"
   ]
  },
  {
   "cell_type": "code",
   "execution_count": null,
   "metadata": {},
   "outputs": [],
   "source": [
    "#separate categorical and numerical features\n",
    "num_cols = X.select_dtypes(include=('int64', 'float64')).columns\n",
    "cat_cols = X.select_dtypes(include='object').columns\n",
    "\n"
   ]
  },
  {
   "cell_type": "code",
   "execution_count": 194,
   "metadata": {},
   "outputs": [],
   "source": [
    "#Pipeline \n",
    "numerical_transformer = Pipeline(steps=[\n",
    "     \n",
    "    ('scaler', StandardScaler())\n",
    "])\n",
    "categorical_transformer = Pipeline(steps=[\n",
    "      \n",
    "    ('ohe', OneHotEncoder(handle_unknown='ignore')) \n",
    "])\n",
    "\n",
    "#preprocessor\n",
    "preprocessor = ColumnTransformer(\n",
    "    transformers=[\n",
    "        ('num',numerical_transformer, num_cols),\n",
    "        ('cat', categorical_transformer, cat_cols)\n",
    "    ])"
   ]
  },
  {
   "cell_type": "code",
   "execution_count": null,
   "metadata": {},
   "outputs": [],
   "source": [
    "#Baseline model(vanila) as logistic regression\n",
    "lr_model = Pipeline(steps=[\n",
    "    ('preprocessor', preprocessor),\n",
    "    ('clf', LogisticRegression(class_weight='balanced'))\n",
    "])"
   ]
  },
  {
   "cell_type": "code",
   "execution_count": 196,
   "metadata": {},
   "outputs": [
    {
     "data": {
      "text/html": [
       "<style>#sk-container-id-3 {color: black;}#sk-container-id-3 pre{padding: 0;}#sk-container-id-3 div.sk-toggleable {background-color: white;}#sk-container-id-3 label.sk-toggleable__label {cursor: pointer;display: block;width: 100%;margin-bottom: 0;padding: 0.3em;box-sizing: border-box;text-align: center;}#sk-container-id-3 label.sk-toggleable__label-arrow:before {content: \"▸\";float: left;margin-right: 0.25em;color: #696969;}#sk-container-id-3 label.sk-toggleable__label-arrow:hover:before {color: black;}#sk-container-id-3 div.sk-estimator:hover label.sk-toggleable__label-arrow:before {color: black;}#sk-container-id-3 div.sk-toggleable__content {max-height: 0;max-width: 0;overflow: hidden;text-align: left;background-color: #f0f8ff;}#sk-container-id-3 div.sk-toggleable__content pre {margin: 0.2em;color: black;border-radius: 0.25em;background-color: #f0f8ff;}#sk-container-id-3 input.sk-toggleable__control:checked~div.sk-toggleable__content {max-height: 200px;max-width: 100%;overflow: auto;}#sk-container-id-3 input.sk-toggleable__control:checked~label.sk-toggleable__label-arrow:before {content: \"▾\";}#sk-container-id-3 div.sk-estimator input.sk-toggleable__control:checked~label.sk-toggleable__label {background-color: #d4ebff;}#sk-container-id-3 div.sk-label input.sk-toggleable__control:checked~label.sk-toggleable__label {background-color: #d4ebff;}#sk-container-id-3 input.sk-hidden--visually {border: 0;clip: rect(1px 1px 1px 1px);clip: rect(1px, 1px, 1px, 1px);height: 1px;margin: -1px;overflow: hidden;padding: 0;position: absolute;width: 1px;}#sk-container-id-3 div.sk-estimator {font-family: monospace;background-color: #f0f8ff;border: 1px dotted black;border-radius: 0.25em;box-sizing: border-box;margin-bottom: 0.5em;}#sk-container-id-3 div.sk-estimator:hover {background-color: #d4ebff;}#sk-container-id-3 div.sk-parallel-item::after {content: \"\";width: 100%;border-bottom: 1px solid gray;flex-grow: 1;}#sk-container-id-3 div.sk-label:hover label.sk-toggleable__label {background-color: #d4ebff;}#sk-container-id-3 div.sk-serial::before {content: \"\";position: absolute;border-left: 1px solid gray;box-sizing: border-box;top: 0;bottom: 0;left: 50%;z-index: 0;}#sk-container-id-3 div.sk-serial {display: flex;flex-direction: column;align-items: center;background-color: white;padding-right: 0.2em;padding-left: 0.2em;position: relative;}#sk-container-id-3 div.sk-item {position: relative;z-index: 1;}#sk-container-id-3 div.sk-parallel {display: flex;align-items: stretch;justify-content: center;background-color: white;position: relative;}#sk-container-id-3 div.sk-item::before, #sk-container-id-3 div.sk-parallel-item::before {content: \"\";position: absolute;border-left: 1px solid gray;box-sizing: border-box;top: 0;bottom: 0;left: 50%;z-index: -1;}#sk-container-id-3 div.sk-parallel-item {display: flex;flex-direction: column;z-index: 1;position: relative;background-color: white;}#sk-container-id-3 div.sk-parallel-item:first-child::after {align-self: flex-end;width: 50%;}#sk-container-id-3 div.sk-parallel-item:last-child::after {align-self: flex-start;width: 50%;}#sk-container-id-3 div.sk-parallel-item:only-child::after {width: 0;}#sk-container-id-3 div.sk-dashed-wrapped {border: 1px dashed gray;margin: 0 0.4em 0.5em 0.4em;box-sizing: border-box;padding-bottom: 0.4em;background-color: white;}#sk-container-id-3 div.sk-label label {font-family: monospace;font-weight: bold;display: inline-block;line-height: 1.2em;}#sk-container-id-3 div.sk-label-container {text-align: center;}#sk-container-id-3 div.sk-container {/* jupyter's `normalize.less` sets `[hidden] { display: none; }` but bootstrap.min.css set `[hidden] { display: none !important; }` so we also need the `!important` here to be able to override the default hidden behavior on the sphinx rendered scikit-learn.org. See: https://github.com/scikit-learn/scikit-learn/issues/21755 */display: inline-block !important;position: relative;}#sk-container-id-3 div.sk-text-repr-fallback {display: none;}</style><div id=\"sk-container-id-3\" class=\"sk-top-container\"><div class=\"sk-text-repr-fallback\"><pre>Pipeline(steps=[(&#x27;preprocessor&#x27;,\n",
       "                 ColumnTransformer(transformers=[(&#x27;num&#x27;,\n",
       "                                                  Pipeline(steps=[(&#x27;scaler&#x27;,\n",
       "                                                                   StandardScaler())]),\n",
       "                                                  Index([&#x27;age_of_household_head&#x27;, &#x27;no_of_people_in_household&#x27;, &#x27;no_of_adults&#x27;,\n",
       "       &#x27;no_of_children&#x27;, &#x27;age_at_first_sexual_encounter&#x27;, &#x27;bio_medical&#x27;,\n",
       "       &#x27;social_protection&#x27;, &#x27;behavioral&#x27;, &#x27;post_gbv_care&#x27;,\n",
       "       &#x27;other_interventions&#x27;, &#x27;age_at_enrollment&#x27;],\n",
       "      dtyp...\n",
       "       &#x27;are_both_parents_alive&#x27;, &#x27;ever_missed_full_day_food_in_4wks&#x27;,\n",
       "       &#x27;no_of_days_missed_food_in_4wks&#x27;, &#x27;currently_in_school&#x27;,\n",
       "       &#x27;current_school_level&#x27;, &#x27;current_income_source&#x27;, &#x27;last_test_result&#x27;,\n",
       "       &#x27;ever_had_sex&#x27;, &#x27;has_sexual_partner&#x27;, &#x27;age_of_last_partner&#x27;,\n",
       "       &#x27;used_condom_with_last_partner&#x27;, &#x27;exit_status&#x27;, &#x27;exit_reason&#x27;],\n",
       "      dtype=&#x27;object&#x27;))])),\n",
       "                (&#x27;clf&#x27;, LogisticRegression(class_weight=&#x27;balanced&#x27;))])</pre><b>In a Jupyter environment, please rerun this cell to show the HTML representation or trust the notebook. <br />On GitHub, the HTML representation is unable to render, please try loading this page with nbviewer.org.</b></div><div class=\"sk-container\" hidden><div class=\"sk-item sk-dashed-wrapped\"><div class=\"sk-label-container\"><div class=\"sk-label sk-toggleable\"><input class=\"sk-toggleable__control sk-hidden--visually\" id=\"sk-estimator-id-15\" type=\"checkbox\" ><label for=\"sk-estimator-id-15\" class=\"sk-toggleable__label sk-toggleable__label-arrow\">Pipeline</label><div class=\"sk-toggleable__content\"><pre>Pipeline(steps=[(&#x27;preprocessor&#x27;,\n",
       "                 ColumnTransformer(transformers=[(&#x27;num&#x27;,\n",
       "                                                  Pipeline(steps=[(&#x27;scaler&#x27;,\n",
       "                                                                   StandardScaler())]),\n",
       "                                                  Index([&#x27;age_of_household_head&#x27;, &#x27;no_of_people_in_household&#x27;, &#x27;no_of_adults&#x27;,\n",
       "       &#x27;no_of_children&#x27;, &#x27;age_at_first_sexual_encounter&#x27;, &#x27;bio_medical&#x27;,\n",
       "       &#x27;social_protection&#x27;, &#x27;behavioral&#x27;, &#x27;post_gbv_care&#x27;,\n",
       "       &#x27;other_interventions&#x27;, &#x27;age_at_enrollment&#x27;],\n",
       "      dtyp...\n",
       "       &#x27;are_both_parents_alive&#x27;, &#x27;ever_missed_full_day_food_in_4wks&#x27;,\n",
       "       &#x27;no_of_days_missed_food_in_4wks&#x27;, &#x27;currently_in_school&#x27;,\n",
       "       &#x27;current_school_level&#x27;, &#x27;current_income_source&#x27;, &#x27;last_test_result&#x27;,\n",
       "       &#x27;ever_had_sex&#x27;, &#x27;has_sexual_partner&#x27;, &#x27;age_of_last_partner&#x27;,\n",
       "       &#x27;used_condom_with_last_partner&#x27;, &#x27;exit_status&#x27;, &#x27;exit_reason&#x27;],\n",
       "      dtype=&#x27;object&#x27;))])),\n",
       "                (&#x27;clf&#x27;, LogisticRegression(class_weight=&#x27;balanced&#x27;))])</pre></div></div></div><div class=\"sk-serial\"><div class=\"sk-item sk-dashed-wrapped\"><div class=\"sk-label-container\"><div class=\"sk-label sk-toggleable\"><input class=\"sk-toggleable__control sk-hidden--visually\" id=\"sk-estimator-id-16\" type=\"checkbox\" ><label for=\"sk-estimator-id-16\" class=\"sk-toggleable__label sk-toggleable__label-arrow\">preprocessor: ColumnTransformer</label><div class=\"sk-toggleable__content\"><pre>ColumnTransformer(transformers=[(&#x27;num&#x27;,\n",
       "                                 Pipeline(steps=[(&#x27;scaler&#x27;, StandardScaler())]),\n",
       "                                 Index([&#x27;age_of_household_head&#x27;, &#x27;no_of_people_in_household&#x27;, &#x27;no_of_adults&#x27;,\n",
       "       &#x27;no_of_children&#x27;, &#x27;age_at_first_sexual_encounter&#x27;, &#x27;bio_medical&#x27;,\n",
       "       &#x27;social_protection&#x27;, &#x27;behavioral&#x27;, &#x27;post_gbv_care&#x27;,\n",
       "       &#x27;other_interventions&#x27;, &#x27;age_at_enrollment&#x27;],\n",
       "      dtype=&#x27;object&#x27;)),\n",
       "                                (&#x27;cat&#x27;,\n",
       "                                 Pipeline(ste...\n",
       "                                 Index([&#x27;county&#x27;, &#x27;head_of_household&#x27;, &#x27;father_alive&#x27;, &#x27;mother_alive&#x27;,\n",
       "       &#x27;are_both_parents_alive&#x27;, &#x27;ever_missed_full_day_food_in_4wks&#x27;,\n",
       "       &#x27;no_of_days_missed_food_in_4wks&#x27;, &#x27;currently_in_school&#x27;,\n",
       "       &#x27;current_school_level&#x27;, &#x27;current_income_source&#x27;, &#x27;last_test_result&#x27;,\n",
       "       &#x27;ever_had_sex&#x27;, &#x27;has_sexual_partner&#x27;, &#x27;age_of_last_partner&#x27;,\n",
       "       &#x27;used_condom_with_last_partner&#x27;, &#x27;exit_status&#x27;, &#x27;exit_reason&#x27;],\n",
       "      dtype=&#x27;object&#x27;))])</pre></div></div></div><div class=\"sk-parallel\"><div class=\"sk-parallel-item\"><div class=\"sk-item\"><div class=\"sk-label-container\"><div class=\"sk-label sk-toggleable\"><input class=\"sk-toggleable__control sk-hidden--visually\" id=\"sk-estimator-id-17\" type=\"checkbox\" ><label for=\"sk-estimator-id-17\" class=\"sk-toggleable__label sk-toggleable__label-arrow\">num</label><div class=\"sk-toggleable__content\"><pre>Index([&#x27;age_of_household_head&#x27;, &#x27;no_of_people_in_household&#x27;, &#x27;no_of_adults&#x27;,\n",
       "       &#x27;no_of_children&#x27;, &#x27;age_at_first_sexual_encounter&#x27;, &#x27;bio_medical&#x27;,\n",
       "       &#x27;social_protection&#x27;, &#x27;behavioral&#x27;, &#x27;post_gbv_care&#x27;,\n",
       "       &#x27;other_interventions&#x27;, &#x27;age_at_enrollment&#x27;],\n",
       "      dtype=&#x27;object&#x27;)</pre></div></div></div><div class=\"sk-serial\"><div class=\"sk-item\"><div class=\"sk-serial\"><div class=\"sk-item\"><div class=\"sk-estimator sk-toggleable\"><input class=\"sk-toggleable__control sk-hidden--visually\" id=\"sk-estimator-id-18\" type=\"checkbox\" ><label for=\"sk-estimator-id-18\" class=\"sk-toggleable__label sk-toggleable__label-arrow\">StandardScaler</label><div class=\"sk-toggleable__content\"><pre>StandardScaler()</pre></div></div></div></div></div></div></div></div><div class=\"sk-parallel-item\"><div class=\"sk-item\"><div class=\"sk-label-container\"><div class=\"sk-label sk-toggleable\"><input class=\"sk-toggleable__control sk-hidden--visually\" id=\"sk-estimator-id-19\" type=\"checkbox\" ><label for=\"sk-estimator-id-19\" class=\"sk-toggleable__label sk-toggleable__label-arrow\">cat</label><div class=\"sk-toggleable__content\"><pre>Index([&#x27;county&#x27;, &#x27;head_of_household&#x27;, &#x27;father_alive&#x27;, &#x27;mother_alive&#x27;,\n",
       "       &#x27;are_both_parents_alive&#x27;, &#x27;ever_missed_full_day_food_in_4wks&#x27;,\n",
       "       &#x27;no_of_days_missed_food_in_4wks&#x27;, &#x27;currently_in_school&#x27;,\n",
       "       &#x27;current_school_level&#x27;, &#x27;current_income_source&#x27;, &#x27;last_test_result&#x27;,\n",
       "       &#x27;ever_had_sex&#x27;, &#x27;has_sexual_partner&#x27;, &#x27;age_of_last_partner&#x27;,\n",
       "       &#x27;used_condom_with_last_partner&#x27;, &#x27;exit_status&#x27;, &#x27;exit_reason&#x27;],\n",
       "      dtype=&#x27;object&#x27;)</pre></div></div></div><div class=\"sk-serial\"><div class=\"sk-item\"><div class=\"sk-serial\"><div class=\"sk-item\"><div class=\"sk-estimator sk-toggleable\"><input class=\"sk-toggleable__control sk-hidden--visually\" id=\"sk-estimator-id-20\" type=\"checkbox\" ><label for=\"sk-estimator-id-20\" class=\"sk-toggleable__label sk-toggleable__label-arrow\">OneHotEncoder</label><div class=\"sk-toggleable__content\"><pre>OneHotEncoder(handle_unknown=&#x27;ignore&#x27;)</pre></div></div></div></div></div></div></div></div></div></div><div class=\"sk-item\"><div class=\"sk-estimator sk-toggleable\"><input class=\"sk-toggleable__control sk-hidden--visually\" id=\"sk-estimator-id-21\" type=\"checkbox\" ><label for=\"sk-estimator-id-21\" class=\"sk-toggleable__label sk-toggleable__label-arrow\">LogisticRegression</label><div class=\"sk-toggleable__content\"><pre>LogisticRegression(class_weight=&#x27;balanced&#x27;)</pre></div></div></div></div></div></div></div>"
      ],
      "text/plain": [
       "Pipeline(steps=[('preprocessor',\n",
       "                 ColumnTransformer(transformers=[('num',\n",
       "                                                  Pipeline(steps=[('scaler',\n",
       "                                                                   StandardScaler())]),\n",
       "                                                  Index(['age_of_household_head', 'no_of_people_in_household', 'no_of_adults',\n",
       "       'no_of_children', 'age_at_first_sexual_encounter', 'bio_medical',\n",
       "       'social_protection', 'behavioral', 'post_gbv_care',\n",
       "       'other_interventions', 'age_at_enrollment'],\n",
       "      dtyp...\n",
       "       'are_both_parents_alive', 'ever_missed_full_day_food_in_4wks',\n",
       "       'no_of_days_missed_food_in_4wks', 'currently_in_school',\n",
       "       'current_school_level', 'current_income_source', 'last_test_result',\n",
       "       'ever_had_sex', 'has_sexual_partner', 'age_of_last_partner',\n",
       "       'used_condom_with_last_partner', 'exit_status', 'exit_reason'],\n",
       "      dtype='object'))])),\n",
       "                ('clf', LogisticRegression(class_weight='balanced'))])"
      ]
     },
     "execution_count": 196,
     "metadata": {},
     "output_type": "execute_result"
    }
   ],
   "source": [
    "#Fit baseline model\n",
    "lr_model.fit(X_train, y_train)"
   ]
  },
  {
   "cell_type": "code",
   "execution_count": 197,
   "metadata": {},
   "outputs": [],
   "source": [
    "#Make predictions\n",
    "y_pred = lr_model.predict(X_test)"
   ]
  },
  {
   "cell_type": "code",
   "execution_count": 198,
   "metadata": {},
   "outputs": [
    {
     "name": "stdout",
     "output_type": "stream",
     "text": [
      "Accuracy: 72.33%\n",
      "Precision: 0.59%\n",
      "Recall: 70.14%\n",
      "F1 Score: 1.16%\n"
     ]
    }
   ],
   "source": [
    "# Evaluate the model\n",
    "accuracy = accuracy_score(y_test, y_pred)\n",
    "precision = precision_score(y_test, y_pred)\n",
    "recall = recall_score(y_test, y_pred)\n",
    "f1 = f1_score(y_test, y_pred)\n",
    "\n",
    "print(f'Accuracy: {accuracy*100:.2f}%')\n",
    "print(f\"Precision: {precision*100:.2f}%\")\n",
    "print(f\"Recall: {recall*100:.2f}%\")\n",
    "print(f\"F1 Score: {f1*100:.2f}%\")"
   ]
  },
  {
   "cell_type": "code",
   "execution_count": 199,
   "metadata": {},
   "outputs": [
    {
     "name": "stdout",
     "output_type": "stream",
     "text": [
      "Confusion Matrix:\n",
      " [[65741 25139]\n",
      " [   63   148]]\n"
     ]
    }
   ],
   "source": [
    "# confusion matrix\n",
    "cm = confusion_matrix(y_test, y_pred)\n",
    "print(\"Confusion Matrix:\\n\", cm)"
   ]
  },
  {
   "cell_type": "markdown",
   "metadata": {},
   "source": [
    "### Observation\n",
    "* Classifier is heavily biased towards dominant class(negative class)\n",
    "* Model performance is very low despite setting class_weight to 'balanced'"
   ]
  },
  {
   "cell_type": "markdown",
   "metadata": {},
   "source": [
    "### 6.1.2 Vanila Random forest model"
   ]
  },
  {
   "cell_type": "code",
   "execution_count": 203,
   "metadata": {},
   "outputs": [],
   "source": [
    "#Random Forest model\n",
    "rf = Pipeline(steps=[\n",
    "    ('preprocessor', preprocessor),\n",
    "    ('clf', RandomForestClassifier(class_weight='balanced'))\n",
    "])"
   ]
  },
  {
   "cell_type": "code",
   "execution_count": 204,
   "metadata": {},
   "outputs": [
    {
     "data": {
      "text/html": [
       "<style>#sk-container-id-4 {color: black;}#sk-container-id-4 pre{padding: 0;}#sk-container-id-4 div.sk-toggleable {background-color: white;}#sk-container-id-4 label.sk-toggleable__label {cursor: pointer;display: block;width: 100%;margin-bottom: 0;padding: 0.3em;box-sizing: border-box;text-align: center;}#sk-container-id-4 label.sk-toggleable__label-arrow:before {content: \"▸\";float: left;margin-right: 0.25em;color: #696969;}#sk-container-id-4 label.sk-toggleable__label-arrow:hover:before {color: black;}#sk-container-id-4 div.sk-estimator:hover label.sk-toggleable__label-arrow:before {color: black;}#sk-container-id-4 div.sk-toggleable__content {max-height: 0;max-width: 0;overflow: hidden;text-align: left;background-color: #f0f8ff;}#sk-container-id-4 div.sk-toggleable__content pre {margin: 0.2em;color: black;border-radius: 0.25em;background-color: #f0f8ff;}#sk-container-id-4 input.sk-toggleable__control:checked~div.sk-toggleable__content {max-height: 200px;max-width: 100%;overflow: auto;}#sk-container-id-4 input.sk-toggleable__control:checked~label.sk-toggleable__label-arrow:before {content: \"▾\";}#sk-container-id-4 div.sk-estimator input.sk-toggleable__control:checked~label.sk-toggleable__label {background-color: #d4ebff;}#sk-container-id-4 div.sk-label input.sk-toggleable__control:checked~label.sk-toggleable__label {background-color: #d4ebff;}#sk-container-id-4 input.sk-hidden--visually {border: 0;clip: rect(1px 1px 1px 1px);clip: rect(1px, 1px, 1px, 1px);height: 1px;margin: -1px;overflow: hidden;padding: 0;position: absolute;width: 1px;}#sk-container-id-4 div.sk-estimator {font-family: monospace;background-color: #f0f8ff;border: 1px dotted black;border-radius: 0.25em;box-sizing: border-box;margin-bottom: 0.5em;}#sk-container-id-4 div.sk-estimator:hover {background-color: #d4ebff;}#sk-container-id-4 div.sk-parallel-item::after {content: \"\";width: 100%;border-bottom: 1px solid gray;flex-grow: 1;}#sk-container-id-4 div.sk-label:hover label.sk-toggleable__label {background-color: #d4ebff;}#sk-container-id-4 div.sk-serial::before {content: \"\";position: absolute;border-left: 1px solid gray;box-sizing: border-box;top: 0;bottom: 0;left: 50%;z-index: 0;}#sk-container-id-4 div.sk-serial {display: flex;flex-direction: column;align-items: center;background-color: white;padding-right: 0.2em;padding-left: 0.2em;position: relative;}#sk-container-id-4 div.sk-item {position: relative;z-index: 1;}#sk-container-id-4 div.sk-parallel {display: flex;align-items: stretch;justify-content: center;background-color: white;position: relative;}#sk-container-id-4 div.sk-item::before, #sk-container-id-4 div.sk-parallel-item::before {content: \"\";position: absolute;border-left: 1px solid gray;box-sizing: border-box;top: 0;bottom: 0;left: 50%;z-index: -1;}#sk-container-id-4 div.sk-parallel-item {display: flex;flex-direction: column;z-index: 1;position: relative;background-color: white;}#sk-container-id-4 div.sk-parallel-item:first-child::after {align-self: flex-end;width: 50%;}#sk-container-id-4 div.sk-parallel-item:last-child::after {align-self: flex-start;width: 50%;}#sk-container-id-4 div.sk-parallel-item:only-child::after {width: 0;}#sk-container-id-4 div.sk-dashed-wrapped {border: 1px dashed gray;margin: 0 0.4em 0.5em 0.4em;box-sizing: border-box;padding-bottom: 0.4em;background-color: white;}#sk-container-id-4 div.sk-label label {font-family: monospace;font-weight: bold;display: inline-block;line-height: 1.2em;}#sk-container-id-4 div.sk-label-container {text-align: center;}#sk-container-id-4 div.sk-container {/* jupyter's `normalize.less` sets `[hidden] { display: none; }` but bootstrap.min.css set `[hidden] { display: none !important; }` so we also need the `!important` here to be able to override the default hidden behavior on the sphinx rendered scikit-learn.org. See: https://github.com/scikit-learn/scikit-learn/issues/21755 */display: inline-block !important;position: relative;}#sk-container-id-4 div.sk-text-repr-fallback {display: none;}</style><div id=\"sk-container-id-4\" class=\"sk-top-container\"><div class=\"sk-text-repr-fallback\"><pre>Pipeline(steps=[(&#x27;preprocessor&#x27;,\n",
       "                 ColumnTransformer(transformers=[(&#x27;num&#x27;,\n",
       "                                                  Pipeline(steps=[(&#x27;scaler&#x27;,\n",
       "                                                                   StandardScaler())]),\n",
       "                                                  Index([&#x27;age_of_household_head&#x27;, &#x27;no_of_people_in_household&#x27;, &#x27;no_of_adults&#x27;,\n",
       "       &#x27;no_of_children&#x27;, &#x27;age_at_first_sexual_encounter&#x27;, &#x27;bio_medical&#x27;,\n",
       "       &#x27;social_protection&#x27;, &#x27;behavioral&#x27;, &#x27;post_gbv_care&#x27;,\n",
       "       &#x27;other_interventions&#x27;, &#x27;age_at_enrollment&#x27;],\n",
       "      dtyp...\n",
       "       &#x27;are_both_parents_alive&#x27;, &#x27;ever_missed_full_day_food_in_4wks&#x27;,\n",
       "       &#x27;no_of_days_missed_food_in_4wks&#x27;, &#x27;currently_in_school&#x27;,\n",
       "       &#x27;current_school_level&#x27;, &#x27;current_income_source&#x27;, &#x27;last_test_result&#x27;,\n",
       "       &#x27;ever_had_sex&#x27;, &#x27;has_sexual_partner&#x27;, &#x27;age_of_last_partner&#x27;,\n",
       "       &#x27;used_condom_with_last_partner&#x27;, &#x27;exit_status&#x27;, &#x27;exit_reason&#x27;],\n",
       "      dtype=&#x27;object&#x27;))])),\n",
       "                (&#x27;clf&#x27;, RandomForestClassifier(class_weight=&#x27;balanced&#x27;))])</pre><b>In a Jupyter environment, please rerun this cell to show the HTML representation or trust the notebook. <br />On GitHub, the HTML representation is unable to render, please try loading this page with nbviewer.org.</b></div><div class=\"sk-container\" hidden><div class=\"sk-item sk-dashed-wrapped\"><div class=\"sk-label-container\"><div class=\"sk-label sk-toggleable\"><input class=\"sk-toggleable__control sk-hidden--visually\" id=\"sk-estimator-id-22\" type=\"checkbox\" ><label for=\"sk-estimator-id-22\" class=\"sk-toggleable__label sk-toggleable__label-arrow\">Pipeline</label><div class=\"sk-toggleable__content\"><pre>Pipeline(steps=[(&#x27;preprocessor&#x27;,\n",
       "                 ColumnTransformer(transformers=[(&#x27;num&#x27;,\n",
       "                                                  Pipeline(steps=[(&#x27;scaler&#x27;,\n",
       "                                                                   StandardScaler())]),\n",
       "                                                  Index([&#x27;age_of_household_head&#x27;, &#x27;no_of_people_in_household&#x27;, &#x27;no_of_adults&#x27;,\n",
       "       &#x27;no_of_children&#x27;, &#x27;age_at_first_sexual_encounter&#x27;, &#x27;bio_medical&#x27;,\n",
       "       &#x27;social_protection&#x27;, &#x27;behavioral&#x27;, &#x27;post_gbv_care&#x27;,\n",
       "       &#x27;other_interventions&#x27;, &#x27;age_at_enrollment&#x27;],\n",
       "      dtyp...\n",
       "       &#x27;are_both_parents_alive&#x27;, &#x27;ever_missed_full_day_food_in_4wks&#x27;,\n",
       "       &#x27;no_of_days_missed_food_in_4wks&#x27;, &#x27;currently_in_school&#x27;,\n",
       "       &#x27;current_school_level&#x27;, &#x27;current_income_source&#x27;, &#x27;last_test_result&#x27;,\n",
       "       &#x27;ever_had_sex&#x27;, &#x27;has_sexual_partner&#x27;, &#x27;age_of_last_partner&#x27;,\n",
       "       &#x27;used_condom_with_last_partner&#x27;, &#x27;exit_status&#x27;, &#x27;exit_reason&#x27;],\n",
       "      dtype=&#x27;object&#x27;))])),\n",
       "                (&#x27;clf&#x27;, RandomForestClassifier(class_weight=&#x27;balanced&#x27;))])</pre></div></div></div><div class=\"sk-serial\"><div class=\"sk-item sk-dashed-wrapped\"><div class=\"sk-label-container\"><div class=\"sk-label sk-toggleable\"><input class=\"sk-toggleable__control sk-hidden--visually\" id=\"sk-estimator-id-23\" type=\"checkbox\" ><label for=\"sk-estimator-id-23\" class=\"sk-toggleable__label sk-toggleable__label-arrow\">preprocessor: ColumnTransformer</label><div class=\"sk-toggleable__content\"><pre>ColumnTransformer(transformers=[(&#x27;num&#x27;,\n",
       "                                 Pipeline(steps=[(&#x27;scaler&#x27;, StandardScaler())]),\n",
       "                                 Index([&#x27;age_of_household_head&#x27;, &#x27;no_of_people_in_household&#x27;, &#x27;no_of_adults&#x27;,\n",
       "       &#x27;no_of_children&#x27;, &#x27;age_at_first_sexual_encounter&#x27;, &#x27;bio_medical&#x27;,\n",
       "       &#x27;social_protection&#x27;, &#x27;behavioral&#x27;, &#x27;post_gbv_care&#x27;,\n",
       "       &#x27;other_interventions&#x27;, &#x27;age_at_enrollment&#x27;],\n",
       "      dtype=&#x27;object&#x27;)),\n",
       "                                (&#x27;cat&#x27;,\n",
       "                                 Pipeline(ste...\n",
       "                                 Index([&#x27;county&#x27;, &#x27;head_of_household&#x27;, &#x27;father_alive&#x27;, &#x27;mother_alive&#x27;,\n",
       "       &#x27;are_both_parents_alive&#x27;, &#x27;ever_missed_full_day_food_in_4wks&#x27;,\n",
       "       &#x27;no_of_days_missed_food_in_4wks&#x27;, &#x27;currently_in_school&#x27;,\n",
       "       &#x27;current_school_level&#x27;, &#x27;current_income_source&#x27;, &#x27;last_test_result&#x27;,\n",
       "       &#x27;ever_had_sex&#x27;, &#x27;has_sexual_partner&#x27;, &#x27;age_of_last_partner&#x27;,\n",
       "       &#x27;used_condom_with_last_partner&#x27;, &#x27;exit_status&#x27;, &#x27;exit_reason&#x27;],\n",
       "      dtype=&#x27;object&#x27;))])</pre></div></div></div><div class=\"sk-parallel\"><div class=\"sk-parallel-item\"><div class=\"sk-item\"><div class=\"sk-label-container\"><div class=\"sk-label sk-toggleable\"><input class=\"sk-toggleable__control sk-hidden--visually\" id=\"sk-estimator-id-24\" type=\"checkbox\" ><label for=\"sk-estimator-id-24\" class=\"sk-toggleable__label sk-toggleable__label-arrow\">num</label><div class=\"sk-toggleable__content\"><pre>Index([&#x27;age_of_household_head&#x27;, &#x27;no_of_people_in_household&#x27;, &#x27;no_of_adults&#x27;,\n",
       "       &#x27;no_of_children&#x27;, &#x27;age_at_first_sexual_encounter&#x27;, &#x27;bio_medical&#x27;,\n",
       "       &#x27;social_protection&#x27;, &#x27;behavioral&#x27;, &#x27;post_gbv_care&#x27;,\n",
       "       &#x27;other_interventions&#x27;, &#x27;age_at_enrollment&#x27;],\n",
       "      dtype=&#x27;object&#x27;)</pre></div></div></div><div class=\"sk-serial\"><div class=\"sk-item\"><div class=\"sk-serial\"><div class=\"sk-item\"><div class=\"sk-estimator sk-toggleable\"><input class=\"sk-toggleable__control sk-hidden--visually\" id=\"sk-estimator-id-25\" type=\"checkbox\" ><label for=\"sk-estimator-id-25\" class=\"sk-toggleable__label sk-toggleable__label-arrow\">StandardScaler</label><div class=\"sk-toggleable__content\"><pre>StandardScaler()</pre></div></div></div></div></div></div></div></div><div class=\"sk-parallel-item\"><div class=\"sk-item\"><div class=\"sk-label-container\"><div class=\"sk-label sk-toggleable\"><input class=\"sk-toggleable__control sk-hidden--visually\" id=\"sk-estimator-id-26\" type=\"checkbox\" ><label for=\"sk-estimator-id-26\" class=\"sk-toggleable__label sk-toggleable__label-arrow\">cat</label><div class=\"sk-toggleable__content\"><pre>Index([&#x27;county&#x27;, &#x27;head_of_household&#x27;, &#x27;father_alive&#x27;, &#x27;mother_alive&#x27;,\n",
       "       &#x27;are_both_parents_alive&#x27;, &#x27;ever_missed_full_day_food_in_4wks&#x27;,\n",
       "       &#x27;no_of_days_missed_food_in_4wks&#x27;, &#x27;currently_in_school&#x27;,\n",
       "       &#x27;current_school_level&#x27;, &#x27;current_income_source&#x27;, &#x27;last_test_result&#x27;,\n",
       "       &#x27;ever_had_sex&#x27;, &#x27;has_sexual_partner&#x27;, &#x27;age_of_last_partner&#x27;,\n",
       "       &#x27;used_condom_with_last_partner&#x27;, &#x27;exit_status&#x27;, &#x27;exit_reason&#x27;],\n",
       "      dtype=&#x27;object&#x27;)</pre></div></div></div><div class=\"sk-serial\"><div class=\"sk-item\"><div class=\"sk-serial\"><div class=\"sk-item\"><div class=\"sk-estimator sk-toggleable\"><input class=\"sk-toggleable__control sk-hidden--visually\" id=\"sk-estimator-id-27\" type=\"checkbox\" ><label for=\"sk-estimator-id-27\" class=\"sk-toggleable__label sk-toggleable__label-arrow\">OneHotEncoder</label><div class=\"sk-toggleable__content\"><pre>OneHotEncoder(handle_unknown=&#x27;ignore&#x27;)</pre></div></div></div></div></div></div></div></div></div></div><div class=\"sk-item\"><div class=\"sk-estimator sk-toggleable\"><input class=\"sk-toggleable__control sk-hidden--visually\" id=\"sk-estimator-id-28\" type=\"checkbox\" ><label for=\"sk-estimator-id-28\" class=\"sk-toggleable__label sk-toggleable__label-arrow\">RandomForestClassifier</label><div class=\"sk-toggleable__content\"><pre>RandomForestClassifier(class_weight=&#x27;balanced&#x27;)</pre></div></div></div></div></div></div></div>"
      ],
      "text/plain": [
       "Pipeline(steps=[('preprocessor',\n",
       "                 ColumnTransformer(transformers=[('num',\n",
       "                                                  Pipeline(steps=[('scaler',\n",
       "                                                                   StandardScaler())]),\n",
       "                                                  Index(['age_of_household_head', 'no_of_people_in_household', 'no_of_adults',\n",
       "       'no_of_children', 'age_at_first_sexual_encounter', 'bio_medical',\n",
       "       'social_protection', 'behavioral', 'post_gbv_care',\n",
       "       'other_interventions', 'age_at_enrollment'],\n",
       "      dtyp...\n",
       "       'are_both_parents_alive', 'ever_missed_full_day_food_in_4wks',\n",
       "       'no_of_days_missed_food_in_4wks', 'currently_in_school',\n",
       "       'current_school_level', 'current_income_source', 'last_test_result',\n",
       "       'ever_had_sex', 'has_sexual_partner', 'age_of_last_partner',\n",
       "       'used_condom_with_last_partner', 'exit_status', 'exit_reason'],\n",
       "      dtype='object'))])),\n",
       "                ('clf', RandomForestClassifier(class_weight='balanced'))])"
      ]
     },
     "execution_count": 204,
     "metadata": {},
     "output_type": "execute_result"
    }
   ],
   "source": [
    "#Fit RandomForest model\n",
    "rf.fit(X_train, y_train)"
   ]
  },
  {
   "cell_type": "code",
   "execution_count": 205,
   "metadata": {},
   "outputs": [],
   "source": [
    "#Make predictions\n",
    "y_pred_rf = rf.predict(X_test)"
   ]
  },
  {
   "cell_type": "code",
   "execution_count": 206,
   "metadata": {},
   "outputs": [
    {
     "name": "stdout",
     "output_type": "stream",
     "text": [
      "Accuracy: 99.75%\n",
      "Precision: 0.00%\n",
      "Recall: 0.00%\n",
      "F1 Score: 0.00%\n"
     ]
    }
   ],
   "source": [
    "# Evaluate the model\n",
    "rf_accuracy = accuracy_score(y_test, y_pred_rf)\n",
    "rf_precision = precision_score(y_test, y_pred_rf)\n",
    "rf_recall = recall_score(y_test, y_pred_rf)\n",
    "rf_f1 = f1_score(y_test, y_pred_rf)\n",
    "\n",
    "print(f'Accuracy: {rf_accuracy*100:.2f}%')\n",
    "print(f\"Precision: {rf_precision*100:.2f}%\")\n",
    "print(f\"Recall: {rf_recall*100:.2f}%\")\n",
    "print(f\"F1 Score: {rf_f1*100:.2f}%\")"
   ]
  },
  {
   "cell_type": "code",
   "execution_count": 207,
   "metadata": {},
   "outputs": [
    {
     "name": "stdout",
     "output_type": "stream",
     "text": [
      "Confusion Matrix:\n",
      " [[90863    17]\n",
      " [  211     0]]\n"
     ]
    }
   ],
   "source": [
    "# confusion matrix\n",
    "cm_rf = confusion_matrix(y_test, y_pred_rf)\n",
    "print(\"Confusion Matrix:\\n\", cm_rf)"
   ]
  },
  {
   "cell_type": "markdown",
   "metadata": {},
   "source": [
    "### Observation\n",
    "\n",
    "* "
   ]
  },
  {
   "cell_type": "markdown",
   "metadata": {},
   "source": [
    "### 6.1.3 XGBoost Model (Vanila)"
   ]
  },
  {
   "cell_type": "code",
   "execution_count": 247,
   "metadata": {},
   "outputs": [],
   "source": [
    "import xgboost as xgb\n",
    "from sklearn.metrics import classification_report"
   ]
  },
  {
   "cell_type": "code",
   "execution_count": 248,
   "metadata": {},
   "outputs": [],
   "source": [
    "#xgb model\n",
    "xgb = Pipeline(steps=[\n",
    "    ('preprocessor', preprocessor),\n",
    "    ('clf', xgb.XGBClassifier(random_state=42))\n",
    "])"
   ]
  },
  {
   "cell_type": "code",
   "execution_count": 211,
   "metadata": {},
   "outputs": [
    {
     "data": {
      "text/html": [
       "<style>#sk-container-id-5 {color: black;}#sk-container-id-5 pre{padding: 0;}#sk-container-id-5 div.sk-toggleable {background-color: white;}#sk-container-id-5 label.sk-toggleable__label {cursor: pointer;display: block;width: 100%;margin-bottom: 0;padding: 0.3em;box-sizing: border-box;text-align: center;}#sk-container-id-5 label.sk-toggleable__label-arrow:before {content: \"▸\";float: left;margin-right: 0.25em;color: #696969;}#sk-container-id-5 label.sk-toggleable__label-arrow:hover:before {color: black;}#sk-container-id-5 div.sk-estimator:hover label.sk-toggleable__label-arrow:before {color: black;}#sk-container-id-5 div.sk-toggleable__content {max-height: 0;max-width: 0;overflow: hidden;text-align: left;background-color: #f0f8ff;}#sk-container-id-5 div.sk-toggleable__content pre {margin: 0.2em;color: black;border-radius: 0.25em;background-color: #f0f8ff;}#sk-container-id-5 input.sk-toggleable__control:checked~div.sk-toggleable__content {max-height: 200px;max-width: 100%;overflow: auto;}#sk-container-id-5 input.sk-toggleable__control:checked~label.sk-toggleable__label-arrow:before {content: \"▾\";}#sk-container-id-5 div.sk-estimator input.sk-toggleable__control:checked~label.sk-toggleable__label {background-color: #d4ebff;}#sk-container-id-5 div.sk-label input.sk-toggleable__control:checked~label.sk-toggleable__label {background-color: #d4ebff;}#sk-container-id-5 input.sk-hidden--visually {border: 0;clip: rect(1px 1px 1px 1px);clip: rect(1px, 1px, 1px, 1px);height: 1px;margin: -1px;overflow: hidden;padding: 0;position: absolute;width: 1px;}#sk-container-id-5 div.sk-estimator {font-family: monospace;background-color: #f0f8ff;border: 1px dotted black;border-radius: 0.25em;box-sizing: border-box;margin-bottom: 0.5em;}#sk-container-id-5 div.sk-estimator:hover {background-color: #d4ebff;}#sk-container-id-5 div.sk-parallel-item::after {content: \"\";width: 100%;border-bottom: 1px solid gray;flex-grow: 1;}#sk-container-id-5 div.sk-label:hover label.sk-toggleable__label {background-color: #d4ebff;}#sk-container-id-5 div.sk-serial::before {content: \"\";position: absolute;border-left: 1px solid gray;box-sizing: border-box;top: 0;bottom: 0;left: 50%;z-index: 0;}#sk-container-id-5 div.sk-serial {display: flex;flex-direction: column;align-items: center;background-color: white;padding-right: 0.2em;padding-left: 0.2em;position: relative;}#sk-container-id-5 div.sk-item {position: relative;z-index: 1;}#sk-container-id-5 div.sk-parallel {display: flex;align-items: stretch;justify-content: center;background-color: white;position: relative;}#sk-container-id-5 div.sk-item::before, #sk-container-id-5 div.sk-parallel-item::before {content: \"\";position: absolute;border-left: 1px solid gray;box-sizing: border-box;top: 0;bottom: 0;left: 50%;z-index: -1;}#sk-container-id-5 div.sk-parallel-item {display: flex;flex-direction: column;z-index: 1;position: relative;background-color: white;}#sk-container-id-5 div.sk-parallel-item:first-child::after {align-self: flex-end;width: 50%;}#sk-container-id-5 div.sk-parallel-item:last-child::after {align-self: flex-start;width: 50%;}#sk-container-id-5 div.sk-parallel-item:only-child::after {width: 0;}#sk-container-id-5 div.sk-dashed-wrapped {border: 1px dashed gray;margin: 0 0.4em 0.5em 0.4em;box-sizing: border-box;padding-bottom: 0.4em;background-color: white;}#sk-container-id-5 div.sk-label label {font-family: monospace;font-weight: bold;display: inline-block;line-height: 1.2em;}#sk-container-id-5 div.sk-label-container {text-align: center;}#sk-container-id-5 div.sk-container {/* jupyter's `normalize.less` sets `[hidden] { display: none; }` but bootstrap.min.css set `[hidden] { display: none !important; }` so we also need the `!important` here to be able to override the default hidden behavior on the sphinx rendered scikit-learn.org. See: https://github.com/scikit-learn/scikit-learn/issues/21755 */display: inline-block !important;position: relative;}#sk-container-id-5 div.sk-text-repr-fallback {display: none;}</style><div id=\"sk-container-id-5\" class=\"sk-top-container\"><div class=\"sk-text-repr-fallback\"><pre>Pipeline(steps=[(&#x27;preprocessor&#x27;,\n",
       "                 ColumnTransformer(transformers=[(&#x27;num&#x27;,\n",
       "                                                  Pipeline(steps=[(&#x27;scaler&#x27;,\n",
       "                                                                   StandardScaler())]),\n",
       "                                                  Index([&#x27;age_of_household_head&#x27;, &#x27;no_of_people_in_household&#x27;, &#x27;no_of_adults&#x27;,\n",
       "       &#x27;no_of_children&#x27;, &#x27;age_at_first_sexual_encounter&#x27;, &#x27;bio_medical&#x27;,\n",
       "       &#x27;social_protection&#x27;, &#x27;behavioral&#x27;, &#x27;post_gbv_care&#x27;,\n",
       "       &#x27;other_interventions&#x27;, &#x27;age_at_enrollment&#x27;],\n",
       "      dtyp...\n",
       "                               feature_types=None, gamma=None, grow_policy=None,\n",
       "                               importance_type=None,\n",
       "                               interaction_constraints=None, learning_rate=None,\n",
       "                               max_bin=None, max_cat_threshold=None,\n",
       "                               max_cat_to_onehot=None, max_delta_step=None,\n",
       "                               max_depth=None, max_leaves=None,\n",
       "                               min_child_weight=None, missing=nan,\n",
       "                               monotone_constraints=None, multi_strategy=None,\n",
       "                               n_estimators=None, n_jobs=None,\n",
       "                               num_parallel_tree=None, random_state=42, ...))])</pre><b>In a Jupyter environment, please rerun this cell to show the HTML representation or trust the notebook. <br />On GitHub, the HTML representation is unable to render, please try loading this page with nbviewer.org.</b></div><div class=\"sk-container\" hidden><div class=\"sk-item sk-dashed-wrapped\"><div class=\"sk-label-container\"><div class=\"sk-label sk-toggleable\"><input class=\"sk-toggleable__control sk-hidden--visually\" id=\"sk-estimator-id-29\" type=\"checkbox\" ><label for=\"sk-estimator-id-29\" class=\"sk-toggleable__label sk-toggleable__label-arrow\">Pipeline</label><div class=\"sk-toggleable__content\"><pre>Pipeline(steps=[(&#x27;preprocessor&#x27;,\n",
       "                 ColumnTransformer(transformers=[(&#x27;num&#x27;,\n",
       "                                                  Pipeline(steps=[(&#x27;scaler&#x27;,\n",
       "                                                                   StandardScaler())]),\n",
       "                                                  Index([&#x27;age_of_household_head&#x27;, &#x27;no_of_people_in_household&#x27;, &#x27;no_of_adults&#x27;,\n",
       "       &#x27;no_of_children&#x27;, &#x27;age_at_first_sexual_encounter&#x27;, &#x27;bio_medical&#x27;,\n",
       "       &#x27;social_protection&#x27;, &#x27;behavioral&#x27;, &#x27;post_gbv_care&#x27;,\n",
       "       &#x27;other_interventions&#x27;, &#x27;age_at_enrollment&#x27;],\n",
       "      dtyp...\n",
       "                               feature_types=None, gamma=None, grow_policy=None,\n",
       "                               importance_type=None,\n",
       "                               interaction_constraints=None, learning_rate=None,\n",
       "                               max_bin=None, max_cat_threshold=None,\n",
       "                               max_cat_to_onehot=None, max_delta_step=None,\n",
       "                               max_depth=None, max_leaves=None,\n",
       "                               min_child_weight=None, missing=nan,\n",
       "                               monotone_constraints=None, multi_strategy=None,\n",
       "                               n_estimators=None, n_jobs=None,\n",
       "                               num_parallel_tree=None, random_state=42, ...))])</pre></div></div></div><div class=\"sk-serial\"><div class=\"sk-item sk-dashed-wrapped\"><div class=\"sk-label-container\"><div class=\"sk-label sk-toggleable\"><input class=\"sk-toggleable__control sk-hidden--visually\" id=\"sk-estimator-id-30\" type=\"checkbox\" ><label for=\"sk-estimator-id-30\" class=\"sk-toggleable__label sk-toggleable__label-arrow\">preprocessor: ColumnTransformer</label><div class=\"sk-toggleable__content\"><pre>ColumnTransformer(transformers=[(&#x27;num&#x27;,\n",
       "                                 Pipeline(steps=[(&#x27;scaler&#x27;, StandardScaler())]),\n",
       "                                 Index([&#x27;age_of_household_head&#x27;, &#x27;no_of_people_in_household&#x27;, &#x27;no_of_adults&#x27;,\n",
       "       &#x27;no_of_children&#x27;, &#x27;age_at_first_sexual_encounter&#x27;, &#x27;bio_medical&#x27;,\n",
       "       &#x27;social_protection&#x27;, &#x27;behavioral&#x27;, &#x27;post_gbv_care&#x27;,\n",
       "       &#x27;other_interventions&#x27;, &#x27;age_at_enrollment&#x27;],\n",
       "      dtype=&#x27;object&#x27;)),\n",
       "                                (&#x27;cat&#x27;,\n",
       "                                 Pipeline(ste...\n",
       "                                 Index([&#x27;county&#x27;, &#x27;head_of_household&#x27;, &#x27;father_alive&#x27;, &#x27;mother_alive&#x27;,\n",
       "       &#x27;are_both_parents_alive&#x27;, &#x27;ever_missed_full_day_food_in_4wks&#x27;,\n",
       "       &#x27;no_of_days_missed_food_in_4wks&#x27;, &#x27;currently_in_school&#x27;,\n",
       "       &#x27;current_school_level&#x27;, &#x27;current_income_source&#x27;, &#x27;last_test_result&#x27;,\n",
       "       &#x27;ever_had_sex&#x27;, &#x27;has_sexual_partner&#x27;, &#x27;age_of_last_partner&#x27;,\n",
       "       &#x27;used_condom_with_last_partner&#x27;, &#x27;exit_status&#x27;, &#x27;exit_reason&#x27;],\n",
       "      dtype=&#x27;object&#x27;))])</pre></div></div></div><div class=\"sk-parallel\"><div class=\"sk-parallel-item\"><div class=\"sk-item\"><div class=\"sk-label-container\"><div class=\"sk-label sk-toggleable\"><input class=\"sk-toggleable__control sk-hidden--visually\" id=\"sk-estimator-id-31\" type=\"checkbox\" ><label for=\"sk-estimator-id-31\" class=\"sk-toggleable__label sk-toggleable__label-arrow\">num</label><div class=\"sk-toggleable__content\"><pre>Index([&#x27;age_of_household_head&#x27;, &#x27;no_of_people_in_household&#x27;, &#x27;no_of_adults&#x27;,\n",
       "       &#x27;no_of_children&#x27;, &#x27;age_at_first_sexual_encounter&#x27;, &#x27;bio_medical&#x27;,\n",
       "       &#x27;social_protection&#x27;, &#x27;behavioral&#x27;, &#x27;post_gbv_care&#x27;,\n",
       "       &#x27;other_interventions&#x27;, &#x27;age_at_enrollment&#x27;],\n",
       "      dtype=&#x27;object&#x27;)</pre></div></div></div><div class=\"sk-serial\"><div class=\"sk-item\"><div class=\"sk-serial\"><div class=\"sk-item\"><div class=\"sk-estimator sk-toggleable\"><input class=\"sk-toggleable__control sk-hidden--visually\" id=\"sk-estimator-id-32\" type=\"checkbox\" ><label for=\"sk-estimator-id-32\" class=\"sk-toggleable__label sk-toggleable__label-arrow\">StandardScaler</label><div class=\"sk-toggleable__content\"><pre>StandardScaler()</pre></div></div></div></div></div></div></div></div><div class=\"sk-parallel-item\"><div class=\"sk-item\"><div class=\"sk-label-container\"><div class=\"sk-label sk-toggleable\"><input class=\"sk-toggleable__control sk-hidden--visually\" id=\"sk-estimator-id-33\" type=\"checkbox\" ><label for=\"sk-estimator-id-33\" class=\"sk-toggleable__label sk-toggleable__label-arrow\">cat</label><div class=\"sk-toggleable__content\"><pre>Index([&#x27;county&#x27;, &#x27;head_of_household&#x27;, &#x27;father_alive&#x27;, &#x27;mother_alive&#x27;,\n",
       "       &#x27;are_both_parents_alive&#x27;, &#x27;ever_missed_full_day_food_in_4wks&#x27;,\n",
       "       &#x27;no_of_days_missed_food_in_4wks&#x27;, &#x27;currently_in_school&#x27;,\n",
       "       &#x27;current_school_level&#x27;, &#x27;current_income_source&#x27;, &#x27;last_test_result&#x27;,\n",
       "       &#x27;ever_had_sex&#x27;, &#x27;has_sexual_partner&#x27;, &#x27;age_of_last_partner&#x27;,\n",
       "       &#x27;used_condom_with_last_partner&#x27;, &#x27;exit_status&#x27;, &#x27;exit_reason&#x27;],\n",
       "      dtype=&#x27;object&#x27;)</pre></div></div></div><div class=\"sk-serial\"><div class=\"sk-item\"><div class=\"sk-serial\"><div class=\"sk-item\"><div class=\"sk-estimator sk-toggleable\"><input class=\"sk-toggleable__control sk-hidden--visually\" id=\"sk-estimator-id-34\" type=\"checkbox\" ><label for=\"sk-estimator-id-34\" class=\"sk-toggleable__label sk-toggleable__label-arrow\">OneHotEncoder</label><div class=\"sk-toggleable__content\"><pre>OneHotEncoder(handle_unknown=&#x27;ignore&#x27;)</pre></div></div></div></div></div></div></div></div></div></div><div class=\"sk-item\"><div class=\"sk-estimator sk-toggleable\"><input class=\"sk-toggleable__control sk-hidden--visually\" id=\"sk-estimator-id-35\" type=\"checkbox\" ><label for=\"sk-estimator-id-35\" class=\"sk-toggleable__label sk-toggleable__label-arrow\">XGBClassifier</label><div class=\"sk-toggleable__content\"><pre>XGBClassifier(base_score=None, booster=None, callbacks=None,\n",
       "              colsample_bylevel=None, colsample_bynode=None,\n",
       "              colsample_bytree=None, device=None, early_stopping_rounds=None,\n",
       "              enable_categorical=False, eval_metric=None, feature_types=None,\n",
       "              gamma=None, grow_policy=None, importance_type=None,\n",
       "              interaction_constraints=None, learning_rate=None, max_bin=None,\n",
       "              max_cat_threshold=None, max_cat_to_onehot=None,\n",
       "              max_delta_step=None, max_depth=None, max_leaves=None,\n",
       "              min_child_weight=None, missing=nan, monotone_constraints=None,\n",
       "              multi_strategy=None, n_estimators=None, n_jobs=None,\n",
       "              num_parallel_tree=None, random_state=42, ...)</pre></div></div></div></div></div></div></div>"
      ],
      "text/plain": [
       "Pipeline(steps=[('preprocessor',\n",
       "                 ColumnTransformer(transformers=[('num',\n",
       "                                                  Pipeline(steps=[('scaler',\n",
       "                                                                   StandardScaler())]),\n",
       "                                                  Index(['age_of_household_head', 'no_of_people_in_household', 'no_of_adults',\n",
       "       'no_of_children', 'age_at_first_sexual_encounter', 'bio_medical',\n",
       "       'social_protection', 'behavioral', 'post_gbv_care',\n",
       "       'other_interventions', 'age_at_enrollment'],\n",
       "      dtyp...\n",
       "                               feature_types=None, gamma=None, grow_policy=None,\n",
       "                               importance_type=None,\n",
       "                               interaction_constraints=None, learning_rate=None,\n",
       "                               max_bin=None, max_cat_threshold=None,\n",
       "                               max_cat_to_onehot=None, max_delta_step=None,\n",
       "                               max_depth=None, max_leaves=None,\n",
       "                               min_child_weight=None, missing=nan,\n",
       "                               monotone_constraints=None, multi_strategy=None,\n",
       "                               n_estimators=None, n_jobs=None,\n",
       "                               num_parallel_tree=None, random_state=42, ...))])"
      ]
     },
     "execution_count": 211,
     "metadata": {},
     "output_type": "execute_result"
    }
   ],
   "source": [
    "# Train XGBoost model\n",
    "xgb.fit(X_train, y_train)"
   ]
  },
  {
   "cell_type": "code",
   "execution_count": 212,
   "metadata": {},
   "outputs": [],
   "source": [
    "# Predict and evaluate\n",
    "y_pred_xgb = xgb.predict(X_test)"
   ]
  },
  {
   "cell_type": "code",
   "execution_count": 213,
   "metadata": {},
   "outputs": [
    {
     "name": "stdout",
     "output_type": "stream",
     "text": [
      "Accuracy: 99.77%\n",
      "Precision: 0.00%\n",
      "Recall: 0.00%\n",
      "F1 Score: 0.00%\n"
     ]
    }
   ],
   "source": [
    "# Evaluate the model\n",
    "xgb_accuracy = accuracy_score(y_test, y_pred_xgb)\n",
    "xgb_precision = precision_score(y_test, y_pred_xgb)\n",
    "xgb_recall = recall_score(y_test, y_pred_xgb)\n",
    "xgb_f1 = f1_score(y_test, y_pred_xgb)\n",
    "\n",
    "print(f'Accuracy: {xgb_accuracy*100:.2f}%')\n",
    "print(f\"Precision: {xgb_precision*100:.2f}%\")\n",
    "print(f\"Recall: {xgb_recall*100:.2f}%\")\n",
    "print(f\"F1 Score: {xgb_f1*100:.2f}%\")"
   ]
  },
  {
   "cell_type": "code",
   "execution_count": null,
   "metadata": {},
   "outputs": [],
   "source": []
  },
  {
   "cell_type": "markdown",
   "metadata": {},
   "source": [
    "## 6.2 Undersampling dominant class to match minority class"
   ]
  },
  {
   "cell_type": "code",
   "execution_count": 214,
   "metadata": {},
   "outputs": [],
   "source": [
    "#balancing classes \n",
    "negative_class = clean_df[clean_df['result']=='Negative']\n",
    "positive_class = clean_df[clean_df['result']=='Positive']"
   ]
  },
  {
   "cell_type": "code",
   "execution_count": 215,
   "metadata": {},
   "outputs": [],
   "source": [
    "# Undersampling the majority negative class to match the size of the minority positive class\n",
    "negative_class_undersampled = negative_class.sample(n=len(positive_class), random_state=42)"
   ]
  },
  {
   "cell_type": "code",
   "execution_count": 216,
   "metadata": {},
   "outputs": [],
   "source": [
    "# Concatinate the undersampled negative class with the positive class\n",
    "balanced_df = pd.concat([negative_class_undersampled, positive_class])"
   ]
  },
  {
   "cell_type": "code",
   "execution_count": 217,
   "metadata": {},
   "outputs": [],
   "source": [
    "# Randomly shuffle the balanced dataset and reset index\n",
    "balanced_df = balanced_df.sample(frac=1, random_state=42).reset_index(drop=True)"
   ]
  },
  {
   "cell_type": "code",
   "execution_count": null,
   "metadata": {},
   "outputs": [],
   "source": [
    "# Separate predictor features and target\n",
    "X_balanced = balanced_df.drop(columns=['result','date_of_birth','date_of_enrollment'])\n",
    "y_balanced = balanced_df['result'].map({'Negative':0, 'Positive':1})"
   ]
  },
  {
   "cell_type": "code",
   "execution_count": 218,
   "metadata": {},
   "outputs": [],
   "source": [
    "#train and test splits\n",
    "X_train_balanced, X_test_balanced, y_train_balanced,y_test_balanced= train_test_split(X_balanced,y_balanced, test_size=0.2, random_state=42)"
   ]
  },
  {
   "cell_type": "markdown",
   "metadata": {},
   "source": [
    "### 6.2.1 Logistic Regression on balanced classes"
   ]
  },
  {
   "cell_type": "code",
   "execution_count": 235,
   "metadata": {},
   "outputs": [],
   "source": [
    "lr = Pipeline(steps=[\n",
    "    ('preprocessor', preprocessor),\n",
    "    ('clf', LogisticRegression(class_weight='balanced'))\n",
    "])"
   ]
  },
  {
   "cell_type": "code",
   "execution_count": 236,
   "metadata": {},
   "outputs": [
    {
     "data": {
      "text/html": [
       "<style>#sk-container-id-9 {color: black;}#sk-container-id-9 pre{padding: 0;}#sk-container-id-9 div.sk-toggleable {background-color: white;}#sk-container-id-9 label.sk-toggleable__label {cursor: pointer;display: block;width: 100%;margin-bottom: 0;padding: 0.3em;box-sizing: border-box;text-align: center;}#sk-container-id-9 label.sk-toggleable__label-arrow:before {content: \"▸\";float: left;margin-right: 0.25em;color: #696969;}#sk-container-id-9 label.sk-toggleable__label-arrow:hover:before {color: black;}#sk-container-id-9 div.sk-estimator:hover label.sk-toggleable__label-arrow:before {color: black;}#sk-container-id-9 div.sk-toggleable__content {max-height: 0;max-width: 0;overflow: hidden;text-align: left;background-color: #f0f8ff;}#sk-container-id-9 div.sk-toggleable__content pre {margin: 0.2em;color: black;border-radius: 0.25em;background-color: #f0f8ff;}#sk-container-id-9 input.sk-toggleable__control:checked~div.sk-toggleable__content {max-height: 200px;max-width: 100%;overflow: auto;}#sk-container-id-9 input.sk-toggleable__control:checked~label.sk-toggleable__label-arrow:before {content: \"▾\";}#sk-container-id-9 div.sk-estimator input.sk-toggleable__control:checked~label.sk-toggleable__label {background-color: #d4ebff;}#sk-container-id-9 div.sk-label input.sk-toggleable__control:checked~label.sk-toggleable__label {background-color: #d4ebff;}#sk-container-id-9 input.sk-hidden--visually {border: 0;clip: rect(1px 1px 1px 1px);clip: rect(1px, 1px, 1px, 1px);height: 1px;margin: -1px;overflow: hidden;padding: 0;position: absolute;width: 1px;}#sk-container-id-9 div.sk-estimator {font-family: monospace;background-color: #f0f8ff;border: 1px dotted black;border-radius: 0.25em;box-sizing: border-box;margin-bottom: 0.5em;}#sk-container-id-9 div.sk-estimator:hover {background-color: #d4ebff;}#sk-container-id-9 div.sk-parallel-item::after {content: \"\";width: 100%;border-bottom: 1px solid gray;flex-grow: 1;}#sk-container-id-9 div.sk-label:hover label.sk-toggleable__label {background-color: #d4ebff;}#sk-container-id-9 div.sk-serial::before {content: \"\";position: absolute;border-left: 1px solid gray;box-sizing: border-box;top: 0;bottom: 0;left: 50%;z-index: 0;}#sk-container-id-9 div.sk-serial {display: flex;flex-direction: column;align-items: center;background-color: white;padding-right: 0.2em;padding-left: 0.2em;position: relative;}#sk-container-id-9 div.sk-item {position: relative;z-index: 1;}#sk-container-id-9 div.sk-parallel {display: flex;align-items: stretch;justify-content: center;background-color: white;position: relative;}#sk-container-id-9 div.sk-item::before, #sk-container-id-9 div.sk-parallel-item::before {content: \"\";position: absolute;border-left: 1px solid gray;box-sizing: border-box;top: 0;bottom: 0;left: 50%;z-index: -1;}#sk-container-id-9 div.sk-parallel-item {display: flex;flex-direction: column;z-index: 1;position: relative;background-color: white;}#sk-container-id-9 div.sk-parallel-item:first-child::after {align-self: flex-end;width: 50%;}#sk-container-id-9 div.sk-parallel-item:last-child::after {align-self: flex-start;width: 50%;}#sk-container-id-9 div.sk-parallel-item:only-child::after {width: 0;}#sk-container-id-9 div.sk-dashed-wrapped {border: 1px dashed gray;margin: 0 0.4em 0.5em 0.4em;box-sizing: border-box;padding-bottom: 0.4em;background-color: white;}#sk-container-id-9 div.sk-label label {font-family: monospace;font-weight: bold;display: inline-block;line-height: 1.2em;}#sk-container-id-9 div.sk-label-container {text-align: center;}#sk-container-id-9 div.sk-container {/* jupyter's `normalize.less` sets `[hidden] { display: none; }` but bootstrap.min.css set `[hidden] { display: none !important; }` so we also need the `!important` here to be able to override the default hidden behavior on the sphinx rendered scikit-learn.org. See: https://github.com/scikit-learn/scikit-learn/issues/21755 */display: inline-block !important;position: relative;}#sk-container-id-9 div.sk-text-repr-fallback {display: none;}</style><div id=\"sk-container-id-9\" class=\"sk-top-container\"><div class=\"sk-text-repr-fallback\"><pre>Pipeline(steps=[(&#x27;preprocessor&#x27;,\n",
       "                 ColumnTransformer(transformers=[(&#x27;num&#x27;,\n",
       "                                                  Pipeline(steps=[(&#x27;scaler&#x27;,\n",
       "                                                                   StandardScaler())]),\n",
       "                                                  Index([&#x27;age_of_household_head&#x27;, &#x27;no_of_people_in_household&#x27;, &#x27;no_of_adults&#x27;,\n",
       "       &#x27;no_of_children&#x27;, &#x27;age_at_first_sexual_encounter&#x27;, &#x27;bio_medical&#x27;,\n",
       "       &#x27;social_protection&#x27;, &#x27;behavioral&#x27;, &#x27;post_gbv_care&#x27;,\n",
       "       &#x27;other_interventions&#x27;, &#x27;age_at_enrollment&#x27;],\n",
       "      dtyp...\n",
       "       &#x27;are_both_parents_alive&#x27;, &#x27;ever_missed_full_day_food_in_4wks&#x27;,\n",
       "       &#x27;no_of_days_missed_food_in_4wks&#x27;, &#x27;currently_in_school&#x27;,\n",
       "       &#x27;current_school_level&#x27;, &#x27;current_income_source&#x27;, &#x27;last_test_result&#x27;,\n",
       "       &#x27;ever_had_sex&#x27;, &#x27;has_sexual_partner&#x27;, &#x27;age_of_last_partner&#x27;,\n",
       "       &#x27;used_condom_with_last_partner&#x27;, &#x27;exit_status&#x27;, &#x27;exit_reason&#x27;],\n",
       "      dtype=&#x27;object&#x27;))])),\n",
       "                (&#x27;clf&#x27;, LogisticRegression(class_weight=&#x27;balanced&#x27;))])</pre><b>In a Jupyter environment, please rerun this cell to show the HTML representation or trust the notebook. <br />On GitHub, the HTML representation is unable to render, please try loading this page with nbviewer.org.</b></div><div class=\"sk-container\" hidden><div class=\"sk-item sk-dashed-wrapped\"><div class=\"sk-label-container\"><div class=\"sk-label sk-toggleable\"><input class=\"sk-toggleable__control sk-hidden--visually\" id=\"sk-estimator-id-57\" type=\"checkbox\" ><label for=\"sk-estimator-id-57\" class=\"sk-toggleable__label sk-toggleable__label-arrow\">Pipeline</label><div class=\"sk-toggleable__content\"><pre>Pipeline(steps=[(&#x27;preprocessor&#x27;,\n",
       "                 ColumnTransformer(transformers=[(&#x27;num&#x27;,\n",
       "                                                  Pipeline(steps=[(&#x27;scaler&#x27;,\n",
       "                                                                   StandardScaler())]),\n",
       "                                                  Index([&#x27;age_of_household_head&#x27;, &#x27;no_of_people_in_household&#x27;, &#x27;no_of_adults&#x27;,\n",
       "       &#x27;no_of_children&#x27;, &#x27;age_at_first_sexual_encounter&#x27;, &#x27;bio_medical&#x27;,\n",
       "       &#x27;social_protection&#x27;, &#x27;behavioral&#x27;, &#x27;post_gbv_care&#x27;,\n",
       "       &#x27;other_interventions&#x27;, &#x27;age_at_enrollment&#x27;],\n",
       "      dtyp...\n",
       "       &#x27;are_both_parents_alive&#x27;, &#x27;ever_missed_full_day_food_in_4wks&#x27;,\n",
       "       &#x27;no_of_days_missed_food_in_4wks&#x27;, &#x27;currently_in_school&#x27;,\n",
       "       &#x27;current_school_level&#x27;, &#x27;current_income_source&#x27;, &#x27;last_test_result&#x27;,\n",
       "       &#x27;ever_had_sex&#x27;, &#x27;has_sexual_partner&#x27;, &#x27;age_of_last_partner&#x27;,\n",
       "       &#x27;used_condom_with_last_partner&#x27;, &#x27;exit_status&#x27;, &#x27;exit_reason&#x27;],\n",
       "      dtype=&#x27;object&#x27;))])),\n",
       "                (&#x27;clf&#x27;, LogisticRegression(class_weight=&#x27;balanced&#x27;))])</pre></div></div></div><div class=\"sk-serial\"><div class=\"sk-item sk-dashed-wrapped\"><div class=\"sk-label-container\"><div class=\"sk-label sk-toggleable\"><input class=\"sk-toggleable__control sk-hidden--visually\" id=\"sk-estimator-id-58\" type=\"checkbox\" ><label for=\"sk-estimator-id-58\" class=\"sk-toggleable__label sk-toggleable__label-arrow\">preprocessor: ColumnTransformer</label><div class=\"sk-toggleable__content\"><pre>ColumnTransformer(transformers=[(&#x27;num&#x27;,\n",
       "                                 Pipeline(steps=[(&#x27;scaler&#x27;, StandardScaler())]),\n",
       "                                 Index([&#x27;age_of_household_head&#x27;, &#x27;no_of_people_in_household&#x27;, &#x27;no_of_adults&#x27;,\n",
       "       &#x27;no_of_children&#x27;, &#x27;age_at_first_sexual_encounter&#x27;, &#x27;bio_medical&#x27;,\n",
       "       &#x27;social_protection&#x27;, &#x27;behavioral&#x27;, &#x27;post_gbv_care&#x27;,\n",
       "       &#x27;other_interventions&#x27;, &#x27;age_at_enrollment&#x27;],\n",
       "      dtype=&#x27;object&#x27;)),\n",
       "                                (&#x27;cat&#x27;,\n",
       "                                 Pipeline(ste...\n",
       "                                 Index([&#x27;county&#x27;, &#x27;head_of_household&#x27;, &#x27;father_alive&#x27;, &#x27;mother_alive&#x27;,\n",
       "       &#x27;are_both_parents_alive&#x27;, &#x27;ever_missed_full_day_food_in_4wks&#x27;,\n",
       "       &#x27;no_of_days_missed_food_in_4wks&#x27;, &#x27;currently_in_school&#x27;,\n",
       "       &#x27;current_school_level&#x27;, &#x27;current_income_source&#x27;, &#x27;last_test_result&#x27;,\n",
       "       &#x27;ever_had_sex&#x27;, &#x27;has_sexual_partner&#x27;, &#x27;age_of_last_partner&#x27;,\n",
       "       &#x27;used_condom_with_last_partner&#x27;, &#x27;exit_status&#x27;, &#x27;exit_reason&#x27;],\n",
       "      dtype=&#x27;object&#x27;))])</pre></div></div></div><div class=\"sk-parallel\"><div class=\"sk-parallel-item\"><div class=\"sk-item\"><div class=\"sk-label-container\"><div class=\"sk-label sk-toggleable\"><input class=\"sk-toggleable__control sk-hidden--visually\" id=\"sk-estimator-id-59\" type=\"checkbox\" ><label for=\"sk-estimator-id-59\" class=\"sk-toggleable__label sk-toggleable__label-arrow\">num</label><div class=\"sk-toggleable__content\"><pre>Index([&#x27;age_of_household_head&#x27;, &#x27;no_of_people_in_household&#x27;, &#x27;no_of_adults&#x27;,\n",
       "       &#x27;no_of_children&#x27;, &#x27;age_at_first_sexual_encounter&#x27;, &#x27;bio_medical&#x27;,\n",
       "       &#x27;social_protection&#x27;, &#x27;behavioral&#x27;, &#x27;post_gbv_care&#x27;,\n",
       "       &#x27;other_interventions&#x27;, &#x27;age_at_enrollment&#x27;],\n",
       "      dtype=&#x27;object&#x27;)</pre></div></div></div><div class=\"sk-serial\"><div class=\"sk-item\"><div class=\"sk-serial\"><div class=\"sk-item\"><div class=\"sk-estimator sk-toggleable\"><input class=\"sk-toggleable__control sk-hidden--visually\" id=\"sk-estimator-id-60\" type=\"checkbox\" ><label for=\"sk-estimator-id-60\" class=\"sk-toggleable__label sk-toggleable__label-arrow\">StandardScaler</label><div class=\"sk-toggleable__content\"><pre>StandardScaler()</pre></div></div></div></div></div></div></div></div><div class=\"sk-parallel-item\"><div class=\"sk-item\"><div class=\"sk-label-container\"><div class=\"sk-label sk-toggleable\"><input class=\"sk-toggleable__control sk-hidden--visually\" id=\"sk-estimator-id-61\" type=\"checkbox\" ><label for=\"sk-estimator-id-61\" class=\"sk-toggleable__label sk-toggleable__label-arrow\">cat</label><div class=\"sk-toggleable__content\"><pre>Index([&#x27;county&#x27;, &#x27;head_of_household&#x27;, &#x27;father_alive&#x27;, &#x27;mother_alive&#x27;,\n",
       "       &#x27;are_both_parents_alive&#x27;, &#x27;ever_missed_full_day_food_in_4wks&#x27;,\n",
       "       &#x27;no_of_days_missed_food_in_4wks&#x27;, &#x27;currently_in_school&#x27;,\n",
       "       &#x27;current_school_level&#x27;, &#x27;current_income_source&#x27;, &#x27;last_test_result&#x27;,\n",
       "       &#x27;ever_had_sex&#x27;, &#x27;has_sexual_partner&#x27;, &#x27;age_of_last_partner&#x27;,\n",
       "       &#x27;used_condom_with_last_partner&#x27;, &#x27;exit_status&#x27;, &#x27;exit_reason&#x27;],\n",
       "      dtype=&#x27;object&#x27;)</pre></div></div></div><div class=\"sk-serial\"><div class=\"sk-item\"><div class=\"sk-serial\"><div class=\"sk-item\"><div class=\"sk-estimator sk-toggleable\"><input class=\"sk-toggleable__control sk-hidden--visually\" id=\"sk-estimator-id-62\" type=\"checkbox\" ><label for=\"sk-estimator-id-62\" class=\"sk-toggleable__label sk-toggleable__label-arrow\">OneHotEncoder</label><div class=\"sk-toggleable__content\"><pre>OneHotEncoder(handle_unknown=&#x27;ignore&#x27;)</pre></div></div></div></div></div></div></div></div></div></div><div class=\"sk-item\"><div class=\"sk-estimator sk-toggleable\"><input class=\"sk-toggleable__control sk-hidden--visually\" id=\"sk-estimator-id-63\" type=\"checkbox\" ><label for=\"sk-estimator-id-63\" class=\"sk-toggleable__label sk-toggleable__label-arrow\">LogisticRegression</label><div class=\"sk-toggleable__content\"><pre>LogisticRegression(class_weight=&#x27;balanced&#x27;)</pre></div></div></div></div></div></div></div>"
      ],
      "text/plain": [
       "Pipeline(steps=[('preprocessor',\n",
       "                 ColumnTransformer(transformers=[('num',\n",
       "                                                  Pipeline(steps=[('scaler',\n",
       "                                                                   StandardScaler())]),\n",
       "                                                  Index(['age_of_household_head', 'no_of_people_in_household', 'no_of_adults',\n",
       "       'no_of_children', 'age_at_first_sexual_encounter', 'bio_medical',\n",
       "       'social_protection', 'behavioral', 'post_gbv_care',\n",
       "       'other_interventions', 'age_at_enrollment'],\n",
       "      dtyp...\n",
       "       'are_both_parents_alive', 'ever_missed_full_day_food_in_4wks',\n",
       "       'no_of_days_missed_food_in_4wks', 'currently_in_school',\n",
       "       'current_school_level', 'current_income_source', 'last_test_result',\n",
       "       'ever_had_sex', 'has_sexual_partner', 'age_of_last_partner',\n",
       "       'used_condom_with_last_partner', 'exit_status', 'exit_reason'],\n",
       "      dtype='object'))])),\n",
       "                ('clf', LogisticRegression(class_weight='balanced'))])"
      ]
     },
     "execution_count": 236,
     "metadata": {},
     "output_type": "execute_result"
    }
   ],
   "source": [
    "# Fit model \n",
    "lr.fit(X_train_balanced, y_train_balanced)"
   ]
  },
  {
   "cell_type": "code",
   "execution_count": 237,
   "metadata": {},
   "outputs": [],
   "source": [
    "#Make predictions\n",
    "y_pred_balanced = lr.predict(X_test_balanced)"
   ]
  },
  {
   "cell_type": "code",
   "execution_count": 238,
   "metadata": {},
   "outputs": [
    {
     "name": "stdout",
     "output_type": "stream",
     "text": [
      "Confusion Matrix:\n",
      " [[136  66]\n",
      " [ 63 138]]\n"
     ]
    }
   ],
   "source": [
    "# confusion matrix for balanced dataset\n",
    "cm_bal = confusion_matrix(y_test_balanced, y_pred_balanced)\n",
    "print(\"Confusion Matrix:\\n\", cm_bal)"
   ]
  },
  {
   "cell_type": "code",
   "execution_count": 239,
   "metadata": {},
   "outputs": [
    {
     "name": "stdout",
     "output_type": "stream",
     "text": [
      "Accuracy: 67.99%\n",
      "Precision: 67.65%\n",
      "Recall: 68.66%\n",
      "F1 Score: 68.15%\n"
     ]
    }
   ],
   "source": [
    "accuracy = accuracy_score(y_test_balanced, y_pred_balanced)\n",
    "precision = precision_score(y_test_balanced, y_pred_balanced)\n",
    "recall = recall_score(y_test_balanced, y_pred_balanced)\n",
    "f1 = f1_score(y_test_balanced, y_pred_balanced)\n",
    "\n",
    "print(f'Accuracy: {accuracy*100:.2f}%')\n",
    "print(f\"Precision: {precision*100:.2f}%\")\n",
    "print(f\"Recall: {recall*100:.2f}%\")\n",
    "print(f\"F1 Score: {f1*100:.2f}%\")"
   ]
  },
  {
   "cell_type": "code",
   "execution_count": 240,
   "metadata": {},
   "outputs": [
    {
     "data": {
      "image/png": "[encoded data removed]",
      "text/plain": [
       "<Figure size 640x480 with 2 Axes>"
      ]
     },
     "metadata": {},
     "output_type": "display_data"
    }
   ],
   "source": [
    "cm = confusion_matrix(y_test_balanced, y_pred_balanced)\n",
    "sns.heatmap(cm, annot=True, fmt=\"d\", cmap=\"Blues\", xticklabels=[\"Predicted 0\", \"Predicted 1\"], yticklabels=[\"Actual 0\", \"Actual 1\"])\n",
    "plt.xlabel(\"Predicted\")\n",
    "plt.ylabel(\"Actual\")\n",
    "plt.title(\"Confusion Matrix\")\n",
    "plt.show()"
   ]
  },
  {
   "cell_type": "markdown",
   "metadata": {},
   "source": [
    "### Observation\n",
    "\n",
    "* There is general improvement on model performance compared with previous with class imbalance"
   ]
  },
  {
   "cell_type": "markdown",
   "metadata": {},
   "source": [
    "### 6.2.2 Random Forest on balanced dataset"
   ]
  },
  {
   "cell_type": "code",
   "execution_count": 309,
   "metadata": {},
   "outputs": [],
   "source": [
    "rf_model = Pipeline(steps=[\n",
    "    ('preprocessor', preprocessor),\n",
    "    ('clf', RandomForestClassifier(class_weight='balanced'))\n",
    "])"
   ]
  },
  {
   "cell_type": "code",
   "execution_count": 310,
   "metadata": {},
   "outputs": [
    {
     "data": {
      "text/html": [
       "<style>#sk-container-id-19 {color: black;}#sk-container-id-19 pre{padding: 0;}#sk-container-id-19 div.sk-toggleable {background-color: white;}#sk-container-id-19 label.sk-toggleable__label {cursor: pointer;display: block;width: 100%;margin-bottom: 0;padding: 0.3em;box-sizing: border-box;text-align: center;}#sk-container-id-19 label.sk-toggleable__label-arrow:before {content: \"▸\";float: left;margin-right: 0.25em;color: #696969;}#sk-container-id-19 label.sk-toggleable__label-arrow:hover:before {color: black;}#sk-container-id-19 div.sk-estimator:hover label.sk-toggleable__label-arrow:before {color: black;}#sk-container-id-19 div.sk-toggleable__content {max-height: 0;max-width: 0;overflow: hidden;text-align: left;background-color: #f0f8ff;}#sk-container-id-19 div.sk-toggleable__content pre {margin: 0.2em;color: black;border-radius: 0.25em;background-color: #f0f8ff;}#sk-container-id-19 input.sk-toggleable__control:checked~div.sk-toggleable__content {max-height: 200px;max-width: 100%;overflow: auto;}#sk-container-id-19 input.sk-toggleable__control:checked~label.sk-toggleable__label-arrow:before {content: \"▾\";}#sk-container-id-19 div.sk-estimator input.sk-toggleable__control:checked~label.sk-toggleable__label {background-color: #d4ebff;}#sk-container-id-19 div.sk-label input.sk-toggleable__control:checked~label.sk-toggleable__label {background-color: #d4ebff;}#sk-container-id-19 input.sk-hidden--visually {border: 0;clip: rect(1px 1px 1px 1px);clip: rect(1px, 1px, 1px, 1px);height: 1px;margin: -1px;overflow: hidden;padding: 0;position: absolute;width: 1px;}#sk-container-id-19 div.sk-estimator {font-family: monospace;background-color: #f0f8ff;border: 1px dotted black;border-radius: 0.25em;box-sizing: border-box;margin-bottom: 0.5em;}#sk-container-id-19 div.sk-estimator:hover {background-color: #d4ebff;}#sk-container-id-19 div.sk-parallel-item::after {content: \"\";width: 100%;border-bottom: 1px solid gray;flex-grow: 1;}#sk-container-id-19 div.sk-label:hover label.sk-toggleable__label {background-color: #d4ebff;}#sk-container-id-19 div.sk-serial::before {content: \"\";position: absolute;border-left: 1px solid gray;box-sizing: border-box;top: 0;bottom: 0;left: 50%;z-index: 0;}#sk-container-id-19 div.sk-serial {display: flex;flex-direction: column;align-items: center;background-color: white;padding-right: 0.2em;padding-left: 0.2em;position: relative;}#sk-container-id-19 div.sk-item {position: relative;z-index: 1;}#sk-container-id-19 div.sk-parallel {display: flex;align-items: stretch;justify-content: center;background-color: white;position: relative;}#sk-container-id-19 div.sk-item::before, #sk-container-id-19 div.sk-parallel-item::before {content: \"\";position: absolute;border-left: 1px solid gray;box-sizing: border-box;top: 0;bottom: 0;left: 50%;z-index: -1;}#sk-container-id-19 div.sk-parallel-item {display: flex;flex-direction: column;z-index: 1;position: relative;background-color: white;}#sk-container-id-19 div.sk-parallel-item:first-child::after {align-self: flex-end;width: 50%;}#sk-container-id-19 div.sk-parallel-item:last-child::after {align-self: flex-start;width: 50%;}#sk-container-id-19 div.sk-parallel-item:only-child::after {width: 0;}#sk-container-id-19 div.sk-dashed-wrapped {border: 1px dashed gray;margin: 0 0.4em 0.5em 0.4em;box-sizing: border-box;padding-bottom: 0.4em;background-color: white;}#sk-container-id-19 div.sk-label label {font-family: monospace;font-weight: bold;display: inline-block;line-height: 1.2em;}#sk-container-id-19 div.sk-label-container {text-align: center;}#sk-container-id-19 div.sk-container {/* jupyter's `normalize.less` sets `[hidden] { display: none; }` but bootstrap.min.css set `[hidden] { display: none !important; }` so we also need the `!important` here to be able to override the default hidden behavior on the sphinx rendered scikit-learn.org. See: https://github.com/scikit-learn/scikit-learn/issues/21755 */display: inline-block !important;position: relative;}#sk-container-id-19 div.sk-text-repr-fallback {display: none;}</style><div id=\"sk-container-id-19\" class=\"sk-top-container\"><div class=\"sk-text-repr-fallback\"><pre>Pipeline(steps=[(&#x27;preprocessor&#x27;,\n",
       "                 ColumnTransformer(transformers=[(&#x27;num&#x27;,\n",
       "                                                  Pipeline(steps=[(&#x27;scaler&#x27;,\n",
       "                                                                   StandardScaler())]),\n",
       "                                                  Index([&#x27;age_of_household_head&#x27;, &#x27;no_of_people_in_household&#x27;, &#x27;no_of_adults&#x27;,\n",
       "       &#x27;no_of_children&#x27;, &#x27;age_at_first_sexual_encounter&#x27;, &#x27;bio_medical&#x27;,\n",
       "       &#x27;social_protection&#x27;, &#x27;behavioral&#x27;, &#x27;post_gbv_care&#x27;,\n",
       "       &#x27;other_interventions&#x27;, &#x27;age_at_enrollment&#x27;],\n",
       "      dtyp...\n",
       "       &#x27;are_both_parents_alive&#x27;, &#x27;ever_missed_full_day_food_in_4wks&#x27;,\n",
       "       &#x27;no_of_days_missed_food_in_4wks&#x27;, &#x27;currently_in_school&#x27;,\n",
       "       &#x27;current_school_level&#x27;, &#x27;current_income_source&#x27;, &#x27;last_test_result&#x27;,\n",
       "       &#x27;ever_had_sex&#x27;, &#x27;has_sexual_partner&#x27;, &#x27;age_of_last_partner&#x27;,\n",
       "       &#x27;used_condom_with_last_partner&#x27;, &#x27;exit_status&#x27;, &#x27;exit_reason&#x27;],\n",
       "      dtype=&#x27;object&#x27;))])),\n",
       "                (&#x27;clf&#x27;, RandomForestClassifier(class_weight=&#x27;balanced&#x27;))])</pre><b>In a Jupyter environment, please rerun this cell to show the HTML representation or trust the notebook. <br />On GitHub, the HTML representation is unable to render, please try loading this page with nbviewer.org.</b></div><div class=\"sk-container\" hidden><div class=\"sk-item sk-dashed-wrapped\"><div class=\"sk-label-container\"><div class=\"sk-label sk-toggleable\"><input class=\"sk-toggleable__control sk-hidden--visually\" id=\"sk-estimator-id-103\" type=\"checkbox\" ><label for=\"sk-estimator-id-103\" class=\"sk-toggleable__label sk-toggleable__label-arrow\">Pipeline</label><div class=\"sk-toggleable__content\"><pre>Pipeline(steps=[(&#x27;preprocessor&#x27;,\n",
       "                 ColumnTransformer(transformers=[(&#x27;num&#x27;,\n",
       "                                                  Pipeline(steps=[(&#x27;scaler&#x27;,\n",
       "                                                                   StandardScaler())]),\n",
       "                                                  Index([&#x27;age_of_household_head&#x27;, &#x27;no_of_people_in_household&#x27;, &#x27;no_of_adults&#x27;,\n",
       "       &#x27;no_of_children&#x27;, &#x27;age_at_first_sexual_encounter&#x27;, &#x27;bio_medical&#x27;,\n",
       "       &#x27;social_protection&#x27;, &#x27;behavioral&#x27;, &#x27;post_gbv_care&#x27;,\n",
       "       &#x27;other_interventions&#x27;, &#x27;age_at_enrollment&#x27;],\n",
       "      dtyp...\n",
       "       &#x27;are_both_parents_alive&#x27;, &#x27;ever_missed_full_day_food_in_4wks&#x27;,\n",
       "       &#x27;no_of_days_missed_food_in_4wks&#x27;, &#x27;currently_in_school&#x27;,\n",
       "       &#x27;current_school_level&#x27;, &#x27;current_income_source&#x27;, &#x27;last_test_result&#x27;,\n",
       "       &#x27;ever_had_sex&#x27;, &#x27;has_sexual_partner&#x27;, &#x27;age_of_last_partner&#x27;,\n",
       "       &#x27;used_condom_with_last_partner&#x27;, &#x27;exit_status&#x27;, &#x27;exit_reason&#x27;],\n",
       "      dtype=&#x27;object&#x27;))])),\n",
       "                (&#x27;clf&#x27;, RandomForestClassifier(class_weight=&#x27;balanced&#x27;))])</pre></div></div></div><div class=\"sk-serial\"><div class=\"sk-item sk-dashed-wrapped\"><div class=\"sk-label-container\"><div class=\"sk-label sk-toggleable\"><input class=\"sk-toggleable__control sk-hidden--visually\" id=\"sk-estimator-id-104\" type=\"checkbox\" ><label for=\"sk-estimator-id-104\" class=\"sk-toggleable__label sk-toggleable__label-arrow\">preprocessor: ColumnTransformer</label><div class=\"sk-toggleable__content\"><pre>ColumnTransformer(transformers=[(&#x27;num&#x27;,\n",
       "                                 Pipeline(steps=[(&#x27;scaler&#x27;, StandardScaler())]),\n",
       "                                 Index([&#x27;age_of_household_head&#x27;, &#x27;no_of_people_in_household&#x27;, &#x27;no_of_adults&#x27;,\n",
       "       &#x27;no_of_children&#x27;, &#x27;age_at_first_sexual_encounter&#x27;, &#x27;bio_medical&#x27;,\n",
       "       &#x27;social_protection&#x27;, &#x27;behavioral&#x27;, &#x27;post_gbv_care&#x27;,\n",
       "       &#x27;other_interventions&#x27;, &#x27;age_at_enrollment&#x27;],\n",
       "      dtype=&#x27;object&#x27;)),\n",
       "                                (&#x27;cat&#x27;,\n",
       "                                 Pipeline(ste...\n",
       "                                 Index([&#x27;county&#x27;, &#x27;head_of_household&#x27;, &#x27;father_alive&#x27;, &#x27;mother_alive&#x27;,\n",
       "       &#x27;are_both_parents_alive&#x27;, &#x27;ever_missed_full_day_food_in_4wks&#x27;,\n",
       "       &#x27;no_of_days_missed_food_in_4wks&#x27;, &#x27;currently_in_school&#x27;,\n",
       "       &#x27;current_school_level&#x27;, &#x27;current_income_source&#x27;, &#x27;last_test_result&#x27;,\n",
       "       &#x27;ever_had_sex&#x27;, &#x27;has_sexual_partner&#x27;, &#x27;age_of_last_partner&#x27;,\n",
       "       &#x27;used_condom_with_last_partner&#x27;, &#x27;exit_status&#x27;, &#x27;exit_reason&#x27;],\n",
       "      dtype=&#x27;object&#x27;))])</pre></div></div></div><div class=\"sk-parallel\"><div class=\"sk-parallel-item\"><div class=\"sk-item\"><div class=\"sk-label-container\"><div class=\"sk-label sk-toggleable\"><input class=\"sk-toggleable__control sk-hidden--visually\" id=\"sk-estimator-id-105\" type=\"checkbox\" ><label for=\"sk-estimator-id-105\" class=\"sk-toggleable__label sk-toggleable__label-arrow\">num</label><div class=\"sk-toggleable__content\"><pre>Index([&#x27;age_of_household_head&#x27;, &#x27;no_of_people_in_household&#x27;, &#x27;no_of_adults&#x27;,\n",
       "       &#x27;no_of_children&#x27;, &#x27;age_at_first_sexual_encounter&#x27;, &#x27;bio_medical&#x27;,\n",
       "       &#x27;social_protection&#x27;, &#x27;behavioral&#x27;, &#x27;post_gbv_care&#x27;,\n",
       "       &#x27;other_interventions&#x27;, &#x27;age_at_enrollment&#x27;],\n",
       "      dtype=&#x27;object&#x27;)</pre></div></div></div><div class=\"sk-serial\"><div class=\"sk-item\"><div class=\"sk-serial\"><div class=\"sk-item\"><div class=\"sk-estimator sk-toggleable\"><input class=\"sk-toggleable__control sk-hidden--visually\" id=\"sk-estimator-id-106\" type=\"checkbox\" ><label for=\"sk-estimator-id-106\" class=\"sk-toggleable__label sk-toggleable__label-arrow\">StandardScaler</label><div class=\"sk-toggleable__content\"><pre>StandardScaler()</pre></div></div></div></div></div></div></div></div><div class=\"sk-parallel-item\"><div class=\"sk-item\"><div class=\"sk-label-container\"><div class=\"sk-label sk-toggleable\"><input class=\"sk-toggleable__control sk-hidden--visually\" id=\"sk-estimator-id-107\" type=\"checkbox\" ><label for=\"sk-estimator-id-107\" class=\"sk-toggleable__label sk-toggleable__label-arrow\">cat</label><div class=\"sk-toggleable__content\"><pre>Index([&#x27;county&#x27;, &#x27;head_of_household&#x27;, &#x27;father_alive&#x27;, &#x27;mother_alive&#x27;,\n",
       "       &#x27;are_both_parents_alive&#x27;, &#x27;ever_missed_full_day_food_in_4wks&#x27;,\n",
       "       &#x27;no_of_days_missed_food_in_4wks&#x27;, &#x27;currently_in_school&#x27;,\n",
       "       &#x27;current_school_level&#x27;, &#x27;current_income_source&#x27;, &#x27;last_test_result&#x27;,\n",
       "       &#x27;ever_had_sex&#x27;, &#x27;has_sexual_partner&#x27;, &#x27;age_of_last_partner&#x27;,\n",
       "       &#x27;used_condom_with_last_partner&#x27;, &#x27;exit_status&#x27;, &#x27;exit_reason&#x27;],\n",
       "      dtype=&#x27;object&#x27;)</pre></div></div></div><div class=\"sk-serial\"><div class=\"sk-item\"><div class=\"sk-serial\"><div class=\"sk-item\"><div class=\"sk-estimator sk-toggleable\"><input class=\"sk-toggleable__control sk-hidden--visually\" id=\"sk-estimator-id-108\" type=\"checkbox\" ><label for=\"sk-estimator-id-108\" class=\"sk-toggleable__label sk-toggleable__label-arrow\">OneHotEncoder</label><div class=\"sk-toggleable__content\"><pre>OneHotEncoder(handle_unknown=&#x27;ignore&#x27;)</pre></div></div></div></div></div></div></div></div></div></div><div class=\"sk-item\"><div class=\"sk-estimator sk-toggleable\"><input class=\"sk-toggleable__control sk-hidden--visually\" id=\"sk-estimator-id-109\" type=\"checkbox\" ><label for=\"sk-estimator-id-109\" class=\"sk-toggleable__label sk-toggleable__label-arrow\">RandomForestClassifier</label><div class=\"sk-toggleable__content\"><pre>RandomForestClassifier(class_weight=&#x27;balanced&#x27;)</pre></div></div></div></div></div></div></div>"
      ],
      "text/plain": [
       "Pipeline(steps=[('preprocessor',\n",
       "                 ColumnTransformer(transformers=[('num',\n",
       "                                                  Pipeline(steps=[('scaler',\n",
       "                                                                   StandardScaler())]),\n",
       "                                                  Index(['age_of_household_head', 'no_of_people_in_household', 'no_of_adults',\n",
       "       'no_of_children', 'age_at_first_sexual_encounter', 'bio_medical',\n",
       "       'social_protection', 'behavioral', 'post_gbv_care',\n",
       "       'other_interventions', 'age_at_enrollment'],\n",
       "      dtyp...\n",
       "       'are_both_parents_alive', 'ever_missed_full_day_food_in_4wks',\n",
       "       'no_of_days_missed_food_in_4wks', 'currently_in_school',\n",
       "       'current_school_level', 'current_income_source', 'last_test_result',\n",
       "       'ever_had_sex', 'has_sexual_partner', 'age_of_last_partner',\n",
       "       'used_condom_with_last_partner', 'exit_status', 'exit_reason'],\n",
       "      dtype='object'))])),\n",
       "                ('clf', RandomForestClassifier(class_weight='balanced'))])"
      ]
     },
     "execution_count": 310,
     "metadata": {},
     "output_type": "execute_result"
    }
   ],
   "source": [
    "# Fit model on undersampled dataset\n",
    "rf_model.fit(X_train_balanced, y_train_balanced)"
   ]
  },
  {
   "cell_type": "code",
   "execution_count": 311,
   "metadata": {},
   "outputs": [],
   "source": [
    "#Make predictions\n",
    "y_pred_rfbal = rf_model.predict(X_test_balanced)"
   ]
  },
  {
   "cell_type": "code",
   "execution_count": 312,
   "metadata": {},
   "outputs": [
    {
     "name": "stdout",
     "output_type": "stream",
     "text": [
      "Accuracy: 67.00%\n",
      "Precision: 65.32%\n",
      "Recall: 72.14%\n",
      "F1 Score: 68.56%\n"
     ]
    }
   ],
   "source": [
    "# Evaluate the model\n",
    "rfbal_accuracy = accuracy_score(y_test_balanced, y_pred_rfbal)\n",
    "rfbal_precision = precision_score(y_test_balanced, y_pred_rfbal)\n",
    "rfbal_recall = recall_score(y_test_balanced, y_pred_rfbal)\n",
    "rfbal_f1 = f1_score(y_test_balanced, y_pred_rfbal)\n",
    "\n",
    "print(f'Accuracy: {rfbal_accuracy*100:.2f}%')\n",
    "print(f\"Precision: {rfbal_precision*100:.2f}%\")\n",
    "print(f\"Recall: {rfbal_recall*100:.2f}%\")\n",
    "print(f\"F1 Score: {rfbal_f1*100:.2f}%\")"
   ]
  },
  {
   "cell_type": "markdown",
   "metadata": {},
   "source": [
    "### Observation\n",
    "\n",
    "* "
   ]
  },
  {
   "cell_type": "markdown",
   "metadata": {},
   "source": [
    "### 6.2.3 XGBoost Model on balanced dataset"
   ]
  },
  {
   "cell_type": "code",
   "execution_count": 250,
   "metadata": {},
   "outputs": [],
   "source": [
    "import xgboost as xgb\n",
    "from sklearn.metrics import classification_report"
   ]
  },
  {
   "cell_type": "code",
   "execution_count": 256,
   "metadata": {},
   "outputs": [],
   "source": [
    "xgbbal = Pipeline(steps=[\n",
    "    ('preprocessor', preprocessor),\n",
    "    ('clf', xgb.XGBClassifier(random_state=42, eval_metric='logloss'))\n",
    "])"
   ]
  },
  {
   "cell_type": "code",
   "execution_count": 257,
   "metadata": {},
   "outputs": [
    {
     "data": {
      "text/html": [
       "<style>#sk-container-id-12 {color: black;}#sk-container-id-12 pre{padding: 0;}#sk-container-id-12 div.sk-toggleable {background-color: white;}#sk-container-id-12 label.sk-toggleable__label {cursor: pointer;display: block;width: 100%;margin-bottom: 0;padding: 0.3em;box-sizing: border-box;text-align: center;}#sk-container-id-12 label.sk-toggleable__label-arrow:before {content: \"▸\";float: left;margin-right: 0.25em;color: #696969;}#sk-container-id-12 label.sk-toggleable__label-arrow:hover:before {color: black;}#sk-container-id-12 div.sk-estimator:hover label.sk-toggleable__label-arrow:before {color: black;}#sk-container-id-12 div.sk-toggleable__content {max-height: 0;max-width: 0;overflow: hidden;text-align: left;background-color: #f0f8ff;}#sk-container-id-12 div.sk-toggleable__content pre {margin: 0.2em;color: black;border-radius: 0.25em;background-color: #f0f8ff;}#sk-container-id-12 input.sk-toggleable__control:checked~div.sk-toggleable__content {max-height: 200px;max-width: 100%;overflow: auto;}#sk-container-id-12 input.sk-toggleable__control:checked~label.sk-toggleable__label-arrow:before {content: \"▾\";}#sk-container-id-12 div.sk-estimator input.sk-toggleable__control:checked~label.sk-toggleable__label {background-color: #d4ebff;}#sk-container-id-12 div.sk-label input.sk-toggleable__control:checked~label.sk-toggleable__label {background-color: #d4ebff;}#sk-container-id-12 input.sk-hidden--visually {border: 0;clip: rect(1px 1px 1px 1px);clip: rect(1px, 1px, 1px, 1px);height: 1px;margin: -1px;overflow: hidden;padding: 0;position: absolute;width: 1px;}#sk-container-id-12 div.sk-estimator {font-family: monospace;background-color: #f0f8ff;border: 1px dotted black;border-radius: 0.25em;box-sizing: border-box;margin-bottom: 0.5em;}#sk-container-id-12 div.sk-estimator:hover {background-color: #d4ebff;}#sk-container-id-12 div.sk-parallel-item::after {content: \"\";width: 100%;border-bottom: 1px solid gray;flex-grow: 1;}#sk-container-id-12 div.sk-label:hover label.sk-toggleable__label {background-color: #d4ebff;}#sk-container-id-12 div.sk-serial::before {content: \"\";position: absolute;border-left: 1px solid gray;box-sizing: border-box;top: 0;bottom: 0;left: 50%;z-index: 0;}#sk-container-id-12 div.sk-serial {display: flex;flex-direction: column;align-items: center;background-color: white;padding-right: 0.2em;padding-left: 0.2em;position: relative;}#sk-container-id-12 div.sk-item {position: relative;z-index: 1;}#sk-container-id-12 div.sk-parallel {display: flex;align-items: stretch;justify-content: center;background-color: white;position: relative;}#sk-container-id-12 div.sk-item::before, #sk-container-id-12 div.sk-parallel-item::before {content: \"\";position: absolute;border-left: 1px solid gray;box-sizing: border-box;top: 0;bottom: 0;left: 50%;z-index: -1;}#sk-container-id-12 div.sk-parallel-item {display: flex;flex-direction: column;z-index: 1;position: relative;background-color: white;}#sk-container-id-12 div.sk-parallel-item:first-child::after {align-self: flex-end;width: 50%;}#sk-container-id-12 div.sk-parallel-item:last-child::after {align-self: flex-start;width: 50%;}#sk-container-id-12 div.sk-parallel-item:only-child::after {width: 0;}#sk-container-id-12 div.sk-dashed-wrapped {border: 1px dashed gray;margin: 0 0.4em 0.5em 0.4em;box-sizing: border-box;padding-bottom: 0.4em;background-color: white;}#sk-container-id-12 div.sk-label label {font-family: monospace;font-weight: bold;display: inline-block;line-height: 1.2em;}#sk-container-id-12 div.sk-label-container {text-align: center;}#sk-container-id-12 div.sk-container {/* jupyter's `normalize.less` sets `[hidden] { display: none; }` but bootstrap.min.css set `[hidden] { display: none !important; }` so we also need the `!important` here to be able to override the default hidden behavior on the sphinx rendered scikit-learn.org. See: https://github.com/scikit-learn/scikit-learn/issues/21755 */display: inline-block !important;position: relative;}#sk-container-id-12 div.sk-text-repr-fallback {display: none;}</style><div id=\"sk-container-id-12\" class=\"sk-top-container\"><div class=\"sk-text-repr-fallback\"><pre>Pipeline(steps=[(&#x27;preprocessor&#x27;,\n",
       "                 ColumnTransformer(transformers=[(&#x27;num&#x27;,\n",
       "                                                  Pipeline(steps=[(&#x27;scaler&#x27;,\n",
       "                                                                   StandardScaler())]),\n",
       "                                                  Index([&#x27;age_of_household_head&#x27;, &#x27;no_of_people_in_household&#x27;, &#x27;no_of_adults&#x27;,\n",
       "       &#x27;no_of_children&#x27;, &#x27;age_at_first_sexual_encounter&#x27;, &#x27;bio_medical&#x27;,\n",
       "       &#x27;social_protection&#x27;, &#x27;behavioral&#x27;, &#x27;post_gbv_care&#x27;,\n",
       "       &#x27;other_interventions&#x27;, &#x27;age_at_enrollment&#x27;],\n",
       "      dtyp...\n",
       "                               feature_types=None, gamma=None, grow_policy=None,\n",
       "                               importance_type=None,\n",
       "                               interaction_constraints=None, learning_rate=None,\n",
       "                               max_bin=None, max_cat_threshold=None,\n",
       "                               max_cat_to_onehot=None, max_delta_step=None,\n",
       "                               max_depth=None, max_leaves=None,\n",
       "                               min_child_weight=None, missing=nan,\n",
       "                               monotone_constraints=None, multi_strategy=None,\n",
       "                               n_estimators=None, n_jobs=None,\n",
       "                               num_parallel_tree=None, random_state=42, ...))])</pre><b>In a Jupyter environment, please rerun this cell to show the HTML representation or trust the notebook. <br />On GitHub, the HTML representation is unable to render, please try loading this page with nbviewer.org.</b></div><div class=\"sk-container\" hidden><div class=\"sk-item sk-dashed-wrapped\"><div class=\"sk-label-container\"><div class=\"sk-label sk-toggleable\"><input class=\"sk-toggleable__control sk-hidden--visually\" id=\"sk-estimator-id-78\" type=\"checkbox\" ><label for=\"sk-estimator-id-78\" class=\"sk-toggleable__label sk-toggleable__label-arrow\">Pipeline</label><div class=\"sk-toggleable__content\"><pre>Pipeline(steps=[(&#x27;preprocessor&#x27;,\n",
       "                 ColumnTransformer(transformers=[(&#x27;num&#x27;,\n",
       "                                                  Pipeline(steps=[(&#x27;scaler&#x27;,\n",
       "                                                                   StandardScaler())]),\n",
       "                                                  Index([&#x27;age_of_household_head&#x27;, &#x27;no_of_people_in_household&#x27;, &#x27;no_of_adults&#x27;,\n",
       "       &#x27;no_of_children&#x27;, &#x27;age_at_first_sexual_encounter&#x27;, &#x27;bio_medical&#x27;,\n",
       "       &#x27;social_protection&#x27;, &#x27;behavioral&#x27;, &#x27;post_gbv_care&#x27;,\n",
       "       &#x27;other_interventions&#x27;, &#x27;age_at_enrollment&#x27;],\n",
       "      dtyp...\n",
       "                               feature_types=None, gamma=None, grow_policy=None,\n",
       "                               importance_type=None,\n",
       "                               interaction_constraints=None, learning_rate=None,\n",
       "                               max_bin=None, max_cat_threshold=None,\n",
       "                               max_cat_to_onehot=None, max_delta_step=None,\n",
       "                               max_depth=None, max_leaves=None,\n",
       "                               min_child_weight=None, missing=nan,\n",
       "                               monotone_constraints=None, multi_strategy=None,\n",
       "                               n_estimators=None, n_jobs=None,\n",
       "                               num_parallel_tree=None, random_state=42, ...))])</pre></div></div></div><div class=\"sk-serial\"><div class=\"sk-item sk-dashed-wrapped\"><div class=\"sk-label-container\"><div class=\"sk-label sk-toggleable\"><input class=\"sk-toggleable__control sk-hidden--visually\" id=\"sk-estimator-id-79\" type=\"checkbox\" ><label for=\"sk-estimator-id-79\" class=\"sk-toggleable__label sk-toggleable__label-arrow\">preprocessor: ColumnTransformer</label><div class=\"sk-toggleable__content\"><pre>ColumnTransformer(transformers=[(&#x27;num&#x27;,\n",
       "                                 Pipeline(steps=[(&#x27;scaler&#x27;, StandardScaler())]),\n",
       "                                 Index([&#x27;age_of_household_head&#x27;, &#x27;no_of_people_in_household&#x27;, &#x27;no_of_adults&#x27;,\n",
       "       &#x27;no_of_children&#x27;, &#x27;age_at_first_sexual_encounter&#x27;, &#x27;bio_medical&#x27;,\n",
       "       &#x27;social_protection&#x27;, &#x27;behavioral&#x27;, &#x27;post_gbv_care&#x27;,\n",
       "       &#x27;other_interventions&#x27;, &#x27;age_at_enrollment&#x27;],\n",
       "      dtype=&#x27;object&#x27;)),\n",
       "                                (&#x27;cat&#x27;,\n",
       "                                 Pipeline(ste...\n",
       "                                 Index([&#x27;county&#x27;, &#x27;head_of_household&#x27;, &#x27;father_alive&#x27;, &#x27;mother_alive&#x27;,\n",
       "       &#x27;are_both_parents_alive&#x27;, &#x27;ever_missed_full_day_food_in_4wks&#x27;,\n",
       "       &#x27;no_of_days_missed_food_in_4wks&#x27;, &#x27;currently_in_school&#x27;,\n",
       "       &#x27;current_school_level&#x27;, &#x27;current_income_source&#x27;, &#x27;last_test_result&#x27;,\n",
       "       &#x27;ever_had_sex&#x27;, &#x27;has_sexual_partner&#x27;, &#x27;age_of_last_partner&#x27;,\n",
       "       &#x27;used_condom_with_last_partner&#x27;, &#x27;exit_status&#x27;, &#x27;exit_reason&#x27;],\n",
       "      dtype=&#x27;object&#x27;))])</pre></div></div></div><div class=\"sk-parallel\"><div class=\"sk-parallel-item\"><div class=\"sk-item\"><div class=\"sk-label-container\"><div class=\"sk-label sk-toggleable\"><input class=\"sk-toggleable__control sk-hidden--visually\" id=\"sk-estimator-id-80\" type=\"checkbox\" ><label for=\"sk-estimator-id-80\" class=\"sk-toggleable__label sk-toggleable__label-arrow\">num</label><div class=\"sk-toggleable__content\"><pre>Index([&#x27;age_of_household_head&#x27;, &#x27;no_of_people_in_household&#x27;, &#x27;no_of_adults&#x27;,\n",
       "       &#x27;no_of_children&#x27;, &#x27;age_at_first_sexual_encounter&#x27;, &#x27;bio_medical&#x27;,\n",
       "       &#x27;social_protection&#x27;, &#x27;behavioral&#x27;, &#x27;post_gbv_care&#x27;,\n",
       "       &#x27;other_interventions&#x27;, &#x27;age_at_enrollment&#x27;],\n",
       "      dtype=&#x27;object&#x27;)</pre></div></div></div><div class=\"sk-serial\"><div class=\"sk-item\"><div class=\"sk-serial\"><div class=\"sk-item\"><div class=\"sk-estimator sk-toggleable\"><input class=\"sk-toggleable__control sk-hidden--visually\" id=\"sk-estimator-id-81\" type=\"checkbox\" ><label for=\"sk-estimator-id-81\" class=\"sk-toggleable__label sk-toggleable__label-arrow\">StandardScaler</label><div class=\"sk-toggleable__content\"><pre>StandardScaler()</pre></div></div></div></div></div></div></div></div><div class=\"sk-parallel-item\"><div class=\"sk-item\"><div class=\"sk-label-container\"><div class=\"sk-label sk-toggleable\"><input class=\"sk-toggleable__control sk-hidden--visually\" id=\"sk-estimator-id-82\" type=\"checkbox\" ><label for=\"sk-estimator-id-82\" class=\"sk-toggleable__label sk-toggleable__label-arrow\">cat</label><div class=\"sk-toggleable__content\"><pre>Index([&#x27;county&#x27;, &#x27;head_of_household&#x27;, &#x27;father_alive&#x27;, &#x27;mother_alive&#x27;,\n",
       "       &#x27;are_both_parents_alive&#x27;, &#x27;ever_missed_full_day_food_in_4wks&#x27;,\n",
       "       &#x27;no_of_days_missed_food_in_4wks&#x27;, &#x27;currently_in_school&#x27;,\n",
       "       &#x27;current_school_level&#x27;, &#x27;current_income_source&#x27;, &#x27;last_test_result&#x27;,\n",
       "       &#x27;ever_had_sex&#x27;, &#x27;has_sexual_partner&#x27;, &#x27;age_of_last_partner&#x27;,\n",
       "       &#x27;used_condom_with_last_partner&#x27;, &#x27;exit_status&#x27;, &#x27;exit_reason&#x27;],\n",
       "      dtype=&#x27;object&#x27;)</pre></div></div></div><div class=\"sk-serial\"><div class=\"sk-item\"><div class=\"sk-serial\"><div class=\"sk-item\"><div class=\"sk-estimator sk-toggleable\"><input class=\"sk-toggleable__control sk-hidden--visually\" id=\"sk-estimator-id-83\" type=\"checkbox\" ><label for=\"sk-estimator-id-83\" class=\"sk-toggleable__label sk-toggleable__label-arrow\">OneHotEncoder</label><div class=\"sk-toggleable__content\"><pre>OneHotEncoder(handle_unknown=&#x27;ignore&#x27;)</pre></div></div></div></div></div></div></div></div></div></div><div class=\"sk-item\"><div class=\"sk-estimator sk-toggleable\"><input class=\"sk-toggleable__control sk-hidden--visually\" id=\"sk-estimator-id-84\" type=\"checkbox\" ><label for=\"sk-estimator-id-84\" class=\"sk-toggleable__label sk-toggleable__label-arrow\">XGBClassifier</label><div class=\"sk-toggleable__content\"><pre>XGBClassifier(base_score=None, booster=None, callbacks=None,\n",
       "              colsample_bylevel=None, colsample_bynode=None,\n",
       "              colsample_bytree=None, device=None, early_stopping_rounds=None,\n",
       "              enable_categorical=False, eval_metric=&#x27;logloss&#x27;,\n",
       "              feature_types=None, gamma=None, grow_policy=None,\n",
       "              importance_type=None, interaction_constraints=None,\n",
       "              learning_rate=None, max_bin=None, max_cat_threshold=None,\n",
       "              max_cat_to_onehot=None, max_delta_step=None, max_depth=None,\n",
       "              max_leaves=None, min_child_weight=None, missing=nan,\n",
       "              monotone_constraints=None, multi_strategy=None, n_estimators=None,\n",
       "              n_jobs=None, num_parallel_tree=None, random_state=42, ...)</pre></div></div></div></div></div></div></div>"
      ],
      "text/plain": [
       "Pipeline(steps=[('preprocessor',\n",
       "                 ColumnTransformer(transformers=[('num',\n",
       "                                                  Pipeline(steps=[('scaler',\n",
       "                                                                   StandardScaler())]),\n",
       "                                                  Index(['age_of_household_head', 'no_of_people_in_household', 'no_of_adults',\n",
       "       'no_of_children', 'age_at_first_sexual_encounter', 'bio_medical',\n",
       "       'social_protection', 'behavioral', 'post_gbv_care',\n",
       "       'other_interventions', 'age_at_enrollment'],\n",
       "      dtyp...\n",
       "                               feature_types=None, gamma=None, grow_policy=None,\n",
       "                               importance_type=None,\n",
       "                               interaction_constraints=None, learning_rate=None,\n",
       "                               max_bin=None, max_cat_threshold=None,\n",
       "                               max_cat_to_onehot=None, max_delta_step=None,\n",
       "                               max_depth=None, max_leaves=None,\n",
       "                               min_child_weight=None, missing=nan,\n",
       "                               monotone_constraints=None, multi_strategy=None,\n",
       "                               n_estimators=None, n_jobs=None,\n",
       "                               num_parallel_tree=None, random_state=42, ...))])"
      ]
     },
     "execution_count": 257,
     "metadata": {},
     "output_type": "execute_result"
    }
   ],
   "source": [
    "# Train XGBoost model\n",
    "xgbbal.fit(X_train_balanced, y_train_balanced)"
   ]
  },
  {
   "cell_type": "code",
   "execution_count": 258,
   "metadata": {},
   "outputs": [],
   "source": [
    "# Predict and evaluate\n",
    "y_pred_xgbbal = xgbbal.predict(X_test_balanced)"
   ]
  },
  {
   "cell_type": "code",
   "execution_count": 259,
   "metadata": {},
   "outputs": [
    {
     "name": "stdout",
     "output_type": "stream",
     "text": [
      "Accuracy: 67.49%\n",
      "Precision: 66.83%\n",
      "Recall: 69.15%\n",
      "F1 Score: 67.97%\n"
     ]
    }
   ],
   "source": [
    "# Evaluate the model\n",
    "xgbbal_accuracy = accuracy_score(y_test_balanced, y_pred_xgbbal)\n",
    "xgbbal_precision = precision_score(y_test_balanced, y_pred_xgbbal)\n",
    "xgbbal_recall = recall_score(y_test_balanced, y_pred_xgbbal)\n",
    "xgbbal_f1 = f1_score(y_test_balanced, y_pred_xgbbal)\n",
    "\n",
    "print(f'Accuracy: {xgbbal_accuracy*100:.2f}%')\n",
    "print(f\"Precision: {xgbbal_precision*100:.2f}%\")\n",
    "print(f\"Recall: {xgbbal_recall*100:.2f}%\")\n",
    "print(f\"F1 Score: {xgbbal_f1*100:.2f}%\")"
   ]
  },
  {
   "cell_type": "markdown",
   "metadata": {},
   "source": [
    "### 6.2.4 Best Model\n",
    "\n",
    "Best model will be one that identifies all positives and minimizes false negatives, thereby crucial performance metrics are F1-score and Recall."
   ]
  },
  {
   "cell_type": "code",
   "execution_count": 313,
   "metadata": {},
   "outputs": [
    {
     "name": "stdout",
     "output_type": "stream",
     "text": [
      "Model Performance Comparison:\n",
      "Logistic Regression  Accuracy: 67.99% | Precision: 67.65% | Recall: 68.66% | F1 Score: 68.15%\n",
      "Random Forest Accuracy: 67.00% | Precision: 65.32% | Recall: 72.14% | F1 Score: 68.56%\n",
      "XGBoost Accuracy: 67.49% | Precision: 66.83% | Recall: 69.15% | F1 Score: 67.97%\n"
     ]
    }
   ],
   "source": [
    "# Model Performance Comparison\n",
    "print(\"Model Performance Comparison:\")\n",
    "print(f\"Logistic Regression  Accuracy: {accuracy*100:.2f}% | Precision: {precision*100:.2f}% | Recall: {recall*100:.2f}% | F1 Score: {f1*100:.2f}%\")\n",
    "print(f\"Random Forest Accuracy: {rfbal_accuracy*100:.2f}% | Precision: {rfbal_precision*100:.2f}% | Recall: {rfbal_recall*100:.2f}% | F1 Score: {rfbal_f1*100:.2f}%\")\n",
    "print(f\"XGBoost Accuracy: {xgbbal_accuracy*100:.2f}% | Precision: {xgbbal_precision*100:.2f}% | Recall: {xgbbal_recall*100:.2f}% | F1 Score: {xgbbal_f1*100:.2f}%\")"
   ]
  },
  {
   "cell_type": "markdown",
   "metadata": {},
   "source": [
    "###  Observation\n",
    "\n",
    "* The best model for this specific objective (minimizing false negatives and identifying as many true positives as possible) is Random Forest. Random Forest stands out as the best model in this scenario due to its highest recall (which is important to capture all HIV positives) and the highest F1 score (which balances precision and recall)."
   ]
  },
  {
   "cell_type": "code",
   "execution_count": null,
   "metadata": {},
   "outputs": [],
   "source": []
  },
  {
   "cell_type": "markdown",
   "metadata": {},
   "source": [
    "## 6.3 Model Hyperparameter Tuning"
   ]
  },
  {
   "cell_type": "markdown",
   "metadata": {},
   "source": [
    "### 6.3.1 XGBoost Model"
   ]
  },
  {
   "cell_type": "code",
   "execution_count": 289,
   "metadata": {},
   "outputs": [],
   "source": [
    "X_train_scaled = preprocessor.fit_transform(X_train_balanced)\n",
    "X_test_scaled = preprocessor.transform(X_test_balanced)"
   ]
  },
  {
   "cell_type": "code",
   "execution_count": 298,
   "metadata": {},
   "outputs": [],
   "source": [
    "xgbbal = xgb.XGBClassifier(objective='binary:logistic', random_state=42)\n"
   ]
  },
  {
   "cell_type": "code",
   "execution_count": 299,
   "metadata": {},
   "outputs": [],
   "source": [
    "param_grid = {\n",
    "    'learning_rate': [0.01, 0.05, 0.1, 0.2],  # Step size for each round\n",
    "    'max_depth': [3, 5, 7, 9],  # Maximum depth of tree\n",
    "    'min_child_weight': [1, 3, 5],  # Minimum sum of hessian\n",
    "    'subsample': [0.7, 0.8, 0.9, 1.0],  # Fraction of samples for each tree\n",
    "    'colsample_bytree': [0.7, 0.8, 0.9, 1.0],  # Fraction of features for each tree\n",
    "    'n_estimators': [100, 200, 300],  # Number of boosting rounds\n",
    "    'scale_pos_weight': [1, 10, 50]  # Useful for imbalanced classes\n",
    "}"
   ]
  },
  {
   "cell_type": "code",
   "execution_count": 300,
   "metadata": {},
   "outputs": [],
   "source": [
    "# Perform Grid Search with cross-validation\n",
    "grid_search = GridSearchCV(xgbbal, param_grid, cv=5, n_jobs=-1, scoring='recall', verbose=1)"
   ]
  },
  {
   "cell_type": "code",
   "execution_count": 301,
   "metadata": {},
   "outputs": [
    {
     "name": "stdout",
     "output_type": "stream",
     "text": [
      "Fitting 5 folds for each of 6912 candidates, totalling 34560 fits\n"
     ]
    },
    {
     "data": {
      "text/html": [
       "<style>#sk-container-id-18 {color: black;}#sk-container-id-18 pre{padding: 0;}#sk-container-id-18 div.sk-toggleable {background-color: white;}#sk-container-id-18 label.sk-toggleable__label {cursor: pointer;display: block;width: 100%;margin-bottom: 0;padding: 0.3em;box-sizing: border-box;text-align: center;}#sk-container-id-18 label.sk-toggleable__label-arrow:before {content: \"▸\";float: left;margin-right: 0.25em;color: #696969;}#sk-container-id-18 label.sk-toggleable__label-arrow:hover:before {color: black;}#sk-container-id-18 div.sk-estimator:hover label.sk-toggleable__label-arrow:before {color: black;}#sk-container-id-18 div.sk-toggleable__content {max-height: 0;max-width: 0;overflow: hidden;text-align: left;background-color: #f0f8ff;}#sk-container-id-18 div.sk-toggleable__content pre {margin: 0.2em;color: black;border-radius: 0.25em;background-color: #f0f8ff;}#sk-container-id-18 input.sk-toggleable__control:checked~div.sk-toggleable__content {max-height: 200px;max-width: 100%;overflow: auto;}#sk-container-id-18 input.sk-toggleable__control:checked~label.sk-toggleable__label-arrow:before {content: \"▾\";}#sk-container-id-18 div.sk-estimator input.sk-toggleable__control:checked~label.sk-toggleable__label {background-color: #d4ebff;}#sk-container-id-18 div.sk-label input.sk-toggleable__control:checked~label.sk-toggleable__label {background-color: #d4ebff;}#sk-container-id-18 input.sk-hidden--visually {border: 0;clip: rect(1px 1px 1px 1px);clip: rect(1px, 1px, 1px, 1px);height: 1px;margin: -1px;overflow: hidden;padding: 0;position: absolute;width: 1px;}#sk-container-id-18 div.sk-estimator {font-family: monospace;background-color: #f0f8ff;border: 1px dotted black;border-radius: 0.25em;box-sizing: border-box;margin-bottom: 0.5em;}#sk-container-id-18 div.sk-estimator:hover {background-color: #d4ebff;}#sk-container-id-18 div.sk-parallel-item::after {content: \"\";width: 100%;border-bottom: 1px solid gray;flex-grow: 1;}#sk-container-id-18 div.sk-label:hover label.sk-toggleable__label {background-color: #d4ebff;}#sk-container-id-18 div.sk-serial::before {content: \"\";position: absolute;border-left: 1px solid gray;box-sizing: border-box;top: 0;bottom: 0;left: 50%;z-index: 0;}#sk-container-id-18 div.sk-serial {display: flex;flex-direction: column;align-items: center;background-color: white;padding-right: 0.2em;padding-left: 0.2em;position: relative;}#sk-container-id-18 div.sk-item {position: relative;z-index: 1;}#sk-container-id-18 div.sk-parallel {display: flex;align-items: stretch;justify-content: center;background-color: white;position: relative;}#sk-container-id-18 div.sk-item::before, #sk-container-id-18 div.sk-parallel-item::before {content: \"\";position: absolute;border-left: 1px solid gray;box-sizing: border-box;top: 0;bottom: 0;left: 50%;z-index: -1;}#sk-container-id-18 div.sk-parallel-item {display: flex;flex-direction: column;z-index: 1;position: relative;background-color: white;}#sk-container-id-18 div.sk-parallel-item:first-child::after {align-self: flex-end;width: 50%;}#sk-container-id-18 div.sk-parallel-item:last-child::after {align-self: flex-start;width: 50%;}#sk-container-id-18 div.sk-parallel-item:only-child::after {width: 0;}#sk-container-id-18 div.sk-dashed-wrapped {border: 1px dashed gray;margin: 0 0.4em 0.5em 0.4em;box-sizing: border-box;padding-bottom: 0.4em;background-color: white;}#sk-container-id-18 div.sk-label label {font-family: monospace;font-weight: bold;display: inline-block;line-height: 1.2em;}#sk-container-id-18 div.sk-label-container {text-align: center;}#sk-container-id-18 div.sk-container {/* jupyter's `normalize.less` sets `[hidden] { display: none; }` but bootstrap.min.css set `[hidden] { display: none !important; }` so we also need the `!important` here to be able to override the default hidden behavior on the sphinx rendered scikit-learn.org. See: https://github.com/scikit-learn/scikit-learn/issues/21755 */display: inline-block !important;position: relative;}#sk-container-id-18 div.sk-text-repr-fallback {display: none;}</style><div id=\"sk-container-id-18\" class=\"sk-top-container\"><div class=\"sk-text-repr-fallback\"><pre>GridSearchCV(cv=5,\n",
       "             estimator=XGBClassifier(base_score=None, booster=None,\n",
       "                                     callbacks=None, colsample_bylevel=None,\n",
       "                                     colsample_bynode=None,\n",
       "                                     colsample_bytree=None, device=None,\n",
       "                                     early_stopping_rounds=None,\n",
       "                                     enable_categorical=False, eval_metric=None,\n",
       "                                     feature_types=None, gamma=None,\n",
       "                                     grow_policy=None, importance_type=None,\n",
       "                                     interaction_constraints=None,\n",
       "                                     learning_rate=None,...\n",
       "                                     multi_strategy=None, n_estimators=None,\n",
       "                                     n_jobs=None, num_parallel_tree=None,\n",
       "                                     random_state=42, ...),\n",
       "             n_jobs=-1,\n",
       "             param_grid={&#x27;colsample_bytree&#x27;: [0.7, 0.8, 0.9, 1.0],\n",
       "                         &#x27;learning_rate&#x27;: [0.01, 0.05, 0.1, 0.2],\n",
       "                         &#x27;max_depth&#x27;: [3, 5, 7, 9],\n",
       "                         &#x27;min_child_weight&#x27;: [1, 3, 5],\n",
       "                         &#x27;n_estimators&#x27;: [100, 200, 300],\n",
       "                         &#x27;scale_pos_weight&#x27;: [1, 10, 50],\n",
       "                         &#x27;subsample&#x27;: [0.7, 0.8, 0.9, 1.0]},\n",
       "             scoring=&#x27;recall&#x27;, verbose=1)</pre><b>In a Jupyter environment, please rerun this cell to show the HTML representation or trust the notebook. <br />On GitHub, the HTML representation is unable to render, please try loading this page with nbviewer.org.</b></div><div class=\"sk-container\" hidden><div class=\"sk-item sk-dashed-wrapped\"><div class=\"sk-label-container\"><div class=\"sk-label sk-toggleable\"><input class=\"sk-toggleable__control sk-hidden--visually\" id=\"sk-estimator-id-100\" type=\"checkbox\" ><label for=\"sk-estimator-id-100\" class=\"sk-toggleable__label sk-toggleable__label-arrow\">GridSearchCV</label><div class=\"sk-toggleable__content\"><pre>GridSearchCV(cv=5,\n",
       "             estimator=XGBClassifier(base_score=None, booster=None,\n",
       "                                     callbacks=None, colsample_bylevel=None,\n",
       "                                     colsample_bynode=None,\n",
       "                                     colsample_bytree=None, device=None,\n",
       "                                     early_stopping_rounds=None,\n",
       "                                     enable_categorical=False, eval_metric=None,\n",
       "                                     feature_types=None, gamma=None,\n",
       "                                     grow_policy=None, importance_type=None,\n",
       "                                     interaction_constraints=None,\n",
       "                                     learning_rate=None,...\n",
       "                                     multi_strategy=None, n_estimators=None,\n",
       "                                     n_jobs=None, num_parallel_tree=None,\n",
       "                                     random_state=42, ...),\n",
       "             n_jobs=-1,\n",
       "             param_grid={&#x27;colsample_bytree&#x27;: [0.7, 0.8, 0.9, 1.0],\n",
       "                         &#x27;learning_rate&#x27;: [0.01, 0.05, 0.1, 0.2],\n",
       "                         &#x27;max_depth&#x27;: [3, 5, 7, 9],\n",
       "                         &#x27;min_child_weight&#x27;: [1, 3, 5],\n",
       "                         &#x27;n_estimators&#x27;: [100, 200, 300],\n",
       "                         &#x27;scale_pos_weight&#x27;: [1, 10, 50],\n",
       "                         &#x27;subsample&#x27;: [0.7, 0.8, 0.9, 1.0]},\n",
       "             scoring=&#x27;recall&#x27;, verbose=1)</pre></div></div></div><div class=\"sk-parallel\"><div class=\"sk-parallel-item\"><div class=\"sk-item\"><div class=\"sk-label-container\"><div class=\"sk-label sk-toggleable\"><input class=\"sk-toggleable__control sk-hidden--visually\" id=\"sk-estimator-id-101\" type=\"checkbox\" ><label for=\"sk-estimator-id-101\" class=\"sk-toggleable__label sk-toggleable__label-arrow\">estimator: XGBClassifier</label><div class=\"sk-toggleable__content\"><pre>XGBClassifier(base_score=None, booster=None, callbacks=None,\n",
       "              colsample_bylevel=None, colsample_bynode=None,\n",
       "              colsample_bytree=None, device=None, early_stopping_rounds=None,\n",
       "              enable_categorical=False, eval_metric=None, feature_types=None,\n",
       "              gamma=None, grow_policy=None, importance_type=None,\n",
       "              interaction_constraints=None, learning_rate=None, max_bin=None,\n",
       "              max_cat_threshold=None, max_cat_to_onehot=None,\n",
       "              max_delta_step=None, max_depth=None, max_leaves=None,\n",
       "              min_child_weight=None, missing=nan, monotone_constraints=None,\n",
       "              multi_strategy=None, n_estimators=None, n_jobs=None,\n",
       "              num_parallel_tree=None, random_state=42, ...)</pre></div></div></div><div class=\"sk-serial\"><div class=\"sk-item\"><div class=\"sk-estimator sk-toggleable\"><input class=\"sk-toggleable__control sk-hidden--visually\" id=\"sk-estimator-id-102\" type=\"checkbox\" ><label for=\"sk-estimator-id-102\" class=\"sk-toggleable__label sk-toggleable__label-arrow\">XGBClassifier</label><div class=\"sk-toggleable__content\"><pre>XGBClassifier(base_score=None, booster=None, callbacks=None,\n",
       "              colsample_bylevel=None, colsample_bynode=None,\n",
       "              colsample_bytree=None, device=None, early_stopping_rounds=None,\n",
       "              enable_categorical=False, eval_metric=None, feature_types=None,\n",
       "              gamma=None, grow_policy=None, importance_type=None,\n",
       "              interaction_constraints=None, learning_rate=None, max_bin=None,\n",
       "              max_cat_threshold=None, max_cat_to_onehot=None,\n",
       "              max_delta_step=None, max_depth=None, max_leaves=None,\n",
       "              min_child_weight=None, missing=nan, monotone_constraints=None,\n",
       "              multi_strategy=None, n_estimators=None, n_jobs=None,\n",
       "              num_parallel_tree=None, random_state=42, ...)</pre></div></div></div></div></div></div></div></div></div></div>"
      ],
      "text/plain": [
       "GridSearchCV(cv=5,\n",
       "             estimator=XGBClassifier(base_score=None, booster=None,\n",
       "                                     callbacks=None, colsample_bylevel=None,\n",
       "                                     colsample_bynode=None,\n",
       "                                     colsample_bytree=None, device=None,\n",
       "                                     early_stopping_rounds=None,\n",
       "                                     enable_categorical=False, eval_metric=None,\n",
       "                                     feature_types=None, gamma=None,\n",
       "                                     grow_policy=None, importance_type=None,\n",
       "                                     interaction_constraints=None,\n",
       "                                     learning_rate=None,...\n",
       "                                     multi_strategy=None, n_estimators=None,\n",
       "                                     n_jobs=None, num_parallel_tree=None,\n",
       "                                     random_state=42, ...),\n",
       "             n_jobs=-1,\n",
       "             param_grid={'colsample_bytree': [0.7, 0.8, 0.9, 1.0],\n",
       "                         'learning_rate': [0.01, 0.05, 0.1, 0.2],\n",
       "                         'max_depth': [3, 5, 7, 9],\n",
       "                         'min_child_weight': [1, 3, 5],\n",
       "                         'n_estimators': [100, 200, 300],\n",
       "                         'scale_pos_weight': [1, 10, 50],\n",
       "                         'subsample': [0.7, 0.8, 0.9, 1.0]},\n",
       "             scoring='recall', verbose=1)"
      ]
     },
     "execution_count": 301,
     "metadata": {},
     "output_type": "execute_result"
    }
   ],
   "source": [
    "# Fit the model on training data\n",
    "grid_search.fit(X_train_scaled, y_train_balanced)\n"
   ]
  },
  {
   "cell_type": "code",
   "execution_count": 302,
   "metadata": {},
   "outputs": [
    {
     "name": "stdout",
     "output_type": "stream",
     "text": [
      "Best hyperparameters for XGBoost: {'colsample_bytree': 0.7, 'learning_rate': 0.01, 'max_depth': 3, 'min_child_weight': 1, 'n_estimators': 100, 'scale_pos_weight': 10, 'subsample': 0.7}\n",
      "Best recall score: 1.00\n"
     ]
    }
   ],
   "source": [
    "# Output the best parameters and recall score\n",
    "print(f\"Best hyperparameters for XGBoost: {grid_search.best_params_}\")\n",
    "print(f\"Best recall score: {grid_search.best_score_:.2f}\")"
   ]
  },
  {
   "cell_type": "code",
   "execution_count": 303,
   "metadata": {},
   "outputs": [],
   "source": [
    "# Get the best model and evaluate it on the test set\n",
    "best_xgb = grid_search.best_estimator_\n",
    "# y_pred_xgb = best_xgb_model.predict(X_test_balanced)"
   ]
  },
  {
   "cell_type": "code",
   "execution_count": 304,
   "metadata": {},
   "outputs": [],
   "source": [
    "#Predict using the best model on the test set\n",
    "y_predxgb = best_xgb.predict(X_test_scaled)"
   ]
  },
  {
   "cell_type": "code",
   "execution_count": null,
   "metadata": {},
   "outputs": [
    {
     "name": "stdout",
     "output_type": "stream",
     "text": [
      "Accuracy: 49.88%\n",
      "Precision: 49.88%\n",
      "Recall: 100.00%\n",
      "F1 Score: 66.56%\n"
     ]
    }
   ],
   "source": [
    "# Evaluate the best model\n",
    "best_accuracy = accuracy_score(y_test_balanced, y_predxgb)\n",
    "best_precision = precision_score(y_test_balanced, y_predxgb)\n",
    "best_recall = recall_score(y_test_balanced, y_predxgb)\n",
    "best_f1 = f1_score(y_test_balanced, y_predxgb)\n",
    "\n",
    "print(f'Tuned xgb Accuracy: {best_accuracy*100:.2f}%')\n",
    "print(f\"Tuned xgb Precision: {best_precision*100:.2f}%\")\n",
    "print(f\"Tuned xgb Recall: {best_recall*100:.2f}%\")\n",
    "print(f\"Tuned xgb F1 Score: {best_f1*100:.2f}%\")"
   ]
  },
  {
   "cell_type": "code",
   "execution_count": null,
   "metadata": {},
   "outputs": [],
   "source": []
  },
  {
   "cell_type": "markdown",
   "metadata": {},
   "source": [
    "### 6.3.2 Random Forest Model"
   ]
  },
  {
   "cell_type": "code",
   "execution_count": 329,
   "metadata": {},
   "outputs": [],
   "source": [
    "# Identify categorical columns\n",
    "categorical_columns = X_balanced.select_dtypes(include=['object']).columns\n",
    "num_columns = X_balanced.select_dtypes(exclude=['object']).columns"
   ]
  },
  {
   "cell_type": "code",
   "execution_count": 337,
   "metadata": {},
   "outputs": [],
   "source": [
    "# Define the preprocessor\n",
    "rf_preprocessor = ColumnTransformer(\n",
    "    transformers=[\n",
    "        ('num', Pipeline([\n",
    "                        ('scaler', StandardScaler())  # Scale numerical features\n",
    "        ]), num_columns) ,  # Apply to numeric columns only\n",
    "        ('cat', Pipeline([\n",
    "                        ('onehot', OneHotEncoder(handle_unknown='ignore'))  # One-hot encode categorical features\n",
    "        ]), \n",
    "        categorical_columns)  # Apply to categorical columns only\n",
    "    ])"
   ]
  },
  {
   "cell_type": "code",
   "execution_count": null,
   "metadata": {},
   "outputs": [],
   "source": [
    "# Define the Random Forest model\n",
    "rf_model = RandomForestClassifier(class_weight='balanced', random_state=42)"
   ]
  },
  {
   "cell_type": "code",
   "execution_count": 338,
   "metadata": {},
   "outputs": [],
   "source": [
    "X_scaledrf = rf_preprocessor.fit_transform(X_train_balanced)\n",
    "X_testrf = rf_preprocessor.transform(X_test_balanced)"
   ]
  },
  {
   "cell_type": "code",
   "execution_count": 339,
   "metadata": {},
   "outputs": [],
   "source": [
    "# Define the hyperparameter grid for Random Forest\n",
    "param_gridrf = {\n",
    "    'n_estimators': [100, 200, 300],  # Number of trees\n",
    "    'max_depth': [10, 20, None],  # Maximum depth of trees\n",
    "    'min_samples_split': [2, 5, 10],  # Minimum samples required to split an internal node\n",
    "    'min_samples_leaf': [1, 2, 4]  # Minimum samples required to be at a leaf node\n",
    "}"
   ]
  },
  {
   "cell_type": "code",
   "execution_count": 340,
   "metadata": {},
   "outputs": [],
   "source": [
    "# Set up GridSearchCV\n",
    "grid_searchrf = GridSearchCV(rf_model, param_gridrf, cv=5, n_jobs=-1, verbose=2)"
   ]
  },
  {
   "cell_type": "code",
   "execution_count": 341,
   "metadata": {},
   "outputs": [
    {
     "name": "stdout",
     "output_type": "stream",
     "text": [
      "Fitting 5 folds for each of 81 candidates, totalling 405 fits\n"
     ]
    },
    {
     "data": {
      "text/html": [
       "<style>#sk-container-id-21 {color: black;}#sk-container-id-21 pre{padding: 0;}#sk-container-id-21 div.sk-toggleable {background-color: white;}#sk-container-id-21 label.sk-toggleable__label {cursor: pointer;display: block;width: 100%;margin-bottom: 0;padding: 0.3em;box-sizing: border-box;text-align: center;}#sk-container-id-21 label.sk-toggleable__label-arrow:before {content: \"▸\";float: left;margin-right: 0.25em;color: #696969;}#sk-container-id-21 label.sk-toggleable__label-arrow:hover:before {color: black;}#sk-container-id-21 div.sk-estimator:hover label.sk-toggleable__label-arrow:before {color: black;}#sk-container-id-21 div.sk-toggleable__content {max-height: 0;max-width: 0;overflow: hidden;text-align: left;background-color: #f0f8ff;}#sk-container-id-21 div.sk-toggleable__content pre {margin: 0.2em;color: black;border-radius: 0.25em;background-color: #f0f8ff;}#sk-container-id-21 input.sk-toggleable__control:checked~div.sk-toggleable__content {max-height: 200px;max-width: 100%;overflow: auto;}#sk-container-id-21 input.sk-toggleable__control:checked~label.sk-toggleable__label-arrow:before {content: \"▾\";}#sk-container-id-21 div.sk-estimator input.sk-toggleable__control:checked~label.sk-toggleable__label {background-color: #d4ebff;}#sk-container-id-21 div.sk-label input.sk-toggleable__control:checked~label.sk-toggleable__label {background-color: #d4ebff;}#sk-container-id-21 input.sk-hidden--visually {border: 0;clip: rect(1px 1px 1px 1px);clip: rect(1px, 1px, 1px, 1px);height: 1px;margin: -1px;overflow: hidden;padding: 0;position: absolute;width: 1px;}#sk-container-id-21 div.sk-estimator {font-family: monospace;background-color: #f0f8ff;border: 1px dotted black;border-radius: 0.25em;box-sizing: border-box;margin-bottom: 0.5em;}#sk-container-id-21 div.sk-estimator:hover {background-color: #d4ebff;}#sk-container-id-21 div.sk-parallel-item::after {content: \"\";width: 100%;border-bottom: 1px solid gray;flex-grow: 1;}#sk-container-id-21 div.sk-label:hover label.sk-toggleable__label {background-color: #d4ebff;}#sk-container-id-21 div.sk-serial::before {content: \"\";position: absolute;border-left: 1px solid gray;box-sizing: border-box;top: 0;bottom: 0;left: 50%;z-index: 0;}#sk-container-id-21 div.sk-serial {display: flex;flex-direction: column;align-items: center;background-color: white;padding-right: 0.2em;padding-left: 0.2em;position: relative;}#sk-container-id-21 div.sk-item {position: relative;z-index: 1;}#sk-container-id-21 div.sk-parallel {display: flex;align-items: stretch;justify-content: center;background-color: white;position: relative;}#sk-container-id-21 div.sk-item::before, #sk-container-id-21 div.sk-parallel-item::before {content: \"\";position: absolute;border-left: 1px solid gray;box-sizing: border-box;top: 0;bottom: 0;left: 50%;z-index: -1;}#sk-container-id-21 div.sk-parallel-item {display: flex;flex-direction: column;z-index: 1;position: relative;background-color: white;}#sk-container-id-21 div.sk-parallel-item:first-child::after {align-self: flex-end;width: 50%;}#sk-container-id-21 div.sk-parallel-item:last-child::after {align-self: flex-start;width: 50%;}#sk-container-id-21 div.sk-parallel-item:only-child::after {width: 0;}#sk-container-id-21 div.sk-dashed-wrapped {border: 1px dashed gray;margin: 0 0.4em 0.5em 0.4em;box-sizing: border-box;padding-bottom: 0.4em;background-color: white;}#sk-container-id-21 div.sk-label label {font-family: monospace;font-weight: bold;display: inline-block;line-height: 1.2em;}#sk-container-id-21 div.sk-label-container {text-align: center;}#sk-container-id-21 div.sk-container {/* jupyter's `normalize.less` sets `[hidden] { display: none; }` but bootstrap.min.css set `[hidden] { display: none !important; }` so we also need the `!important` here to be able to override the default hidden behavior on the sphinx rendered scikit-learn.org. See: https://github.com/scikit-learn/scikit-learn/issues/21755 */display: inline-block !important;position: relative;}#sk-container-id-21 div.sk-text-repr-fallback {display: none;}</style><div id=\"sk-container-id-21\" class=\"sk-top-container\"><div class=\"sk-text-repr-fallback\"><pre>GridSearchCV(cv=5,\n",
       "             estimator=RandomForestClassifier(class_weight=&#x27;balanced&#x27;,\n",
       "                                              random_state=42),\n",
       "             n_jobs=-1,\n",
       "             param_grid={&#x27;max_depth&#x27;: [10, 20, None],\n",
       "                         &#x27;min_samples_leaf&#x27;: [1, 2, 4],\n",
       "                         &#x27;min_samples_split&#x27;: [2, 5, 10],\n",
       "                         &#x27;n_estimators&#x27;: [100, 200, 300]},\n",
       "             verbose=2)</pre><b>In a Jupyter environment, please rerun this cell to show the HTML representation or trust the notebook. <br />On GitHub, the HTML representation is unable to render, please try loading this page with nbviewer.org.</b></div><div class=\"sk-container\" hidden><div class=\"sk-item sk-dashed-wrapped\"><div class=\"sk-label-container\"><div class=\"sk-label sk-toggleable\"><input class=\"sk-toggleable__control sk-hidden--visually\" id=\"sk-estimator-id-113\" type=\"checkbox\" ><label for=\"sk-estimator-id-113\" class=\"sk-toggleable__label sk-toggleable__label-arrow\">GridSearchCV</label><div class=\"sk-toggleable__content\"><pre>GridSearchCV(cv=5,\n",
       "             estimator=RandomForestClassifier(class_weight=&#x27;balanced&#x27;,\n",
       "                                              random_state=42),\n",
       "             n_jobs=-1,\n",
       "             param_grid={&#x27;max_depth&#x27;: [10, 20, None],\n",
       "                         &#x27;min_samples_leaf&#x27;: [1, 2, 4],\n",
       "                         &#x27;min_samples_split&#x27;: [2, 5, 10],\n",
       "                         &#x27;n_estimators&#x27;: [100, 200, 300]},\n",
       "             verbose=2)</pre></div></div></div><div class=\"sk-parallel\"><div class=\"sk-parallel-item\"><div class=\"sk-item\"><div class=\"sk-label-container\"><div class=\"sk-label sk-toggleable\"><input class=\"sk-toggleable__control sk-hidden--visually\" id=\"sk-estimator-id-114\" type=\"checkbox\" ><label for=\"sk-estimator-id-114\" class=\"sk-toggleable__label sk-toggleable__label-arrow\">estimator: RandomForestClassifier</label><div class=\"sk-toggleable__content\"><pre>RandomForestClassifier(class_weight=&#x27;balanced&#x27;, random_state=42)</pre></div></div></div><div class=\"sk-serial\"><div class=\"sk-item\"><div class=\"sk-estimator sk-toggleable\"><input class=\"sk-toggleable__control sk-hidden--visually\" id=\"sk-estimator-id-115\" type=\"checkbox\" ><label for=\"sk-estimator-id-115\" class=\"sk-toggleable__label sk-toggleable__label-arrow\">RandomForestClassifier</label><div class=\"sk-toggleable__content\"><pre>RandomForestClassifier(class_weight=&#x27;balanced&#x27;, random_state=42)</pre></div></div></div></div></div></div></div></div></div></div>"
      ],
      "text/plain": [
       "GridSearchCV(cv=5,\n",
       "             estimator=RandomForestClassifier(class_weight='balanced',\n",
       "                                              random_state=42),\n",
       "             n_jobs=-1,\n",
       "             param_grid={'max_depth': [10, 20, None],\n",
       "                         'min_samples_leaf': [1, 2, 4],\n",
       "                         'min_samples_split': [2, 5, 10],\n",
       "                         'n_estimators': [100, 200, 300]},\n",
       "             verbose=2)"
      ]
     },
     "execution_count": 341,
     "metadata": {},
     "output_type": "execute_result"
    }
   ],
   "source": [
    "grid_searchrf.fit(X_scaledrf, y_train_balanced)"
   ]
  },
  {
   "cell_type": "code",
   "execution_count": 342,
   "metadata": {},
   "outputs": [],
   "source": [
    "#Get the best model after hyperparameter tuning\n",
    "best_rf_model = grid_searchrf.best_estimator_"
   ]
  },
  {
   "cell_type": "code",
   "execution_count": 343,
   "metadata": {},
   "outputs": [],
   "source": [
    "# Make predictions with the tuned model\n",
    "y_pred_rf_best = best_rf_model.predict(X_testrf)"
   ]
  },
  {
   "cell_type": "code",
   "execution_count": 363,
   "metadata": {},
   "outputs": [
    {
     "name": "stdout",
     "output_type": "stream",
     "text": [
      "Best Random Forest Model Accuracy: 67.49%\n",
      "Best Random Forest Model Precision: 66.51%\n",
      "Best Random Forest Model Recall: 70.15%\n",
      "Best Random Forest Model F1 Score: 68.28%\n"
     ]
    }
   ],
   "source": [
    "# Evaluate the tuned model\n",
    "brfaccuracy = accuracy_score(y_test_balanced, y_pred_rf_best)\n",
    "brfprecision = precision_score(y_test_balanced, y_pred_rf_best)\n",
    "brfrecall = recall_score(y_test_balanced, y_pred_rf_best)\n",
    "brff1 = f1_score(y_test_balanced, y_pred_rf_best)\n",
    "\n",
    "# Print the results\n",
    "print(f\"Best Random Forest Model Accuracy: {brfaccuracy*100:.2f}%\")\n",
    "print(f\"Best Random Forest Model Precision: {brfprecision*100:.2f}%\")\n",
    "print(f\"Best Random Forest Model Recall: {brfrecall*100:.2f}%\")\n",
    "print(f\"Best Random Forest Model F1 Score: {brff1*100:.2f}%\")"
   ]
  },
  {
   "cell_type": "code",
   "execution_count": null,
   "metadata": {},
   "outputs": [],
   "source": []
  },
  {
   "cell_type": "markdown",
   "metadata": {},
   "source": [
    "### 6.3.3 Logistic Regression"
   ]
  },
  {
   "cell_type": "code",
   "execution_count": 352,
   "metadata": {},
   "outputs": [],
   "source": [
    "# Define the preprocessor\n",
    "log_preprocessor = ColumnTransformer(\n",
    "    transformers=[\n",
    "        ('num', Pipeline([\n",
    "                        ('scaler', StandardScaler())  # Scale numerical features\n",
    "        ]), num_columns) ,  # Apply to numeric columns only\n",
    "        ('cat', Pipeline([\n",
    "                        ('onehot', OneHotEncoder(handle_unknown='ignore'))  # One-hot encode categorical features\n",
    "        ]), \n",
    "        categorical_columns)  # Apply to categorical columns only\n",
    "    ])"
   ]
  },
  {
   "cell_type": "code",
   "execution_count": 353,
   "metadata": {},
   "outputs": [],
   "source": [
    "log_reg = LogisticRegression(class_weight='balanced')"
   ]
  },
  {
   "cell_type": "code",
   "execution_count": 354,
   "metadata": {},
   "outputs": [],
   "source": [
    "X_scaled_logreg = log_preprocessor.fit_transform(X_train_balanced)\n",
    "X_test_logreg = log_preprocessor.transform(X_test_balanced)"
   ]
  },
  {
   "cell_type": "code",
   "execution_count": 356,
   "metadata": {},
   "outputs": [],
   "source": [
    "# Define the parameter grid for Logistic Regression\n",
    "param_grid_log = {\n",
    "    'C': [0.01, 0.1, 1, 10, 100],  # Regularization strength\n",
    "    'penalty': ['l2'],  # Use L2 regularization\n",
    "    'solver': ['liblinear', 'lbfgs'],  # Solvers for optimization\n",
    "    'max_iter': [100, 200, 300]  # Max iterations for solver\n",
    "}"
   ]
  },
  {
   "cell_type": "code",
   "execution_count": 357,
   "metadata": {},
   "outputs": [],
   "source": [
    "grid_search_log_reg = GridSearchCV(estimator=log_reg, param_grid=param_grid_log, cv=5, scoring='accuracy', verbose=1)"
   ]
  },
  {
   "cell_type": "code",
   "execution_count": 358,
   "metadata": {},
   "outputs": [
    {
     "name": "stdout",
     "output_type": "stream",
     "text": [
      "Fitting 5 folds for each of 30 candidates, totalling 150 fits\n"
     ]
    },
    {
     "data": {
      "text/html": [
       "<style>#sk-container-id-22 {color: black;}#sk-container-id-22 pre{padding: 0;}#sk-container-id-22 div.sk-toggleable {background-color: white;}#sk-container-id-22 label.sk-toggleable__label {cursor: pointer;display: block;width: 100%;margin-bottom: 0;padding: 0.3em;box-sizing: border-box;text-align: center;}#sk-container-id-22 label.sk-toggleable__label-arrow:before {content: \"▸\";float: left;margin-right: 0.25em;color: #696969;}#sk-container-id-22 label.sk-toggleable__label-arrow:hover:before {color: black;}#sk-container-id-22 div.sk-estimator:hover label.sk-toggleable__label-arrow:before {color: black;}#sk-container-id-22 div.sk-toggleable__content {max-height: 0;max-width: 0;overflow: hidden;text-align: left;background-color: #f0f8ff;}#sk-container-id-22 div.sk-toggleable__content pre {margin: 0.2em;color: black;border-radius: 0.25em;background-color: #f0f8ff;}#sk-container-id-22 input.sk-toggleable__control:checked~div.sk-toggleable__content {max-height: 200px;max-width: 100%;overflow: auto;}#sk-container-id-22 input.sk-toggleable__control:checked~label.sk-toggleable__label-arrow:before {content: \"▾\";}#sk-container-id-22 div.sk-estimator input.sk-toggleable__control:checked~label.sk-toggleable__label {background-color: #d4ebff;}#sk-container-id-22 div.sk-label input.sk-toggleable__control:checked~label.sk-toggleable__label {background-color: #d4ebff;}#sk-container-id-22 input.sk-hidden--visually {border: 0;clip: rect(1px 1px 1px 1px);clip: rect(1px, 1px, 1px, 1px);height: 1px;margin: -1px;overflow: hidden;padding: 0;position: absolute;width: 1px;}#sk-container-id-22 div.sk-estimator {font-family: monospace;background-color: #f0f8ff;border: 1px dotted black;border-radius: 0.25em;box-sizing: border-box;margin-bottom: 0.5em;}#sk-container-id-22 div.sk-estimator:hover {background-color: #d4ebff;}#sk-container-id-22 div.sk-parallel-item::after {content: \"\";width: 100%;border-bottom: 1px solid gray;flex-grow: 1;}#sk-container-id-22 div.sk-label:hover label.sk-toggleable__label {background-color: #d4ebff;}#sk-container-id-22 div.sk-serial::before {content: \"\";position: absolute;border-left: 1px solid gray;box-sizing: border-box;top: 0;bottom: 0;left: 50%;z-index: 0;}#sk-container-id-22 div.sk-serial {display: flex;flex-direction: column;align-items: center;background-color: white;padding-right: 0.2em;padding-left: 0.2em;position: relative;}#sk-container-id-22 div.sk-item {position: relative;z-index: 1;}#sk-container-id-22 div.sk-parallel {display: flex;align-items: stretch;justify-content: center;background-color: white;position: relative;}#sk-container-id-22 div.sk-item::before, #sk-container-id-22 div.sk-parallel-item::before {content: \"\";position: absolute;border-left: 1px solid gray;box-sizing: border-box;top: 0;bottom: 0;left: 50%;z-index: -1;}#sk-container-id-22 div.sk-parallel-item {display: flex;flex-direction: column;z-index: 1;position: relative;background-color: white;}#sk-container-id-22 div.sk-parallel-item:first-child::after {align-self: flex-end;width: 50%;}#sk-container-id-22 div.sk-parallel-item:last-child::after {align-self: flex-start;width: 50%;}#sk-container-id-22 div.sk-parallel-item:only-child::after {width: 0;}#sk-container-id-22 div.sk-dashed-wrapped {border: 1px dashed gray;margin: 0 0.4em 0.5em 0.4em;box-sizing: border-box;padding-bottom: 0.4em;background-color: white;}#sk-container-id-22 div.sk-label label {font-family: monospace;font-weight: bold;display: inline-block;line-height: 1.2em;}#sk-container-id-22 div.sk-label-container {text-align: center;}#sk-container-id-22 div.sk-container {/* jupyter's `normalize.less` sets `[hidden] { display: none; }` but bootstrap.min.css set `[hidden] { display: none !important; }` so we also need the `!important` here to be able to override the default hidden behavior on the sphinx rendered scikit-learn.org. See: https://github.com/scikit-learn/scikit-learn/issues/21755 */display: inline-block !important;position: relative;}#sk-container-id-22 div.sk-text-repr-fallback {display: none;}</style><div id=\"sk-container-id-22\" class=\"sk-top-container\"><div class=\"sk-text-repr-fallback\"><pre>GridSearchCV(cv=5, estimator=LogisticRegression(class_weight=&#x27;balanced&#x27;),\n",
       "             param_grid={&#x27;C&#x27;: [0.01, 0.1, 1, 10, 100],\n",
       "                         &#x27;max_iter&#x27;: [100, 200, 300], &#x27;penalty&#x27;: [&#x27;l2&#x27;],\n",
       "                         &#x27;solver&#x27;: [&#x27;liblinear&#x27;, &#x27;lbfgs&#x27;]},\n",
       "             scoring=&#x27;accuracy&#x27;, verbose=1)</pre><b>In a Jupyter environment, please rerun this cell to show the HTML representation or trust the notebook. <br />On GitHub, the HTML representation is unable to render, please try loading this page with nbviewer.org.</b></div><div class=\"sk-container\" hidden><div class=\"sk-item sk-dashed-wrapped\"><div class=\"sk-label-container\"><div class=\"sk-label sk-toggleable\"><input class=\"sk-toggleable__control sk-hidden--visually\" id=\"sk-estimator-id-116\" type=\"checkbox\" ><label for=\"sk-estimator-id-116\" class=\"sk-toggleable__label sk-toggleable__label-arrow\">GridSearchCV</label><div class=\"sk-toggleable__content\"><pre>GridSearchCV(cv=5, estimator=LogisticRegression(class_weight=&#x27;balanced&#x27;),\n",
       "             param_grid={&#x27;C&#x27;: [0.01, 0.1, 1, 10, 100],\n",
       "                         &#x27;max_iter&#x27;: [100, 200, 300], &#x27;penalty&#x27;: [&#x27;l2&#x27;],\n",
       "                         &#x27;solver&#x27;: [&#x27;liblinear&#x27;, &#x27;lbfgs&#x27;]},\n",
       "             scoring=&#x27;accuracy&#x27;, verbose=1)</pre></div></div></div><div class=\"sk-parallel\"><div class=\"sk-parallel-item\"><div class=\"sk-item\"><div class=\"sk-label-container\"><div class=\"sk-label sk-toggleable\"><input class=\"sk-toggleable__control sk-hidden--visually\" id=\"sk-estimator-id-117\" type=\"checkbox\" ><label for=\"sk-estimator-id-117\" class=\"sk-toggleable__label sk-toggleable__label-arrow\">estimator: LogisticRegression</label><div class=\"sk-toggleable__content\"><pre>LogisticRegression(class_weight=&#x27;balanced&#x27;)</pre></div></div></div><div class=\"sk-serial\"><div class=\"sk-item\"><div class=\"sk-estimator sk-toggleable\"><input class=\"sk-toggleable__control sk-hidden--visually\" id=\"sk-estimator-id-118\" type=\"checkbox\" ><label for=\"sk-estimator-id-118\" class=\"sk-toggleable__label sk-toggleable__label-arrow\">LogisticRegression</label><div class=\"sk-toggleable__content\"><pre>LogisticRegression(class_weight=&#x27;balanced&#x27;)</pre></div></div></div></div></div></div></div></div></div></div>"
      ],
      "text/plain": [
       "GridSearchCV(cv=5, estimator=LogisticRegression(class_weight='balanced'),\n",
       "             param_grid={'C': [0.01, 0.1, 1, 10, 100],\n",
       "                         'max_iter': [100, 200, 300], 'penalty': ['l2'],\n",
       "                         'solver': ['liblinear', 'lbfgs']},\n",
       "             scoring='accuracy', verbose=1)"
      ]
     },
     "execution_count": 358,
     "metadata": {},
     "output_type": "execute_result"
    }
   ],
   "source": [
    "# Fit the model on the training data\n",
    "grid_search_log_reg.fit(X_scaled_logreg, y_train_balanced)"
   ]
  },
  {
   "cell_type": "code",
   "execution_count": 359,
   "metadata": {},
   "outputs": [],
   "source": [
    "# Get the best model\n",
    "best_log_reg_model = grid_search_log_reg.best_estimator_"
   ]
  },
  {
   "cell_type": "code",
   "execution_count": 360,
   "metadata": {},
   "outputs": [],
   "source": [
    "# Predict on the test set\n",
    "y_pred_log_reg = best_log_reg_model.predict(X_test_logreg)"
   ]
  },
  {
   "cell_type": "code",
   "execution_count": null,
   "metadata": {},
   "outputs": [
    {
     "name": "stdout",
     "output_type": "stream",
     "text": [
      "Logistic Regression - Accuracy: 67.25%\n",
      "Precision: 67.00%\n",
      "Recall: 67.66%\n",
      "F1 Score: 67.33%\n"
     ]
    }
   ],
   "source": [
    "log_accuracy = accuracy_score(y_test_balanced, y_pred_log_reg)\n",
    "log_precision = precision_score(y_test_balanced, y_pred_log_reg)\n",
    "log_recall = recall_score(y_test_balanced, y_pred_log_reg)\n",
    "log_f1 = f1_score(y_test_balanced, y_pred_log_reg)\n",
    "\n",
    "# Print results\n",
    "print(f\"Logistic Regression - Accuracy: {log_accuracy*100:.2f}%\")\n",
    "print(f\"Logistic Regression -Precision: {log_precision*100:.2f}%\")\n",
    "print(f\"Logistic Regression -Recall: {log_recall*100:.2f}%\")\n",
    "print(f\"Logistic Regression -F1 Score: {log_f1*100:.2f}%\")"
   ]
  },
  {
   "cell_type": "code",
   "execution_count": 364,
   "metadata": {},
   "outputs": [
    {
     "name": "stdout",
     "output_type": "stream",
     "text": [
      "Tuned Model Performance Comparison:\n",
      "Logistic Regression  Accuracy: 67.25% | Precision: 67.00% | Recall: 67.66% | F1 Score: 67.33%\n",
      "Random Forest Accuracy: 67.49% | Precision: 66.51% | Recall: 70.15% | F1 Score: 68.28%\n",
      "XGBoost Accuracy: 49.88% | Precision: 49.88% | Recall: 100.00% | F1 Score: 66.56%\n"
     ]
    }
   ],
   "source": [
    "# Model Performance Comparison\n",
    "print(\"Tuned Model Performance Comparison:\")\n",
    "print(f\"Logistic Regression  Accuracy: {log_accuracy*100:.2f}% | Precision: {log_precision*100:.2f}% | Recall: {log_recall*100:.2f}% | F1 Score: {log_f1*100:.2f}%\")\n",
    "print(f\"Random Forest Accuracy: {brfaccuracy*100:.2f}% | Precision: {brfprecision*100:.2f}% | Recall: {brfrecall*100:.2f}% | F1 Score: {brff1*100:.2f}%\")\n",
    "print(f\"XGBoost Accuracy: {best_accuracy*100:.2f}% | Precision: {best_precision*100:.2f}% | Recall: {best_recall*100:.2f}% | F1 Score: {best_f1*100:.2f}%\")"
   ]
  },
  {
   "cell_type": "markdown",
   "metadata": {},
   "source": [
    "### Insights\n",
    "* Random Forest seems to be the best overall performer when considering a balance between recall and other metrics like precision and F1 score.\n",
    "    * Aligns with the objective of minimizing false negative HIV detections\n",
    "\n",
    "* XGBoost is the best for recall if minimizing false negatives is the absolute priority, but its low accuracy may pose a challenge.\n",
    "\n"
   ]
  }
 ],
 "metadata": {
  "kernelspec": {
   "display_name": "learn-env",
   "language": "python",
   "name": "python3"
  },
  "language_info": {
   "codemirror_mode": {
    "name": "ipython",
    "version": 3
   },
   "file_extension": ".py",
   "mimetype": "text/x-python",
   "name": "python",
   "nbconvert_exporter": "python",
   "pygments_lexer": "ipython3",
   "version": "3.8.5"
  }
 },
 "nbformat": 4,
 "nbformat_minor": 2
}
