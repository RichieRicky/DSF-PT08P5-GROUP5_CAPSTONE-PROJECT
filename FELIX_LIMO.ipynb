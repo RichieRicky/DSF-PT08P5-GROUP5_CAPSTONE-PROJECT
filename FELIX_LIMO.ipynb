{
 "cells": [
  {
   "cell_type": "markdown",
   "metadata": {},
   "source": [
    "# Are we Safe?: HIV Risk Predictive Model"
   ]
  },
  {
   "cell_type": "markdown",
   "metadata": {},
   "source": [
    "# 1.0 Project Overview\n",
    "# 1.1 Introduction\n",
    "\n",
    "According to HIV & AIDS world outlook reports highlights HIV as the biggest global health issue with approximately 38 million infected worldwide(WHO(2020), UNAIDS(2020)).The disease mostly affects adolescent girls and young women (AGYW), who are at a higher risk of HIV infection due to a combination of biological, socio-economic, and behavioral factors (WHO(2020), UNAIDS(2019)).\n",
    "\n",
    "Regionally, sub-Saharan Africa is bearing the bulk of the epidemic and bears nearly 70% of the world's HIV cases (WHO(2020), UNAIDS(2019)).\n",
    "\n",
    "Locally in Kenya, HIV remains a significant public health issue among AGYW relative to their counterparts who are male. Structural impediments such as gender disparities, levels of poverty, and limited access to education and health care leave AGYW in some of the counties vulnerable to increased vulnerability (National AIDS Control Council, 2020; Ministry of Health Kenya, 2021). Despite interventions such as the Aid-Funded programs that seek to stem HIV infections by surmounting these structural drivers, the challenge of reaching high-risk groups and utilizing existing resources to the fullest for intervention still exists.This research will, therefore adopt Cross Industry Standard Procedures- Data Mining(CRISP-DM) methodology for the health industry.\n",
    "\n",
    "\n",
    "# 2.0 Business Understanding\n",
    "\n",
    "Health risks like the Human Immunodeficiency Virus (HIV) is still a major public health problem among adolescent girls and young women (AGYW) in Kenya. AGYW still carry an unbalanced burden of HIV despite the universal national and global campaigns, including the DREAMS program (Determined, Resilient, Empowered, AIDS-Free, Mentored, and Safe). AGYW have a greater risk of HIV infection than their male counterparts because of a mix of biological, socio-economic, and behavioral determinants(WHO(2020); https://www.who.int/news-room/fact-sheets/detail/adolescents-health-risks-and-solutions, UNAIDS(2019); https://www.unaids.org/sites/default/files/media_asset/2019-global-AIDS-update_en.pdf).\n",
    "\n",
    "In Kenya, counties vary in their socio-economic, cultural, and health environments. These are the determinants of HIV vulnerability, access to care, and success of interventions. Even with focused interventions, identifying those most vulnerable and effectively allocating resources to prevent infections is a challenge.\n",
    "\n",
    "The overall goal of this project is to establish a predictive model to assess HIV risk among AGYW based collected data from select counties. This model, data first problem, will identify individuals who are most at risk of acquiring HIV. The final model will help stakeholders to scale up to cover more counties, channel interventions more effectively and allocate funds more appropriately to those most at risk so that new HIV infection cases can be minimized in these societies."
   ]
  },
  {
   "cell_type": "markdown",
   "metadata": {},
   "source": [
    "# 3.0 Data Understanding\n",
    "\n",
    "## 3.1 Data Description\n",
    "The dataset used in this project contains detailed demographic, behavioral, and intervention-related information on adolescent girls and young women (AGYW) participating in the DREAMS program. The data includes key indicators such as:\n",
    "\n",
    "Demographic Information – Age, county, household structure, parental status.\n",
    "Socioeconomic Status – Household size, food security, income sources.\n",
    "Education & Behavior – School attendance, history of sexual activity, condom use.\n",
    "HIV Testing & Status – HIV testing history, last test result.\n",
    "DREAMS Program Participation – Interventions received (biomedical, behavioral, social protection).\n",
    "Exit Status – Whether participants continued or exited the program and the reason for exiting.\n",
    "This dataset provides a comprehensive view of factors affecting HIV risk among AGYW, allowing for predictive modeling and impact evaluation.\n",
    "\n",
    "## 3.2 Data Source\n",
    "The data is sourced from health related data records of aid-funded program (PEPFAR DREAMS program) in kenya on select counties."
   ]
  },
  {
   "cell_type": "markdown",
   "metadata": {},
   "source": [
    "## 3.3 Data loading and preview"
   ]
  },
  {
   "cell_type": "code",
   "execution_count": 1,
   "metadata": {},
   "outputs": [],
   "source": [
    "#Import relevant libraries\n",
    "import pandas as pd\n",
    "import numpy as np\n",
    "import seaborn as sns\n",
    "import matplotlib.pyplot as plt\n",
    "from sklearn.model_selection import train_test_split\n",
    "from sklearn.pipeline import Pipeline\n",
    "from sklearn.impute import SimpleImputer\n",
    "from sklearn.preprocessing import StandardScaler, OneHotEncoder\n",
    "from sklearn.compose import ColumnTransformer\n",
    "from sklearn.linear_model import LogisticRegression\n",
    "from sklearn.ensemble import RandomForestClassifier\n",
    "from sklearn.metrics import accuracy_score, precision_score, recall_score, f1_score,confusion_matrix\n",
    "import warnings\n",
    "warnings.filterwarnings(\"ignore\")"
   ]
  },
  {
   "cell_type": "code",
   "execution_count": 2,
   "metadata": {},
   "outputs": [],
   "source": [
    "#Loading the dreams dataset\n",
    "df = pd.read_csv('./data/dreams_raw_dataset.csv')"
   ]
  },
  {
   "cell_type": "code",
   "execution_count": 3,
   "metadata": {},
   "outputs": [
    {
     "data": {
      "text/html": [
       "<div>\n",
       "<style scoped>\n",
       "    .dataframe tbody tr th:only-of-type {\n",
       "        vertical-align: middle;\n",
       "    }\n",
       "\n",
       "    .dataframe tbody tr th {\n",
       "        vertical-align: top;\n",
       "    }\n",
       "\n",
       "    .dataframe thead th {\n",
       "        text-align: right;\n",
       "    }\n",
       "</style>\n",
       "<table border=\"1\" class=\"dataframe\">\n",
       "  <thead>\n",
       "    <tr style=\"text-align: right;\">\n",
       "      <th></th>\n",
       "      <th>date_of_birth</th>\n",
       "      <th>date_of_enrollment</th>\n",
       "      <th>Agency</th>\n",
       "      <th>implementing_partner_name</th>\n",
       "      <th>county</th>\n",
       "      <th>head_of_household</th>\n",
       "      <th>head_of_household_other</th>\n",
       "      <th>age_of_household_head</th>\n",
       "      <th>father_alive</th>\n",
       "      <th>mother_alive</th>\n",
       "      <th>...</th>\n",
       "      <th>intervention_name</th>\n",
       "      <th>intervention_date</th>\n",
       "      <th>result</th>\n",
       "      <th>bio_medical</th>\n",
       "      <th>social_protection</th>\n",
       "      <th>behavioral</th>\n",
       "      <th>post_gbv_care</th>\n",
       "      <th>other_interventions</th>\n",
       "      <th>exit_age</th>\n",
       "      <th>exit_reason_other</th>\n",
       "    </tr>\n",
       "  </thead>\n",
       "  <tbody>\n",
       "    <tr>\n",
       "      <th>0</th>\n",
       "      <td>9/16/2004</td>\n",
       "      <td>2/22/2020</td>\n",
       "      <td>USAID</td>\n",
       "      <td>USAID Tumikia Mtoto</td>\n",
       "      <td>Nairobi</td>\n",
       "      <td>Mother</td>\n",
       "      <td>NaN</td>\n",
       "      <td>58.0</td>\n",
       "      <td>Yes</td>\n",
       "      <td>Yes</td>\n",
       "      <td>...</td>\n",
       "      <td>HTS - HTS (Client)</td>\n",
       "      <td>8/8/2020</td>\n",
       "      <td>Negative</td>\n",
       "      <td>1</td>\n",
       "      <td>1</td>\n",
       "      <td>1</td>\n",
       "      <td>0</td>\n",
       "      <td>0</td>\n",
       "      <td>NaN</td>\n",
       "      <td>NaN</td>\n",
       "    </tr>\n",
       "    <tr>\n",
       "      <th>1</th>\n",
       "      <td>8/2/2004</td>\n",
       "      <td>12/18/2019</td>\n",
       "      <td>USAID</td>\n",
       "      <td>USAID Tumikia Mtoto</td>\n",
       "      <td>Nairobi</td>\n",
       "      <td>Father</td>\n",
       "      <td>NaN</td>\n",
       "      <td>43.0</td>\n",
       "      <td>Yes</td>\n",
       "      <td>Yes</td>\n",
       "      <td>...</td>\n",
       "      <td>HTS - HTS (Client)</td>\n",
       "      <td>4/27/2020</td>\n",
       "      <td>Negative</td>\n",
       "      <td>1</td>\n",
       "      <td>1</td>\n",
       "      <td>1</td>\n",
       "      <td>0</td>\n",
       "      <td>0</td>\n",
       "      <td>NaN</td>\n",
       "      <td>NaN</td>\n",
       "    </tr>\n",
       "    <tr>\n",
       "      <th>2</th>\n",
       "      <td>10/20/2005</td>\n",
       "      <td>3/7/2020</td>\n",
       "      <td>USAID</td>\n",
       "      <td>USAID Tumikia Mtoto</td>\n",
       "      <td>Nairobi</td>\n",
       "      <td>Mother</td>\n",
       "      <td>NaN</td>\n",
       "      <td>41.0</td>\n",
       "      <td>No</td>\n",
       "      <td>Yes</td>\n",
       "      <td>...</td>\n",
       "      <td>HTS - HTS (Client)</td>\n",
       "      <td>8/12/2020</td>\n",
       "      <td>Negative</td>\n",
       "      <td>1</td>\n",
       "      <td>1</td>\n",
       "      <td>0</td>\n",
       "      <td>0</td>\n",
       "      <td>0</td>\n",
       "      <td>NaN</td>\n",
       "      <td>NaN</td>\n",
       "    </tr>\n",
       "    <tr>\n",
       "      <th>3</th>\n",
       "      <td>1/18/2006</td>\n",
       "      <td>3/3/2020</td>\n",
       "      <td>USAID</td>\n",
       "      <td>USAID Tumikia Mtoto</td>\n",
       "      <td>Nairobi</td>\n",
       "      <td>Mother</td>\n",
       "      <td>NaN</td>\n",
       "      <td>45.0</td>\n",
       "      <td>No</td>\n",
       "      <td>Yes</td>\n",
       "      <td>...</td>\n",
       "      <td>HTS - HTS (Client)</td>\n",
       "      <td>8/12/2020</td>\n",
       "      <td>Negative</td>\n",
       "      <td>1</td>\n",
       "      <td>1</td>\n",
       "      <td>1</td>\n",
       "      <td>0</td>\n",
       "      <td>0</td>\n",
       "      <td>NaN</td>\n",
       "      <td>NaN</td>\n",
       "    </tr>\n",
       "    <tr>\n",
       "      <th>4</th>\n",
       "      <td>3/22/2004</td>\n",
       "      <td>12/18/2019</td>\n",
       "      <td>USAID</td>\n",
       "      <td>USAID Tumikia Mtoto</td>\n",
       "      <td>Nairobi</td>\n",
       "      <td>Father</td>\n",
       "      <td>NaN</td>\n",
       "      <td>42.0</td>\n",
       "      <td>Yes</td>\n",
       "      <td>Yes</td>\n",
       "      <td>...</td>\n",
       "      <td>HTS - HTS (Client)</td>\n",
       "      <td>4/27/2020</td>\n",
       "      <td>Negative</td>\n",
       "      <td>1</td>\n",
       "      <td>1</td>\n",
       "      <td>1</td>\n",
       "      <td>0</td>\n",
       "      <td>0</td>\n",
       "      <td>NaN</td>\n",
       "      <td>NaN</td>\n",
       "    </tr>\n",
       "  </tbody>\n",
       "</table>\n",
       "<p>5 rows × 44 columns</p>\n",
       "</div>"
      ],
      "text/plain": [
       "  date_of_birth date_of_enrollment Agency implementing_partner_name   county  \\\n",
       "0     9/16/2004          2/22/2020  USAID       USAID Tumikia Mtoto  Nairobi   \n",
       "1      8/2/2004         12/18/2019  USAID       USAID Tumikia Mtoto  Nairobi   \n",
       "2    10/20/2005           3/7/2020  USAID       USAID Tumikia Mtoto  Nairobi   \n",
       "3     1/18/2006           3/3/2020  USAID       USAID Tumikia Mtoto  Nairobi   \n",
       "4     3/22/2004         12/18/2019  USAID       USAID Tumikia Mtoto  Nairobi   \n",
       "\n",
       "  head_of_household head_of_household_other  age_of_household_head  \\\n",
       "0            Mother                     NaN                   58.0   \n",
       "1            Father                     NaN                   43.0   \n",
       "2            Mother                     NaN                   41.0   \n",
       "3            Mother                     NaN                   45.0   \n",
       "4            Father                     NaN                   42.0   \n",
       "\n",
       "  father_alive mother_alive  ...   intervention_name intervention_date  \\\n",
       "0          Yes          Yes  ...  HTS - HTS (Client)          8/8/2020   \n",
       "1          Yes          Yes  ...  HTS - HTS (Client)         4/27/2020   \n",
       "2           No          Yes  ...  HTS - HTS (Client)         8/12/2020   \n",
       "3           No          Yes  ...  HTS - HTS (Client)         8/12/2020   \n",
       "4          Yes          Yes  ...  HTS - HTS (Client)         4/27/2020   \n",
       "\n",
       "     result  bio_medical  social_protection  behavioral  post_gbv_care  \\\n",
       "0  Negative            1                  1           1              0   \n",
       "1  Negative            1                  1           1              0   \n",
       "2  Negative            1                  1           0              0   \n",
       "3  Negative            1                  1           1              0   \n",
       "4  Negative            1                  1           1              0   \n",
       "\n",
       "   other_interventions exit_age exit_reason_other  \n",
       "0                    0      NaN               NaN  \n",
       "1                    0      NaN               NaN  \n",
       "2                    0      NaN               NaN  \n",
       "3                    0      NaN               NaN  \n",
       "4                    0      NaN               NaN  \n",
       "\n",
       "[5 rows x 44 columns]"
      ]
     },
     "execution_count": 3,
     "metadata": {},
     "output_type": "execute_result"
    }
   ],
   "source": [
    "#Dataset preview\n",
    "df.head()"
   ]
  },
  {
   "cell_type": "code",
   "execution_count": null,
   "metadata": {},
   "outputs": [],
   "source": []
  },
  {
   "cell_type": "markdown",
   "metadata": {},
   "source": [
    "## 3.4 Problem Statement"
   ]
  },
  {
   "cell_type": "markdown",
   "metadata": {},
   "source": []
  },
  {
   "cell_type": "markdown",
   "metadata": {},
   "source": [
    "## 3.5 Metrics of Success"
   ]
  },
  {
   "cell_type": "code",
   "execution_count": null,
   "metadata": {},
   "outputs": [],
   "source": []
  },
  {
   "cell_type": "markdown",
   "metadata": {},
   "source": [
    "# 4.0 Data Preparation\n",
    "\n",
    "## 4.1 Data Cleaning\n",
    "\n",
    "This involves checking on data validity, accuracy, completeness, accuracy, consistency and uniformity. These will be carried out on the select datasets that are within the scope of reasearch."
   ]
  },
  {
   "cell_type": "markdown",
   "metadata": {},
   "source": []
  },
  {
   "cell_type": "markdown",
   "metadata": {},
   "source": [
    "# 5.0 Exploratory Data Analysis(EDA)\n",
    "This is the process of analyzing data to reveal trends and patterns, detect anomalies, test hypotheses and check assumptions using visuals and summary statistics.Turkey,J.W(1977)\n",
    "\n",
    "Key goals of EDA include:\n",
    "\n",
    "Understanding the data: Getting a sense of the data's distribution, range, and central tendencies. Identifying patterns: Discovering trends, correlations, or anomalies within the data. Checking assumptions: Verifying assumptions made about the data before further analysis or modeling. Generating hypotheses: Developing potential explanations or questions based on the findings."
   ]
  },
  {
   "cell_type": "markdown",
   "metadata": {},
   "source": []
  },
  {
   "cell_type": "markdown",
   "metadata": {},
   "source": [
    "## 5.1 Univariate Analysis\n"
   ]
  },
  {
   "cell_type": "code",
   "execution_count": null,
   "metadata": {},
   "outputs": [],
   "source": []
  },
  {
   "cell_type": "code",
   "execution_count": null,
   "metadata": {},
   "outputs": [],
   "source": []
  },
  {
   "cell_type": "markdown",
   "metadata": {},
   "source": [
    "## 5.2 Bivariate Analysis\n"
   ]
  },
  {
   "cell_type": "markdown",
   "metadata": {},
   "source": []
  },
  {
   "cell_type": "markdown",
   "metadata": {},
   "source": [
    "## 5.3 Multivariate Analayis\n"
   ]
  },
  {
   "cell_type": "markdown",
   "metadata": {},
   "source": []
  },
  {
   "cell_type": "markdown",
   "metadata": {},
   "source": [
    "# 6.0 Modeling\n",
    "\n",
    "## 6.1 Baseline Model"
   ]
  },
  {
   "cell_type": "markdown",
   "metadata": {},
   "source": []
  }
 ],
 "metadata": {
  "kernelspec": {
   "display_name": "learn-env",
   "language": "python",
   "name": "python3"
  },
  "language_info": {
   "codemirror_mode": {
    "name": "ipython",
    "version": 3
   },
   "file_extension": ".py",
   "mimetype": "text/x-python",
   "name": "python",
   "nbconvert_exporter": "python",
   "pygments_lexer": "ipython3",
   "version": "3.8.5"
  }
 },
 "nbformat": 4,
 "nbformat_minor": 2
}
