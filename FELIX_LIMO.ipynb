{
 "cells": [
  {
   "cell_type": "markdown",
   "metadata": {},
   "source": [
    "# HIV Risk Predictive Model"
   ]
  },
  {
   "cell_type": "markdown",
   "metadata": {},
   "source": [
    "# 1.0 Project Overview\n",
    "# 1.1 Introduction\n",
    "\n",
    "According to HIV & AIDS world outlook reports highlights HIV as the biggest global health issue with approximately 38 million infected worldwide(WHO(2020), UNAIDS(2020)).The disease mostly affects adolescent girls and young women (AGYW), who are at a higher risk of HIV infection due to a combination of biological, socio-economic, and behavioral factors (WHO(2020), UNAIDS(2019)).\n",
    "\n",
    "Regionally, sub-Saharan Africa is bearing the bulk of the epidemic and bears nearly 70% of the world's HIV cases (WHO(2020), UNAIDS(2019)).\n",
    "\n",
    "Locally in Kenya, HIV remains a significant public health issue among AGYW relative to their counterparts who are male. Structural impediments such as gender disparities, levels of poverty, and limited access to education and health care leave AGYW in some of the counties vulnerable to increased vulnerability (National AIDS Control Council, 2020; Ministry of Health Kenya, 2021). Despite interventions such as the Aid-Funded programs that seek to stem HIV infections by surmounting these structural drivers, the challenge of reaching high-risk groups and utilizing existing resources to the fullest for intervention still exists.This research will, therefore adopt Cross Industry Standard Procedures- Data Mining(CRISP-DM) methodology for the health industry.\n",
    "\n",
    "\n",
    "# 2.0 Business Understanding\n",
    "\n",
    "Health risks like the Human Immunodeficiency Virus (HIV) is still a major public health problem among adolescent girls and young women (AGYW) in Kenya. AGYW still carry an unbalanced burden of HIV despite the universal national and global campaigns, including the DREAMS program (Determined, Resilient, Empowered, AIDS-Free, Mentored, and Safe). AGYW have a greater risk of HIV infection than their male counterparts because of a mix of biological, socio-economic, and behavioral determinants(WHO(2020); https://www.who.int/news-room/fact-sheets/detail/adolescents-health-risks-and-solutions, UNAIDS(2019); https://www.unaids.org/sites/default/files/media_asset/2019-global-AIDS-update_en.pdf).\n",
    "\n",
    "In Kenya, counties vary in their socio-economic, cultural, and health environments. These are the determinants of HIV vulnerability, access to care, and success of interventions. Even with focused interventions, identifying those most vulnerable and effectively allocating resources to prevent infections is a challenge.\n",
    "\n",
    "The overall goal of this project is to establish a predictive model to assess HIV risk among AGYW based collected data from select counties. This model, data first problem, will identify individuals who are most at risk of acquiring HIV. The final model will help stakeholders to scale up to cover more counties, channel interventions more effectively and allocate funds more appropriately to those most at risk so that new HIV infection cases can be minimized in these societies."
   ]
  },
  {
   "cell_type": "markdown",
   "metadata": {},
   "source": [
    "# 3.0 Data Understanding\n",
    "\n",
    "## 3.1 Data Description\n",
    "The dataset used in this project contains detailed demographic, behavioral, and intervention-related information on adolescent girls and young women (AGYW) participating in the DREAMS program. The data includes key indicators such as:\n",
    "\n",
    "Demographic Information – Age, county, household structure, parental status.\n",
    "Socioeconomic Status – Household size, food security, income sources.\n",
    "Education & Behavior – School attendance, history of sexual activity, condom use.\n",
    "HIV Testing & Status – HIV testing history, last test result.\n",
    "DREAMS Program Participation – Interventions received (biomedical, behavioral, social protection).\n",
    "Exit Status – Whether participants continued or exited the program and the reason for exiting.\n",
    "This dataset provides a comprehensive view of factors affecting HIV risk among AGYW, allowing for predictive modeling and impact evaluation.\n",
    "\n",
    "## 3.2 Data Source\n",
    "The data is sourced from health related data records of aid-funded program (PEPFAR DREAMS program) in kenya on select counties."
   ]
  },
  {
   "cell_type": "markdown",
   "metadata": {},
   "source": [
    "## 3.3 Data loading and preview"
   ]
  },
  {
   "cell_type": "code",
   "execution_count": 1,
   "metadata": {},
   "outputs": [],
   "source": [
    "#Import relevant libraries\n",
    "import pandas as pd\n",
    "import numpy as np\n",
    "import seaborn as sns\n",
    "import matplotlib.pyplot as plt\n",
    "%matplotlib inline\n",
    "import summarytools as st\n",
    "from sklearn.model_selection import train_test_split\n",
    "from sklearn.pipeline import Pipeline\n",
    "from sklearn.impute import SimpleImputer\n",
    "from sklearn.preprocessing import StandardScaler, OneHotEncoder\n",
    "from sklearn.compose import ColumnTransformer\n",
    "from sklearn.linear_model import LogisticRegression\n",
    "from sklearn.ensemble import RandomForestClassifier\n",
    "from sklearn.metrics import accuracy_score, precision_score, recall_score, f1_score,confusion_matrix\n",
    "import warnings\n",
    "warnings.filterwarnings(\"ignore\")"
   ]
  },
  {
   "cell_type": "markdown",
   "metadata": {},
   "source": [
    "### Load dataset"
   ]
  },
  {
   "cell_type": "code",
   "execution_count": 2,
   "metadata": {},
   "outputs": [],
   "source": [
    "#Loading the dreams dataset\n",
    "df = pd.read_csv('./data/hiv_raw_dataset.csv')"
   ]
  },
  {
   "cell_type": "markdown",
   "metadata": {},
   "source": [
    "### Preview dataset"
   ]
  },
  {
   "cell_type": "code",
   "execution_count": 3,
   "metadata": {},
   "outputs": [
    {
     "data": {
      "text/html": [
       "<div>\n",
       "<style scoped>\n",
       "    .dataframe tbody tr th:only-of-type {\n",
       "        vertical-align: middle;\n",
       "    }\n",
       "\n",
       "    .dataframe tbody tr th {\n",
       "        vertical-align: top;\n",
       "    }\n",
       "\n",
       "    .dataframe thead th {\n",
       "        text-align: right;\n",
       "    }\n",
       "</style>\n",
       "<table border=\"1\" class=\"dataframe\">\n",
       "  <thead>\n",
       "    <tr style=\"text-align: right;\">\n",
       "      <th></th>\n",
       "      <th>date_of_birth</th>\n",
       "      <th>date_of_enrollment</th>\n",
       "      <th>Agency</th>\n",
       "      <th>implementing_partner_name</th>\n",
       "      <th>county</th>\n",
       "      <th>head_of_household</th>\n",
       "      <th>head_of_household_other</th>\n",
       "      <th>age_of_household_head</th>\n",
       "      <th>father_alive</th>\n",
       "      <th>mother_alive</th>\n",
       "      <th>...</th>\n",
       "      <th>intervention_name</th>\n",
       "      <th>intervention_date</th>\n",
       "      <th>result</th>\n",
       "      <th>bio_medical</th>\n",
       "      <th>social_protection</th>\n",
       "      <th>behavioral</th>\n",
       "      <th>post_gbv_care</th>\n",
       "      <th>other_interventions</th>\n",
       "      <th>exit_age</th>\n",
       "      <th>exit_reason_other</th>\n",
       "    </tr>\n",
       "  </thead>\n",
       "  <tbody>\n",
       "    <tr>\n",
       "      <th>0</th>\n",
       "      <td>9/16/2004</td>\n",
       "      <td>2/22/2020</td>\n",
       "      <td>USAID</td>\n",
       "      <td>USAID Tumikia Mtoto</td>\n",
       "      <td>Nairobi</td>\n",
       "      <td>Mother</td>\n",
       "      <td>NaN</td>\n",
       "      <td>58.0</td>\n",
       "      <td>Yes</td>\n",
       "      <td>Yes</td>\n",
       "      <td>...</td>\n",
       "      <td>HTS - HTS (Client)</td>\n",
       "      <td>8/8/2020</td>\n",
       "      <td>Negative</td>\n",
       "      <td>1</td>\n",
       "      <td>1</td>\n",
       "      <td>1</td>\n",
       "      <td>0</td>\n",
       "      <td>0</td>\n",
       "      <td>NaN</td>\n",
       "      <td>NaN</td>\n",
       "    </tr>\n",
       "    <tr>\n",
       "      <th>1</th>\n",
       "      <td>8/2/2004</td>\n",
       "      <td>12/18/2019</td>\n",
       "      <td>USAID</td>\n",
       "      <td>USAID Tumikia Mtoto</td>\n",
       "      <td>Nairobi</td>\n",
       "      <td>Father</td>\n",
       "      <td>NaN</td>\n",
       "      <td>43.0</td>\n",
       "      <td>Yes</td>\n",
       "      <td>Yes</td>\n",
       "      <td>...</td>\n",
       "      <td>HTS - HTS (Client)</td>\n",
       "      <td>4/27/2020</td>\n",
       "      <td>Negative</td>\n",
       "      <td>1</td>\n",
       "      <td>1</td>\n",
       "      <td>1</td>\n",
       "      <td>0</td>\n",
       "      <td>0</td>\n",
       "      <td>NaN</td>\n",
       "      <td>NaN</td>\n",
       "    </tr>\n",
       "    <tr>\n",
       "      <th>2</th>\n",
       "      <td>10/20/2005</td>\n",
       "      <td>3/7/2020</td>\n",
       "      <td>USAID</td>\n",
       "      <td>USAID Tumikia Mtoto</td>\n",
       "      <td>Nairobi</td>\n",
       "      <td>Mother</td>\n",
       "      <td>NaN</td>\n",
       "      <td>41.0</td>\n",
       "      <td>No</td>\n",
       "      <td>Yes</td>\n",
       "      <td>...</td>\n",
       "      <td>HTS - HTS (Client)</td>\n",
       "      <td>8/12/2020</td>\n",
       "      <td>Negative</td>\n",
       "      <td>1</td>\n",
       "      <td>1</td>\n",
       "      <td>0</td>\n",
       "      <td>0</td>\n",
       "      <td>0</td>\n",
       "      <td>NaN</td>\n",
       "      <td>NaN</td>\n",
       "    </tr>\n",
       "    <tr>\n",
       "      <th>3</th>\n",
       "      <td>1/18/2006</td>\n",
       "      <td>3/3/2020</td>\n",
       "      <td>USAID</td>\n",
       "      <td>USAID Tumikia Mtoto</td>\n",
       "      <td>Nairobi</td>\n",
       "      <td>Mother</td>\n",
       "      <td>NaN</td>\n",
       "      <td>45.0</td>\n",
       "      <td>No</td>\n",
       "      <td>Yes</td>\n",
       "      <td>...</td>\n",
       "      <td>HTS - HTS (Client)</td>\n",
       "      <td>8/12/2020</td>\n",
       "      <td>Negative</td>\n",
       "      <td>1</td>\n",
       "      <td>1</td>\n",
       "      <td>1</td>\n",
       "      <td>0</td>\n",
       "      <td>0</td>\n",
       "      <td>NaN</td>\n",
       "      <td>NaN</td>\n",
       "    </tr>\n",
       "    <tr>\n",
       "      <th>4</th>\n",
       "      <td>3/22/2004</td>\n",
       "      <td>12/18/2019</td>\n",
       "      <td>USAID</td>\n",
       "      <td>USAID Tumikia Mtoto</td>\n",
       "      <td>Nairobi</td>\n",
       "      <td>Father</td>\n",
       "      <td>NaN</td>\n",
       "      <td>42.0</td>\n",
       "      <td>Yes</td>\n",
       "      <td>Yes</td>\n",
       "      <td>...</td>\n",
       "      <td>HTS - HTS (Client)</td>\n",
       "      <td>4/27/2020</td>\n",
       "      <td>Negative</td>\n",
       "      <td>1</td>\n",
       "      <td>1</td>\n",
       "      <td>1</td>\n",
       "      <td>0</td>\n",
       "      <td>0</td>\n",
       "      <td>NaN</td>\n",
       "      <td>NaN</td>\n",
       "    </tr>\n",
       "  </tbody>\n",
       "</table>\n",
       "<p>5 rows × 44 columns</p>\n",
       "</div>"
      ],
      "text/plain": [
       "  date_of_birth date_of_enrollment Agency implementing_partner_name   county  \\\n",
       "0     9/16/2004          2/22/2020  USAID       USAID Tumikia Mtoto  Nairobi   \n",
       "1      8/2/2004         12/18/2019  USAID       USAID Tumikia Mtoto  Nairobi   \n",
       "2    10/20/2005           3/7/2020  USAID       USAID Tumikia Mtoto  Nairobi   \n",
       "3     1/18/2006           3/3/2020  USAID       USAID Tumikia Mtoto  Nairobi   \n",
       "4     3/22/2004         12/18/2019  USAID       USAID Tumikia Mtoto  Nairobi   \n",
       "\n",
       "  head_of_household head_of_household_other  age_of_household_head  \\\n",
       "0            Mother                     NaN                   58.0   \n",
       "1            Father                     NaN                   43.0   \n",
       "2            Mother                     NaN                   41.0   \n",
       "3            Mother                     NaN                   45.0   \n",
       "4            Father                     NaN                   42.0   \n",
       "\n",
       "  father_alive mother_alive  ...   intervention_name intervention_date  \\\n",
       "0          Yes          Yes  ...  HTS - HTS (Client)          8/8/2020   \n",
       "1          Yes          Yes  ...  HTS - HTS (Client)         4/27/2020   \n",
       "2           No          Yes  ...  HTS - HTS (Client)         8/12/2020   \n",
       "3           No          Yes  ...  HTS - HTS (Client)         8/12/2020   \n",
       "4          Yes          Yes  ...  HTS - HTS (Client)         4/27/2020   \n",
       "\n",
       "     result  bio_medical  social_protection  behavioral  post_gbv_care  \\\n",
       "0  Negative            1                  1           1              0   \n",
       "1  Negative            1                  1           1              0   \n",
       "2  Negative            1                  1           0              0   \n",
       "3  Negative            1                  1           1              0   \n",
       "4  Negative            1                  1           1              0   \n",
       "\n",
       "   other_interventions exit_age exit_reason_other  \n",
       "0                    0      NaN               NaN  \n",
       "1                    0      NaN               NaN  \n",
       "2                    0      NaN               NaN  \n",
       "3                    0      NaN               NaN  \n",
       "4                    0      NaN               NaN  \n",
       "\n",
       "[5 rows x 44 columns]"
      ]
     },
     "execution_count": 3,
     "metadata": {},
     "output_type": "execute_result"
    }
   ],
   "source": [
    "#Preview first five rows\n",
    "df.head()"
   ]
  },
  {
   "cell_type": "markdown",
   "metadata": {},
   "source": [
    "### Shape of the dataset"
   ]
  },
  {
   "cell_type": "code",
   "execution_count": 4,
   "metadata": {},
   "outputs": [
    {
     "name": "stdout",
     "output_type": "stream",
     "text": [
      "The dataset has 455807 rows and 44 columns\n"
     ]
    }
   ],
   "source": [
    "print(f\"The dataset has {df.shape[0]} rows and {df.shape[1]} columns\")"
   ]
  },
  {
   "cell_type": "code",
   "execution_count": 5,
   "metadata": {},
   "outputs": [
    {
     "data": {
      "text/html": [
       "<div>\n",
       "<style scoped>\n",
       "    .dataframe tbody tr th:only-of-type {\n",
       "        vertical-align: middle;\n",
       "    }\n",
       "\n",
       "    .dataframe tbody tr th {\n",
       "        vertical-align: top;\n",
       "    }\n",
       "\n",
       "    .dataframe thead th {\n",
       "        text-align: right;\n",
       "    }\n",
       "</style>\n",
       "<table border=\"1\" class=\"dataframe\">\n",
       "  <thead>\n",
       "    <tr style=\"text-align: right;\">\n",
       "      <th></th>\n",
       "      <th>date_of_birth</th>\n",
       "      <th>date_of_enrollment</th>\n",
       "      <th>Agency</th>\n",
       "      <th>implementing_partner_name</th>\n",
       "      <th>county</th>\n",
       "      <th>head_of_household</th>\n",
       "      <th>head_of_household_other</th>\n",
       "      <th>age_of_household_head</th>\n",
       "      <th>father_alive</th>\n",
       "      <th>mother_alive</th>\n",
       "      <th>...</th>\n",
       "      <th>intervention_name</th>\n",
       "      <th>intervention_date</th>\n",
       "      <th>result</th>\n",
       "      <th>bio_medical</th>\n",
       "      <th>social_protection</th>\n",
       "      <th>behavioral</th>\n",
       "      <th>post_gbv_care</th>\n",
       "      <th>other_interventions</th>\n",
       "      <th>exit_age</th>\n",
       "      <th>exit_reason_other</th>\n",
       "    </tr>\n",
       "  </thead>\n",
       "  <tbody>\n",
       "    <tr>\n",
       "      <th>0</th>\n",
       "      <td>9/16/2004</td>\n",
       "      <td>2/22/2020</td>\n",
       "      <td>USAID</td>\n",
       "      <td>USAID Tumikia Mtoto</td>\n",
       "      <td>Nairobi</td>\n",
       "      <td>Mother</td>\n",
       "      <td>NaN</td>\n",
       "      <td>58.0</td>\n",
       "      <td>Yes</td>\n",
       "      <td>Yes</td>\n",
       "      <td>...</td>\n",
       "      <td>HTS - HTS (Client)</td>\n",
       "      <td>8/8/2020</td>\n",
       "      <td>Negative</td>\n",
       "      <td>1</td>\n",
       "      <td>1</td>\n",
       "      <td>1</td>\n",
       "      <td>0</td>\n",
       "      <td>0</td>\n",
       "      <td>NaN</td>\n",
       "      <td>NaN</td>\n",
       "    </tr>\n",
       "    <tr>\n",
       "      <th>1</th>\n",
       "      <td>8/2/2004</td>\n",
       "      <td>12/18/2019</td>\n",
       "      <td>USAID</td>\n",
       "      <td>USAID Tumikia Mtoto</td>\n",
       "      <td>Nairobi</td>\n",
       "      <td>Father</td>\n",
       "      <td>NaN</td>\n",
       "      <td>43.0</td>\n",
       "      <td>Yes</td>\n",
       "      <td>Yes</td>\n",
       "      <td>...</td>\n",
       "      <td>HTS - HTS (Client)</td>\n",
       "      <td>4/27/2020</td>\n",
       "      <td>Negative</td>\n",
       "      <td>1</td>\n",
       "      <td>1</td>\n",
       "      <td>1</td>\n",
       "      <td>0</td>\n",
       "      <td>0</td>\n",
       "      <td>NaN</td>\n",
       "      <td>NaN</td>\n",
       "    </tr>\n",
       "    <tr>\n",
       "      <th>2</th>\n",
       "      <td>10/20/2005</td>\n",
       "      <td>3/7/2020</td>\n",
       "      <td>USAID</td>\n",
       "      <td>USAID Tumikia Mtoto</td>\n",
       "      <td>Nairobi</td>\n",
       "      <td>Mother</td>\n",
       "      <td>NaN</td>\n",
       "      <td>41.0</td>\n",
       "      <td>No</td>\n",
       "      <td>Yes</td>\n",
       "      <td>...</td>\n",
       "      <td>HTS - HTS (Client)</td>\n",
       "      <td>8/12/2020</td>\n",
       "      <td>Negative</td>\n",
       "      <td>1</td>\n",
       "      <td>1</td>\n",
       "      <td>0</td>\n",
       "      <td>0</td>\n",
       "      <td>0</td>\n",
       "      <td>NaN</td>\n",
       "      <td>NaN</td>\n",
       "    </tr>\n",
       "    <tr>\n",
       "      <th>3</th>\n",
       "      <td>1/18/2006</td>\n",
       "      <td>3/3/2020</td>\n",
       "      <td>USAID</td>\n",
       "      <td>USAID Tumikia Mtoto</td>\n",
       "      <td>Nairobi</td>\n",
       "      <td>Mother</td>\n",
       "      <td>NaN</td>\n",
       "      <td>45.0</td>\n",
       "      <td>No</td>\n",
       "      <td>Yes</td>\n",
       "      <td>...</td>\n",
       "      <td>HTS - HTS (Client)</td>\n",
       "      <td>8/12/2020</td>\n",
       "      <td>Negative</td>\n",
       "      <td>1</td>\n",
       "      <td>1</td>\n",
       "      <td>1</td>\n",
       "      <td>0</td>\n",
       "      <td>0</td>\n",
       "      <td>NaN</td>\n",
       "      <td>NaN</td>\n",
       "    </tr>\n",
       "    <tr>\n",
       "      <th>4</th>\n",
       "      <td>3/22/2004</td>\n",
       "      <td>12/18/2019</td>\n",
       "      <td>USAID</td>\n",
       "      <td>USAID Tumikia Mtoto</td>\n",
       "      <td>Nairobi</td>\n",
       "      <td>Father</td>\n",
       "      <td>NaN</td>\n",
       "      <td>42.0</td>\n",
       "      <td>Yes</td>\n",
       "      <td>Yes</td>\n",
       "      <td>...</td>\n",
       "      <td>HTS - HTS (Client)</td>\n",
       "      <td>4/27/2020</td>\n",
       "      <td>Negative</td>\n",
       "      <td>1</td>\n",
       "      <td>1</td>\n",
       "      <td>1</td>\n",
       "      <td>0</td>\n",
       "      <td>0</td>\n",
       "      <td>NaN</td>\n",
       "      <td>NaN</td>\n",
       "    </tr>\n",
       "  </tbody>\n",
       "</table>\n",
       "<p>5 rows × 44 columns</p>\n",
       "</div>"
      ],
      "text/plain": [
       "  date_of_birth date_of_enrollment Agency implementing_partner_name   county  \\\n",
       "0     9/16/2004          2/22/2020  USAID       USAID Tumikia Mtoto  Nairobi   \n",
       "1      8/2/2004         12/18/2019  USAID       USAID Tumikia Mtoto  Nairobi   \n",
       "2    10/20/2005           3/7/2020  USAID       USAID Tumikia Mtoto  Nairobi   \n",
       "3     1/18/2006           3/3/2020  USAID       USAID Tumikia Mtoto  Nairobi   \n",
       "4     3/22/2004         12/18/2019  USAID       USAID Tumikia Mtoto  Nairobi   \n",
       "\n",
       "  head_of_household head_of_household_other  age_of_household_head  \\\n",
       "0            Mother                     NaN                   58.0   \n",
       "1            Father                     NaN                   43.0   \n",
       "2            Mother                     NaN                   41.0   \n",
       "3            Mother                     NaN                   45.0   \n",
       "4            Father                     NaN                   42.0   \n",
       "\n",
       "  father_alive mother_alive  ...   intervention_name intervention_date  \\\n",
       "0          Yes          Yes  ...  HTS - HTS (Client)          8/8/2020   \n",
       "1          Yes          Yes  ...  HTS - HTS (Client)         4/27/2020   \n",
       "2           No          Yes  ...  HTS - HTS (Client)         8/12/2020   \n",
       "3           No          Yes  ...  HTS - HTS (Client)         8/12/2020   \n",
       "4          Yes          Yes  ...  HTS - HTS (Client)         4/27/2020   \n",
       "\n",
       "     result  bio_medical  social_protection  behavioral  post_gbv_care  \\\n",
       "0  Negative            1                  1           1              0   \n",
       "1  Negative            1                  1           1              0   \n",
       "2  Negative            1                  1           0              0   \n",
       "3  Negative            1                  1           1              0   \n",
       "4  Negative            1                  1           1              0   \n",
       "\n",
       "   other_interventions exit_age exit_reason_other  \n",
       "0                    0      NaN               NaN  \n",
       "1                    0      NaN               NaN  \n",
       "2                    0      NaN               NaN  \n",
       "3                    0      NaN               NaN  \n",
       "4                    0      NaN               NaN  \n",
       "\n",
       "[5 rows x 44 columns]"
      ]
     },
     "execution_count": 5,
     "metadata": {},
     "output_type": "execute_result"
    }
   ],
   "source": [
    "df.head()"
   ]
  },
  {
   "cell_type": "code",
   "execution_count": 6,
   "metadata": {},
   "outputs": [
    {
     "data": {
      "text/plain": [
       "result\n",
       "Negative    454788\n",
       "Positive      1019\n",
       "Name: count, dtype: int64"
      ]
     },
     "execution_count": 6,
     "metadata": {},
     "output_type": "execute_result"
    }
   ],
   "source": [
    "df['result'].value_counts()"
   ]
  },
  {
   "cell_type": "markdown",
   "metadata": {},
   "source": [
    "## 3.4 Problem Statement"
   ]
  },
  {
   "cell_type": "markdown",
   "metadata": {},
   "source": []
  },
  {
   "cell_type": "markdown",
   "metadata": {},
   "source": [
    "## 3.5 Metrics of Success"
   ]
  },
  {
   "cell_type": "code",
   "execution_count": null,
   "metadata": {},
   "outputs": [],
   "source": []
  },
  {
   "cell_type": "markdown",
   "metadata": {},
   "source": [
    "# 4.0 Data Preparation\n",
    "\n",
    "## 4.1 Data Cleaning\n",
    "\n",
    "This involves checking on data validity, accuracy, completeness, accuracy, consistency and uniformity. These will be carried out on the select datasets that are within the scope of reasearch."
   ]
  },
  {
   "cell_type": "markdown",
   "metadata": {},
   "source": [
    "### 4.1.1 Data completeness; Checking for missing values\n"
   ]
  },
  {
   "cell_type": "code",
   "execution_count": 7,
   "metadata": {},
   "outputs": [
    {
     "name": "stdout",
     "output_type": "stream",
     "text": [
      "Missing values in percentage for each column : \n",
      "head_of_household_other              98.692429\n",
      "dreams_program_other                 98.561233\n",
      "exit_reason_other                    94.362087\n",
      "dreams_program                       89.807309\n",
      "used_condom_with_last_partner        53.442575\n",
      "age_of_last_partner                  53.372370\n",
      "age_at_first_sexual_encounter        50.361447\n",
      "has_sexual_partner                   50.351574\n",
      "current_school_level                 44.068213\n",
      "no_of_days_missed_food_in_4wks       43.668482\n",
      "current_income_source                28.425189\n",
      "Agency                               23.938860\n",
      "exit_reason                          15.326882\n",
      "exit_age                             15.080725\n",
      "parents_alive_status                 14.349056\n",
      "age_of_household_head                 4.611162\n",
      "father_alive                          2.941596\n",
      "mother_alive                          2.849232\n",
      "head_of_household                     2.109445\n",
      "county                                2.030684\n",
      "no_of_children                        1.705327\n",
      "ever_had_sex                          1.695235\n",
      "no_of_males                           1.685362\n",
      "no_of_adults                          1.640826\n",
      "no_of_females                         1.608576\n",
      "no_of_people_in_household             1.579616\n",
      "ever_missed_full_day_food_in_4wks     1.572376\n",
      "currently_in_school                   0.915519\n",
      "date_of_enrollment                    0.000219\n",
      "social_protection                     0.000000\n",
      "other_interventions                   0.000000\n",
      "behavioral                            0.000000\n",
      "post_gbv_care                         0.000000\n",
      "result                                0.000000\n",
      "bio_medical                           0.000000\n",
      "is_one_parent_alive                   0.000000\n",
      "intervention_date                     0.000000\n",
      "intervention_name                     0.000000\n",
      "exit_status                           0.000000\n",
      "implementing_partner_name             0.000000\n",
      "last_test_result                      0.000000\n",
      "ever_tested_for_hiv                   0.000000\n",
      "are_both_parents_alive                0.000000\n",
      "date_of_birth                         0.000000\n",
      "dtype: float64\n"
     ]
    }
   ],
   "source": [
    "missing_values_in_percentage = (df.isna().sum()/ len(df)*100).sort_values(ascending=False)\n",
    "print(f\"Missing values in percentage for each column : \\n{missing_values_in_percentage}\")"
   ]
  },
  {
   "cell_type": "markdown",
   "metadata": {},
   "source": [
    "### Observations;\n",
    "* Some columns has significantly high percentage of missing values; above 50%, dropping these features may not be impactful"
   ]
  },
  {
   "cell_type": "code",
   "execution_count": 8,
   "metadata": {},
   "outputs": [],
   "source": [
    "# Drop features with above 50% of missing values\n",
    "df = df.drop(['head_of_household_other','dreams_program_other','exit_reason_other','dreams_program','used_condom_with_last_partner',\n",
    "              'age_of_last_partner','age_at_first_sexual_encounter','has_sexual_partner'], axis=1)"
   ]
  },
  {
   "cell_type": "code",
   "execution_count": 9,
   "metadata": {},
   "outputs": [
    {
     "name": "stdout",
     "output_type": "stream",
     "text": [
      "<class 'pandas.core.frame.DataFrame'>\n",
      "RangeIndex: 455807 entries, 0 to 455806\n",
      "Data columns (total 36 columns):\n",
      " #   Column                             Non-Null Count   Dtype  \n",
      "---  ------                             --------------   -----  \n",
      " 0   date_of_birth                      455807 non-null  object \n",
      " 1   date_of_enrollment                 455806 non-null  object \n",
      " 2   Agency                             346692 non-null  object \n",
      " 3   implementing_partner_name          455807 non-null  object \n",
      " 4   county                             446551 non-null  object \n",
      " 5   head_of_household                  446192 non-null  object \n",
      " 6   age_of_household_head              434789 non-null  float64\n",
      " 7   father_alive                       442399 non-null  object \n",
      " 8   mother_alive                       442820 non-null  object \n",
      " 9   are_both_parents_alive             455807 non-null  object \n",
      " 10  is_one_parent_alive                455807 non-null  object \n",
      " 11  parents_alive_status               390403 non-null  object \n",
      " 12  no_of_people_in_household          448607 non-null  float64\n",
      " 13  no_of_females                      448475 non-null  float64\n",
      " 14  no_of_males                        448125 non-null  float64\n",
      " 15  no_of_adults                       448328 non-null  float64\n",
      " 16  no_of_children                     448034 non-null  float64\n",
      " 17  ever_missed_full_day_food_in_4wks  448640 non-null  object \n",
      " 18  no_of_days_missed_food_in_4wks     256763 non-null  object \n",
      " 19  currently_in_school                451634 non-null  object \n",
      " 20  current_school_level               254941 non-null  object \n",
      " 21  current_income_source              326243 non-null  object \n",
      " 22  ever_tested_for_hiv                455807 non-null  object \n",
      " 23  last_test_result                   455807 non-null  object \n",
      " 24  ever_had_sex                       448080 non-null  object \n",
      " 25  exit_status                        455807 non-null  object \n",
      " 26  exit_reason                        385946 non-null  object \n",
      " 27  intervention_name                  455807 non-null  object \n",
      " 28  intervention_date                  455807 non-null  object \n",
      " 29  result                             455807 non-null  object \n",
      " 30  bio_medical                        455807 non-null  int64  \n",
      " 31  social_protection                  455807 non-null  int64  \n",
      " 32  behavioral                         455807 non-null  int64  \n",
      " 33  post_gbv_care                      455807 non-null  int64  \n",
      " 34  other_interventions                455807 non-null  int64  \n",
      " 35  exit_age                           387068 non-null  float64\n",
      "dtypes: float64(7), int64(5), object(24)\n",
      "memory usage: 125.2+ MB\n"
     ]
    }
   ],
   "source": [
    "df.info()"
   ]
  },
  {
   "cell_type": "code",
   "execution_count": 10,
   "metadata": {},
   "outputs": [],
   "source": [
    "# function to fill missing values with median for numerical features and mode for categorical features\n",
    "def impute(df):\n",
    "    # numerical features\n",
    "    numerical_features = df.select_dtypes(include=[np.number]).columns\n",
    "    for feature in numerical_features:\n",
    "        df[feature] = df[feature].fillna(df[feature].median())\n",
    "    \n",
    "    # categorical features\n",
    "    cat_features = df.select_dtypes(include=[object]).columns\n",
    "    for feature in cat_features:\n",
    "        df[feature] = df[feature].fillna(df[feature].mode()[0]) \n",
    "    \n",
    "    return df\n",
    "\n",
    "# fill missing values usng the function\n",
    "df_imputed = impute(df)"
   ]
  },
  {
   "cell_type": "code",
   "execution_count": 11,
   "metadata": {},
   "outputs": [
    {
     "name": "stdout",
     "output_type": "stream",
     "text": [
      "<class 'pandas.core.frame.DataFrame'>\n",
      "RangeIndex: 455807 entries, 0 to 455806\n",
      "Data columns (total 36 columns):\n",
      " #   Column                             Non-Null Count   Dtype  \n",
      "---  ------                             --------------   -----  \n",
      " 0   date_of_birth                      455807 non-null  object \n",
      " 1   date_of_enrollment                 455807 non-null  object \n",
      " 2   Agency                             455807 non-null  object \n",
      " 3   implementing_partner_name          455807 non-null  object \n",
      " 4   county                             455807 non-null  object \n",
      " 5   head_of_household                  455807 non-null  object \n",
      " 6   age_of_household_head              455807 non-null  float64\n",
      " 7   father_alive                       455807 non-null  object \n",
      " 8   mother_alive                       455807 non-null  object \n",
      " 9   are_both_parents_alive             455807 non-null  object \n",
      " 10  is_one_parent_alive                455807 non-null  object \n",
      " 11  parents_alive_status               455807 non-null  object \n",
      " 12  no_of_people_in_household          455807 non-null  float64\n",
      " 13  no_of_females                      455807 non-null  float64\n",
      " 14  no_of_males                        455807 non-null  float64\n",
      " 15  no_of_adults                       455807 non-null  float64\n",
      " 16  no_of_children                     455807 non-null  float64\n",
      " 17  ever_missed_full_day_food_in_4wks  455807 non-null  object \n",
      " 18  no_of_days_missed_food_in_4wks     455807 non-null  object \n",
      " 19  currently_in_school                455807 non-null  object \n",
      " 20  current_school_level               455807 non-null  object \n",
      " 21  current_income_source              455807 non-null  object \n",
      " 22  ever_tested_for_hiv                455807 non-null  object \n",
      " 23  last_test_result                   455807 non-null  object \n",
      " 24  ever_had_sex                       455807 non-null  object \n",
      " 25  exit_status                        455807 non-null  object \n",
      " 26  exit_reason                        455807 non-null  object \n",
      " 27  intervention_name                  455807 non-null  object \n",
      " 28  intervention_date                  455807 non-null  object \n",
      " 29  result                             455807 non-null  object \n",
      " 30  bio_medical                        455807 non-null  int64  \n",
      " 31  social_protection                  455807 non-null  int64  \n",
      " 32  behavioral                         455807 non-null  int64  \n",
      " 33  post_gbv_care                      455807 non-null  int64  \n",
      " 34  other_interventions                455807 non-null  int64  \n",
      " 35  exit_age                           455807 non-null  float64\n",
      "dtypes: float64(7), int64(5), object(24)\n",
      "memory usage: 125.2+ MB\n",
      "None\n"
     ]
    }
   ],
   "source": [
    "# Check imputed dataset info\n",
    "print(df_imputed.info())"
   ]
  },
  {
   "cell_type": "markdown",
   "metadata": {},
   "source": [
    "### 4.1.2  Validity check\n",
    "\n",
    "Checking irrelevant features and removing them; feature selection"
   ]
  },
  {
   "cell_type": "code",
   "execution_count": 12,
   "metadata": {},
   "outputs": [
    {
     "data": {
      "text/html": [
       "<div>\n",
       "<style scoped>\n",
       "    .dataframe tbody tr th:only-of-type {\n",
       "        vertical-align: middle;\n",
       "    }\n",
       "\n",
       "    .dataframe tbody tr th {\n",
       "        vertical-align: top;\n",
       "    }\n",
       "\n",
       "    .dataframe thead th {\n",
       "        text-align: right;\n",
       "    }\n",
       "</style>\n",
       "<table border=\"1\" class=\"dataframe\">\n",
       "  <thead>\n",
       "    <tr style=\"text-align: right;\">\n",
       "      <th></th>\n",
       "      <th>date_of_birth</th>\n",
       "      <th>date_of_enrollment</th>\n",
       "      <th>Agency</th>\n",
       "      <th>implementing_partner_name</th>\n",
       "      <th>county</th>\n",
       "      <th>head_of_household</th>\n",
       "      <th>age_of_household_head</th>\n",
       "      <th>father_alive</th>\n",
       "      <th>mother_alive</th>\n",
       "      <th>are_both_parents_alive</th>\n",
       "      <th>...</th>\n",
       "      <th>exit_reason</th>\n",
       "      <th>intervention_name</th>\n",
       "      <th>intervention_date</th>\n",
       "      <th>result</th>\n",
       "      <th>bio_medical</th>\n",
       "      <th>social_protection</th>\n",
       "      <th>behavioral</th>\n",
       "      <th>post_gbv_care</th>\n",
       "      <th>other_interventions</th>\n",
       "      <th>exit_age</th>\n",
       "    </tr>\n",
       "  </thead>\n",
       "  <tbody>\n",
       "    <tr>\n",
       "      <th>0</th>\n",
       "      <td>9/16/2004</td>\n",
       "      <td>2/22/2020</td>\n",
       "      <td>USAID</td>\n",
       "      <td>USAID Tumikia Mtoto</td>\n",
       "      <td>Nairobi</td>\n",
       "      <td>Mother</td>\n",
       "      <td>58.0</td>\n",
       "      <td>Yes</td>\n",
       "      <td>Yes</td>\n",
       "      <td>Yes</td>\n",
       "      <td>...</td>\n",
       "      <td>Graduation</td>\n",
       "      <td>HTS - HTS (Client)</td>\n",
       "      <td>8/8/2020</td>\n",
       "      <td>Negative</td>\n",
       "      <td>1</td>\n",
       "      <td>1</td>\n",
       "      <td>1</td>\n",
       "      <td>0</td>\n",
       "      <td>0</td>\n",
       "      <td>20.0</td>\n",
       "    </tr>\n",
       "    <tr>\n",
       "      <th>1</th>\n",
       "      <td>8/2/2004</td>\n",
       "      <td>12/18/2019</td>\n",
       "      <td>USAID</td>\n",
       "      <td>USAID Tumikia Mtoto</td>\n",
       "      <td>Nairobi</td>\n",
       "      <td>Father</td>\n",
       "      <td>43.0</td>\n",
       "      <td>Yes</td>\n",
       "      <td>Yes</td>\n",
       "      <td>Yes</td>\n",
       "      <td>...</td>\n",
       "      <td>Graduation</td>\n",
       "      <td>HTS - HTS (Client)</td>\n",
       "      <td>4/27/2020</td>\n",
       "      <td>Negative</td>\n",
       "      <td>1</td>\n",
       "      <td>1</td>\n",
       "      <td>1</td>\n",
       "      <td>0</td>\n",
       "      <td>0</td>\n",
       "      <td>20.0</td>\n",
       "    </tr>\n",
       "    <tr>\n",
       "      <th>2</th>\n",
       "      <td>10/20/2005</td>\n",
       "      <td>3/7/2020</td>\n",
       "      <td>USAID</td>\n",
       "      <td>USAID Tumikia Mtoto</td>\n",
       "      <td>Nairobi</td>\n",
       "      <td>Mother</td>\n",
       "      <td>41.0</td>\n",
       "      <td>No</td>\n",
       "      <td>Yes</td>\n",
       "      <td>No</td>\n",
       "      <td>...</td>\n",
       "      <td>Graduation</td>\n",
       "      <td>HTS - HTS (Client)</td>\n",
       "      <td>8/12/2020</td>\n",
       "      <td>Negative</td>\n",
       "      <td>1</td>\n",
       "      <td>1</td>\n",
       "      <td>0</td>\n",
       "      <td>0</td>\n",
       "      <td>0</td>\n",
       "      <td>20.0</td>\n",
       "    </tr>\n",
       "    <tr>\n",
       "      <th>3</th>\n",
       "      <td>1/18/2006</td>\n",
       "      <td>3/3/2020</td>\n",
       "      <td>USAID</td>\n",
       "      <td>USAID Tumikia Mtoto</td>\n",
       "      <td>Nairobi</td>\n",
       "      <td>Mother</td>\n",
       "      <td>45.0</td>\n",
       "      <td>No</td>\n",
       "      <td>Yes</td>\n",
       "      <td>No</td>\n",
       "      <td>...</td>\n",
       "      <td>Graduation</td>\n",
       "      <td>HTS - HTS (Client)</td>\n",
       "      <td>8/12/2020</td>\n",
       "      <td>Negative</td>\n",
       "      <td>1</td>\n",
       "      <td>1</td>\n",
       "      <td>1</td>\n",
       "      <td>0</td>\n",
       "      <td>0</td>\n",
       "      <td>20.0</td>\n",
       "    </tr>\n",
       "    <tr>\n",
       "      <th>4</th>\n",
       "      <td>3/22/2004</td>\n",
       "      <td>12/18/2019</td>\n",
       "      <td>USAID</td>\n",
       "      <td>USAID Tumikia Mtoto</td>\n",
       "      <td>Nairobi</td>\n",
       "      <td>Father</td>\n",
       "      <td>42.0</td>\n",
       "      <td>Yes</td>\n",
       "      <td>Yes</td>\n",
       "      <td>Yes</td>\n",
       "      <td>...</td>\n",
       "      <td>Graduation</td>\n",
       "      <td>HTS - HTS (Client)</td>\n",
       "      <td>4/27/2020</td>\n",
       "      <td>Negative</td>\n",
       "      <td>1</td>\n",
       "      <td>1</td>\n",
       "      <td>1</td>\n",
       "      <td>0</td>\n",
       "      <td>0</td>\n",
       "      <td>20.0</td>\n",
       "    </tr>\n",
       "  </tbody>\n",
       "</table>\n",
       "<p>5 rows × 36 columns</p>\n",
       "</div>"
      ],
      "text/plain": [
       "  date_of_birth date_of_enrollment Agency implementing_partner_name   county  \\\n",
       "0     9/16/2004          2/22/2020  USAID       USAID Tumikia Mtoto  Nairobi   \n",
       "1      8/2/2004         12/18/2019  USAID       USAID Tumikia Mtoto  Nairobi   \n",
       "2    10/20/2005           3/7/2020  USAID       USAID Tumikia Mtoto  Nairobi   \n",
       "3     1/18/2006           3/3/2020  USAID       USAID Tumikia Mtoto  Nairobi   \n",
       "4     3/22/2004         12/18/2019  USAID       USAID Tumikia Mtoto  Nairobi   \n",
       "\n",
       "  head_of_household  age_of_household_head father_alive mother_alive  \\\n",
       "0            Mother                   58.0          Yes          Yes   \n",
       "1            Father                   43.0          Yes          Yes   \n",
       "2            Mother                   41.0           No          Yes   \n",
       "3            Mother                   45.0           No          Yes   \n",
       "4            Father                   42.0          Yes          Yes   \n",
       "\n",
       "  are_both_parents_alive  ... exit_reason   intervention_name  \\\n",
       "0                    Yes  ...  Graduation  HTS - HTS (Client)   \n",
       "1                    Yes  ...  Graduation  HTS - HTS (Client)   \n",
       "2                     No  ...  Graduation  HTS - HTS (Client)   \n",
       "3                     No  ...  Graduation  HTS - HTS (Client)   \n",
       "4                    Yes  ...  Graduation  HTS - HTS (Client)   \n",
       "\n",
       "   intervention_date    result  bio_medical  social_protection  behavioral  \\\n",
       "0           8/8/2020  Negative            1                  1           1   \n",
       "1          4/27/2020  Negative            1                  1           1   \n",
       "2          8/12/2020  Negative            1                  1           0   \n",
       "3          8/12/2020  Negative            1                  1           1   \n",
       "4          4/27/2020  Negative            1                  1           1   \n",
       "\n",
       "  post_gbv_care other_interventions exit_age  \n",
       "0             0                   0     20.0  \n",
       "1             0                   0     20.0  \n",
       "2             0                   0     20.0  \n",
       "3             0                   0     20.0  \n",
       "4             0                   0     20.0  \n",
       "\n",
       "[5 rows x 36 columns]"
      ]
     },
     "execution_count": 12,
     "metadata": {},
     "output_type": "execute_result"
    }
   ],
   "source": [
    "df_imputed.head()"
   ]
  },
  {
   "cell_type": "code",
   "execution_count": 13,
   "metadata": {},
   "outputs": [
    {
     "data": {
      "text/plain": [
       "(455807, 36)"
      ]
     },
     "execution_count": 13,
     "metadata": {},
     "output_type": "execute_result"
    }
   ],
   "source": [
    "df_imputed.shape"
   ]
  },
  {
   "cell_type": "markdown",
   "metadata": {},
   "source": [
    "### Observations\n",
    "* Exit_status, exit_reason and exit age may not be predisposing or mitigating factors to HIV risk among AGYW enrolled in the program\n",
    "* Hence, dropping may not have negative impact on the dataset."
   ]
  },
  {
   "cell_type": "code",
   "execution_count": 14,
   "metadata": {},
   "outputs": [
    {
     "data": {
      "text/html": [
       "<div>\n",
       "<style scoped>\n",
       "    .dataframe tbody tr th:only-of-type {\n",
       "        vertical-align: middle;\n",
       "    }\n",
       "\n",
       "    .dataframe tbody tr th {\n",
       "        vertical-align: top;\n",
       "    }\n",
       "\n",
       "    .dataframe thead th {\n",
       "        text-align: right;\n",
       "    }\n",
       "</style>\n",
       "<table border=\"1\" class=\"dataframe\">\n",
       "  <thead>\n",
       "    <tr style=\"text-align: right;\">\n",
       "      <th></th>\n",
       "      <th>date_of_birth</th>\n",
       "      <th>date_of_enrollment</th>\n",
       "      <th>Agency</th>\n",
       "      <th>implementing_partner_name</th>\n",
       "      <th>county</th>\n",
       "      <th>head_of_household</th>\n",
       "      <th>age_of_household_head</th>\n",
       "      <th>father_alive</th>\n",
       "      <th>mother_alive</th>\n",
       "      <th>are_both_parents_alive</th>\n",
       "      <th>...</th>\n",
       "      <th>last_test_result</th>\n",
       "      <th>ever_had_sex</th>\n",
       "      <th>intervention_name</th>\n",
       "      <th>intervention_date</th>\n",
       "      <th>result</th>\n",
       "      <th>bio_medical</th>\n",
       "      <th>social_protection</th>\n",
       "      <th>behavioral</th>\n",
       "      <th>post_gbv_care</th>\n",
       "      <th>other_interventions</th>\n",
       "    </tr>\n",
       "  </thead>\n",
       "  <tbody>\n",
       "    <tr>\n",
       "      <th>0</th>\n",
       "      <td>9/16/2004</td>\n",
       "      <td>2/22/2020</td>\n",
       "      <td>USAID</td>\n",
       "      <td>USAID Tumikia Mtoto</td>\n",
       "      <td>Nairobi</td>\n",
       "      <td>Mother</td>\n",
       "      <td>58.0</td>\n",
       "      <td>Yes</td>\n",
       "      <td>Yes</td>\n",
       "      <td>Yes</td>\n",
       "      <td>...</td>\n",
       "      <td>Negative</td>\n",
       "      <td>No</td>\n",
       "      <td>HTS - HTS (Client)</td>\n",
       "      <td>8/8/2020</td>\n",
       "      <td>Negative</td>\n",
       "      <td>1</td>\n",
       "      <td>1</td>\n",
       "      <td>1</td>\n",
       "      <td>0</td>\n",
       "      <td>0</td>\n",
       "    </tr>\n",
       "    <tr>\n",
       "      <th>1</th>\n",
       "      <td>8/2/2004</td>\n",
       "      <td>12/18/2019</td>\n",
       "      <td>USAID</td>\n",
       "      <td>USAID Tumikia Mtoto</td>\n",
       "      <td>Nairobi</td>\n",
       "      <td>Father</td>\n",
       "      <td>43.0</td>\n",
       "      <td>Yes</td>\n",
       "      <td>Yes</td>\n",
       "      <td>Yes</td>\n",
       "      <td>...</td>\n",
       "      <td>Negative</td>\n",
       "      <td>No</td>\n",
       "      <td>HTS - HTS (Client)</td>\n",
       "      <td>4/27/2020</td>\n",
       "      <td>Negative</td>\n",
       "      <td>1</td>\n",
       "      <td>1</td>\n",
       "      <td>1</td>\n",
       "      <td>0</td>\n",
       "      <td>0</td>\n",
       "    </tr>\n",
       "    <tr>\n",
       "      <th>2</th>\n",
       "      <td>10/20/2005</td>\n",
       "      <td>3/7/2020</td>\n",
       "      <td>USAID</td>\n",
       "      <td>USAID Tumikia Mtoto</td>\n",
       "      <td>Nairobi</td>\n",
       "      <td>Mother</td>\n",
       "      <td>41.0</td>\n",
       "      <td>No</td>\n",
       "      <td>Yes</td>\n",
       "      <td>No</td>\n",
       "      <td>...</td>\n",
       "      <td>Negative</td>\n",
       "      <td>No</td>\n",
       "      <td>HTS - HTS (Client)</td>\n",
       "      <td>8/12/2020</td>\n",
       "      <td>Negative</td>\n",
       "      <td>1</td>\n",
       "      <td>1</td>\n",
       "      <td>0</td>\n",
       "      <td>0</td>\n",
       "      <td>0</td>\n",
       "    </tr>\n",
       "    <tr>\n",
       "      <th>3</th>\n",
       "      <td>1/18/2006</td>\n",
       "      <td>3/3/2020</td>\n",
       "      <td>USAID</td>\n",
       "      <td>USAID Tumikia Mtoto</td>\n",
       "      <td>Nairobi</td>\n",
       "      <td>Mother</td>\n",
       "      <td>45.0</td>\n",
       "      <td>No</td>\n",
       "      <td>Yes</td>\n",
       "      <td>No</td>\n",
       "      <td>...</td>\n",
       "      <td>Negative</td>\n",
       "      <td>No</td>\n",
       "      <td>HTS - HTS (Client)</td>\n",
       "      <td>8/12/2020</td>\n",
       "      <td>Negative</td>\n",
       "      <td>1</td>\n",
       "      <td>1</td>\n",
       "      <td>1</td>\n",
       "      <td>0</td>\n",
       "      <td>0</td>\n",
       "    </tr>\n",
       "    <tr>\n",
       "      <th>4</th>\n",
       "      <td>3/22/2004</td>\n",
       "      <td>12/18/2019</td>\n",
       "      <td>USAID</td>\n",
       "      <td>USAID Tumikia Mtoto</td>\n",
       "      <td>Nairobi</td>\n",
       "      <td>Father</td>\n",
       "      <td>42.0</td>\n",
       "      <td>Yes</td>\n",
       "      <td>Yes</td>\n",
       "      <td>Yes</td>\n",
       "      <td>...</td>\n",
       "      <td>Negative</td>\n",
       "      <td>No</td>\n",
       "      <td>HTS - HTS (Client)</td>\n",
       "      <td>4/27/2020</td>\n",
       "      <td>Negative</td>\n",
       "      <td>1</td>\n",
       "      <td>1</td>\n",
       "      <td>1</td>\n",
       "      <td>0</td>\n",
       "      <td>0</td>\n",
       "    </tr>\n",
       "  </tbody>\n",
       "</table>\n",
       "<p>5 rows × 33 columns</p>\n",
       "</div>"
      ],
      "text/plain": [
       "  date_of_birth date_of_enrollment Agency implementing_partner_name   county  \\\n",
       "0     9/16/2004          2/22/2020  USAID       USAID Tumikia Mtoto  Nairobi   \n",
       "1      8/2/2004         12/18/2019  USAID       USAID Tumikia Mtoto  Nairobi   \n",
       "2    10/20/2005           3/7/2020  USAID       USAID Tumikia Mtoto  Nairobi   \n",
       "3     1/18/2006           3/3/2020  USAID       USAID Tumikia Mtoto  Nairobi   \n",
       "4     3/22/2004         12/18/2019  USAID       USAID Tumikia Mtoto  Nairobi   \n",
       "\n",
       "  head_of_household  age_of_household_head father_alive mother_alive  \\\n",
       "0            Mother                   58.0          Yes          Yes   \n",
       "1            Father                   43.0          Yes          Yes   \n",
       "2            Mother                   41.0           No          Yes   \n",
       "3            Mother                   45.0           No          Yes   \n",
       "4            Father                   42.0          Yes          Yes   \n",
       "\n",
       "  are_both_parents_alive  ... last_test_result ever_had_sex  \\\n",
       "0                    Yes  ...         Negative           No   \n",
       "1                    Yes  ...         Negative           No   \n",
       "2                     No  ...         Negative           No   \n",
       "3                     No  ...         Negative           No   \n",
       "4                    Yes  ...         Negative           No   \n",
       "\n",
       "    intervention_name  intervention_date    result  bio_medical  \\\n",
       "0  HTS - HTS (Client)           8/8/2020  Negative            1   \n",
       "1  HTS - HTS (Client)          4/27/2020  Negative            1   \n",
       "2  HTS - HTS (Client)          8/12/2020  Negative            1   \n",
       "3  HTS - HTS (Client)          8/12/2020  Negative            1   \n",
       "4  HTS - HTS (Client)          4/27/2020  Negative            1   \n",
       "\n",
       "   social_protection behavioral post_gbv_care other_interventions  \n",
       "0                  1          1             0                   0  \n",
       "1                  1          1             0                   0  \n",
       "2                  1          0             0                   0  \n",
       "3                  1          1             0                   0  \n",
       "4                  1          1             0                   0  \n",
       "\n",
       "[5 rows x 33 columns]"
      ]
     },
     "execution_count": 14,
     "metadata": {},
     "output_type": "execute_result"
    }
   ],
   "source": [
    "df_imputed = df_imputed.drop(['exit_status','exit_reason','exit_age'], axis=1)\n",
    "df_imputed.head()"
   ]
  },
  {
   "cell_type": "code",
   "execution_count": 15,
   "metadata": {},
   "outputs": [
    {
     "data": {
      "text/plain": [
       "(455807, 33)"
      ]
     },
     "execution_count": 15,
     "metadata": {},
     "output_type": "execute_result"
    }
   ],
   "source": [
    "df_imputed.shape"
   ]
  },
  {
   "cell_type": "code",
   "execution_count": null,
   "metadata": {},
   "outputs": [],
   "source": []
  },
  {
   "cell_type": "markdown",
   "metadata": {},
   "source": [
    "### 4.1.3 Data accuracy\n",
    "Checking for outlier values in the data that distorts its accuracy. This is mitigated by drop/removing outliers"
   ]
  },
  {
   "cell_type": "code",
   "execution_count": 16,
   "metadata": {},
   "outputs": [
    {
     "data": {
      "image/png": "[encoded data removed]",
      "text/plain": [
       "<Figure size 1000x600 with 1 Axes>"
      ]
     },
     "metadata": {},
     "output_type": "display_data"
    },
    {
     "data": {
      "image/png": "[encoded data removed]",
      "text/plain": [
       "<Figure size 1000x600 with 1 Axes>"
      ]
     },
     "metadata": {},
     "output_type": "display_data"
    },
    {
     "data": {
      "image/png": "[encoded data removed]",
      "text/plain": [
       "<Figure size 1000x600 with 1 Axes>"
      ]
     },
     "metadata": {},
     "output_type": "display_data"
    },
    {
     "data": {
      "image/png": "[encoded data removed]",
      "text/plain": [
       "<Figure size 1000x600 with 1 Axes>"
      ]
     },
     "metadata": {},
     "output_type": "display_data"
    },
    {
     "data": {
      "image/png": "[encoded data removed]",
      "text/plain": [
       "<Figure size 1000x600 with 1 Axes>"
      ]
     },
     "metadata": {},
     "output_type": "display_data"
    },
    {
     "data": {
      "image/png": "[encoded data removed]",
      "text/plain": [
       "<Figure size 1000x600 with 1 Axes>"
      ]
     },
     "metadata": {},
     "output_type": "display_data"
    },
    {
     "data": {
      "image/png": "[encoded data removed]",
      "text/plain": [
       "<Figure size 1000x600 with 1 Axes>"
      ]
     },
     "metadata": {},
     "output_type": "display_data"
    },
    {
     "data": {
      "image/png": "[encoded data removed]",
      "text/plain": [
       "<Figure size 1000x600 with 1 Axes>"
      ]
     },
     "metadata": {},
     "output_type": "display_data"
    },
    {
     "data": {
      "image/png": "[encoded data removed]",
      "text/plain": [
       "<Figure size 1000x600 with 1 Axes>"
      ]
     },
     "metadata": {},
     "output_type": "display_data"
    },
    {
     "data": {
      "image/png": "[encoded data removed]",
      "text/plain": [
       "<Figure size 1000x600 with 1 Axes>"
      ]
     },
     "metadata": {},
     "output_type": "display_data"
    },
    {
     "data": {
      "image/png": "[encoded data removed]",
      "text/plain": [
       "<Figure size 1000x600 with 1 Axes>"
      ]
     },
     "metadata": {},
     "output_type": "display_data"
    }
   ],
   "source": [
    "# Check for outliers using boxplot visuals\n",
    "numerical_features = df_imputed.select_dtypes(include=['number']).columns\n",
    "\n",
    "# Loop through each numerical feature to create a boxplot\n",
    "for feature in numerical_features:\n",
    "    plt.figure(figsize = (10, 6))\n",
    "    \n",
    "    # Create the boxplot for the feature\n",
    "    sns.boxplot(x = df_imputed[feature])\n",
    "\n",
    "    # Set the title and axis labels\n",
    "    plt.title(f'{feature} Outliers'.title(), size=14, color='blue', weight='bold')\n",
    "    plt.xlabel(feature.title(), size=14, color='blue', weight='bold')\n",
    "    \n",
    "    # Show the plot\n",
    "    plt.show()\n"
   ]
  },
  {
   "cell_type": "markdown",
   "metadata": {},
   "source": [
    "### Filter outliers and replace with median value"
   ]
  },
  {
   "cell_type": "code",
   "execution_count": 17,
   "metadata": {},
   "outputs": [],
   "source": [
    "#Function to filter outliers in numerical features  and replace with median\n",
    "def filter_outliers(df):\n",
    "\n",
    "    for column in df.select_dtypes(include=[np.number]).columns:\n",
    "\n",
    "        #calculate quantiles(1st and 3rd) and interquarterly range\n",
    "        Q1 = np.quantile(df[column], 0.25)\n",
    "        Q3 = np.quantile(df[column], 0.75)\n",
    "        IQR = Q3 - Q1\n",
    "        #Lower and upper limits\n",
    "        lower_limit = Q1 - 1.5*IQR\n",
    "        upper_limit = Q3 + 1.5*IQR\n",
    "\n",
    "        #Meadian value\n",
    "        median_value = df[column].median()\n",
    "\n",
    "        #Replace outliers\n",
    "        df[column] = df[column].apply(lambda x: median_value if x < lower_limit or x > upper_limit else x)\n",
    "\n",
    "    return df"
   ]
  },
  {
   "cell_type": "code",
   "execution_count": 18,
   "metadata": {},
   "outputs": [],
   "source": [
    "filtered_df = filter_outliers(df_imputed)"
   ]
  },
  {
   "cell_type": "code",
   "execution_count": 19,
   "metadata": {},
   "outputs": [
    {
     "data": {
      "text/html": [
       "<div>\n",
       "<style scoped>\n",
       "    .dataframe tbody tr th:only-of-type {\n",
       "        vertical-align: middle;\n",
       "    }\n",
       "\n",
       "    .dataframe tbody tr th {\n",
       "        vertical-align: top;\n",
       "    }\n",
       "\n",
       "    .dataframe thead th {\n",
       "        text-align: right;\n",
       "    }\n",
       "</style>\n",
       "<table border=\"1\" class=\"dataframe\">\n",
       "  <thead>\n",
       "    <tr style=\"text-align: right;\">\n",
       "      <th></th>\n",
       "      <th>count</th>\n",
       "      <th>mean</th>\n",
       "      <th>std</th>\n",
       "      <th>min</th>\n",
       "      <th>25%</th>\n",
       "      <th>50%</th>\n",
       "      <th>75%</th>\n",
       "      <th>max</th>\n",
       "    </tr>\n",
       "  </thead>\n",
       "  <tbody>\n",
       "    <tr>\n",
       "      <th>age_of_household_head</th>\n",
       "      <td>455807.0</td>\n",
       "      <td>42.023297</td>\n",
       "      <td>11.618914</td>\n",
       "      <td>10.0</td>\n",
       "      <td>34.0</td>\n",
       "      <td>42.0</td>\n",
       "      <td>50.0</td>\n",
       "      <td>74.0</td>\n",
       "    </tr>\n",
       "    <tr>\n",
       "      <th>no_of_people_in_household</th>\n",
       "      <td>455807.0</td>\n",
       "      <td>5.600708</td>\n",
       "      <td>2.104048</td>\n",
       "      <td>0.0</td>\n",
       "      <td>4.0</td>\n",
       "      <td>6.0</td>\n",
       "      <td>7.0</td>\n",
       "      <td>11.0</td>\n",
       "    </tr>\n",
       "    <tr>\n",
       "      <th>no_of_females</th>\n",
       "      <td>455807.0</td>\n",
       "      <td>3.220571</td>\n",
       "      <td>1.374374</td>\n",
       "      <td>0.0</td>\n",
       "      <td>2.0</td>\n",
       "      <td>3.0</td>\n",
       "      <td>4.0</td>\n",
       "      <td>7.0</td>\n",
       "    </tr>\n",
       "    <tr>\n",
       "      <th>no_of_males</th>\n",
       "      <td>455807.0</td>\n",
       "      <td>2.346399</td>\n",
       "      <td>1.355609</td>\n",
       "      <td>0.0</td>\n",
       "      <td>1.0</td>\n",
       "      <td>2.0</td>\n",
       "      <td>3.0</td>\n",
       "      <td>6.0</td>\n",
       "    </tr>\n",
       "    <tr>\n",
       "      <th>no_of_adults</th>\n",
       "      <td>455807.0</td>\n",
       "      <td>2.230677</td>\n",
       "      <td>0.790926</td>\n",
       "      <td>1.0</td>\n",
       "      <td>2.0</td>\n",
       "      <td>2.0</td>\n",
       "      <td>3.0</td>\n",
       "      <td>4.0</td>\n",
       "    </tr>\n",
       "    <tr>\n",
       "      <th>no_of_children</th>\n",
       "      <td>455807.0</td>\n",
       "      <td>3.052836</td>\n",
       "      <td>1.718713</td>\n",
       "      <td>0.0</td>\n",
       "      <td>2.0</td>\n",
       "      <td>3.0</td>\n",
       "      <td>4.0</td>\n",
       "      <td>7.0</td>\n",
       "    </tr>\n",
       "    <tr>\n",
       "      <th>bio_medical</th>\n",
       "      <td>455807.0</td>\n",
       "      <td>1.000000</td>\n",
       "      <td>0.000000</td>\n",
       "      <td>1.0</td>\n",
       "      <td>1.0</td>\n",
       "      <td>1.0</td>\n",
       "      <td>1.0</td>\n",
       "      <td>1.0</td>\n",
       "    </tr>\n",
       "    <tr>\n",
       "      <th>social_protection</th>\n",
       "      <td>455807.0</td>\n",
       "      <td>1.000000</td>\n",
       "      <td>0.000000</td>\n",
       "      <td>1.0</td>\n",
       "      <td>1.0</td>\n",
       "      <td>1.0</td>\n",
       "      <td>1.0</td>\n",
       "      <td>1.0</td>\n",
       "    </tr>\n",
       "    <tr>\n",
       "      <th>behavioral</th>\n",
       "      <td>455807.0</td>\n",
       "      <td>1.000000</td>\n",
       "      <td>0.000000</td>\n",
       "      <td>1.0</td>\n",
       "      <td>1.0</td>\n",
       "      <td>1.0</td>\n",
       "      <td>1.0</td>\n",
       "      <td>1.0</td>\n",
       "    </tr>\n",
       "    <tr>\n",
       "      <th>post_gbv_care</th>\n",
       "      <td>455807.0</td>\n",
       "      <td>0.000000</td>\n",
       "      <td>0.000000</td>\n",
       "      <td>0.0</td>\n",
       "      <td>0.0</td>\n",
       "      <td>0.0</td>\n",
       "      <td>0.0</td>\n",
       "      <td>0.0</td>\n",
       "    </tr>\n",
       "    <tr>\n",
       "      <th>other_interventions</th>\n",
       "      <td>455807.0</td>\n",
       "      <td>0.000000</td>\n",
       "      <td>0.000000</td>\n",
       "      <td>0.0</td>\n",
       "      <td>0.0</td>\n",
       "      <td>0.0</td>\n",
       "      <td>0.0</td>\n",
       "      <td>0.0</td>\n",
       "    </tr>\n",
       "  </tbody>\n",
       "</table>\n",
       "</div>"
      ],
      "text/plain": [
       "                              count       mean        std   min   25%   50%  \\\n",
       "age_of_household_head      455807.0  42.023297  11.618914  10.0  34.0  42.0   \n",
       "no_of_people_in_household  455807.0   5.600708   2.104048   0.0   4.0   6.0   \n",
       "no_of_females              455807.0   3.220571   1.374374   0.0   2.0   3.0   \n",
       "no_of_males                455807.0   2.346399   1.355609   0.0   1.0   2.0   \n",
       "no_of_adults               455807.0   2.230677   0.790926   1.0   2.0   2.0   \n",
       "no_of_children             455807.0   3.052836   1.718713   0.0   2.0   3.0   \n",
       "bio_medical                455807.0   1.000000   0.000000   1.0   1.0   1.0   \n",
       "social_protection          455807.0   1.000000   0.000000   1.0   1.0   1.0   \n",
       "behavioral                 455807.0   1.000000   0.000000   1.0   1.0   1.0   \n",
       "post_gbv_care              455807.0   0.000000   0.000000   0.0   0.0   0.0   \n",
       "other_interventions        455807.0   0.000000   0.000000   0.0   0.0   0.0   \n",
       "\n",
       "                            75%   max  \n",
       "age_of_household_head      50.0  74.0  \n",
       "no_of_people_in_household   7.0  11.0  \n",
       "no_of_females               4.0   7.0  \n",
       "no_of_males                 3.0   6.0  \n",
       "no_of_adults                3.0   4.0  \n",
       "no_of_children              4.0   7.0  \n",
       "bio_medical                 1.0   1.0  \n",
       "social_protection           1.0   1.0  \n",
       "behavioral                  1.0   1.0  \n",
       "post_gbv_care               0.0   0.0  \n",
       "other_interventions         0.0   0.0  "
      ]
     },
     "execution_count": 19,
     "metadata": {},
     "output_type": "execute_result"
    }
   ],
   "source": [
    "filtered_df.describe().T"
   ]
  },
  {
   "cell_type": "markdown",
   "metadata": {},
   "source": [
    "### Visualize filtered dataframe numerical features"
   ]
  },
  {
   "cell_type": "code",
   "execution_count": 20,
   "metadata": {},
   "outputs": [
    {
     "data": {
      "image/png": "[encoded data removed]",
      "text/plain": [
       "<Figure size 1000x600 with 1 Axes>"
      ]
     },
     "metadata": {},
     "output_type": "display_data"
    },
    {
     "data": {
      "image/png": "[encoded data removed]",
      "text/plain": [
       "<Figure size 1000x600 with 1 Axes>"
      ]
     },
     "metadata": {},
     "output_type": "display_data"
    },
    {
     "data": {
      "image/png": "[encoded data removed]",
      "text/plain": [
       "<Figure size 1000x600 with 1 Axes>"
      ]
     },
     "metadata": {},
     "output_type": "display_data"
    },
    {
     "data": {
      "image/png": "[encoded data removed]",
      "text/plain": [
       "<Figure size 1000x600 with 1 Axes>"
      ]
     },
     "metadata": {},
     "output_type": "display_data"
    },
    {
     "data": {
      "image/png": "[encoded data removed]",
      "text/plain": [
       "<Figure size 1000x600 with 1 Axes>"
      ]
     },
     "metadata": {},
     "output_type": "display_data"
    },
    {
     "data": {
      "image/png": "[encoded data removed]",
      "text/plain": [
       "<Figure size 1000x600 with 1 Axes>"
      ]
     },
     "metadata": {},
     "output_type": "display_data"
    },
    {
     "data": {
      "image/png": "[encoded data removed]",
      "text/plain": [
       "<Figure size 1000x600 with 1 Axes>"
      ]
     },
     "metadata": {},
     "output_type": "display_data"
    },
    {
     "data": {
      "image/png": "[encoded data removed]",
      "text/plain": [
       "<Figure size 1000x600 with 1 Axes>"
      ]
     },
     "metadata": {},
     "output_type": "display_data"
    },
    {
     "data": {
      "image/png": "[encoded data removed]",
      "text/plain": [
       "<Figure size 1000x600 with 1 Axes>"
      ]
     },
     "metadata": {},
     "output_type": "display_data"
    },
    {
     "data": {
      "image/png": "[encoded data removed]",
      "text/plain": [
       "<Figure size 1000x600 with 1 Axes>"
      ]
     },
     "metadata": {},
     "output_type": "display_data"
    },
    {
     "data": {
      "image/png": "[encoded data removed]",
      "text/plain": [
       "<Figure size 1000x600 with 1 Axes>"
      ]
     },
     "metadata": {},
     "output_type": "display_data"
    }
   ],
   "source": [
    "# Check for outliers using boxplot visuals\n",
    "numerical_features = filtered_df.select_dtypes(include=['number']).columns\n",
    "\n",
    "# Loop through each numerical feature to create a boxplot\n",
    "for feature in numerical_features:\n",
    "    plt.figure(figsize = (10, 6))\n",
    "    \n",
    "    # Create the boxplot for the feature\n",
    "    sns.boxplot(x = filtered_df[feature])\n",
    "\n",
    "    # Set the title and axis labels\n",
    "    plt.title(f'{feature} Outliers'.title(), size=14, color='blue', weight='bold')\n",
    "    plt.xlabel(feature.title(), size=14, color='blue', weight='bold')\n",
    "    \n",
    "    # Show the plot\n",
    "    plt.show()"
   ]
  },
  {
   "cell_type": "markdown",
   "metadata": {},
   "source": [
    "### 4.1.4 Data consistency\n",
    "Consistency is achieved through removal of duplicates in the dataframe"
   ]
  },
  {
   "cell_type": "code",
   "execution_count": 21,
   "metadata": {},
   "outputs": [
    {
     "name": "stdout",
     "output_type": "stream",
     "text": [
      "There are total of 167 duplicates in the filtered dataframe\n"
     ]
    }
   ],
   "source": [
    "#Check for duplicates\n",
    "print(f'There are total of {filtered_df.duplicated().sum()} duplicates in the filtered dataframe')"
   ]
  },
  {
   "cell_type": "code",
   "execution_count": 22,
   "metadata": {},
   "outputs": [],
   "source": [
    "#Drop duplicates\n",
    "filtered_df = filtered_df.drop_duplicates()"
   ]
  },
  {
   "cell_type": "code",
   "execution_count": 23,
   "metadata": {},
   "outputs": [
    {
     "data": {
      "text/plain": [
       "0"
      ]
     },
     "execution_count": 23,
     "metadata": {},
     "output_type": "execute_result"
    }
   ],
   "source": [
    "filtered_df.duplicated().sum()"
   ]
  },
  {
   "cell_type": "markdown",
   "metadata": {},
   "source": [
    "### 4.1.5 Data Uniformity\n",
    "Involves feature engineering\n",
    "\n",
    "Feature engineer age at enrollment"
   ]
  },
  {
   "cell_type": "code",
   "execution_count": 24,
   "metadata": {},
   "outputs": [],
   "source": [
    "#Calculate age at enrollment\n",
    "from datetime import datetime\n",
    "filtered_df['date_of_birth'] = pd.to_datetime(filtered_df['date_of_birth'])\n",
    "filtered_df['date_of_enrollment'] = pd.to_datetime(filtered_df['date_of_enrollment'])\n",
    "filtered_df['age_at_enrollment'] = (filtered_df['date_of_enrollment'] - filtered_df['date_of_birth']).dt.days // 365"
   ]
  },
  {
   "cell_type": "markdown",
   "metadata": {},
   "source": [
    "### Uniformity of column names"
   ]
  },
  {
   "cell_type": "code",
   "execution_count": 25,
   "metadata": {},
   "outputs": [],
   "source": [
    "#Remove white spaces in column names and change to lower case\n",
    "filtered_df.columns = filtered_df.columns.str.strip().str.lower().str.replace(\" \", \"_\")"
   ]
  },
  {
   "cell_type": "code",
   "execution_count": 26,
   "metadata": {},
   "outputs": [
    {
     "data": {
      "text/plain": [
       "Index(['date_of_birth', 'date_of_enrollment', 'agency',\n",
       "       'implementing_partner_name', 'county', 'head_of_household',\n",
       "       'age_of_household_head', 'father_alive', 'mother_alive',\n",
       "       'are_both_parents_alive', 'is_one_parent_alive', 'parents_alive_status',\n",
       "       'no_of_people_in_household', 'no_of_females', 'no_of_males',\n",
       "       'no_of_adults', 'no_of_children', 'ever_missed_full_day_food_in_4wks',\n",
       "       'no_of_days_missed_food_in_4wks', 'currently_in_school',\n",
       "       'current_school_level', 'current_income_source', 'ever_tested_for_hiv',\n",
       "       'last_test_result', 'ever_had_sex', 'intervention_name',\n",
       "       'intervention_date', 'result', 'bio_medical', 'social_protection',\n",
       "       'behavioral', 'post_gbv_care', 'other_interventions',\n",
       "       'age_at_enrollment'],\n",
       "      dtype='object')"
      ]
     },
     "execution_count": 26,
     "metadata": {},
     "output_type": "execute_result"
    }
   ],
   "source": [
    "filtered_df.columns"
   ]
  },
  {
   "cell_type": "code",
   "execution_count": 27,
   "metadata": {},
   "outputs": [
    {
     "name": "stdout",
     "output_type": "stream",
     "text": [
      "<class 'pandas.core.frame.DataFrame'>\n",
      "Index: 455640 entries, 0 to 455806\n",
      "Data columns (total 34 columns):\n",
      " #   Column                             Non-Null Count   Dtype         \n",
      "---  ------                             --------------   -----         \n",
      " 0   date_of_birth                      455640 non-null  datetime64[ns]\n",
      " 1   date_of_enrollment                 455640 non-null  datetime64[ns]\n",
      " 2   agency                             455640 non-null  object        \n",
      " 3   implementing_partner_name          455640 non-null  object        \n",
      " 4   county                             455640 non-null  object        \n",
      " 5   head_of_household                  455640 non-null  object        \n",
      " 6   age_of_household_head              455640 non-null  float64       \n",
      " 7   father_alive                       455640 non-null  object        \n",
      " 8   mother_alive                       455640 non-null  object        \n",
      " 9   are_both_parents_alive             455640 non-null  object        \n",
      " 10  is_one_parent_alive                455640 non-null  object        \n",
      " 11  parents_alive_status               455640 non-null  object        \n",
      " 12  no_of_people_in_household          455640 non-null  float64       \n",
      " 13  no_of_females                      455640 non-null  float64       \n",
      " 14  no_of_males                        455640 non-null  float64       \n",
      " 15  no_of_adults                       455640 non-null  float64       \n",
      " 16  no_of_children                     455640 non-null  float64       \n",
      " 17  ever_missed_full_day_food_in_4wks  455640 non-null  object        \n",
      " 18  no_of_days_missed_food_in_4wks     455640 non-null  object        \n",
      " 19  currently_in_school                455640 non-null  object        \n",
      " 20  current_school_level               455640 non-null  object        \n",
      " 21  current_income_source              455640 non-null  object        \n",
      " 22  ever_tested_for_hiv                455640 non-null  object        \n",
      " 23  last_test_result                   455640 non-null  object        \n",
      " 24  ever_had_sex                       455640 non-null  object        \n",
      " 25  intervention_name                  455640 non-null  object        \n",
      " 26  intervention_date                  455640 non-null  object        \n",
      " 27  result                             455640 non-null  object        \n",
      " 28  bio_medical                        455640 non-null  float64       \n",
      " 29  social_protection                  455640 non-null  float64       \n",
      " 30  behavioral                         455640 non-null  float64       \n",
      " 31  post_gbv_care                      455640 non-null  float64       \n",
      " 32  other_interventions                455640 non-null  float64       \n",
      " 33  age_at_enrollment                  455640 non-null  int64         \n",
      "dtypes: datetime64[ns](2), float64(11), int64(1), object(20)\n",
      "memory usage: 121.7+ MB\n"
     ]
    }
   ],
   "source": [
    "filtered_df.info()"
   ]
  },
  {
   "cell_type": "markdown",
   "metadata": {},
   "source": [
    "### 4.1.6 Save clean dataset"
   ]
  },
  {
   "cell_type": "code",
   "execution_count": 28,
   "metadata": {},
   "outputs": [],
   "source": [
    "#Save copy of cleaned dataset\n",
    "clean_df = filtered_df.copy()"
   ]
  },
  {
   "cell_type": "code",
   "execution_count": 29,
   "metadata": {},
   "outputs": [
    {
     "data": {
      "text/html": [
       "<div>\n",
       "<style scoped>\n",
       "    .dataframe tbody tr th:only-of-type {\n",
       "        vertical-align: middle;\n",
       "    }\n",
       "\n",
       "    .dataframe tbody tr th {\n",
       "        vertical-align: top;\n",
       "    }\n",
       "\n",
       "    .dataframe thead th {\n",
       "        text-align: right;\n",
       "    }\n",
       "</style>\n",
       "<table border=\"1\" class=\"dataframe\">\n",
       "  <thead>\n",
       "    <tr style=\"text-align: right;\">\n",
       "      <th></th>\n",
       "      <th>date_of_birth</th>\n",
       "      <th>date_of_enrollment</th>\n",
       "      <th>agency</th>\n",
       "      <th>implementing_partner_name</th>\n",
       "      <th>county</th>\n",
       "      <th>head_of_household</th>\n",
       "      <th>age_of_household_head</th>\n",
       "      <th>father_alive</th>\n",
       "      <th>mother_alive</th>\n",
       "      <th>are_both_parents_alive</th>\n",
       "      <th>...</th>\n",
       "      <th>ever_had_sex</th>\n",
       "      <th>intervention_name</th>\n",
       "      <th>intervention_date</th>\n",
       "      <th>result</th>\n",
       "      <th>bio_medical</th>\n",
       "      <th>social_protection</th>\n",
       "      <th>behavioral</th>\n",
       "      <th>post_gbv_care</th>\n",
       "      <th>other_interventions</th>\n",
       "      <th>age_at_enrollment</th>\n",
       "    </tr>\n",
       "  </thead>\n",
       "  <tbody>\n",
       "    <tr>\n",
       "      <th>0</th>\n",
       "      <td>2004-09-16</td>\n",
       "      <td>2020-02-22</td>\n",
       "      <td>USAID</td>\n",
       "      <td>USAID Tumikia Mtoto</td>\n",
       "      <td>Nairobi</td>\n",
       "      <td>Mother</td>\n",
       "      <td>58.0</td>\n",
       "      <td>Yes</td>\n",
       "      <td>Yes</td>\n",
       "      <td>Yes</td>\n",
       "      <td>...</td>\n",
       "      <td>No</td>\n",
       "      <td>HTS - HTS (Client)</td>\n",
       "      <td>8/8/2020</td>\n",
       "      <td>Negative</td>\n",
       "      <td>1.0</td>\n",
       "      <td>1.0</td>\n",
       "      <td>1.0</td>\n",
       "      <td>0.0</td>\n",
       "      <td>0.0</td>\n",
       "      <td>15</td>\n",
       "    </tr>\n",
       "    <tr>\n",
       "      <th>1</th>\n",
       "      <td>2004-08-02</td>\n",
       "      <td>2019-12-18</td>\n",
       "      <td>USAID</td>\n",
       "      <td>USAID Tumikia Mtoto</td>\n",
       "      <td>Nairobi</td>\n",
       "      <td>Father</td>\n",
       "      <td>43.0</td>\n",
       "      <td>Yes</td>\n",
       "      <td>Yes</td>\n",
       "      <td>Yes</td>\n",
       "      <td>...</td>\n",
       "      <td>No</td>\n",
       "      <td>HTS - HTS (Client)</td>\n",
       "      <td>4/27/2020</td>\n",
       "      <td>Negative</td>\n",
       "      <td>1.0</td>\n",
       "      <td>1.0</td>\n",
       "      <td>1.0</td>\n",
       "      <td>0.0</td>\n",
       "      <td>0.0</td>\n",
       "      <td>15</td>\n",
       "    </tr>\n",
       "    <tr>\n",
       "      <th>2</th>\n",
       "      <td>2005-10-20</td>\n",
       "      <td>2020-03-07</td>\n",
       "      <td>USAID</td>\n",
       "      <td>USAID Tumikia Mtoto</td>\n",
       "      <td>Nairobi</td>\n",
       "      <td>Mother</td>\n",
       "      <td>41.0</td>\n",
       "      <td>No</td>\n",
       "      <td>Yes</td>\n",
       "      <td>No</td>\n",
       "      <td>...</td>\n",
       "      <td>No</td>\n",
       "      <td>HTS - HTS (Client)</td>\n",
       "      <td>8/12/2020</td>\n",
       "      <td>Negative</td>\n",
       "      <td>1.0</td>\n",
       "      <td>1.0</td>\n",
       "      <td>1.0</td>\n",
       "      <td>0.0</td>\n",
       "      <td>0.0</td>\n",
       "      <td>14</td>\n",
       "    </tr>\n",
       "    <tr>\n",
       "      <th>3</th>\n",
       "      <td>2006-01-18</td>\n",
       "      <td>2020-03-03</td>\n",
       "      <td>USAID</td>\n",
       "      <td>USAID Tumikia Mtoto</td>\n",
       "      <td>Nairobi</td>\n",
       "      <td>Mother</td>\n",
       "      <td>45.0</td>\n",
       "      <td>No</td>\n",
       "      <td>Yes</td>\n",
       "      <td>No</td>\n",
       "      <td>...</td>\n",
       "      <td>No</td>\n",
       "      <td>HTS - HTS (Client)</td>\n",
       "      <td>8/12/2020</td>\n",
       "      <td>Negative</td>\n",
       "      <td>1.0</td>\n",
       "      <td>1.0</td>\n",
       "      <td>1.0</td>\n",
       "      <td>0.0</td>\n",
       "      <td>0.0</td>\n",
       "      <td>14</td>\n",
       "    </tr>\n",
       "    <tr>\n",
       "      <th>4</th>\n",
       "      <td>2004-03-22</td>\n",
       "      <td>2019-12-18</td>\n",
       "      <td>USAID</td>\n",
       "      <td>USAID Tumikia Mtoto</td>\n",
       "      <td>Nairobi</td>\n",
       "      <td>Father</td>\n",
       "      <td>42.0</td>\n",
       "      <td>Yes</td>\n",
       "      <td>Yes</td>\n",
       "      <td>Yes</td>\n",
       "      <td>...</td>\n",
       "      <td>No</td>\n",
       "      <td>HTS - HTS (Client)</td>\n",
       "      <td>4/27/2020</td>\n",
       "      <td>Negative</td>\n",
       "      <td>1.0</td>\n",
       "      <td>1.0</td>\n",
       "      <td>1.0</td>\n",
       "      <td>0.0</td>\n",
       "      <td>0.0</td>\n",
       "      <td>15</td>\n",
       "    </tr>\n",
       "  </tbody>\n",
       "</table>\n",
       "<p>5 rows × 34 columns</p>\n",
       "</div>"
      ],
      "text/plain": [
       "  date_of_birth date_of_enrollment agency implementing_partner_name   county  \\\n",
       "0    2004-09-16         2020-02-22  USAID       USAID Tumikia Mtoto  Nairobi   \n",
       "1    2004-08-02         2019-12-18  USAID       USAID Tumikia Mtoto  Nairobi   \n",
       "2    2005-10-20         2020-03-07  USAID       USAID Tumikia Mtoto  Nairobi   \n",
       "3    2006-01-18         2020-03-03  USAID       USAID Tumikia Mtoto  Nairobi   \n",
       "4    2004-03-22         2019-12-18  USAID       USAID Tumikia Mtoto  Nairobi   \n",
       "\n",
       "  head_of_household  age_of_household_head father_alive mother_alive  \\\n",
       "0            Mother                   58.0          Yes          Yes   \n",
       "1            Father                   43.0          Yes          Yes   \n",
       "2            Mother                   41.0           No          Yes   \n",
       "3            Mother                   45.0           No          Yes   \n",
       "4            Father                   42.0          Yes          Yes   \n",
       "\n",
       "  are_both_parents_alive  ... ever_had_sex   intervention_name  \\\n",
       "0                    Yes  ...           No  HTS - HTS (Client)   \n",
       "1                    Yes  ...           No  HTS - HTS (Client)   \n",
       "2                     No  ...           No  HTS - HTS (Client)   \n",
       "3                     No  ...           No  HTS - HTS (Client)   \n",
       "4                    Yes  ...           No  HTS - HTS (Client)   \n",
       "\n",
       "   intervention_date    result  bio_medical  social_protection  behavioral  \\\n",
       "0           8/8/2020  Negative          1.0                1.0         1.0   \n",
       "1          4/27/2020  Negative          1.0                1.0         1.0   \n",
       "2          8/12/2020  Negative          1.0                1.0         1.0   \n",
       "3          8/12/2020  Negative          1.0                1.0         1.0   \n",
       "4          4/27/2020  Negative          1.0                1.0         1.0   \n",
       "\n",
       "  post_gbv_care other_interventions age_at_enrollment  \n",
       "0           0.0                 0.0                15  \n",
       "1           0.0                 0.0                15  \n",
       "2           0.0                 0.0                14  \n",
       "3           0.0                 0.0                14  \n",
       "4           0.0                 0.0                15  \n",
       "\n",
       "[5 rows x 34 columns]"
      ]
     },
     "execution_count": 29,
     "metadata": {},
     "output_type": "execute_result"
    }
   ],
   "source": [
    "clean_df.head()"
   ]
  },
  {
   "cell_type": "markdown",
   "metadata": {},
   "source": [
    "# 5.0 Exploratory Data Analysis(EDA)\n",
    "This is the process of analyzing data to reveal trends and patterns, detect anomalies, test hypotheses and check assumptions using visuals and summary statistics.Turkey,J.W(1977)\n",
    "\n",
    "Key goals of EDA include:\n",
    "\n",
    "Understanding the data: Getting a sense of the data's distribution, range, and central tendencies. Identifying patterns: Discovering trends, correlations, or anomalies within the data. Checking assumptions: Verifying assumptions made about the data before further analysis or modeling. Generating hypotheses: Developing potential explanations or questions based on the findings."
   ]
  },
  {
   "cell_type": "markdown",
   "metadata": {},
   "source": []
  },
  {
   "cell_type": "markdown",
   "metadata": {},
   "source": [
    "## 5.1 Univariate Analysis\n"
   ]
  },
  {
   "cell_type": "code",
   "execution_count": null,
   "metadata": {},
   "outputs": [],
   "source": []
  },
  {
   "cell_type": "code",
   "execution_count": null,
   "metadata": {},
   "outputs": [],
   "source": []
  },
  {
   "cell_type": "markdown",
   "metadata": {},
   "source": [
    "## 5.2 Bivariate Analysis\n"
   ]
  },
  {
   "cell_type": "markdown",
   "metadata": {},
   "source": []
  },
  {
   "cell_type": "markdown",
   "metadata": {},
   "source": [
    "## 5.3 Multivariate Analayis\n"
   ]
  },
  {
   "cell_type": "markdown",
   "metadata": {},
   "source": []
  },
  {
   "cell_type": "markdown",
   "metadata": {},
   "source": [
    "# 6.0 Modeling\n",
    "\n",
    "## 6.1 Baseline Model"
   ]
  },
  {
   "cell_type": "code",
   "execution_count": 30,
   "metadata": {},
   "outputs": [],
   "source": [
    "# Logistic regression\n",
    "#target and predictors\n",
    "X = clean_df.drop('result', axis=1)\n",
    "y = clean_df['result'].map({'Negative':0, 'Positive':1})"
   ]
  },
  {
   "cell_type": "code",
   "execution_count": 31,
   "metadata": {},
   "outputs": [],
   "source": [
    "#train and test splits\n",
    "X_train, X_test, y_train,y_test= train_test_split(X,y, test_size=0.2, random_state=42)"
   ]
  },
  {
   "cell_type": "code",
   "execution_count": 32,
   "metadata": {},
   "outputs": [],
   "source": [
    " #separate categorical and numerical features\n",
    "num_cols = X.select_dtypes(include=('int64', 'float64')).columns\n",
    "cat_cols = X.select_dtypes(include='object').columns\n",
    "\n"
   ]
  },
  {
   "cell_type": "code",
   "execution_count": 33,
   "metadata": {},
   "outputs": [],
   "source": [
    "#Pipeline \n",
    "numerical_transformer = Pipeline(steps=[\n",
    "     \n",
    "    ('scaler', StandardScaler())\n",
    "])\n",
    "categorical_transformer = Pipeline(steps=[\n",
    "      \n",
    "    ('ohe', OneHotEncoder(handle_unknown='ignore')) \n",
    "])\n",
    "\n",
    "#preprocessor\n",
    "preprocessor = ColumnTransformer(\n",
    "    transformers=[\n",
    "        ('num',numerical_transformer, num_cols),\n",
    "        ('cat', categorical_transformer, cat_cols)\n",
    "    ])"
   ]
  },
  {
   "cell_type": "code",
   "execution_count": 34,
   "metadata": {},
   "outputs": [],
   "source": [
    "#Baseline model as logistic regression\n",
    "lr_model = Pipeline(steps=[\n",
    "    ('preprocessor', preprocessor),\n",
    "    ('clf', LogisticRegression(class_weight='balanced'))\n",
    "])"
   ]
  },
  {
   "cell_type": "code",
   "execution_count": 35,
   "metadata": {},
   "outputs": [
    {
     "data": {
      "text/html": [
       "<style>#sk-container-id-1 {color: black;}#sk-container-id-1 pre{padding: 0;}#sk-container-id-1 div.sk-toggleable {background-color: white;}#sk-container-id-1 label.sk-toggleable__label {cursor: pointer;display: block;width: 100%;margin-bottom: 0;padding: 0.3em;box-sizing: border-box;text-align: center;}#sk-container-id-1 label.sk-toggleable__label-arrow:before {content: \"▸\";float: left;margin-right: 0.25em;color: #696969;}#sk-container-id-1 label.sk-toggleable__label-arrow:hover:before {color: black;}#sk-container-id-1 div.sk-estimator:hover label.sk-toggleable__label-arrow:before {color: black;}#sk-container-id-1 div.sk-toggleable__content {max-height: 0;max-width: 0;overflow: hidden;text-align: left;background-color: #f0f8ff;}#sk-container-id-1 div.sk-toggleable__content pre {margin: 0.2em;color: black;border-radius: 0.25em;background-color: #f0f8ff;}#sk-container-id-1 input.sk-toggleable__control:checked~div.sk-toggleable__content {max-height: 200px;max-width: 100%;overflow: auto;}#sk-container-id-1 input.sk-toggleable__control:checked~label.sk-toggleable__label-arrow:before {content: \"▾\";}#sk-container-id-1 div.sk-estimator input.sk-toggleable__control:checked~label.sk-toggleable__label {background-color: #d4ebff;}#sk-container-id-1 div.sk-label input.sk-toggleable__control:checked~label.sk-toggleable__label {background-color: #d4ebff;}#sk-container-id-1 input.sk-hidden--visually {border: 0;clip: rect(1px 1px 1px 1px);clip: rect(1px, 1px, 1px, 1px);height: 1px;margin: -1px;overflow: hidden;padding: 0;position: absolute;width: 1px;}#sk-container-id-1 div.sk-estimator {font-family: monospace;background-color: #f0f8ff;border: 1px dotted black;border-radius: 0.25em;box-sizing: border-box;margin-bottom: 0.5em;}#sk-container-id-1 div.sk-estimator:hover {background-color: #d4ebff;}#sk-container-id-1 div.sk-parallel-item::after {content: \"\";width: 100%;border-bottom: 1px solid gray;flex-grow: 1;}#sk-container-id-1 div.sk-label:hover label.sk-toggleable__label {background-color: #d4ebff;}#sk-container-id-1 div.sk-serial::before {content: \"\";position: absolute;border-left: 1px solid gray;box-sizing: border-box;top: 0;bottom: 0;left: 50%;z-index: 0;}#sk-container-id-1 div.sk-serial {display: flex;flex-direction: column;align-items: center;background-color: white;padding-right: 0.2em;padding-left: 0.2em;position: relative;}#sk-container-id-1 div.sk-item {position: relative;z-index: 1;}#sk-container-id-1 div.sk-parallel {display: flex;align-items: stretch;justify-content: center;background-color: white;position: relative;}#sk-container-id-1 div.sk-item::before, #sk-container-id-1 div.sk-parallel-item::before {content: \"\";position: absolute;border-left: 1px solid gray;box-sizing: border-box;top: 0;bottom: 0;left: 50%;z-index: -1;}#sk-container-id-1 div.sk-parallel-item {display: flex;flex-direction: column;z-index: 1;position: relative;background-color: white;}#sk-container-id-1 div.sk-parallel-item:first-child::after {align-self: flex-end;width: 50%;}#sk-container-id-1 div.sk-parallel-item:last-child::after {align-self: flex-start;width: 50%;}#sk-container-id-1 div.sk-parallel-item:only-child::after {width: 0;}#sk-container-id-1 div.sk-dashed-wrapped {border: 1px dashed gray;margin: 0 0.4em 0.5em 0.4em;box-sizing: border-box;padding-bottom: 0.4em;background-color: white;}#sk-container-id-1 div.sk-label label {font-family: monospace;font-weight: bold;display: inline-block;line-height: 1.2em;}#sk-container-id-1 div.sk-label-container {text-align: center;}#sk-container-id-1 div.sk-container {/* jupyter's `normalize.less` sets `[hidden] { display: none; }` but bootstrap.min.css set `[hidden] { display: none !important; }` so we also need the `!important` here to be able to override the default hidden behavior on the sphinx rendered scikit-learn.org. See: https://github.com/scikit-learn/scikit-learn/issues/21755 */display: inline-block !important;position: relative;}#sk-container-id-1 div.sk-text-repr-fallback {display: none;}</style><div id=\"sk-container-id-1\" class=\"sk-top-container\"><div class=\"sk-text-repr-fallback\"><pre>Pipeline(steps=[(&#x27;preprocessor&#x27;,\n",
       "                 ColumnTransformer(transformers=[(&#x27;num&#x27;,\n",
       "                                                  Pipeline(steps=[(&#x27;scaler&#x27;,\n",
       "                                                                   StandardScaler())]),\n",
       "                                                  Index([&#x27;age_of_household_head&#x27;, &#x27;no_of_people_in_household&#x27;, &#x27;no_of_females&#x27;,\n",
       "       &#x27;no_of_males&#x27;, &#x27;no_of_adults&#x27;, &#x27;no_of_children&#x27;, &#x27;bio_medical&#x27;,\n",
       "       &#x27;social_protection&#x27;, &#x27;behavioral&#x27;, &#x27;post_gbv_care&#x27;,\n",
       "       &#x27;other_interventions&#x27;, &#x27;age_at_enrollment&#x27;],\n",
       "      dtype=...\n",
       "       &#x27;is_one_parent_alive&#x27;, &#x27;parents_alive_status&#x27;,\n",
       "       &#x27;ever_missed_full_day_food_in_4wks&#x27;, &#x27;no_of_days_missed_food_in_4wks&#x27;,\n",
       "       &#x27;currently_in_school&#x27;, &#x27;current_school_level&#x27;, &#x27;current_income_source&#x27;,\n",
       "       &#x27;ever_tested_for_hiv&#x27;, &#x27;last_test_result&#x27;, &#x27;ever_had_sex&#x27;,\n",
       "       &#x27;intervention_name&#x27;, &#x27;intervention_date&#x27;],\n",
       "      dtype=&#x27;object&#x27;))])),\n",
       "                (&#x27;clf&#x27;, LogisticRegression(class_weight=&#x27;balanced&#x27;))])</pre><b>In a Jupyter environment, please rerun this cell to show the HTML representation or trust the notebook. <br />On GitHub, the HTML representation is unable to render, please try loading this page with nbviewer.org.</b></div><div class=\"sk-container\" hidden><div class=\"sk-item sk-dashed-wrapped\"><div class=\"sk-label-container\"><div class=\"sk-label sk-toggleable\"><input class=\"sk-toggleable__control sk-hidden--visually\" id=\"sk-estimator-id-1\" type=\"checkbox\" ><label for=\"sk-estimator-id-1\" class=\"sk-toggleable__label sk-toggleable__label-arrow\">Pipeline</label><div class=\"sk-toggleable__content\"><pre>Pipeline(steps=[(&#x27;preprocessor&#x27;,\n",
       "                 ColumnTransformer(transformers=[(&#x27;num&#x27;,\n",
       "                                                  Pipeline(steps=[(&#x27;scaler&#x27;,\n",
       "                                                                   StandardScaler())]),\n",
       "                                                  Index([&#x27;age_of_household_head&#x27;, &#x27;no_of_people_in_household&#x27;, &#x27;no_of_females&#x27;,\n",
       "       &#x27;no_of_males&#x27;, &#x27;no_of_adults&#x27;, &#x27;no_of_children&#x27;, &#x27;bio_medical&#x27;,\n",
       "       &#x27;social_protection&#x27;, &#x27;behavioral&#x27;, &#x27;post_gbv_care&#x27;,\n",
       "       &#x27;other_interventions&#x27;, &#x27;age_at_enrollment&#x27;],\n",
       "      dtype=...\n",
       "       &#x27;is_one_parent_alive&#x27;, &#x27;parents_alive_status&#x27;,\n",
       "       &#x27;ever_missed_full_day_food_in_4wks&#x27;, &#x27;no_of_days_missed_food_in_4wks&#x27;,\n",
       "       &#x27;currently_in_school&#x27;, &#x27;current_school_level&#x27;, &#x27;current_income_source&#x27;,\n",
       "       &#x27;ever_tested_for_hiv&#x27;, &#x27;last_test_result&#x27;, &#x27;ever_had_sex&#x27;,\n",
       "       &#x27;intervention_name&#x27;, &#x27;intervention_date&#x27;],\n",
       "      dtype=&#x27;object&#x27;))])),\n",
       "                (&#x27;clf&#x27;, LogisticRegression(class_weight=&#x27;balanced&#x27;))])</pre></div></div></div><div class=\"sk-serial\"><div class=\"sk-item sk-dashed-wrapped\"><div class=\"sk-label-container\"><div class=\"sk-label sk-toggleable\"><input class=\"sk-toggleable__control sk-hidden--visually\" id=\"sk-estimator-id-2\" type=\"checkbox\" ><label for=\"sk-estimator-id-2\" class=\"sk-toggleable__label sk-toggleable__label-arrow\">preprocessor: ColumnTransformer</label><div class=\"sk-toggleable__content\"><pre>ColumnTransformer(transformers=[(&#x27;num&#x27;,\n",
       "                                 Pipeline(steps=[(&#x27;scaler&#x27;, StandardScaler())]),\n",
       "                                 Index([&#x27;age_of_household_head&#x27;, &#x27;no_of_people_in_household&#x27;, &#x27;no_of_females&#x27;,\n",
       "       &#x27;no_of_males&#x27;, &#x27;no_of_adults&#x27;, &#x27;no_of_children&#x27;, &#x27;bio_medical&#x27;,\n",
       "       &#x27;social_protection&#x27;, &#x27;behavioral&#x27;, &#x27;post_gbv_care&#x27;,\n",
       "       &#x27;other_interventions&#x27;, &#x27;age_at_enrollment&#x27;],\n",
       "      dtype=&#x27;object&#x27;)),\n",
       "                                (&#x27;cat&#x27;,\n",
       "                                 Pipeline(steps...\n",
       "       &#x27;father_alive&#x27;, &#x27;mother_alive&#x27;, &#x27;are_both_parents_alive&#x27;,\n",
       "       &#x27;is_one_parent_alive&#x27;, &#x27;parents_alive_status&#x27;,\n",
       "       &#x27;ever_missed_full_day_food_in_4wks&#x27;, &#x27;no_of_days_missed_food_in_4wks&#x27;,\n",
       "       &#x27;currently_in_school&#x27;, &#x27;current_school_level&#x27;, &#x27;current_income_source&#x27;,\n",
       "       &#x27;ever_tested_for_hiv&#x27;, &#x27;last_test_result&#x27;, &#x27;ever_had_sex&#x27;,\n",
       "       &#x27;intervention_name&#x27;, &#x27;intervention_date&#x27;],\n",
       "      dtype=&#x27;object&#x27;))])</pre></div></div></div><div class=\"sk-parallel\"><div class=\"sk-parallel-item\"><div class=\"sk-item\"><div class=\"sk-label-container\"><div class=\"sk-label sk-toggleable\"><input class=\"sk-toggleable__control sk-hidden--visually\" id=\"sk-estimator-id-3\" type=\"checkbox\" ><label for=\"sk-estimator-id-3\" class=\"sk-toggleable__label sk-toggleable__label-arrow\">num</label><div class=\"sk-toggleable__content\"><pre>Index([&#x27;age_of_household_head&#x27;, &#x27;no_of_people_in_household&#x27;, &#x27;no_of_females&#x27;,\n",
       "       &#x27;no_of_males&#x27;, &#x27;no_of_adults&#x27;, &#x27;no_of_children&#x27;, &#x27;bio_medical&#x27;,\n",
       "       &#x27;social_protection&#x27;, &#x27;behavioral&#x27;, &#x27;post_gbv_care&#x27;,\n",
       "       &#x27;other_interventions&#x27;, &#x27;age_at_enrollment&#x27;],\n",
       "      dtype=&#x27;object&#x27;)</pre></div></div></div><div class=\"sk-serial\"><div class=\"sk-item\"><div class=\"sk-serial\"><div class=\"sk-item\"><div class=\"sk-estimator sk-toggleable\"><input class=\"sk-toggleable__control sk-hidden--visually\" id=\"sk-estimator-id-4\" type=\"checkbox\" ><label for=\"sk-estimator-id-4\" class=\"sk-toggleable__label sk-toggleable__label-arrow\">StandardScaler</label><div class=\"sk-toggleable__content\"><pre>StandardScaler()</pre></div></div></div></div></div></div></div></div><div class=\"sk-parallel-item\"><div class=\"sk-item\"><div class=\"sk-label-container\"><div class=\"sk-label sk-toggleable\"><input class=\"sk-toggleable__control sk-hidden--visually\" id=\"sk-estimator-id-5\" type=\"checkbox\" ><label for=\"sk-estimator-id-5\" class=\"sk-toggleable__label sk-toggleable__label-arrow\">cat</label><div class=\"sk-toggleable__content\"><pre>Index([&#x27;agency&#x27;, &#x27;implementing_partner_name&#x27;, &#x27;county&#x27;, &#x27;head_of_household&#x27;,\n",
       "       &#x27;father_alive&#x27;, &#x27;mother_alive&#x27;, &#x27;are_both_parents_alive&#x27;,\n",
       "       &#x27;is_one_parent_alive&#x27;, &#x27;parents_alive_status&#x27;,\n",
       "       &#x27;ever_missed_full_day_food_in_4wks&#x27;, &#x27;no_of_days_missed_food_in_4wks&#x27;,\n",
       "       &#x27;currently_in_school&#x27;, &#x27;current_school_level&#x27;, &#x27;current_income_source&#x27;,\n",
       "       &#x27;ever_tested_for_hiv&#x27;, &#x27;last_test_result&#x27;, &#x27;ever_had_sex&#x27;,\n",
       "       &#x27;intervention_name&#x27;, &#x27;intervention_date&#x27;],\n",
       "      dtype=&#x27;object&#x27;)</pre></div></div></div><div class=\"sk-serial\"><div class=\"sk-item\"><div class=\"sk-serial\"><div class=\"sk-item\"><div class=\"sk-estimator sk-toggleable\"><input class=\"sk-toggleable__control sk-hidden--visually\" id=\"sk-estimator-id-6\" type=\"checkbox\" ><label for=\"sk-estimator-id-6\" class=\"sk-toggleable__label sk-toggleable__label-arrow\">OneHotEncoder</label><div class=\"sk-toggleable__content\"><pre>OneHotEncoder(handle_unknown=&#x27;ignore&#x27;)</pre></div></div></div></div></div></div></div></div></div></div><div class=\"sk-item\"><div class=\"sk-estimator sk-toggleable\"><input class=\"sk-toggleable__control sk-hidden--visually\" id=\"sk-estimator-id-7\" type=\"checkbox\" ><label for=\"sk-estimator-id-7\" class=\"sk-toggleable__label sk-toggleable__label-arrow\">LogisticRegression</label><div class=\"sk-toggleable__content\"><pre>LogisticRegression(class_weight=&#x27;balanced&#x27;)</pre></div></div></div></div></div></div></div>"
      ],
      "text/plain": [
       "Pipeline(steps=[('preprocessor',\n",
       "                 ColumnTransformer(transformers=[('num',\n",
       "                                                  Pipeline(steps=[('scaler',\n",
       "                                                                   StandardScaler())]),\n",
       "                                                  Index(['age_of_household_head', 'no_of_people_in_household', 'no_of_females',\n",
       "       'no_of_males', 'no_of_adults', 'no_of_children', 'bio_medical',\n",
       "       'social_protection', 'behavioral', 'post_gbv_care',\n",
       "       'other_interventions', 'age_at_enrollment'],\n",
       "      dtype=...\n",
       "       'is_one_parent_alive', 'parents_alive_status',\n",
       "       'ever_missed_full_day_food_in_4wks', 'no_of_days_missed_food_in_4wks',\n",
       "       'currently_in_school', 'current_school_level', 'current_income_source',\n",
       "       'ever_tested_for_hiv', 'last_test_result', 'ever_had_sex',\n",
       "       'intervention_name', 'intervention_date'],\n",
       "      dtype='object'))])),\n",
       "                ('clf', LogisticRegression(class_weight='balanced'))])"
      ]
     },
     "execution_count": 35,
     "metadata": {},
     "output_type": "execute_result"
    }
   ],
   "source": [
    "#Fit baseline model\n",
    "lr_model.fit(X_train, y_train)"
   ]
  },
  {
   "cell_type": "code",
   "execution_count": 36,
   "metadata": {},
   "outputs": [],
   "source": [
    "#Make predictions\n",
    "y_pred = lr_model.predict(X_test)"
   ]
  },
  {
   "cell_type": "code",
   "execution_count": 37,
   "metadata": {},
   "outputs": [
    {
     "name": "stdout",
     "output_type": "stream",
     "text": [
      "Accuracy: 87.16%\n",
      "Precision: 0.70%\n",
      "Recall: 36.65%\n",
      "F1 Score: 1.37%\n"
     ]
    }
   ],
   "source": [
    "# Evaluate the model\n",
    "accuracy = accuracy_score(y_test, y_pred)\n",
    "precision = precision_score(y_test, y_pred)\n",
    "recall = recall_score(y_test, y_pred)\n",
    "f1 = f1_score(y_test, y_pred)\n",
    "\n",
    "print(f'Accuracy: {accuracy*100:.2f}%')\n",
    "print(f\"Precision: {precision*100:.2f}%\")\n",
    "print(f\"Recall: {recall*100:.2f}%\")\n",
    "print(f\"F1 Score: {f1*100:.2f}%\")"
   ]
  },
  {
   "cell_type": "code",
   "execution_count": 38,
   "metadata": {},
   "outputs": [
    {
     "name": "stdout",
     "output_type": "stream",
     "text": [
      "Confusion Matrix:\n",
      " [[79347 11560]\n",
      " [  140    81]]\n"
     ]
    }
   ],
   "source": [
    "# confusion matrix\n",
    "cm = confusion_matrix(y_test, y_pred)\n",
    "print(\"Confusion Matrix:\\n\", cm)"
   ]
  },
  {
   "cell_type": "markdown",
   "metadata": {},
   "source": [
    "### Observation\n",
    "* Classifier is heavily biased towards dominant class(negative class)\n",
    "* Model performance is very low despite setting class_weight to 'balanced'"
   ]
  },
  {
   "cell_type": "markdown",
   "metadata": {},
   "source": [
    "## Undersampling dominant class to match minority class"
   ]
  },
  {
   "cell_type": "code",
   "execution_count": 39,
   "metadata": {},
   "outputs": [],
   "source": [
    "#balancing classes \n",
    "negative_class = clean_df[clean_df['result']=='Negative']\n",
    "positive_class = clean_df[clean_df['result']=='Positive']"
   ]
  },
  {
   "cell_type": "code",
   "execution_count": 40,
   "metadata": {},
   "outputs": [],
   "source": [
    "# Undersampling the majority negative class to match the size of the minority positive class\n",
    "negative_class_undersampled = negative_class.sample(n=len(positive_class), random_state=42)"
   ]
  },
  {
   "cell_type": "code",
   "execution_count": 41,
   "metadata": {},
   "outputs": [],
   "source": [
    "# Concatinate the undersampled negative class with the positive class\n",
    "balanced_df = pd.concat([negative_class_undersampled, positive_class])"
   ]
  },
  {
   "cell_type": "code",
   "execution_count": 42,
   "metadata": {},
   "outputs": [],
   "source": [
    "# Randomly shuffle the balanced dataset and reset index\n",
    "balanced_df = balanced_df.sample(frac=1, random_state=42).reset_index(drop=True)"
   ]
  },
  {
   "cell_type": "code",
   "execution_count": 43,
   "metadata": {},
   "outputs": [],
   "source": [
    "# Separate predictor features and target\n",
    "X_balanced = balanced_df.drop(columns=['result'])\n",
    "y_balanced = balanced_df['result'].map({'Negative':0, 'Positive':1})"
   ]
  },
  {
   "cell_type": "code",
   "execution_count": 44,
   "metadata": {},
   "outputs": [],
   "source": [
    "#train and test splits\n",
    "X_train_balanced, X_test_balanced, y_train_balanced,y_test_balanced= train_test_split(X_balanced,y_balanced, test_size=0.2, random_state=42)"
   ]
  },
  {
   "cell_type": "code",
   "execution_count": 45,
   "metadata": {},
   "outputs": [
    {
     "data": {
      "text/html": [
       "<style>#sk-container-id-2 {color: black;}#sk-container-id-2 pre{padding: 0;}#sk-container-id-2 div.sk-toggleable {background-color: white;}#sk-container-id-2 label.sk-toggleable__label {cursor: pointer;display: block;width: 100%;margin-bottom: 0;padding: 0.3em;box-sizing: border-box;text-align: center;}#sk-container-id-2 label.sk-toggleable__label-arrow:before {content: \"▸\";float: left;margin-right: 0.25em;color: #696969;}#sk-container-id-2 label.sk-toggleable__label-arrow:hover:before {color: black;}#sk-container-id-2 div.sk-estimator:hover label.sk-toggleable__label-arrow:before {color: black;}#sk-container-id-2 div.sk-toggleable__content {max-height: 0;max-width: 0;overflow: hidden;text-align: left;background-color: #f0f8ff;}#sk-container-id-2 div.sk-toggleable__content pre {margin: 0.2em;color: black;border-radius: 0.25em;background-color: #f0f8ff;}#sk-container-id-2 input.sk-toggleable__control:checked~div.sk-toggleable__content {max-height: 200px;max-width: 100%;overflow: auto;}#sk-container-id-2 input.sk-toggleable__control:checked~label.sk-toggleable__label-arrow:before {content: \"▾\";}#sk-container-id-2 div.sk-estimator input.sk-toggleable__control:checked~label.sk-toggleable__label {background-color: #d4ebff;}#sk-container-id-2 div.sk-label input.sk-toggleable__control:checked~label.sk-toggleable__label {background-color: #d4ebff;}#sk-container-id-2 input.sk-hidden--visually {border: 0;clip: rect(1px 1px 1px 1px);clip: rect(1px, 1px, 1px, 1px);height: 1px;margin: -1px;overflow: hidden;padding: 0;position: absolute;width: 1px;}#sk-container-id-2 div.sk-estimator {font-family: monospace;background-color: #f0f8ff;border: 1px dotted black;border-radius: 0.25em;box-sizing: border-box;margin-bottom: 0.5em;}#sk-container-id-2 div.sk-estimator:hover {background-color: #d4ebff;}#sk-container-id-2 div.sk-parallel-item::after {content: \"\";width: 100%;border-bottom: 1px solid gray;flex-grow: 1;}#sk-container-id-2 div.sk-label:hover label.sk-toggleable__label {background-color: #d4ebff;}#sk-container-id-2 div.sk-serial::before {content: \"\";position: absolute;border-left: 1px solid gray;box-sizing: border-box;top: 0;bottom: 0;left: 50%;z-index: 0;}#sk-container-id-2 div.sk-serial {display: flex;flex-direction: column;align-items: center;background-color: white;padding-right: 0.2em;padding-left: 0.2em;position: relative;}#sk-container-id-2 div.sk-item {position: relative;z-index: 1;}#sk-container-id-2 div.sk-parallel {display: flex;align-items: stretch;justify-content: center;background-color: white;position: relative;}#sk-container-id-2 div.sk-item::before, #sk-container-id-2 div.sk-parallel-item::before {content: \"\";position: absolute;border-left: 1px solid gray;box-sizing: border-box;top: 0;bottom: 0;left: 50%;z-index: -1;}#sk-container-id-2 div.sk-parallel-item {display: flex;flex-direction: column;z-index: 1;position: relative;background-color: white;}#sk-container-id-2 div.sk-parallel-item:first-child::after {align-self: flex-end;width: 50%;}#sk-container-id-2 div.sk-parallel-item:last-child::after {align-self: flex-start;width: 50%;}#sk-container-id-2 div.sk-parallel-item:only-child::after {width: 0;}#sk-container-id-2 div.sk-dashed-wrapped {border: 1px dashed gray;margin: 0 0.4em 0.5em 0.4em;box-sizing: border-box;padding-bottom: 0.4em;background-color: white;}#sk-container-id-2 div.sk-label label {font-family: monospace;font-weight: bold;display: inline-block;line-height: 1.2em;}#sk-container-id-2 div.sk-label-container {text-align: center;}#sk-container-id-2 div.sk-container {/* jupyter's `normalize.less` sets `[hidden] { display: none; }` but bootstrap.min.css set `[hidden] { display: none !important; }` so we also need the `!important` here to be able to override the default hidden behavior on the sphinx rendered scikit-learn.org. See: https://github.com/scikit-learn/scikit-learn/issues/21755 */display: inline-block !important;position: relative;}#sk-container-id-2 div.sk-text-repr-fallback {display: none;}</style><div id=\"sk-container-id-2\" class=\"sk-top-container\"><div class=\"sk-text-repr-fallback\"><pre>Pipeline(steps=[(&#x27;preprocessor&#x27;,\n",
       "                 ColumnTransformer(transformers=[(&#x27;num&#x27;,\n",
       "                                                  Pipeline(steps=[(&#x27;scaler&#x27;,\n",
       "                                                                   StandardScaler())]),\n",
       "                                                  Index([&#x27;age_of_household_head&#x27;, &#x27;no_of_people_in_household&#x27;, &#x27;no_of_females&#x27;,\n",
       "       &#x27;no_of_males&#x27;, &#x27;no_of_adults&#x27;, &#x27;no_of_children&#x27;, &#x27;bio_medical&#x27;,\n",
       "       &#x27;social_protection&#x27;, &#x27;behavioral&#x27;, &#x27;post_gbv_care&#x27;,\n",
       "       &#x27;other_interventions&#x27;, &#x27;age_at_enrollment&#x27;],\n",
       "      dtype=...\n",
       "       &#x27;is_one_parent_alive&#x27;, &#x27;parents_alive_status&#x27;,\n",
       "       &#x27;ever_missed_full_day_food_in_4wks&#x27;, &#x27;no_of_days_missed_food_in_4wks&#x27;,\n",
       "       &#x27;currently_in_school&#x27;, &#x27;current_school_level&#x27;, &#x27;current_income_source&#x27;,\n",
       "       &#x27;ever_tested_for_hiv&#x27;, &#x27;last_test_result&#x27;, &#x27;ever_had_sex&#x27;,\n",
       "       &#x27;intervention_name&#x27;, &#x27;intervention_date&#x27;],\n",
       "      dtype=&#x27;object&#x27;))])),\n",
       "                (&#x27;clf&#x27;, LogisticRegression(class_weight=&#x27;balanced&#x27;))])</pre><b>In a Jupyter environment, please rerun this cell to show the HTML representation or trust the notebook. <br />On GitHub, the HTML representation is unable to render, please try loading this page with nbviewer.org.</b></div><div class=\"sk-container\" hidden><div class=\"sk-item sk-dashed-wrapped\"><div class=\"sk-label-container\"><div class=\"sk-label sk-toggleable\"><input class=\"sk-toggleable__control sk-hidden--visually\" id=\"sk-estimator-id-8\" type=\"checkbox\" ><label for=\"sk-estimator-id-8\" class=\"sk-toggleable__label sk-toggleable__label-arrow\">Pipeline</label><div class=\"sk-toggleable__content\"><pre>Pipeline(steps=[(&#x27;preprocessor&#x27;,\n",
       "                 ColumnTransformer(transformers=[(&#x27;num&#x27;,\n",
       "                                                  Pipeline(steps=[(&#x27;scaler&#x27;,\n",
       "                                                                   StandardScaler())]),\n",
       "                                                  Index([&#x27;age_of_household_head&#x27;, &#x27;no_of_people_in_household&#x27;, &#x27;no_of_females&#x27;,\n",
       "       &#x27;no_of_males&#x27;, &#x27;no_of_adults&#x27;, &#x27;no_of_children&#x27;, &#x27;bio_medical&#x27;,\n",
       "       &#x27;social_protection&#x27;, &#x27;behavioral&#x27;, &#x27;post_gbv_care&#x27;,\n",
       "       &#x27;other_interventions&#x27;, &#x27;age_at_enrollment&#x27;],\n",
       "      dtype=...\n",
       "       &#x27;is_one_parent_alive&#x27;, &#x27;parents_alive_status&#x27;,\n",
       "       &#x27;ever_missed_full_day_food_in_4wks&#x27;, &#x27;no_of_days_missed_food_in_4wks&#x27;,\n",
       "       &#x27;currently_in_school&#x27;, &#x27;current_school_level&#x27;, &#x27;current_income_source&#x27;,\n",
       "       &#x27;ever_tested_for_hiv&#x27;, &#x27;last_test_result&#x27;, &#x27;ever_had_sex&#x27;,\n",
       "       &#x27;intervention_name&#x27;, &#x27;intervention_date&#x27;],\n",
       "      dtype=&#x27;object&#x27;))])),\n",
       "                (&#x27;clf&#x27;, LogisticRegression(class_weight=&#x27;balanced&#x27;))])</pre></div></div></div><div class=\"sk-serial\"><div class=\"sk-item sk-dashed-wrapped\"><div class=\"sk-label-container\"><div class=\"sk-label sk-toggleable\"><input class=\"sk-toggleable__control sk-hidden--visually\" id=\"sk-estimator-id-9\" type=\"checkbox\" ><label for=\"sk-estimator-id-9\" class=\"sk-toggleable__label sk-toggleable__label-arrow\">preprocessor: ColumnTransformer</label><div class=\"sk-toggleable__content\"><pre>ColumnTransformer(transformers=[(&#x27;num&#x27;,\n",
       "                                 Pipeline(steps=[(&#x27;scaler&#x27;, StandardScaler())]),\n",
       "                                 Index([&#x27;age_of_household_head&#x27;, &#x27;no_of_people_in_household&#x27;, &#x27;no_of_females&#x27;,\n",
       "       &#x27;no_of_males&#x27;, &#x27;no_of_adults&#x27;, &#x27;no_of_children&#x27;, &#x27;bio_medical&#x27;,\n",
       "       &#x27;social_protection&#x27;, &#x27;behavioral&#x27;, &#x27;post_gbv_care&#x27;,\n",
       "       &#x27;other_interventions&#x27;, &#x27;age_at_enrollment&#x27;],\n",
       "      dtype=&#x27;object&#x27;)),\n",
       "                                (&#x27;cat&#x27;,\n",
       "                                 Pipeline(steps...\n",
       "       &#x27;father_alive&#x27;, &#x27;mother_alive&#x27;, &#x27;are_both_parents_alive&#x27;,\n",
       "       &#x27;is_one_parent_alive&#x27;, &#x27;parents_alive_status&#x27;,\n",
       "       &#x27;ever_missed_full_day_food_in_4wks&#x27;, &#x27;no_of_days_missed_food_in_4wks&#x27;,\n",
       "       &#x27;currently_in_school&#x27;, &#x27;current_school_level&#x27;, &#x27;current_income_source&#x27;,\n",
       "       &#x27;ever_tested_for_hiv&#x27;, &#x27;last_test_result&#x27;, &#x27;ever_had_sex&#x27;,\n",
       "       &#x27;intervention_name&#x27;, &#x27;intervention_date&#x27;],\n",
       "      dtype=&#x27;object&#x27;))])</pre></div></div></div><div class=\"sk-parallel\"><div class=\"sk-parallel-item\"><div class=\"sk-item\"><div class=\"sk-label-container\"><div class=\"sk-label sk-toggleable\"><input class=\"sk-toggleable__control sk-hidden--visually\" id=\"sk-estimator-id-10\" type=\"checkbox\" ><label for=\"sk-estimator-id-10\" class=\"sk-toggleable__label sk-toggleable__label-arrow\">num</label><div class=\"sk-toggleable__content\"><pre>Index([&#x27;age_of_household_head&#x27;, &#x27;no_of_people_in_household&#x27;, &#x27;no_of_females&#x27;,\n",
       "       &#x27;no_of_males&#x27;, &#x27;no_of_adults&#x27;, &#x27;no_of_children&#x27;, &#x27;bio_medical&#x27;,\n",
       "       &#x27;social_protection&#x27;, &#x27;behavioral&#x27;, &#x27;post_gbv_care&#x27;,\n",
       "       &#x27;other_interventions&#x27;, &#x27;age_at_enrollment&#x27;],\n",
       "      dtype=&#x27;object&#x27;)</pre></div></div></div><div class=\"sk-serial\"><div class=\"sk-item\"><div class=\"sk-serial\"><div class=\"sk-item\"><div class=\"sk-estimator sk-toggleable\"><input class=\"sk-toggleable__control sk-hidden--visually\" id=\"sk-estimator-id-11\" type=\"checkbox\" ><label for=\"sk-estimator-id-11\" class=\"sk-toggleable__label sk-toggleable__label-arrow\">StandardScaler</label><div class=\"sk-toggleable__content\"><pre>StandardScaler()</pre></div></div></div></div></div></div></div></div><div class=\"sk-parallel-item\"><div class=\"sk-item\"><div class=\"sk-label-container\"><div class=\"sk-label sk-toggleable\"><input class=\"sk-toggleable__control sk-hidden--visually\" id=\"sk-estimator-id-12\" type=\"checkbox\" ><label for=\"sk-estimator-id-12\" class=\"sk-toggleable__label sk-toggleable__label-arrow\">cat</label><div class=\"sk-toggleable__content\"><pre>Index([&#x27;agency&#x27;, &#x27;implementing_partner_name&#x27;, &#x27;county&#x27;, &#x27;head_of_household&#x27;,\n",
       "       &#x27;father_alive&#x27;, &#x27;mother_alive&#x27;, &#x27;are_both_parents_alive&#x27;,\n",
       "       &#x27;is_one_parent_alive&#x27;, &#x27;parents_alive_status&#x27;,\n",
       "       &#x27;ever_missed_full_day_food_in_4wks&#x27;, &#x27;no_of_days_missed_food_in_4wks&#x27;,\n",
       "       &#x27;currently_in_school&#x27;, &#x27;current_school_level&#x27;, &#x27;current_income_source&#x27;,\n",
       "       &#x27;ever_tested_for_hiv&#x27;, &#x27;last_test_result&#x27;, &#x27;ever_had_sex&#x27;,\n",
       "       &#x27;intervention_name&#x27;, &#x27;intervention_date&#x27;],\n",
       "      dtype=&#x27;object&#x27;)</pre></div></div></div><div class=\"sk-serial\"><div class=\"sk-item\"><div class=\"sk-serial\"><div class=\"sk-item\"><div class=\"sk-estimator sk-toggleable\"><input class=\"sk-toggleable__control sk-hidden--visually\" id=\"sk-estimator-id-13\" type=\"checkbox\" ><label for=\"sk-estimator-id-13\" class=\"sk-toggleable__label sk-toggleable__label-arrow\">OneHotEncoder</label><div class=\"sk-toggleable__content\"><pre>OneHotEncoder(handle_unknown=&#x27;ignore&#x27;)</pre></div></div></div></div></div></div></div></div></div></div><div class=\"sk-item\"><div class=\"sk-estimator sk-toggleable\"><input class=\"sk-toggleable__control sk-hidden--visually\" id=\"sk-estimator-id-14\" type=\"checkbox\" ><label for=\"sk-estimator-id-14\" class=\"sk-toggleable__label sk-toggleable__label-arrow\">LogisticRegression</label><div class=\"sk-toggleable__content\"><pre>LogisticRegression(class_weight=&#x27;balanced&#x27;)</pre></div></div></div></div></div></div></div>"
      ],
      "text/plain": [
       "Pipeline(steps=[('preprocessor',\n",
       "                 ColumnTransformer(transformers=[('num',\n",
       "                                                  Pipeline(steps=[('scaler',\n",
       "                                                                   StandardScaler())]),\n",
       "                                                  Index(['age_of_household_head', 'no_of_people_in_household', 'no_of_females',\n",
       "       'no_of_males', 'no_of_adults', 'no_of_children', 'bio_medical',\n",
       "       'social_protection', 'behavioral', 'post_gbv_care',\n",
       "       'other_interventions', 'age_at_enrollment'],\n",
       "      dtype=...\n",
       "       'is_one_parent_alive', 'parents_alive_status',\n",
       "       'ever_missed_full_day_food_in_4wks', 'no_of_days_missed_food_in_4wks',\n",
       "       'currently_in_school', 'current_school_level', 'current_income_source',\n",
       "       'ever_tested_for_hiv', 'last_test_result', 'ever_had_sex',\n",
       "       'intervention_name', 'intervention_date'],\n",
       "      dtype='object'))])),\n",
       "                ('clf', LogisticRegression(class_weight='balanced'))])"
      ]
     },
     "execution_count": 45,
     "metadata": {},
     "output_type": "execute_result"
    }
   ],
   "source": [
    "# Fit model \n",
    "lr_model.fit(X_train_balanced, y_train_balanced)"
   ]
  },
  {
   "cell_type": "code",
   "execution_count": 46,
   "metadata": {},
   "outputs": [],
   "source": [
    "#Make predictions\n",
    "y_pred_balanced = lr_model.predict(X_test_balanced)"
   ]
  },
  {
   "cell_type": "code",
   "execution_count": 47,
   "metadata": {},
   "outputs": [
    {
     "name": "stdout",
     "output_type": "stream",
     "text": [
      "Confusion Matrix:\n",
      " [[143  67]\n",
      " [ 55 143]]\n"
     ]
    }
   ],
   "source": [
    "# confusion matrix for balanced dataset\n",
    "cm_bal = confusion_matrix(y_test_balanced, y_pred_balanced)\n",
    "print(\"Confusion Matrix:\\n\", cm_bal)"
   ]
  },
  {
   "cell_type": "code",
   "execution_count": 48,
   "metadata": {},
   "outputs": [
    {
     "name": "stdout",
     "output_type": "stream",
     "text": [
      "Accuracy: 70.10%\n",
      "Precision: 68.10%\n",
      "Recall: 72.22%\n",
      "F1 Score: 70.10%\n"
     ]
    }
   ],
   "source": [
    "accuracy = accuracy_score(y_test_balanced, y_pred_balanced)\n",
    "precision = precision_score(y_test_balanced, y_pred_balanced)\n",
    "recall = recall_score(y_test_balanced, y_pred_balanced)\n",
    "f1 = f1_score(y_test_balanced, y_pred_balanced)\n",
    "\n",
    "print(f'Accuracy: {accuracy*100:.2f}%')\n",
    "print(f\"Precision: {precision*100:.2f}%\")\n",
    "print(f\"Recall: {recall*100:.2f}%\")\n",
    "print(f\"F1 Score: {f1*100:.2f}%\")"
   ]
  },
  {
   "cell_type": "code",
   "execution_count": 49,
   "metadata": {},
   "outputs": [
    {
     "data": {
      "image/png": "[encoded data removed]",
      "text/plain": [
       "<Figure size 640x480 with 2 Axes>"
      ]
     },
     "metadata": {},
     "output_type": "display_data"
    }
   ],
   "source": [
    "cm = confusion_matrix(y_test_balanced, y_pred_balanced)\n",
    "sns.heatmap(cm, annot=True, fmt=\"d\", cmap=\"Blues\", xticklabels=[\"Predicted 0\", \"Predicted 1\"], yticklabels=[\"Actual 0\", \"Actual 1\"])\n",
    "plt.xlabel(\"Predicted\")\n",
    "plt.ylabel(\"Actual\")\n",
    "plt.title(\"Confusion Matrix\")\n",
    "plt.show()"
   ]
  },
  {
   "cell_type": "code",
   "execution_count": null,
   "metadata": {},
   "outputs": [],
   "source": []
  },
  {
   "cell_type": "markdown",
   "metadata": {},
   "source": []
  },
  {
   "cell_type": "markdown",
   "metadata": {},
   "source": [
    "## Random Forest"
   ]
  },
  {
   "cell_type": "code",
   "execution_count": null,
   "metadata": {},
   "outputs": [],
   "source": []
  }
 ],
 "metadata": {
  "kernelspec": {
   "display_name": "learn-env",
   "language": "python",
   "name": "python3"
  },
  "language_info": {
   "codemirror_mode": {
    "name": "ipython",
    "version": 3
   },
   "file_extension": ".py",
   "mimetype": "text/x-python",
   "name": "python",
   "nbconvert_exporter": "python",
   "pygments_lexer": "ipython3",
   "version": "3.8.5"
  }
 },
 "nbformat": 4,
 "nbformat_minor": 2
}
